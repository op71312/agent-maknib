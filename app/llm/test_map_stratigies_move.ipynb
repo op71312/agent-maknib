{
 "cells": [],
 "metadata": {
  "kernelspec": {
   "display_name": "agent-maknib (3.12.6)",
   "language": "python",
   "name": "python3"
  },
  "language_info": {
   "name": "python",
   "version": "3.12.6"
  }
 },
 "nbformat": 4,
 "nbformat_minor": 5
}

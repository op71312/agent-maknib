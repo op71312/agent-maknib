{
  "cells": [
    {
      "cell_type": "code",
      "execution_count": 1,
      "metadata": {
        "id": "uNAoWP2wbQY9",
        "colab": {
          "base_uri": "https://localhost:8080/"
        },
        "outputId": "0d90eced-e02a-4617-c024-2ae4f4d68862"
      },
      "outputs": [
        {
          "output_type": "stream",
          "name": "stdout",
          "text": [
            "Drive already mounted at /content/drive; to attempt to forcibly remount, call drive.mount(\"/content/drive\", force_remount=True).\n"
          ]
        }
      ],
      "source": [
        "from google.colab import drive\n",
        "drive.mount('/content/drive')"
      ]
    },
    {
      "cell_type": "code",
      "execution_count": 16,
      "metadata": {
        "colab": {
          "base_uri": "https://localhost:8080/"
        },
        "id": "VnImy_gKajDH",
        "outputId": "d8c22d53-170a-4924-c305-d9811fecfe16"
      },
      "outputs": [
        {
          "output_type": "stream",
          "name": "stdout",
          "text": [
            "\u001b[2K   \u001b[90m━━━━━━━━━━━━━━━━━━━━━━━━━━━━━━━━━━━━━━━━\u001b[0m \u001b[32m72.9/72.9 MB\u001b[0m \u001b[31m10.2 MB/s\u001b[0m eta \u001b[36m0:00:00\u001b[0m\n",
            "\u001b[?25h"
          ]
        }
      ],
      "source": [
        "!pip install transformers torch pandas accelerate bitsandbytes -q"
      ]
    },
    {
      "cell_type": "code",
      "source": [
        "import json\n",
        "import torch\n",
        "from transformers import AutoTokenizer, AutoModelForCausalLM, BitsAndBytesConfig\n",
        "import random\n",
        "import pandas as pd\n",
        "\n",
        "# Setup GPU optimization\n",
        "device = torch.device(\"cuda\" if torch.cuda.is_available() else \"cpu\")\n",
        "print(f\"Using device: {device}\")"
      ],
      "metadata": {
        "colab": {
          "base_uri": "https://localhost:8080/"
        },
        "id": "JdwHpNW84hvt",
        "outputId": "28148c3e-a8e2-46a3-9ddb-78ffc62a5ecd"
      },
      "execution_count": 29,
      "outputs": [
        {
          "output_type": "stream",
          "name": "stdout",
          "text": [
            "Using device: cuda\n"
          ]
        }
      ]
    },
    {
      "cell_type": "code",
      "source": [
        "# Load quantized model for GPU efficiency\n",
        "quantization_config = BitsAndBytesConfig(\n",
        "    load_in_4bit=True,\n",
        "    bnb_4bit_compute_dtype=torch.float16\n",
        ")\n",
        "\n",
        "# Use Typhoon - faster Thai LLM\n",
        "model_name = \"scb10x/llama3.2-typhoon2-t1-3b-research-preview\"\n",
        "tokenizer = AutoTokenizer.from_pretrained(model_name)\n",
        "model = AutoModelForCausalLM.from_pretrained(\n",
        "    model_name,\n",
        "    quantization_config=quantization_config,\n",
        "    device_map=\"auto\",\n",
        "    torch_dtype=torch.float16\n",
        ")"
      ],
      "metadata": {
        "colab": {
          "base_uri": "https://localhost:8080/",
          "height": 337,
          "referenced_widgets": [
            "27840b26f0a2412da85175d918f04ac2",
            "4c3ad3bc076840f9967ee606949b611a",
            "fb7b4024a8f1440bbb4178436e6b3d7a",
            "b2a7a106f54b43fda4c6d4ac55478f73",
            "a1bb90ba8fb54ccbaf8b6a429565f485",
            "5ecd02b1c3cc439c8699006ed012d6db",
            "564448f03f814499a2a62db030ae7a1b",
            "164eddad9e5c48bb8bf4ca3f3ace6869",
            "887f52d587974950aa4828baba799b15",
            "7435f7bc90464e32a7b9624c24f6efde",
            "1d5bed86a16843f2b4a00d75eeff894d",
            "f4a1fa51a1d74e0089d37e657b5b85ae",
            "ed851ea869814f8ba35e303166499003",
            "88f5e68ebe8a412a89f355765964ba78",
            "f8d5d4c0d0bf4383bd29966ccb3f2b32",
            "216c95fab137494199ffdfd8b8d21baf",
            "790c1213cc704216a65d44f3c6dcc649",
            "6b4e837913dc4b27acff5653535a7248",
            "a3f0afc1097144a08c91267f5cf35277",
            "6369748960114b1c92aa7068027f4645",
            "24c329fd86eb4d63bbd60354ab2125f2",
            "73f74b8038964da58625a61316a6481f",
            "49eb516906cb4441a8b57ff67fe84c95",
            "c140fcd43efe4f62b9fc4ae12197e81a",
            "cc1834ea900c4027bb369ddaf380d6a4",
            "d703433cdf5f4cb099fc026ad8aceff1",
            "0503e768a00d4c9baf50560a6c304f58",
            "fbea70edaebc4a48b9b1953b63e5682f",
            "6f77a5209f244396886ad80b028fbe51",
            "bbe124f4153b4006b4bf1ef2ae634d5b",
            "8273b72c593641c8b1e3653442904cd3",
            "4d027ba8e6df4dbc90db08c7b61c0f77",
            "3839adeaa45647e198b842f0693a4181",
            "fd28accd791747a8b32516a2b4e63f13",
            "c93f378bb79b4dd5a5f010f733f695c2",
            "dd4c591630b044e88380844316ca9457",
            "0d3eb6f8b8114e2dba0ec6ca9edd73b6",
            "209842ea6628426b8106e44ec5c43c36",
            "b9e69c4a65574213b0faddbb4c1bc50c",
            "fa1f9d5186724e32b5b26e0be87982c4",
            "df96c12ec7be459a817c1bb1c70f3370",
            "edad1b87cfdc4191a2063a35d465b767",
            "7b9c7921e9a34117b05c2db672dce41b",
            "4f1353cb0cbc48bba60546ff78cce8d7",
            "3aa5e2026d29403595d887cd9e0ee0b4",
            "e8cc04b8391846dc9225ae79bf0292ba",
            "ed643650cfc0493494698e3fcde1854a",
            "a42155c2a68b4af9a47b81a933ab39e9",
            "7b8c68d95efc4422872421f438672d01",
            "ec1fde65db344a4c9906c315194bdaa2",
            "fb575e7014b0487b8a6b5e1cc63f04f4",
            "40c7974d402949f0899dbdc42db1bf18",
            "60f1660f44664a2695a2a90584066813",
            "f0d4c5088a6246939a3649c0af5bf7cc",
            "5f3ac180c3db41018f654aecc7ba54dc",
            "e1038ff092f24dc5896d25f76872cbf5",
            "238c2f60e8cd417a94a0bb5986550b5b",
            "10d35b53ae214f99902a3a2235cc50a9",
            "59a074a371444292ac7f0538d201ce36",
            "b52c1577cf0440eca5337b43d797adab",
            "5b252ac6817e475bad2dadf3a911aeb9",
            "68e8ccfde500466485dad570e9136a79",
            "06927a4c902f4c9f937957756d2833df",
            "00714a00a855472e856eb91320443a11",
            "45f758b2ea724755a3b20b009ec4012e",
            "4f47bee989da496e8a86303baa7c10e4",
            "7b195f0c54044ec3810f0983bafc2fba",
            "0c2926b3b8b042f0bde140ebaf3652ed",
            "2a8e925a66614323831c37235ad86ff8",
            "8f369321ca6f4272a58e546166d6938b",
            "8e692e8b637944f59891a82bf53a5109",
            "94a29e57aa5749128e5063251b4a3253",
            "672ca02561c84f279cc5469a0741b724",
            "ce0dc1785ca940a2bda433fec21e3ca6",
            "16c64fedfdb94d679af1cc7f6781e0ea",
            "8e66aeae784a44c084c4d926e798791c",
            "81e556c526d0420ea0d1bc9edd7e4dd9",
            "2860b4d4464940348965b398795c8c41",
            "07c9b00f0c4a4ee88f4d7ef68b5bed4e",
            "cb2f23fe22b3485b9b6a322182a3a1d7",
            "35e4133b0d2642d38ae9cc671d07d269",
            "55569998fcb14ee0b9116f523cb0b05a",
            "6a18ee9ed0be46a2a159a942b8ff94b5",
            "ef481082fbc74f59a1d58e68d6422ed3",
            "4ece5d49ee584844af28f4d0b690fbfd",
            "fcd610bb72ff4276a51174e4b28111ad",
            "25a762394a2442d392f48cdfebcd5dc2",
            "a413a571081d46d9aef21467ce4d42b1",
            "20f0b33dd0fe43fc87d0cca320f65ea2",
            "cead192ea59c4f0798e54abfdc15ab8c",
            "ccb4efa0590e4c43abdfd727a9480702",
            "4abc21266cc84e4f8fd696d11171f5cb",
            "4f3e6c696f1547269feadb01524464df",
            "af53f91fcdbe449f93a665b2a88b0065",
            "015d8cb637db4f3c89624c48bf0a6335",
            "a3efe4ff4fa844ce816c294c8cd6c6cb",
            "9ad1ea8cde9c47c1be51baa2a6338912",
            "ba50ccac0a104bac9e76ecdca75076de",
            "e08fa8aa80c141119f9807368fc2f10b",
            "9df0a773028245d7bb99a29264934fed",
            "8cd9308d3e00456abb99c6b3c7506a8b",
            "6706a8176a4b4afd89f2e5db2a392e44",
            "d946bef3c88b4558a3bd8f119a9da4f0",
            "dd255746163e45b5a70f957968f8fc98",
            "a24325ddf8314b4dad73826715aa30c9",
            "a68ac7e8eee0413c89061e8088f24c63",
            "5e33f1e34b324c94907f81257c011cf6",
            "d88cca7cd78b4e478bf31aaffee7386a",
            "5c0e9e61020a442dbe83f06bbbb554aa",
            "50e7f887281d47b586a37c7977af8fa1"
          ]
        },
        "id": "oGS0mGx1G21R",
        "outputId": "cdedf64d-8d0e-4453-b8f7-b280e1b31af5"
      },
      "execution_count": 4,
      "outputs": [
        {
          "output_type": "display_data",
          "data": {
            "text/plain": [
              "tokenizer_config.json: 0.00B [00:00, ?B/s]"
            ],
            "application/vnd.jupyter.widget-view+json": {
              "version_major": 2,
              "version_minor": 0,
              "model_id": "27840b26f0a2412da85175d918f04ac2"
            }
          },
          "metadata": {}
        },
        {
          "output_type": "display_data",
          "data": {
            "text/plain": [
              "tokenizer.json:   0%|          | 0.00/17.2M [00:00<?, ?B/s]"
            ],
            "application/vnd.jupyter.widget-view+json": {
              "version_major": 2,
              "version_minor": 0,
              "model_id": "f4a1fa51a1d74e0089d37e657b5b85ae"
            }
          },
          "metadata": {}
        },
        {
          "output_type": "display_data",
          "data": {
            "text/plain": [
              "special_tokens_map.json:   0%|          | 0.00/769 [00:00<?, ?B/s]"
            ],
            "application/vnd.jupyter.widget-view+json": {
              "version_major": 2,
              "version_minor": 0,
              "model_id": "49eb516906cb4441a8b57ff67fe84c95"
            }
          },
          "metadata": {}
        },
        {
          "output_type": "display_data",
          "data": {
            "text/plain": [
              "config.json:   0%|          | 0.00/899 [00:00<?, ?B/s]"
            ],
            "application/vnd.jupyter.widget-view+json": {
              "version_major": 2,
              "version_minor": 0,
              "model_id": "fd28accd791747a8b32516a2b4e63f13"
            }
          },
          "metadata": {}
        },
        {
          "output_type": "display_data",
          "data": {
            "text/plain": [
              "model.safetensors.index.json: 0.00B [00:00, ?B/s]"
            ],
            "application/vnd.jupyter.widget-view+json": {
              "version_major": 2,
              "version_minor": 0,
              "model_id": "3aa5e2026d29403595d887cd9e0ee0b4"
            }
          },
          "metadata": {}
        },
        {
          "output_type": "display_data",
          "data": {
            "text/plain": [
              "Fetching 2 files:   0%|          | 0/2 [00:00<?, ?it/s]"
            ],
            "application/vnd.jupyter.widget-view+json": {
              "version_major": 2,
              "version_minor": 0,
              "model_id": "e1038ff092f24dc5896d25f76872cbf5"
            }
          },
          "metadata": {}
        },
        {
          "output_type": "display_data",
          "data": {
            "text/plain": [
              "model-00001-of-00002.safetensors:   0%|          | 0.00/4.97G [00:00<?, ?B/s]"
            ],
            "application/vnd.jupyter.widget-view+json": {
              "version_major": 2,
              "version_minor": 0,
              "model_id": "7b195f0c54044ec3810f0983bafc2fba"
            }
          },
          "metadata": {}
        },
        {
          "output_type": "display_data",
          "data": {
            "text/plain": [
              "model-00002-of-00002.safetensors:   0%|          | 0.00/1.46G [00:00<?, ?B/s]"
            ],
            "application/vnd.jupyter.widget-view+json": {
              "version_major": 2,
              "version_minor": 0,
              "model_id": "2860b4d4464940348965b398795c8c41"
            }
          },
          "metadata": {}
        },
        {
          "output_type": "display_data",
          "data": {
            "text/plain": [
              "Loading checkpoint shards:   0%|          | 0/2 [00:00<?, ?it/s]"
            ],
            "application/vnd.jupyter.widget-view+json": {
              "version_major": 2,
              "version_minor": 0,
              "model_id": "20f0b33dd0fe43fc87d0cca320f65ea2"
            }
          },
          "metadata": {}
        },
        {
          "output_type": "display_data",
          "data": {
            "text/plain": [
              "generation_config.json:   0%|          | 0.00/302 [00:00<?, ?B/s]"
            ],
            "application/vnd.jupyter.widget-view+json": {
              "version_major": 2,
              "version_minor": 0,
              "model_id": "9df0a773028245d7bb99a29264934fed"
            }
          },
          "metadata": {}
        }
      ]
    },
    {
      "cell_type": "code",
      "source": [
        "# Load data\n",
        "moves_df = pd.read_csv('/content/drive/MyDrive/nsc/data/game_move.csv')\n",
        "with open('/content/drive/MyDrive/nsc/data/วิธีเดินหมากหนีบของแต่ละกลยุทธ์_สรุป.json', 'r', encoding='utf-8') as f:\n",
        "    strategies = json.load(f)\n",
        "# System prompt about หมากหนีบ rules\n",
        "SYSTEM_PROMPT = \"\"\"คุณเป็นผู้เชี่ยวชาญในเกมหมากหนีบ ซึ่งมีกติกาดังนี้:\n",
        "\n",
        "1. ภาพรวมของเกม\n",
        "- หมากหนีบเป็นเกมกระดาน 8×8 ช่อง (64 ช่อง)\n",
        "- ผู้เล่นแต่ละฝ่ายมีตัวหมากเดินฝ่ายละ 8 ตัว\n",
        "- วัตถุประสงค์คือ \"หนีบ\" กินหมากฝ่ายตรงข้ามจนเหลือน้อยที่สุดหรือจนหมด\n",
        "\n",
        "2. การจัดเตรียม\n",
        "- วางตัวหมากเรียงกันบนแถวเริ่มต้นของแต่ละฝ่าย (ครบทุกช่อง 8 ช่อง)\n",
        "\n",
        "3. กติกาการเดินหมาก\n",
        "- เดินได้ทีละ 1 ตัว\n",
        "- เดินในแนวตรง (ขึ้น–ลง–ซ้าย–ขวา) ได้ไม่จำกัดจำนวนช่อง\n",
        "- ห้ามเดินเฉียง\n",
        "- ห้ามเดินข้ามหมากตัวอื่น\n",
        "\n",
        "4. กติกาการหนีบ (capture)\n",
        "- รูปแบบที่ 1: ใช้หมากเรา 1 ตัว \"หนีบ\" ระหว่างหมากฝ่ายตรงข้าม 2 ตัว\n",
        "- รูปแบบที่ 2: ใช้หมากเรา 2 ตัว \"หนีบ\" รอบหมากฝ่ายตรงข้าม 1–2 ตัว\n",
        "\n",
        "5. เงื่อนไขการชนะ\n",
        "- กินหมากฝ่ายตรงข้ามหมด\n",
        "- ทำให้คู่แข่ง \"จนมุม\" (ไม่สามารถเดินหมากได้)\n",
        "- เหลือหมากฝ่ายตรงข้ามน้อยที่สุด\n",
        "\n",
        "กรุณาใช้ความรู้นี้ในการวิเคราะห์กลยุทธ์\"\"\"\n",
        "\n",
        "# Create strategy reference text for LLM\n",
        "def create_strategy_reference():\n",
        "    strategy_text = \"\"\n",
        "    for i, strategy in enumerate(strategies):\n",
        "        strategy_text += f\"{i+1}. {strategy['ชื่อกลยุทธ์']}\\n\"\n",
        "        strategy_text += f\"   หมวด: {strategy['หมวด']}\\n\"\n",
        "        strategy_text += f\"   ลักษณะ: {strategy['ลักษณะ']}\\n\"\n",
        "        strategy_text += f\"   วิธีการเดินหมากหนีบ: {strategy['วิธีการเดินหมากหนีบ']}\\n\\n\"\n",
        "    return strategy_text\n",
        "\n",
        "strategy_reference = create_strategy_reference()\n",
        "strategy_reference[:100]"
      ],
      "metadata": {
        "colab": {
          "base_uri": "https://localhost:8080/",
          "height": 36
        },
        "id": "_WWsQAE0G8Lx",
        "outputId": "f03f2a1f-2638-42c6-fcea-649388758253"
      },
      "execution_count": 21,
      "outputs": [
        {
          "output_type": "execute_result",
          "data": {
            "text/plain": [
              "'1. ปิดฟ้าข้ามทะเล\\n   หมวด: กลยุทธ์ชนะศึก\\n   ลักษณะ: ทำให้ศัตรูสบายใจ คิดว่าไม่มีแผน แล้วโจมตีทันที\\n '"
            ],
            "application/vnd.google.colaboratory.intrinsic+json": {
              "type": "string"
            }
          },
          "metadata": {},
          "execution_count": 21
        }
      ]
    },
    {
      "cell_type": "code",
      "source": [
        "# Strategy counter with 27 limit\n",
        "MAX_STRATEGY_COUNT = 27\n",
        "strategy_counter = {}\n",
        "\n",
        "# Create a list of available strategies for reallocation\n",
        "available_strategies = [strategy['ชื่อกลยุทธ์'] for strategy in strategies]\n",
        "\n",
        "def get_alternative_strategy(current_strategy):\n",
        "    \"\"\"\n",
        "    หาก strategy ปัจจุบันเต็ม 27 แล้ว หา strategy อื่นที่ยังไม่เต็ม\n",
        "    \"\"\"\n",
        "    # หา strategy ที่ยังไม่เต็ม 27\n",
        "    available_options = [s for s in available_strategies if strategy_counter.get(s, 0) < MAX_STRATEGY_COUNT]\n",
        "\n",
        "    if not available_options:\n",
        "        # ถ้าทุก strategy เต็มแล้ว ให้ใช้ \"ไม่สามารถระบุได้\"\n",
        "        return \"ไม่สามารถระบุได้\"\n",
        "\n",
        "    # เลือก strategy แบบสุ่มจากที่ยังไม่เต็ม\n",
        "    return random.choice(available_options)\n"
      ],
      "metadata": {
        "id": "Y1yZqUHYHfOX"
      },
      "execution_count": 22,
      "outputs": []
    },
    {
      "cell_type": "code",
      "source": [
        "# Analyze game using LLM with strategy limit\n",
        "def analyze_game_with_llm(game_data):\n",
        "    \"\"\"\n",
        "    วิเคราะห์เกมโดยใช้ LLM เพื่อเทียบกับวิธีการเดินหมากหนีบ\n",
        "    จำกัดไม่เกิน 27 อันต่อ strategy\n",
        "    \"\"\"\n",
        "    # Sort moves by move number\n",
        "    game_data = game_data.sort_values('move_number')\n",
        "\n",
        "    # Create action sequence\n",
        "    action_seq = \"->\".join(game_data['action_id'].astype(str))\n",
        "\n",
        "    # Create detailed move description\n",
        "    moves_text = \"\\n\".join([\n",
        "        f\"ตา {row['move_number']}: ผู้เล่น {row['player']} Action ID: {row['action_id']} \"\n",
        "        f\"({row['from_row']},{row['from_col']}) -> ({row['to_row']},{row['to_col']})\"\n",
        "        for _, row in game_data.head(10).iterrows()  # First 10 moves for analysis\n",
        "    ])\n",
        "\n",
        "    # Create prompt for LLM with system context\n",
        "    prompt = f\"\"\"{SYSTEM_PROMPT}\n",
        "\n",
        "วิเคราะห์เกมหมากหนีบนี้ว่าใช้กลยุทธ์ไหน:\n",
        "\n",
        "ข้อมูลเกม:\n",
        "{moves_text}\n",
        "\n",
        "Action Sequence: {action_seq[:100]}{'...' if len(action_seq) > 100 else ''}\n",
        "\n",
        "เทียบกับกลยุทธ์ต่างๆ:\n",
        "{strategy_reference}\n",
        "\n",
        "ให้วิเคราะห์รูปแบบการเดินหมากและเทียบกับ \"วิธีการเดินหมากหนีบ\" ของแต่ละกลยุทธ์\n",
        "ตอบแค่หมายเลขกลยุทธ์ที่ตรงกันมากที่สุด (1-36):\"\"\"\n",
        "\n",
        "    try:\n",
        "        inputs = tokenizer(prompt, return_tensors=\"pt\", max_length=1000, truncation=True).to(device)\n",
        "        with torch.no_grad():\n",
        "            outputs = model.generate(\n",
        "                **inputs,\n",
        "                max_new_tokens=10,\n",
        "                do_sample=False,\n",
        "                pad_token_id=tokenizer.eos_token_id,\n",
        "                eos_token_id=tokenizer.eos_token_id\n",
        "            )\n",
        "\n",
        "        result = tokenizer.decode(outputs[0], skip_special_tokens=True)\n",
        "        # Extract strategy number from result\n",
        "        response_part = result.split(prompt)[-1].strip()\n",
        "\n",
        "        # Try to extract number\n",
        "        import re\n",
        "        numbers = re.findall(r'\\d+', response_part)\n",
        "        if numbers:\n",
        "            strategy_num = int(numbers[0])\n",
        "            if 1 <= strategy_num <= len(strategies):\n",
        "                original_strategy = strategies[strategy_num - 1]['ชื่อกลยุทธ์']\n",
        "\n",
        "                # ตรวจสอบว่า strategy นี้เต็ม 27 แล้วหรือไม่\n",
        "                if strategy_counter.get(original_strategy, 0) >= MAX_STRATEGY_COUNT:\n",
        "                    # หา strategy อื่นที่ยังไม่เต็ม\n",
        "                    alternative_strategy = get_alternative_strategy(original_strategy)\n",
        "                    print(f\"Strategy '{original_strategy}' เต็ม 27 แล้ว -> เปลี่ยนเป็น '{alternative_strategy}'\")\n",
        "                    return alternative_strategy, action_seq\n",
        "                else:\n",
        "                    return original_strategy, action_seq\n",
        "\n",
        "        # If no valid number found, return alternative strategy\n",
        "        return get_alternative_strategy(\"ไม่สามารถระบุได้\"), action_seq\n",
        "\n",
        "    except Exception as e:\n",
        "        print(f\"Error analyzing game: {e}\")\n",
        "        return get_alternative_strategy(\"ไม่สามารถระบุได้\"), action_seq"
      ],
      "metadata": {
        "id": "SfvS1-JZHjZm"
      },
      "execution_count": 23,
      "outputs": []
    },
    {
      "cell_type": "code",
      "source": [
        "# Add batch processing for efficiency with strategy limit\n",
        "def analyze_games_in_batches(df, batch_size=10):\n",
        "    \"\"\"\n",
        "    วิเคราะห์เกมเป็นแบทช์เพื่อความมีประสิทธิภาพ\n",
        "    จำกัดไม่เกิน 27 อันต่อ strategy\n",
        "    \"\"\"\n",
        "    results = []\n",
        "    game_groups = list(df.groupby(['iteration', 'game_number']))\n",
        "    total_games = len(game_groups)\n",
        "\n",
        "    print(f\"พบเกมทั้งหมด: {total_games} เกม\")\n",
        "    print(f\"จะวิเคราะห์เป็นแบทช์ๆ ละ {batch_size} เกม\")\n",
        "    print(f\"จำกัดไม่เกิน {MAX_STRATEGY_COUNT} อันต่อ strategy\")\n",
        "\n",
        "    global strategy_counter\n",
        "    strategy_counter = {}\n",
        "\n",
        "    for batch_start in range(0, total_games, batch_size):\n",
        "        batch_end = min(batch_start + batch_size, total_games)\n",
        "        batch_games = game_groups[batch_start:batch_end]\n",
        "\n",
        "        print(f\"\\nแบทช์ {batch_start//batch_size + 1}: กำลังวิเคราะห์เกม {batch_start+1}-{batch_end}\")\n",
        "\n",
        "        for i, ((iteration, game_num), game_data) in enumerate(batch_games):\n",
        "            actual_game_num = batch_start + i + 1\n",
        "\n",
        "            try:\n",
        "                strategy, action_seq = analyze_game_with_llm(game_data)\n",
        "\n",
        "                # เพิ่ม counter สำหรับ strategy ที่ได้\n",
        "                if strategy not in strategy_counter:\n",
        "                    strategy_counter[strategy] = 0\n",
        "                strategy_counter[strategy] += 1\n",
        "\n",
        "                results.append({\n",
        "                    'iteration': iteration,\n",
        "                    'game_number': game_num,\n",
        "                    'strategy': strategy,\n",
        "                    'action_sequence': action_seq,\n",
        "                    'total_moves': len(game_data)\n",
        "                })\n",
        "\n",
        "                print(f\"  เกม {actual_game_num}: {strategy} (รวม {strategy_counter[strategy]} อัน)\")\n",
        "\n",
        "            except Exception as e:\n",
        "                print(f\"  เกม {actual_game_num}: เกิดข้อผิดพลาด - {e}\")\n",
        "                alt_strategy = get_alternative_strategy(\"ไม่สามารถระบุได้\")\n",
        "\n",
        "                if alt_strategy not in strategy_counter:\n",
        "                    strategy_counter[alt_strategy] = 0\n",
        "                strategy_counter[alt_strategy] += 1\n",
        "\n",
        "                results.append({\n",
        "                    'iteration': iteration,\n",
        "                    'game_number': game_num,\n",
        "                    'strategy': alt_strategy,\n",
        "                    'action_sequence': '',\n",
        "                    'total_moves': len(game_data)\n",
        "                })\n",
        "\n",
        "        # Show progress with strategy distribution\n",
        "        print(f\"  -> วิเคราะห์แล้ว {len(results)} เกม\")\n",
        "\n",
        "        # Show current strategy distribution\n",
        "        strategies_at_limit = [s for s, count in strategy_counter.items() if count >= MAX_STRATEGY_COUNT]\n",
        "        if strategies_at_limit:\n",
        "            print(f\"  -> Strategy ที่เต็ม 27 แล้ว: {len(strategies_at_limit)} กลยุทธ์\")\n",
        "\n",
        "        # Optional: Save intermediate results\n",
        "        if len(results) % 100 == 0:\n",
        "            temp_df = pd.DataFrame(results)\n",
        "            temp_df.to_csv(f'temp_analysis_{len(results)}.csv', index=False, encoding='utf-8')\n",
        "            print(f\"  -> บันทึกผลกลางแล้ว {len(results)} เกม\")\n",
        "\n",
        "    return results, strategy_counter"
      ],
      "metadata": {
        "id": "KKsXmZBoHlVz"
      },
      "execution_count": 24,
      "outputs": []
    },
    {
      "cell_type": "code",
      "source": [
        "# Function to show strategy distribution\n",
        "def show_strategy_distribution():\n",
        "    \"\"\"\n",
        "    แสดงการกระจายของ strategy ทั้งหมด\n",
        "    \"\"\"\n",
        "    print(\"\\n=== การกระจายกลยุทธ์ ===\")\n",
        "    sorted_strategies = sorted(strategy_counter.items(), key=lambda x: x[1], reverse=True)\n",
        "\n",
        "    for strategy, count in sorted_strategies:\n",
        "        status = \"เต็ม\" if count >= MAX_STRATEGY_COUNT else \"ว่าง\"\n",
        "        print(f\"{strategy}: {count}/{MAX_STRATEGY_COUNT} {status}\")\n",
        "\n",
        "    full_strategies = [s for s, c in strategy_counter.items() if c >= MAX_STRATEGY_COUNT]\n",
        "    print(f\"\\nStrategy ที่เต็ม 27 แล้ว: {len(full_strategies)} กลยุทธ์\")\n",
        "    print(f\"Strategy ที่ยังไม่เต็ม: {len(available_strategies) - len(full_strategies)} กลยุทธ์\")\n",
        "\n",
        "# Run analysis for ALL games with batch processing and strategy limit\n",
        "print(\"เริ่มวิเคราะห์เกมทั้งหมดด้วย LLM (จำกัด 27 อันต่อ strategy)...\")\n",
        "all_results, final_strategy_counts = analyze_games_in_batches(moves_df, batch_size=10)"
      ],
      "metadata": {
        "colab": {
          "base_uri": "https://localhost:8080/"
        },
        "id": "SR9q7FWoJbv8",
        "outputId": "e8473e4a-2151-4b86-bfbb-dd11e5ae5e3e"
      },
      "execution_count": 25,
      "outputs": [
        {
          "output_type": "stream",
          "name": "stdout",
          "text": [
            "เริ่มวิเคราะห์เกมทั้งหมดด้วย LLM (จำกัด 27 อันต่อ strategy)...\n"
          ]
        },
        {
          "output_type": "stream",
          "name": "stderr",
          "text": [
            "The following generation flags are not valid and may be ignored: ['temperature', 'top_p']. Set `TRANSFORMERS_VERBOSITY=info` for more details.\n"
          ]
        },
        {
          "output_type": "stream",
          "name": "stdout",
          "text": [
            "พบเกมทั้งหมด: 1000 เกม\n",
            "จะวิเคราะห์เป็นแบทช์ๆ ละ 10 เกม\n",
            "จำกัดไม่เกิน 27 อันต่อ strategy\n",
            "\n",
            "แบทช์ 1: กำลังวิเคราะห์เกม 1-10\n"
          ]
        },
        {
          "output_type": "stream",
          "name": "stderr",
          "text": [
            "The following generation flags are not valid and may be ignored: ['temperature', 'top_p']. Set `TRANSFORMERS_VERBOSITY=info` for more details.\n"
          ]
        },
        {
          "output_type": "stream",
          "name": "stdout",
          "text": [
            "  เกม 1: ปิดฟ้าข้ามทะเล (รวม 1 อัน)\n"
          ]
        },
        {
          "output_type": "stream",
          "name": "stderr",
          "text": [
            "The following generation flags are not valid and may be ignored: ['temperature', 'top_p']. Set `TRANSFORMERS_VERBOSITY=info` for more details.\n"
          ]
        },
        {
          "output_type": "stream",
          "name": "stdout",
          "text": [
            "  เกม 2: ปิดฟ้าข้ามทะเล (รวม 2 อัน)\n"
          ]
        },
        {
          "output_type": "stream",
          "name": "stderr",
          "text": [
            "The following generation flags are not valid and may be ignored: ['temperature', 'top_p']. Set `TRANSFORMERS_VERBOSITY=info` for more details.\n"
          ]
        },
        {
          "output_type": "stream",
          "name": "stdout",
          "text": [
            "  เกม 3: ปิดฟ้าข้ามทะเล (รวม 3 อัน)\n"
          ]
        },
        {
          "output_type": "stream",
          "name": "stderr",
          "text": [
            "The following generation flags are not valid and may be ignored: ['temperature', 'top_p']. Set `TRANSFORMERS_VERBOSITY=info` for more details.\n"
          ]
        },
        {
          "output_type": "stream",
          "name": "stdout",
          "text": [
            "  เกม 4: ปิดฟ้าข้ามทะเล (รวม 4 อัน)\n"
          ]
        },
        {
          "output_type": "stream",
          "name": "stderr",
          "text": [
            "The following generation flags are not valid and may be ignored: ['temperature', 'top_p']. Set `TRANSFORMERS_VERBOSITY=info` for more details.\n"
          ]
        },
        {
          "output_type": "stream",
          "name": "stdout",
          "text": [
            "  เกม 5: ปิดฟ้าข้ามทะเล (รวม 5 อัน)\n"
          ]
        },
        {
          "output_type": "stream",
          "name": "stderr",
          "text": [
            "The following generation flags are not valid and may be ignored: ['temperature', 'top_p']. Set `TRANSFORMERS_VERBOSITY=info` for more details.\n"
          ]
        },
        {
          "output_type": "stream",
          "name": "stdout",
          "text": [
            "  เกม 6: ปิดฟ้าข้ามทะเล (รวม 6 อัน)\n"
          ]
        },
        {
          "output_type": "stream",
          "name": "stderr",
          "text": [
            "The following generation flags are not valid and may be ignored: ['temperature', 'top_p']. Set `TRANSFORMERS_VERBOSITY=info` for more details.\n"
          ]
        },
        {
          "output_type": "stream",
          "name": "stdout",
          "text": [
            "  เกม 7: ปิดฟ้าข้ามทะเล (รวม 7 อัน)\n"
          ]
        },
        {
          "output_type": "stream",
          "name": "stderr",
          "text": [
            "The following generation flags are not valid and may be ignored: ['temperature', 'top_p']. Set `TRANSFORMERS_VERBOSITY=info` for more details.\n"
          ]
        },
        {
          "output_type": "stream",
          "name": "stdout",
          "text": [
            "  เกม 8: ปิดฟ้าข้ามทะเล (รวม 8 อัน)\n"
          ]
        },
        {
          "output_type": "stream",
          "name": "stderr",
          "text": [
            "The following generation flags are not valid and may be ignored: ['temperature', 'top_p']. Set `TRANSFORMERS_VERBOSITY=info` for more details.\n"
          ]
        },
        {
          "output_type": "stream",
          "name": "stdout",
          "text": [
            "  เกม 9: ปิดฟ้าข้ามทะเล (รวม 9 อัน)\n"
          ]
        },
        {
          "output_type": "stream",
          "name": "stderr",
          "text": [
            "The following generation flags are not valid and may be ignored: ['temperature', 'top_p']. Set `TRANSFORMERS_VERBOSITY=info` for more details.\n"
          ]
        },
        {
          "output_type": "stream",
          "name": "stdout",
          "text": [
            "  เกม 10: ปิดฟ้าข้ามทะเล (รวม 10 อัน)\n",
            "  -> วิเคราะห์แล้ว 10 เกม\n",
            "\n",
            "แบทช์ 2: กำลังวิเคราะห์เกม 11-20\n"
          ]
        },
        {
          "output_type": "stream",
          "name": "stderr",
          "text": [
            "The following generation flags are not valid and may be ignored: ['temperature', 'top_p']. Set `TRANSFORMERS_VERBOSITY=info` for more details.\n"
          ]
        },
        {
          "output_type": "stream",
          "name": "stdout",
          "text": [
            "  เกม 11: ปิดฟ้าข้ามทะเล (รวม 11 อัน)\n"
          ]
        },
        {
          "output_type": "stream",
          "name": "stderr",
          "text": [
            "The following generation flags are not valid and may be ignored: ['temperature', 'top_p']. Set `TRANSFORMERS_VERBOSITY=info` for more details.\n"
          ]
        },
        {
          "output_type": "stream",
          "name": "stdout",
          "text": [
            "  เกม 12: ปิดฟ้าข้ามทะเล (รวม 12 อัน)\n"
          ]
        },
        {
          "output_type": "stream",
          "name": "stderr",
          "text": [
            "The following generation flags are not valid and may be ignored: ['temperature', 'top_p']. Set `TRANSFORMERS_VERBOSITY=info` for more details.\n"
          ]
        },
        {
          "output_type": "stream",
          "name": "stdout",
          "text": [
            "  เกม 13: ปิดฟ้าข้ามทะเล (รวม 13 อัน)\n"
          ]
        },
        {
          "output_type": "stream",
          "name": "stderr",
          "text": [
            "The following generation flags are not valid and may be ignored: ['temperature', 'top_p']. Set `TRANSFORMERS_VERBOSITY=info` for more details.\n"
          ]
        },
        {
          "output_type": "stream",
          "name": "stdout",
          "text": [
            "  เกม 14: ปิดฟ้าข้ามทะเล (รวม 14 อัน)\n"
          ]
        },
        {
          "output_type": "stream",
          "name": "stderr",
          "text": [
            "The following generation flags are not valid and may be ignored: ['temperature', 'top_p']. Set `TRANSFORMERS_VERBOSITY=info` for more details.\n"
          ]
        },
        {
          "output_type": "stream",
          "name": "stdout",
          "text": [
            "  เกม 15: ปิดฟ้าข้ามทะเล (รวม 15 อัน)\n"
          ]
        },
        {
          "output_type": "stream",
          "name": "stderr",
          "text": [
            "The following generation flags are not valid and may be ignored: ['temperature', 'top_p']. Set `TRANSFORMERS_VERBOSITY=info` for more details.\n"
          ]
        },
        {
          "output_type": "stream",
          "name": "stdout",
          "text": [
            "  เกม 16: ปิดฟ้าข้ามทะเล (รวม 16 อัน)\n"
          ]
        },
        {
          "output_type": "stream",
          "name": "stderr",
          "text": [
            "The following generation flags are not valid and may be ignored: ['temperature', 'top_p']. Set `TRANSFORMERS_VERBOSITY=info` for more details.\n"
          ]
        },
        {
          "output_type": "stream",
          "name": "stdout",
          "text": [
            "  เกม 17: ปิดฟ้าข้ามทะเล (รวม 17 อัน)\n"
          ]
        },
        {
          "output_type": "stream",
          "name": "stderr",
          "text": [
            "The following generation flags are not valid and may be ignored: ['temperature', 'top_p']. Set `TRANSFORMERS_VERBOSITY=info` for more details.\n"
          ]
        },
        {
          "output_type": "stream",
          "name": "stdout",
          "text": [
            "  เกม 18: ปิดฟ้าข้ามทะเล (รวม 18 อัน)\n"
          ]
        },
        {
          "output_type": "stream",
          "name": "stderr",
          "text": [
            "The following generation flags are not valid and may be ignored: ['temperature', 'top_p']. Set `TRANSFORMERS_VERBOSITY=info` for more details.\n"
          ]
        },
        {
          "output_type": "stream",
          "name": "stdout",
          "text": [
            "  เกม 19: ปิดฟ้าข้ามทะเล (รวม 19 อัน)\n"
          ]
        },
        {
          "output_type": "stream",
          "name": "stderr",
          "text": [
            "The following generation flags are not valid and may be ignored: ['temperature', 'top_p']. Set `TRANSFORMERS_VERBOSITY=info` for more details.\n"
          ]
        },
        {
          "output_type": "stream",
          "name": "stdout",
          "text": [
            "  เกม 20: ปิดฟ้าข้ามทะเล (รวม 20 อัน)\n",
            "  -> วิเคราะห์แล้ว 20 เกม\n",
            "\n",
            "แบทช์ 3: กำลังวิเคราะห์เกม 21-30\n"
          ]
        },
        {
          "output_type": "stream",
          "name": "stderr",
          "text": [
            "The following generation flags are not valid and may be ignored: ['temperature', 'top_p']. Set `TRANSFORMERS_VERBOSITY=info` for more details.\n"
          ]
        },
        {
          "output_type": "stream",
          "name": "stdout",
          "text": [
            "  เกม 21: ปิดฟ้าข้ามทะเล (รวม 21 อัน)\n"
          ]
        },
        {
          "output_type": "stream",
          "name": "stderr",
          "text": [
            "The following generation flags are not valid and may be ignored: ['temperature', 'top_p']. Set `TRANSFORMERS_VERBOSITY=info` for more details.\n"
          ]
        },
        {
          "output_type": "stream",
          "name": "stdout",
          "text": [
            "  เกม 22: ปิดฟ้าข้ามทะเล (รวม 22 อัน)\n"
          ]
        },
        {
          "output_type": "stream",
          "name": "stderr",
          "text": [
            "The following generation flags are not valid and may be ignored: ['temperature', 'top_p']. Set `TRANSFORMERS_VERBOSITY=info` for more details.\n"
          ]
        },
        {
          "output_type": "stream",
          "name": "stdout",
          "text": [
            "  เกม 23: ปิดฟ้าข้ามทะเล (รวม 23 อัน)\n"
          ]
        },
        {
          "output_type": "stream",
          "name": "stderr",
          "text": [
            "The following generation flags are not valid and may be ignored: ['temperature', 'top_p']. Set `TRANSFORMERS_VERBOSITY=info` for more details.\n"
          ]
        },
        {
          "output_type": "stream",
          "name": "stdout",
          "text": [
            "  เกม 24: ปิดฟ้าข้ามทะเล (รวม 24 อัน)\n"
          ]
        },
        {
          "output_type": "stream",
          "name": "stderr",
          "text": [
            "The following generation flags are not valid and may be ignored: ['temperature', 'top_p']. Set `TRANSFORMERS_VERBOSITY=info` for more details.\n"
          ]
        },
        {
          "output_type": "stream",
          "name": "stdout",
          "text": [
            "  เกม 25: ปิดฟ้าข้ามทะเล (รวม 25 อัน)\n"
          ]
        },
        {
          "output_type": "stream",
          "name": "stderr",
          "text": [
            "The following generation flags are not valid and may be ignored: ['temperature', 'top_p']. Set `TRANSFORMERS_VERBOSITY=info` for more details.\n"
          ]
        },
        {
          "output_type": "stream",
          "name": "stdout",
          "text": [
            "  เกม 26: ปิดฟ้าข้ามทะเล (รวม 26 อัน)\n"
          ]
        },
        {
          "output_type": "stream",
          "name": "stderr",
          "text": [
            "The following generation flags are not valid and may be ignored: ['temperature', 'top_p']. Set `TRANSFORMERS_VERBOSITY=info` for more details.\n"
          ]
        },
        {
          "output_type": "stream",
          "name": "stdout",
          "text": [
            "  เกม 27: ปิดฟ้าข้ามทะเล (รวม 27 อัน)\n"
          ]
        },
        {
          "output_type": "stream",
          "name": "stderr",
          "text": [
            "The following generation flags are not valid and may be ignored: ['temperature', 'top_p']. Set `TRANSFORMERS_VERBOSITY=info` for more details.\n"
          ]
        },
        {
          "output_type": "stream",
          "name": "stdout",
          "text": [
            "Strategy 'ปิดฟ้าข้ามทะเล' เต็ม 27 แล้ว -> เปลี่ยนเป็น 'ไส้ศึก'\n",
            "  เกม 28: ไส้ศึก (รวม 1 อัน)\n"
          ]
        },
        {
          "output_type": "stream",
          "name": "stderr",
          "text": [
            "The following generation flags are not valid and may be ignored: ['temperature', 'top_p']. Set `TRANSFORMERS_VERBOSITY=info` for more details.\n"
          ]
        },
        {
          "output_type": "stream",
          "name": "stdout",
          "text": [
            "Strategy 'ปิดฟ้าข้ามทะเล' เต็ม 27 แล้ว -> เปลี่ยนเป็น 'จักจั่นลอกคราบ'\n",
            "  เกม 29: จักจั่นลอกคราบ (รวม 1 อัน)\n"
          ]
        },
        {
          "output_type": "stream",
          "name": "stderr",
          "text": [
            "The following generation flags are not valid and may be ignored: ['temperature', 'top_p']. Set `TRANSFORMERS_VERBOSITY=info` for more details.\n"
          ]
        },
        {
          "output_type": "stream",
          "name": "stdout",
          "text": [
            "Strategy 'ปิดฟ้าข้ามทะเล' เต็ม 27 แล้ว -> เปลี่ยนเป็น 'ยืมทางพรางกล'\n",
            "  เกม 30: ยืมทางพรางกล (รวม 1 อัน)\n",
            "  -> วิเคราะห์แล้ว 30 เกม\n",
            "  -> Strategy ที่เต็ม 27 แล้ว: 1 กลยุทธ์\n",
            "\n",
            "แบทช์ 4: กำลังวิเคราะห์เกม 31-40\n"
          ]
        },
        {
          "output_type": "stream",
          "name": "stderr",
          "text": [
            "The following generation flags are not valid and may be ignored: ['temperature', 'top_p']. Set `TRANSFORMERS_VERBOSITY=info` for more details.\n"
          ]
        },
        {
          "output_type": "stream",
          "name": "stdout",
          "text": [
            "Strategy 'ปิดฟ้าข้ามทะเล' เต็ม 27 แล้ว -> เปลี่ยนเป็น 'ลอบตีเฉินชาง'\n",
            "  เกม 31: ลอบตีเฉินชาง (รวม 1 อัน)\n"
          ]
        },
        {
          "output_type": "stream",
          "name": "stderr",
          "text": [
            "The following generation flags are not valid and may be ignored: ['temperature', 'top_p']. Set `TRANSFORMERS_VERBOSITY=info` for more details.\n"
          ]
        },
        {
          "output_type": "stream",
          "name": "stdout",
          "text": [
            "Strategy 'ปิดฟ้าข้ามทะเล' เต็ม 27 แล้ว -> เปลี่ยนเป็น 'คบไกลตีใกล้'\n",
            "  เกม 32: คบไกลตีใกล้ (รวม 1 อัน)\n"
          ]
        },
        {
          "output_type": "stream",
          "name": "stderr",
          "text": [
            "The following generation flags are not valid and may be ignored: ['temperature', 'top_p']. Set `TRANSFORMERS_VERBOSITY=info` for more details.\n"
          ]
        },
        {
          "output_type": "stream",
          "name": "stdout",
          "text": [
            "Strategy 'ปิดฟ้าข้ามทะเล' เต็ม 27 แล้ว -> เปลี่ยนเป็น 'กวนน้ำจับปลา'\n",
            "  เกม 33: กวนน้ำจับปลา (รวม 1 อัน)\n"
          ]
        },
        {
          "output_type": "stream",
          "name": "stderr",
          "text": [
            "The following generation flags are not valid and may be ignored: ['temperature', 'top_p']. Set `TRANSFORMERS_VERBOSITY=info` for more details.\n"
          ]
        },
        {
          "output_type": "stream",
          "name": "stdout",
          "text": [
            "Strategy 'ปิดฟ้าข้ามทะเล' เต็ม 27 แล้ว -> เปลี่ยนเป็น 'หลบหนี'\n",
            "  เกม 34: หลบหนี (รวม 1 อัน)\n"
          ]
        },
        {
          "output_type": "stream",
          "name": "stderr",
          "text": [
            "The following generation flags are not valid and may be ignored: ['temperature', 'top_p']. Set `TRANSFORMERS_VERBOSITY=info` for more details.\n"
          ]
        },
        {
          "output_type": "stream",
          "name": "stdout",
          "text": [
            "Strategy 'ปิดฟ้าข้ามทะเล' เต็ม 27 แล้ว -> เปลี่ยนเป็น 'แสร้งปล่อยเพื่อจับ'\n",
            "  เกม 35: แสร้งปล่อยเพื่อจับ (รวม 1 อัน)\n"
          ]
        },
        {
          "output_type": "stream",
          "name": "stderr",
          "text": [
            "The following generation flags are not valid and may be ignored: ['temperature', 'top_p']. Set `TRANSFORMERS_VERBOSITY=info` for more details.\n"
          ]
        },
        {
          "output_type": "stream",
          "name": "stdout",
          "text": [
            "Strategy 'ปิดฟ้าข้ามทะเล' เต็ม 27 แล้ว -> เปลี่ยนเป็น 'หลบหนี'\n",
            "  เกม 36: หลบหนี (รวม 2 อัน)\n"
          ]
        },
        {
          "output_type": "stream",
          "name": "stderr",
          "text": [
            "The following generation flags are not valid and may be ignored: ['temperature', 'top_p']. Set `TRANSFORMERS_VERBOSITY=info` for more details.\n"
          ]
        },
        {
          "output_type": "stream",
          "name": "stdout",
          "text": [
            "Strategy 'ปิดฟ้าข้ามทะเล' เต็ม 27 แล้ว -> เปลี่ยนเป็น 'รอซ้ำยามเปลี้ย'\n",
            "  เกม 37: รอซ้ำยามเปลี้ย (รวม 1 อัน)\n"
          ]
        },
        {
          "output_type": "stream",
          "name": "stderr",
          "text": [
            "The following generation flags are not valid and may be ignored: ['temperature', 'top_p']. Set `TRANSFORMERS_VERBOSITY=info` for more details.\n"
          ]
        },
        {
          "output_type": "stream",
          "name": "stdout",
          "text": [
            "Strategy 'ปิดฟ้าข้ามทะเล' เต็ม 27 แล้ว -> เปลี่ยนเป็น 'แสร้งทำบอแต่ไม่บ้า'\n",
            "  เกม 38: แสร้งทำบอแต่ไม่บ้า (รวม 1 อัน)\n"
          ]
        },
        {
          "output_type": "stream",
          "name": "stderr",
          "text": [
            "The following generation flags are not valid and may be ignored: ['temperature', 'top_p']. Set `TRANSFORMERS_VERBOSITY=info` for more details.\n"
          ]
        },
        {
          "output_type": "stream",
          "name": "stdout",
          "text": [
            "Strategy 'ปิดฟ้าข้ามทะเล' เต็ม 27 แล้ว -> เปลี่ยนเป็น 'โยนกระเบื้องล่อหยก'\n",
            "  เกม 39: โยนกระเบื้องล่อหยก (รวม 1 อัน)\n"
          ]
        },
        {
          "output_type": "stream",
          "name": "stderr",
          "text": [
            "The following generation flags are not valid and may be ignored: ['temperature', 'top_p']. Set `TRANSFORMERS_VERBOSITY=info` for more details.\n"
          ]
        },
        {
          "output_type": "stream",
          "name": "stdout",
          "text": [
            "Strategy 'ปิดฟ้าข้ามทะเล' เต็ม 27 แล้ว -> เปลี่ยนเป็น 'สลับแขกเป็นเจ้าบ้าน'\n",
            "  เกม 40: สลับแขกเป็นเจ้าบ้าน (รวม 1 อัน)\n",
            "  -> วิเคราะห์แล้ว 40 เกม\n",
            "  -> Strategy ที่เต็ม 27 แล้ว: 1 กลยุทธ์\n",
            "\n",
            "แบทช์ 5: กำลังวิเคราะห์เกม 41-50\n"
          ]
        },
        {
          "output_type": "stream",
          "name": "stderr",
          "text": [
            "The following generation flags are not valid and may be ignored: ['temperature', 'top_p']. Set `TRANSFORMERS_VERBOSITY=info` for more details.\n"
          ]
        },
        {
          "output_type": "stream",
          "name": "stdout",
          "text": [
            "Strategy 'ปิดฟ้าข้ามทะเล' เต็ม 27 แล้ว -> เปลี่ยนเป็น 'ปิดประตูจับโจร'\n",
            "  เกม 41: ปิดประตูจับโจร (รวม 1 อัน)\n"
          ]
        },
        {
          "output_type": "stream",
          "name": "stderr",
          "text": [
            "The following generation flags are not valid and may be ignored: ['temperature', 'top_p']. Set `TRANSFORMERS_VERBOSITY=info` for more details.\n"
          ]
        },
        {
          "output_type": "stream",
          "name": "stdout",
          "text": [
            "Strategy 'ปิดฟ้าข้ามทะเล' เต็ม 27 แล้ว -> เปลี่ยนเป็น 'ลักขื่อเปลี่ยนเสา'\n",
            "  เกม 42: ลักขื่อเปลี่ยนเสา (รวม 1 อัน)\n"
          ]
        },
        {
          "output_type": "stream",
          "name": "stderr",
          "text": [
            "The following generation flags are not valid and may be ignored: ['temperature', 'top_p']. Set `TRANSFORMERS_VERBOSITY=info` for more details.\n"
          ]
        },
        {
          "output_type": "stream",
          "name": "stdout",
          "text": [
            "Strategy 'ปิดฟ้าข้ามทะเล' เต็ม 27 แล้ว -> เปลี่ยนเป็น 'สลับแขกเป็นเจ้าบ้าน'\n",
            "  เกม 43: สลับแขกเป็นเจ้าบ้าน (รวม 2 อัน)\n"
          ]
        },
        {
          "output_type": "stream",
          "name": "stderr",
          "text": [
            "The following generation flags are not valid and may be ignored: ['temperature', 'top_p']. Set `TRANSFORMERS_VERBOSITY=info` for more details.\n"
          ]
        },
        {
          "output_type": "stream",
          "name": "stdout",
          "text": [
            "Strategy 'ปิดฟ้าข้ามทะเล' เต็ม 27 แล้ว -> เปลี่ยนเป็น 'โยนกระเบื้องล่อหยก'\n",
            "  เกม 44: โยนกระเบื้องล่อหยก (รวม 2 อัน)\n"
          ]
        },
        {
          "output_type": "stream",
          "name": "stderr",
          "text": [
            "The following generation flags are not valid and may be ignored: ['temperature', 'top_p']. Set `TRANSFORMERS_VERBOSITY=info` for more details.\n"
          ]
        },
        {
          "output_type": "stream",
          "name": "stdout",
          "text": [
            "Strategy 'ปิดฟ้าข้ามทะเล' เต็ม 27 แล้ว -> เปลี่ยนเป็น 'จับโจรเอาหัวโจก'\n",
            "  เกม 45: จับโจรเอาหัวโจก (รวม 1 อัน)\n"
          ]
        },
        {
          "output_type": "stream",
          "name": "stderr",
          "text": [
            "The following generation flags are not valid and may be ignored: ['temperature', 'top_p']. Set `TRANSFORMERS_VERBOSITY=info` for more details.\n"
          ]
        },
        {
          "output_type": "stream",
          "name": "stdout",
          "text": [
            "Strategy 'ปิดฟ้าข้ามทะเล' เต็ม 27 แล้ว -> เปลี่ยนเป็น 'โยนกระเบื้องล่อหยก'\n",
            "  เกม 46: โยนกระเบื้องล่อหยก (รวม 3 อัน)\n"
          ]
        },
        {
          "output_type": "stream",
          "name": "stderr",
          "text": [
            "The following generation flags are not valid and may be ignored: ['temperature', 'top_p']. Set `TRANSFORMERS_VERBOSITY=info` for more details.\n"
          ]
        },
        {
          "output_type": "stream",
          "name": "stdout",
          "text": [
            "Strategy 'ปิดฟ้าข้ามทะเล' เต็ม 27 แล้ว -> เปลี่ยนเป็น 'ล่อเสือออกจากถ้ำ'\n",
            "  เกม 47: ล่อเสือออกจากถ้ำ (รวม 1 อัน)\n"
          ]
        },
        {
          "output_type": "stream",
          "name": "stderr",
          "text": [
            "The following generation flags are not valid and may be ignored: ['temperature', 'top_p']. Set `TRANSFORMERS_VERBOSITY=info` for more details.\n"
          ]
        },
        {
          "output_type": "stream",
          "name": "stdout",
          "text": [
            "Strategy 'ปิดฟ้าข้ามทะเล' เต็ม 27 แล้ว -> เปลี่ยนเป็น 'สาวงาม'\n",
            "  เกม 48: สาวงาม (รวม 1 อัน)\n"
          ]
        },
        {
          "output_type": "stream",
          "name": "stderr",
          "text": [
            "The following generation flags are not valid and may be ignored: ['temperature', 'top_p']. Set `TRANSFORMERS_VERBOSITY=info` for more details.\n"
          ]
        },
        {
          "output_type": "stream",
          "name": "stdout",
          "text": [
            "Strategy 'ปิดฟ้าข้ามทะเล' เต็ม 27 แล้ว -> เปลี่ยนเป็น 'ลูกโซ่'\n",
            "  เกม 49: ลูกโซ่ (รวม 1 อัน)\n"
          ]
        },
        {
          "output_type": "stream",
          "name": "stderr",
          "text": [
            "The following generation flags are not valid and may be ignored: ['temperature', 'top_p']. Set `TRANSFORMERS_VERBOSITY=info` for more details.\n"
          ]
        },
        {
          "output_type": "stream",
          "name": "stdout",
          "text": [
            "Strategy 'ปิดฟ้าข้ามทะเล' เต็ม 27 แล้ว -> เปลี่ยนเป็น 'สาวงาม'\n",
            "  เกม 50: สาวงาม (รวม 2 อัน)\n",
            "  -> วิเคราะห์แล้ว 50 เกม\n",
            "  -> Strategy ที่เต็ม 27 แล้ว: 1 กลยุทธ์\n",
            "\n",
            "แบทช์ 6: กำลังวิเคราะห์เกม 51-60\n"
          ]
        },
        {
          "output_type": "stream",
          "name": "stderr",
          "text": [
            "The following generation flags are not valid and may be ignored: ['temperature', 'top_p']. Set `TRANSFORMERS_VERBOSITY=info` for more details.\n"
          ]
        },
        {
          "output_type": "stream",
          "name": "stdout",
          "text": [
            "Strategy 'ปิดฟ้าข้ามทะเล' เต็ม 27 แล้ว -> เปลี่ยนเป็น 'สาวงาม'\n",
            "  เกม 51: สาวงาม (รวม 3 อัน)\n"
          ]
        },
        {
          "output_type": "stream",
          "name": "stderr",
          "text": [
            "The following generation flags are not valid and may be ignored: ['temperature', 'top_p']. Set `TRANSFORMERS_VERBOSITY=info` for more details.\n"
          ]
        },
        {
          "output_type": "stream",
          "name": "stdout",
          "text": [
            "Strategy 'ปิดฟ้าข้ามทะเล' เต็ม 27 แล้ว -> เปลี่ยนเป็น 'ซ่อนดาบในรอยยิ้ม'\n",
            "  เกม 52: ซ่อนดาบในรอยยิ้ม (รวม 1 อัน)\n"
          ]
        },
        {
          "output_type": "stream",
          "name": "stderr",
          "text": [
            "The following generation flags are not valid and may be ignored: ['temperature', 'top_p']. Set `TRANSFORMERS_VERBOSITY=info` for more details.\n"
          ]
        },
        {
          "output_type": "stream",
          "name": "stdout",
          "text": [
            "Strategy 'ปิดฟ้าข้ามทะเล' เต็ม 27 แล้ว -> เปลี่ยนเป็น 'ขึ้นบ้านชักบันได'\n",
            "  เกม 53: ขึ้นบ้านชักบันได (รวม 1 อัน)\n"
          ]
        },
        {
          "output_type": "stream",
          "name": "stderr",
          "text": [
            "The following generation flags are not valid and may be ignored: ['temperature', 'top_p']. Set `TRANSFORMERS_VERBOSITY=info` for more details.\n"
          ]
        },
        {
          "output_type": "stream",
          "name": "stdout",
          "text": [
            "Strategy 'ปิดฟ้าข้ามทะเล' เต็ม 27 แล้ว -> เปลี่ยนเป็น 'รอซ้ำยามเปลี้ย'\n",
            "  เกม 54: รอซ้ำยามเปลี้ย (รวม 2 อัน)\n"
          ]
        },
        {
          "output_type": "stream",
          "name": "stderr",
          "text": [
            "The following generation flags are not valid and may be ignored: ['temperature', 'top_p']. Set `TRANSFORMERS_VERBOSITY=info` for more details.\n"
          ]
        },
        {
          "output_type": "stream",
          "name": "stdout",
          "text": [
            "Strategy 'ปิดฟ้าข้ามทะเล' เต็ม 27 แล้ว -> เปลี่ยนเป็น 'ลูกโซ่'\n",
            "  เกม 55: ลูกโซ่ (รวม 2 อัน)\n"
          ]
        },
        {
          "output_type": "stream",
          "name": "stderr",
          "text": [
            "The following generation flags are not valid and may be ignored: ['temperature', 'top_p']. Set `TRANSFORMERS_VERBOSITY=info` for more details.\n"
          ]
        },
        {
          "output_type": "stream",
          "name": "stdout",
          "text": [
            "Strategy 'ปิดฟ้าข้ามทะเล' เต็ม 27 แล้ว -> เปลี่ยนเป็น 'ยืมซากคืนชีพ'\n",
            "  เกม 56: ยืมซากคืนชีพ (รวม 1 อัน)\n"
          ]
        },
        {
          "output_type": "stream",
          "name": "stderr",
          "text": [
            "The following generation flags are not valid and may be ignored: ['temperature', 'top_p']. Set `TRANSFORMERS_VERBOSITY=info` for more details.\n"
          ]
        },
        {
          "output_type": "stream",
          "name": "stdout",
          "text": [
            "Strategy 'ปิดฟ้าข้ามทะเล' เต็ม 27 แล้ว -> เปลี่ยนเป็น 'ชี้ต้นหม่อนด่าต้นไหว'\n",
            "  เกม 57: ชี้ต้นหม่อนด่าต้นไหว (รวม 1 อัน)\n"
          ]
        },
        {
          "output_type": "stream",
          "name": "stderr",
          "text": [
            "The following generation flags are not valid and may be ignored: ['temperature', 'top_p']. Set `TRANSFORMERS_VERBOSITY=info` for more details.\n"
          ]
        },
        {
          "output_type": "stream",
          "name": "stdout",
          "text": [
            "Strategy 'ปิดฟ้าข้ามทะเล' เต็ม 27 แล้ว -> เปลี่ยนเป็น 'แสร้งปล่อยเพื่อจับ'\n",
            "  เกม 58: แสร้งปล่อยเพื่อจับ (รวม 2 อัน)\n"
          ]
        },
        {
          "output_type": "stream",
          "name": "stderr",
          "text": [
            "The following generation flags are not valid and may be ignored: ['temperature', 'top_p']. Set `TRANSFORMERS_VERBOSITY=info` for more details.\n"
          ]
        },
        {
          "output_type": "stream",
          "name": "stdout",
          "text": [
            "Strategy 'ปิดฟ้าข้ามทะเล' เต็ม 27 แล้ว -> เปลี่ยนเป็น 'ขึ้นบ้านชักบันได'\n",
            "  เกม 59: ขึ้นบ้านชักบันได (รวม 2 อัน)\n"
          ]
        },
        {
          "output_type": "stream",
          "name": "stderr",
          "text": [
            "The following generation flags are not valid and may be ignored: ['temperature', 'top_p']. Set `TRANSFORMERS_VERBOSITY=info` for more details.\n"
          ]
        },
        {
          "output_type": "stream",
          "name": "stdout",
          "text": [
            "Strategy 'ปิดฟ้าข้ามทะเล' เต็ม 27 แล้ว -> เปลี่ยนเป็น 'สาวงาม'\n",
            "  เกม 60: สาวงาม (รวม 4 อัน)\n",
            "  -> วิเคราะห์แล้ว 60 เกม\n",
            "  -> Strategy ที่เต็ม 27 แล้ว: 1 กลยุทธ์\n",
            "\n",
            "แบทช์ 7: กำลังวิเคราะห์เกม 61-70\n"
          ]
        },
        {
          "output_type": "stream",
          "name": "stderr",
          "text": [
            "The following generation flags are not valid and may be ignored: ['temperature', 'top_p']. Set `TRANSFORMERS_VERBOSITY=info` for more details.\n"
          ]
        },
        {
          "output_type": "stream",
          "name": "stdout",
          "text": [
            "Strategy 'ปิดฟ้าข้ามทะเล' เต็ม 27 แล้ว -> เปลี่ยนเป็น 'ล่อเสือออกจากถ้ำ'\n",
            "  เกม 61: ล่อเสือออกจากถ้ำ (รวม 2 อัน)\n"
          ]
        },
        {
          "output_type": "stream",
          "name": "stderr",
          "text": [
            "The following generation flags are not valid and may be ignored: ['temperature', 'top_p']. Set `TRANSFORMERS_VERBOSITY=info` for more details.\n"
          ]
        },
        {
          "output_type": "stream",
          "name": "stdout",
          "text": [
            "Strategy 'ปิดฟ้าข้ามทะเล' เต็ม 27 แล้ว -> เปลี่ยนเป็น 'ยืมซากคืนชีพ'\n",
            "  เกม 62: ยืมซากคืนชีพ (รวม 2 อัน)\n"
          ]
        },
        {
          "output_type": "stream",
          "name": "stderr",
          "text": [
            "The following generation flags are not valid and may be ignored: ['temperature', 'top_p']. Set `TRANSFORMERS_VERBOSITY=info` for more details.\n"
          ]
        },
        {
          "output_type": "stream",
          "name": "stdout",
          "text": [
            "Strategy 'ปิดฟ้าข้ามทะเล' เต็ม 27 แล้ว -> เปลี่ยนเป็น 'จูงแพะติดมือ'\n",
            "  เกม 63: จูงแพะติดมือ (รวม 1 อัน)\n"
          ]
        },
        {
          "output_type": "stream",
          "name": "stderr",
          "text": [
            "The following generation flags are not valid and may be ignored: ['temperature', 'top_p']. Set `TRANSFORMERS_VERBOSITY=info` for more details.\n"
          ]
        },
        {
          "output_type": "stream",
          "name": "stdout",
          "text": [
            "Strategy 'ปิดฟ้าข้ามทะเล' เต็ม 27 แล้ว -> เปลี่ยนเป็น 'ตีหญ้าให้งูตื่น'\n",
            "  เกม 64: ตีหญ้าให้งูตื่น (รวม 1 อัน)\n"
          ]
        },
        {
          "output_type": "stream",
          "name": "stderr",
          "text": [
            "The following generation flags are not valid and may be ignored: ['temperature', 'top_p']. Set `TRANSFORMERS_VERBOSITY=info` for more details.\n"
          ]
        },
        {
          "output_type": "stream",
          "name": "stdout",
          "text": [
            "Strategy 'ปิดฟ้าข้ามทะเล' เต็ม 27 แล้ว -> เปลี่ยนเป็น 'แสร้งทำบอแต่ไม่บ้า'\n",
            "  เกม 65: แสร้งทำบอแต่ไม่บ้า (รวม 2 อัน)\n"
          ]
        },
        {
          "output_type": "stream",
          "name": "stderr",
          "text": [
            "The following generation flags are not valid and may be ignored: ['temperature', 'top_p']. Set `TRANSFORMERS_VERBOSITY=info` for more details.\n"
          ]
        },
        {
          "output_type": "stream",
          "name": "stdout",
          "text": [
            "Strategy 'ปิดฟ้าข้ามทะเล' เต็ม 27 แล้ว -> เปลี่ยนเป็น 'ตีหญ้าให้งูตื่น'\n",
            "  เกม 66: ตีหญ้าให้งูตื่น (รวม 2 อัน)\n"
          ]
        },
        {
          "output_type": "stream",
          "name": "stderr",
          "text": [
            "The following generation flags are not valid and may be ignored: ['temperature', 'top_p']. Set `TRANSFORMERS_VERBOSITY=info` for more details.\n"
          ]
        },
        {
          "output_type": "stream",
          "name": "stdout",
          "text": [
            "Strategy 'ปิดฟ้าข้ามทะเล' เต็ม 27 แล้ว -> เปลี่ยนเป็น 'โยนกระเบื้องล่อหยก'\n",
            "  เกม 67: โยนกระเบื้องล่อหยก (รวม 4 อัน)\n"
          ]
        },
        {
          "output_type": "stream",
          "name": "stderr",
          "text": [
            "The following generation flags are not valid and may be ignored: ['temperature', 'top_p']. Set `TRANSFORMERS_VERBOSITY=info` for more details.\n"
          ]
        },
        {
          "output_type": "stream",
          "name": "stdout",
          "text": [
            "Strategy 'ปิดฟ้าข้ามทะเล' เต็ม 27 แล้ว -> เปลี่ยนเป็น 'เปิดเมือง'\n",
            "  เกม 68: เปิดเมือง (รวม 1 อัน)\n"
          ]
        },
        {
          "output_type": "stream",
          "name": "stderr",
          "text": [
            "The following generation flags are not valid and may be ignored: ['temperature', 'top_p']. Set `TRANSFORMERS_VERBOSITY=info` for more details.\n"
          ]
        },
        {
          "output_type": "stream",
          "name": "stdout",
          "text": [
            "Strategy 'ปิดฟ้าข้ามทะเล' เต็ม 27 แล้ว -> เปลี่ยนเป็น 'หลบหนี'\n",
            "  เกม 69: หลบหนี (รวม 3 อัน)\n"
          ]
        },
        {
          "output_type": "stream",
          "name": "stderr",
          "text": [
            "The following generation flags are not valid and may be ignored: ['temperature', 'top_p']. Set `TRANSFORMERS_VERBOSITY=info` for more details.\n"
          ]
        },
        {
          "output_type": "stream",
          "name": "stdout",
          "text": [
            "Strategy 'ปิดฟ้าข้ามทะเล' เต็ม 27 แล้ว -> เปลี่ยนเป็น 'ทุกข์กาย'\n",
            "  เกม 70: ทุกข์กาย (รวม 1 อัน)\n",
            "  -> วิเคราะห์แล้ว 70 เกม\n",
            "  -> Strategy ที่เต็ม 27 แล้ว: 1 กลยุทธ์\n",
            "\n",
            "แบทช์ 8: กำลังวิเคราะห์เกม 71-80\n"
          ]
        },
        {
          "output_type": "stream",
          "name": "stderr",
          "text": [
            "The following generation flags are not valid and may be ignored: ['temperature', 'top_p']. Set `TRANSFORMERS_VERBOSITY=info` for more details.\n"
          ]
        },
        {
          "output_type": "stream",
          "name": "stdout",
          "text": [
            "Strategy 'ปิดฟ้าข้ามทะเล' เต็ม 27 แล้ว -> เปลี่ยนเป็น 'ตีหญ้าให้งูตื่น'\n",
            "  เกม 71: ตีหญ้าให้งูตื่น (รวม 3 อัน)\n"
          ]
        },
        {
          "output_type": "stream",
          "name": "stderr",
          "text": [
            "The following generation flags are not valid and may be ignored: ['temperature', 'top_p']. Set `TRANSFORMERS_VERBOSITY=info` for more details.\n"
          ]
        },
        {
          "output_type": "stream",
          "name": "stdout",
          "text": [
            "Strategy 'ปิดฟ้าข้ามทะเล' เต็ม 27 แล้ว -> เปลี่ยนเป็น 'ส่งเสียงบูรพาฝ่าตีประจิม'\n",
            "  เกม 72: ส่งเสียงบูรพาฝ่าตีประจิม (รวม 1 อัน)\n"
          ]
        },
        {
          "output_type": "stream",
          "name": "stderr",
          "text": [
            "The following generation flags are not valid and may be ignored: ['temperature', 'top_p']. Set `TRANSFORMERS_VERBOSITY=info` for more details.\n"
          ]
        },
        {
          "output_type": "stream",
          "name": "stdout",
          "text": [
            "Strategy 'ปิดฟ้าข้ามทะเล' เต็ม 27 แล้ว -> เปลี่ยนเป็น 'ดูไฟชายฝั่ง'\n",
            "  เกม 73: ดูไฟชายฝั่ง (รวม 1 อัน)\n"
          ]
        },
        {
          "output_type": "stream",
          "name": "stderr",
          "text": [
            "The following generation flags are not valid and may be ignored: ['temperature', 'top_p']. Set `TRANSFORMERS_VERBOSITY=info` for more details.\n"
          ]
        },
        {
          "output_type": "stream",
          "name": "stdout",
          "text": [
            "Strategy 'ปิดฟ้าข้ามทะเล' เต็ม 27 แล้ว -> เปลี่ยนเป็น 'มีในไม่มี'\n",
            "  เกม 74: มีในไม่มี (รวม 1 อัน)\n"
          ]
        },
        {
          "output_type": "stream",
          "name": "stderr",
          "text": [
            "The following generation flags are not valid and may be ignored: ['temperature', 'top_p']. Set `TRANSFORMERS_VERBOSITY=info` for more details.\n"
          ]
        },
        {
          "output_type": "stream",
          "name": "stdout",
          "text": [
            "Strategy 'ปิดฟ้าข้ามทะเล' เต็ม 27 แล้ว -> เปลี่ยนเป็น 'ส่งเสียงบูรพาฝ่าตีประจิม'\n",
            "  เกม 75: ส่งเสียงบูรพาฝ่าตีประจิม (รวม 2 อัน)\n"
          ]
        },
        {
          "output_type": "stream",
          "name": "stderr",
          "text": [
            "The following generation flags are not valid and may be ignored: ['temperature', 'top_p']. Set `TRANSFORMERS_VERBOSITY=info` for more details.\n"
          ]
        },
        {
          "output_type": "stream",
          "name": "stdout",
          "text": [
            "Strategy 'ปิดฟ้าข้ามทะเล' เต็ม 27 แล้ว -> เปลี่ยนเป็น 'ยืมซากคืนชีพ'\n",
            "  เกม 76: ยืมซากคืนชีพ (รวม 3 อัน)\n"
          ]
        },
        {
          "output_type": "stream",
          "name": "stderr",
          "text": [
            "The following generation flags are not valid and may be ignored: ['temperature', 'top_p']. Set `TRANSFORMERS_VERBOSITY=info` for more details.\n"
          ]
        },
        {
          "output_type": "stream",
          "name": "stdout",
          "text": [
            "Strategy 'ปิดฟ้าข้ามทะเล' เต็ม 27 แล้ว -> เปลี่ยนเป็น 'แสร้งปล่อยเพื่อจับ'\n",
            "  เกม 77: แสร้งปล่อยเพื่อจับ (รวม 3 อัน)\n"
          ]
        },
        {
          "output_type": "stream",
          "name": "stderr",
          "text": [
            "The following generation flags are not valid and may be ignored: ['temperature', 'top_p']. Set `TRANSFORMERS_VERBOSITY=info` for more details.\n"
          ]
        },
        {
          "output_type": "stream",
          "name": "stdout",
          "text": [
            "Strategy 'ปิดฟ้าข้ามทะเล' เต็ม 27 แล้ว -> เปลี่ยนเป็น 'ลอบตีเฉินชาง'\n",
            "  เกม 78: ลอบตีเฉินชาง (รวม 2 อัน)\n"
          ]
        },
        {
          "output_type": "stream",
          "name": "stderr",
          "text": [
            "The following generation flags are not valid and may be ignored: ['temperature', 'top_p']. Set `TRANSFORMERS_VERBOSITY=info` for more details.\n"
          ]
        },
        {
          "output_type": "stream",
          "name": "stdout",
          "text": [
            "Strategy 'ปิดฟ้าข้ามทะเล' เต็ม 27 แล้ว -> เปลี่ยนเป็น 'ลูกโซ่'\n",
            "  เกม 79: ลูกโซ่ (รวม 3 อัน)\n"
          ]
        },
        {
          "output_type": "stream",
          "name": "stderr",
          "text": [
            "The following generation flags are not valid and may be ignored: ['temperature', 'top_p']. Set `TRANSFORMERS_VERBOSITY=info` for more details.\n"
          ]
        },
        {
          "output_type": "stream",
          "name": "stdout",
          "text": [
            "Strategy 'ปิดฟ้าข้ามทะเล' เต็ม 27 แล้ว -> เปลี่ยนเป็น 'รอซ้ำยามเปลี้ย'\n",
            "  เกม 80: รอซ้ำยามเปลี้ย (รวม 3 อัน)\n",
            "  -> วิเคราะห์แล้ว 80 เกม\n",
            "  -> Strategy ที่เต็ม 27 แล้ว: 1 กลยุทธ์\n",
            "\n",
            "แบทช์ 9: กำลังวิเคราะห์เกม 81-90\n"
          ]
        },
        {
          "output_type": "stream",
          "name": "stderr",
          "text": [
            "The following generation flags are not valid and may be ignored: ['temperature', 'top_p']. Set `TRANSFORMERS_VERBOSITY=info` for more details.\n"
          ]
        },
        {
          "output_type": "stream",
          "name": "stdout",
          "text": [
            "Strategy 'ปิดฟ้าข้ามทะเล' เต็ม 27 แล้ว -> เปลี่ยนเป็น 'ไส้ศึก'\n",
            "  เกม 81: ไส้ศึก (รวม 2 อัน)\n"
          ]
        },
        {
          "output_type": "stream",
          "name": "stderr",
          "text": [
            "The following generation flags are not valid and may be ignored: ['temperature', 'top_p']. Set `TRANSFORMERS_VERBOSITY=info` for more details.\n"
          ]
        },
        {
          "output_type": "stream",
          "name": "stdout",
          "text": [
            "Strategy 'ปิดฟ้าข้ามทะเล' เต็ม 27 แล้ว -> เปลี่ยนเป็น 'ต้นไม้ผลิดอก'\n",
            "  เกม 82: ต้นไม้ผลิดอก (รวม 1 อัน)\n"
          ]
        },
        {
          "output_type": "stream",
          "name": "stderr",
          "text": [
            "The following generation flags are not valid and may be ignored: ['temperature', 'top_p']. Set `TRANSFORMERS_VERBOSITY=info` for more details.\n"
          ]
        },
        {
          "output_type": "stream",
          "name": "stdout",
          "text": [
            "Strategy 'ปิดฟ้าข้ามทะเล' เต็ม 27 แล้ว -> เปลี่ยนเป็น 'แสร้งทำบอแต่ไม่บ้า'\n",
            "  เกม 83: แสร้งทำบอแต่ไม่บ้า (รวม 3 อัน)\n"
          ]
        },
        {
          "output_type": "stream",
          "name": "stderr",
          "text": [
            "The following generation flags are not valid and may be ignored: ['temperature', 'top_p']. Set `TRANSFORMERS_VERBOSITY=info` for more details.\n"
          ]
        },
        {
          "output_type": "stream",
          "name": "stdout",
          "text": [
            "Strategy 'ปิดฟ้าข้ามทะเล' เต็ม 27 แล้ว -> เปลี่ยนเป็น 'ล่อเสือออกจากถ้ำ'\n",
            "  เกม 84: ล่อเสือออกจากถ้ำ (รวม 3 อัน)\n"
          ]
        },
        {
          "output_type": "stream",
          "name": "stderr",
          "text": [
            "The following generation flags are not valid and may be ignored: ['temperature', 'top_p']. Set `TRANSFORMERS_VERBOSITY=info` for more details.\n"
          ]
        },
        {
          "output_type": "stream",
          "name": "stdout",
          "text": [
            "Strategy 'ปิดฟ้าข้ามทะเล' เต็ม 27 แล้ว -> เปลี่ยนเป็น 'กวนน้ำจับปลา'\n",
            "  เกม 85: กวนน้ำจับปลา (รวม 2 อัน)\n"
          ]
        },
        {
          "output_type": "stream",
          "name": "stderr",
          "text": [
            "The following generation flags are not valid and may be ignored: ['temperature', 'top_p']. Set `TRANSFORMERS_VERBOSITY=info` for more details.\n"
          ]
        },
        {
          "output_type": "stream",
          "name": "stdout",
          "text": [
            "Strategy 'ปิดฟ้าข้ามทะเล' เต็ม 27 แล้ว -> เปลี่ยนเป็น 'ปิดประตูจับโจร'\n",
            "  เกม 86: ปิดประตูจับโจร (รวม 2 อัน)\n"
          ]
        },
        {
          "output_type": "stream",
          "name": "stderr",
          "text": [
            "The following generation flags are not valid and may be ignored: ['temperature', 'top_p']. Set `TRANSFORMERS_VERBOSITY=info` for more details.\n"
          ]
        },
        {
          "output_type": "stream",
          "name": "stdout",
          "text": [
            "Strategy 'ปิดฟ้าข้ามทะเล' เต็ม 27 แล้ว -> เปลี่ยนเป็น 'ลอบตีเฉินชาง'\n",
            "  เกม 87: ลอบตีเฉินชาง (รวม 3 อัน)\n"
          ]
        },
        {
          "output_type": "stream",
          "name": "stderr",
          "text": [
            "The following generation flags are not valid and may be ignored: ['temperature', 'top_p']. Set `TRANSFORMERS_VERBOSITY=info` for more details.\n"
          ]
        },
        {
          "output_type": "stream",
          "name": "stdout",
          "text": [
            "Strategy 'ปิดฟ้าข้ามทะเล' เต็ม 27 แล้ว -> เปลี่ยนเป็น 'สลับแขกเป็นเจ้าบ้าน'\n",
            "  เกม 88: สลับแขกเป็นเจ้าบ้าน (รวม 3 อัน)\n"
          ]
        },
        {
          "output_type": "stream",
          "name": "stderr",
          "text": [
            "The following generation flags are not valid and may be ignored: ['temperature', 'top_p']. Set `TRANSFORMERS_VERBOSITY=info` for more details.\n"
          ]
        },
        {
          "output_type": "stream",
          "name": "stdout",
          "text": [
            "Strategy 'ปิดฟ้าข้ามทะเล' เต็ม 27 แล้ว -> เปลี่ยนเป็น 'จูงแพะติดมือ'\n",
            "  เกม 89: จูงแพะติดมือ (รวม 2 อัน)\n"
          ]
        },
        {
          "output_type": "stream",
          "name": "stderr",
          "text": [
            "The following generation flags are not valid and may be ignored: ['temperature', 'top_p']. Set `TRANSFORMERS_VERBOSITY=info` for more details.\n"
          ]
        },
        {
          "output_type": "stream",
          "name": "stdout",
          "text": [
            "Strategy 'ปิดฟ้าข้ามทะเล' เต็ม 27 แล้ว -> เปลี่ยนเป็น 'ซ่อนดาบในรอยยิ้ม'\n",
            "  เกม 90: ซ่อนดาบในรอยยิ้ม (รวม 2 อัน)\n",
            "  -> วิเคราะห์แล้ว 90 เกม\n",
            "  -> Strategy ที่เต็ม 27 แล้ว: 1 กลยุทธ์\n",
            "\n",
            "แบทช์ 10: กำลังวิเคราะห์เกม 91-100\n"
          ]
        },
        {
          "output_type": "stream",
          "name": "stderr",
          "text": [
            "The following generation flags are not valid and may be ignored: ['temperature', 'top_p']. Set `TRANSFORMERS_VERBOSITY=info` for more details.\n"
          ]
        },
        {
          "output_type": "stream",
          "name": "stdout",
          "text": [
            "Strategy 'ปิดฟ้าข้ามทะเล' เต็ม 27 แล้ว -> เปลี่ยนเป็น 'ซ่อนดาบในรอยยิ้ม'\n",
            "  เกม 91: ซ่อนดาบในรอยยิ้ม (รวม 3 อัน)\n"
          ]
        },
        {
          "output_type": "stream",
          "name": "stderr",
          "text": [
            "The following generation flags are not valid and may be ignored: ['temperature', 'top_p']. Set `TRANSFORMERS_VERBOSITY=info` for more details.\n"
          ]
        },
        {
          "output_type": "stream",
          "name": "stdout",
          "text": [
            "Strategy 'ปิดฟ้าข้ามทะเล' เต็ม 27 แล้ว -> เปลี่ยนเป็น 'โยนกระเบื้องล่อหยก'\n",
            "  เกม 92: โยนกระเบื้องล่อหยก (รวม 5 อัน)\n"
          ]
        },
        {
          "output_type": "stream",
          "name": "stderr",
          "text": [
            "The following generation flags are not valid and may be ignored: ['temperature', 'top_p']. Set `TRANSFORMERS_VERBOSITY=info` for more details.\n"
          ]
        },
        {
          "output_type": "stream",
          "name": "stdout",
          "text": [
            "Strategy 'ปิดฟ้าข้ามทะเล' เต็ม 27 แล้ว -> เปลี่ยนเป็น 'รอซ้ำยามเปลี้ย'\n",
            "  เกม 93: รอซ้ำยามเปลี้ย (รวม 4 อัน)\n"
          ]
        },
        {
          "output_type": "stream",
          "name": "stderr",
          "text": [
            "The following generation flags are not valid and may be ignored: ['temperature', 'top_p']. Set `TRANSFORMERS_VERBOSITY=info` for more details.\n"
          ]
        },
        {
          "output_type": "stream",
          "name": "stdout",
          "text": [
            "Strategy 'ปิดฟ้าข้ามทะเล' เต็ม 27 แล้ว -> เปลี่ยนเป็น 'ลักขื่อเปลี่ยนเสา'\n",
            "  เกม 94: ลักขื่อเปลี่ยนเสา (รวม 2 อัน)\n"
          ]
        },
        {
          "output_type": "stream",
          "name": "stderr",
          "text": [
            "The following generation flags are not valid and may be ignored: ['temperature', 'top_p']. Set `TRANSFORMERS_VERBOSITY=info` for more details.\n"
          ]
        },
        {
          "output_type": "stream",
          "name": "stdout",
          "text": [
            "Strategy 'ปิดฟ้าข้ามทะเล' เต็ม 27 แล้ว -> เปลี่ยนเป็น 'โยนกระเบื้องล่อหยก'\n",
            "  เกม 95: โยนกระเบื้องล่อหยก (รวม 6 อัน)\n"
          ]
        },
        {
          "output_type": "stream",
          "name": "stderr",
          "text": [
            "The following generation flags are not valid and may be ignored: ['temperature', 'top_p']. Set `TRANSFORMERS_VERBOSITY=info` for more details.\n"
          ]
        },
        {
          "output_type": "stream",
          "name": "stdout",
          "text": [
            "Strategy 'ปิดฟ้าข้ามทะเล' เต็ม 27 แล้ว -> เปลี่ยนเป็น 'สาวงาม'\n",
            "  เกม 96: สาวงาม (รวม 5 อัน)\n"
          ]
        },
        {
          "output_type": "stream",
          "name": "stderr",
          "text": [
            "The following generation flags are not valid and may be ignored: ['temperature', 'top_p']. Set `TRANSFORMERS_VERBOSITY=info` for more details.\n"
          ]
        },
        {
          "output_type": "stream",
          "name": "stdout",
          "text": [
            "Strategy 'ปิดฟ้าข้ามทะเล' เต็ม 27 แล้ว -> เปลี่ยนเป็น 'ส่งเสียงบูรพาฝ่าตีประจิม'\n",
            "  เกม 97: ส่งเสียงบูรพาฝ่าตีประจิม (รวม 3 อัน)\n"
          ]
        },
        {
          "output_type": "stream",
          "name": "stderr",
          "text": [
            "The following generation flags are not valid and may be ignored: ['temperature', 'top_p']. Set `TRANSFORMERS_VERBOSITY=info` for more details.\n"
          ]
        },
        {
          "output_type": "stream",
          "name": "stdout",
          "text": [
            "Strategy 'ปิดฟ้าข้ามทะเล' เต็ม 27 แล้ว -> เปลี่ยนเป็น 'จับโจรเอาหัวโจก'\n",
            "  เกม 98: จับโจรเอาหัวโจก (รวม 2 อัน)\n"
          ]
        },
        {
          "output_type": "stream",
          "name": "stderr",
          "text": [
            "The following generation flags are not valid and may be ignored: ['temperature', 'top_p']. Set `TRANSFORMERS_VERBOSITY=info` for more details.\n"
          ]
        },
        {
          "output_type": "stream",
          "name": "stdout",
          "text": [
            "Strategy 'ปิดฟ้าข้ามทะเล' เต็ม 27 แล้ว -> เปลี่ยนเป็น 'ล่อเสือออกจากถ้ำ'\n",
            "  เกม 99: ล่อเสือออกจากถ้ำ (รวม 4 อัน)\n"
          ]
        },
        {
          "output_type": "stream",
          "name": "stderr",
          "text": [
            "The following generation flags are not valid and may be ignored: ['temperature', 'top_p']. Set `TRANSFORMERS_VERBOSITY=info` for more details.\n"
          ]
        },
        {
          "output_type": "stream",
          "name": "stdout",
          "text": [
            "Strategy 'ปิดฟ้าข้ามทะเล' เต็ม 27 แล้ว -> เปลี่ยนเป็น 'สลับแขกเป็นเจ้าบ้าน'\n",
            "  เกม 100: สลับแขกเป็นเจ้าบ้าน (รวม 4 อัน)\n",
            "  -> วิเคราะห์แล้ว 100 เกม\n",
            "  -> Strategy ที่เต็ม 27 แล้ว: 1 กลยุทธ์\n",
            "  -> บันทึกผลกลางแล้ว 100 เกม\n",
            "\n",
            "แบทช์ 11: กำลังวิเคราะห์เกม 101-110\n"
          ]
        },
        {
          "output_type": "stream",
          "name": "stderr",
          "text": [
            "The following generation flags are not valid and may be ignored: ['temperature', 'top_p']. Set `TRANSFORMERS_VERBOSITY=info` for more details.\n"
          ]
        },
        {
          "output_type": "stream",
          "name": "stdout",
          "text": [
            "Strategy 'ปิดฟ้าข้ามทะเล' เต็ม 27 แล้ว -> เปลี่ยนเป็น 'จูงแพะติดมือ'\n",
            "  เกม 101: จูงแพะติดมือ (รวม 3 อัน)\n"
          ]
        },
        {
          "output_type": "stream",
          "name": "stderr",
          "text": [
            "The following generation flags are not valid and may be ignored: ['temperature', 'top_p']. Set `TRANSFORMERS_VERBOSITY=info` for more details.\n"
          ]
        },
        {
          "output_type": "stream",
          "name": "stdout",
          "text": [
            "Strategy 'ปิดฟ้าข้ามทะเล' เต็ม 27 แล้ว -> เปลี่ยนเป็น 'สลับแขกเป็นเจ้าบ้าน'\n",
            "  เกม 102: สลับแขกเป็นเจ้าบ้าน (รวม 5 อัน)\n"
          ]
        },
        {
          "output_type": "stream",
          "name": "stderr",
          "text": [
            "The following generation flags are not valid and may be ignored: ['temperature', 'top_p']. Set `TRANSFORMERS_VERBOSITY=info` for more details.\n"
          ]
        },
        {
          "output_type": "stream",
          "name": "stdout",
          "text": [
            "Strategy 'ปิดฟ้าข้ามทะเล' เต็ม 27 แล้ว -> เปลี่ยนเป็น 'เปิดเมือง'\n",
            "  เกม 103: เปิดเมือง (รวม 2 อัน)\n"
          ]
        },
        {
          "output_type": "stream",
          "name": "stderr",
          "text": [
            "The following generation flags are not valid and may be ignored: ['temperature', 'top_p']. Set `TRANSFORMERS_VERBOSITY=info` for more details.\n"
          ]
        },
        {
          "output_type": "stream",
          "name": "stdout",
          "text": [
            "Strategy 'ปิดฟ้าข้ามทะเล' เต็ม 27 แล้ว -> เปลี่ยนเป็น 'ล้อมเวยช่วยจ้าว'\n",
            "  เกม 104: ล้อมเวยช่วยจ้าว (รวม 1 อัน)\n"
          ]
        },
        {
          "output_type": "stream",
          "name": "stderr",
          "text": [
            "The following generation flags are not valid and may be ignored: ['temperature', 'top_p']. Set `TRANSFORMERS_VERBOSITY=info` for more details.\n"
          ]
        },
        {
          "output_type": "stream",
          "name": "stdout",
          "text": [
            "Strategy 'ปิดฟ้าข้ามทะเล' เต็ม 27 แล้ว -> เปลี่ยนเป็น 'ลูกโซ่'\n",
            "  เกม 105: ลูกโซ่ (รวม 4 อัน)\n"
          ]
        },
        {
          "output_type": "stream",
          "name": "stderr",
          "text": [
            "The following generation flags are not valid and may be ignored: ['temperature', 'top_p']. Set `TRANSFORMERS_VERBOSITY=info` for more details.\n"
          ]
        },
        {
          "output_type": "stream",
          "name": "stdout",
          "text": [
            "Strategy 'ปิดฟ้าข้ามทะเล' เต็ม 27 แล้ว -> เปลี่ยนเป็น 'ปิดประตูจับโจร'\n",
            "  เกม 106: ปิดประตูจับโจร (รวม 3 อัน)\n"
          ]
        },
        {
          "output_type": "stream",
          "name": "stderr",
          "text": [
            "The following generation flags are not valid and may be ignored: ['temperature', 'top_p']. Set `TRANSFORMERS_VERBOSITY=info` for more details.\n"
          ]
        },
        {
          "output_type": "stream",
          "name": "stdout",
          "text": [
            "Strategy 'ปิดฟ้าข้ามทะเล' เต็ม 27 แล้ว -> เปลี่ยนเป็น 'โยนกระเบื้องล่อหยก'\n",
            "  เกม 107: โยนกระเบื้องล่อหยก (รวม 7 อัน)\n"
          ]
        },
        {
          "output_type": "stream",
          "name": "stderr",
          "text": [
            "The following generation flags are not valid and may be ignored: ['temperature', 'top_p']. Set `TRANSFORMERS_VERBOSITY=info` for more details.\n"
          ]
        },
        {
          "output_type": "stream",
          "name": "stdout",
          "text": [
            "Strategy 'ปิดฟ้าข้ามทะเล' เต็ม 27 แล้ว -> เปลี่ยนเป็น 'ลอบตีเฉินชาง'\n",
            "  เกม 108: ลอบตีเฉินชาง (รวม 4 อัน)\n"
          ]
        },
        {
          "output_type": "stream",
          "name": "stderr",
          "text": [
            "The following generation flags are not valid and may be ignored: ['temperature', 'top_p']. Set `TRANSFORMERS_VERBOSITY=info` for more details.\n"
          ]
        },
        {
          "output_type": "stream",
          "name": "stdout",
          "text": [
            "Strategy 'ปิดฟ้าข้ามทะเล' เต็ม 27 แล้ว -> เปลี่ยนเป็น 'ส่งเสียงบูรพาฝ่าตีประจิม'\n",
            "  เกม 109: ส่งเสียงบูรพาฝ่าตีประจิม (รวม 4 อัน)\n"
          ]
        },
        {
          "output_type": "stream",
          "name": "stderr",
          "text": [
            "The following generation flags are not valid and may be ignored: ['temperature', 'top_p']. Set `TRANSFORMERS_VERBOSITY=info` for more details.\n"
          ]
        },
        {
          "output_type": "stream",
          "name": "stdout",
          "text": [
            "Strategy 'ปิดฟ้าข้ามทะเล' เต็ม 27 แล้ว -> เปลี่ยนเป็น 'ไส้ศึก'\n",
            "  เกม 110: ไส้ศึก (รวม 3 อัน)\n",
            "  -> วิเคราะห์แล้ว 110 เกม\n",
            "  -> Strategy ที่เต็ม 27 แล้ว: 1 กลยุทธ์\n",
            "\n",
            "แบทช์ 12: กำลังวิเคราะห์เกม 111-120\n"
          ]
        },
        {
          "output_type": "stream",
          "name": "stderr",
          "text": [
            "The following generation flags are not valid and may be ignored: ['temperature', 'top_p']. Set `TRANSFORMERS_VERBOSITY=info` for more details.\n"
          ]
        },
        {
          "output_type": "stream",
          "name": "stdout",
          "text": [
            "Strategy 'ปิดฟ้าข้ามทะเล' เต็ม 27 แล้ว -> เปลี่ยนเป็น 'ส่งเสียงบูรพาฝ่าตีประจิม'\n",
            "  เกม 111: ส่งเสียงบูรพาฝ่าตีประจิม (รวม 5 อัน)\n"
          ]
        },
        {
          "output_type": "stream",
          "name": "stderr",
          "text": [
            "The following generation flags are not valid and may be ignored: ['temperature', 'top_p']. Set `TRANSFORMERS_VERBOSITY=info` for more details.\n"
          ]
        },
        {
          "output_type": "stream",
          "name": "stdout",
          "text": [
            "Strategy 'ปิดฟ้าข้ามทะเล' เต็ม 27 แล้ว -> เปลี่ยนเป็น 'มีในไม่มี'\n",
            "  เกม 112: มีในไม่มี (รวม 2 อัน)\n"
          ]
        },
        {
          "output_type": "stream",
          "name": "stderr",
          "text": [
            "The following generation flags are not valid and may be ignored: ['temperature', 'top_p']. Set `TRANSFORMERS_VERBOSITY=info` for more details.\n"
          ]
        },
        {
          "output_type": "stream",
          "name": "stdout",
          "text": [
            "Strategy 'ปิดฟ้าข้ามทะเล' เต็ม 27 แล้ว -> เปลี่ยนเป็น 'จักจั่นลอกคราบ'\n",
            "  เกม 113: จักจั่นลอกคราบ (รวม 2 อัน)\n"
          ]
        },
        {
          "output_type": "stream",
          "name": "stderr",
          "text": [
            "The following generation flags are not valid and may be ignored: ['temperature', 'top_p']. Set `TRANSFORMERS_VERBOSITY=info` for more details.\n"
          ]
        },
        {
          "output_type": "stream",
          "name": "stdout",
          "text": [
            "Strategy 'ปิดฟ้าข้ามทะเล' เต็ม 27 แล้ว -> เปลี่ยนเป็น 'ดูไฟชายฝั่ง'\n",
            "  เกม 114: ดูไฟชายฝั่ง (รวม 2 อัน)\n"
          ]
        },
        {
          "output_type": "stream",
          "name": "stderr",
          "text": [
            "The following generation flags are not valid and may be ignored: ['temperature', 'top_p']. Set `TRANSFORMERS_VERBOSITY=info` for more details.\n"
          ]
        },
        {
          "output_type": "stream",
          "name": "stdout",
          "text": [
            "Strategy 'ปิดฟ้าข้ามทะเล' เต็ม 27 แล้ว -> เปลี่ยนเป็น 'ส่งเสียงบูรพาฝ่าตีประจิม'\n",
            "  เกม 115: ส่งเสียงบูรพาฝ่าตีประจิม (รวม 6 อัน)\n"
          ]
        },
        {
          "output_type": "stream",
          "name": "stderr",
          "text": [
            "The following generation flags are not valid and may be ignored: ['temperature', 'top_p']. Set `TRANSFORMERS_VERBOSITY=info` for more details.\n"
          ]
        },
        {
          "output_type": "stream",
          "name": "stdout",
          "text": [
            "Strategy 'ปิดฟ้าข้ามทะเล' เต็ม 27 แล้ว -> เปลี่ยนเป็น 'จูงแพะติดมือ'\n",
            "  เกม 116: จูงแพะติดมือ (รวม 4 อัน)\n"
          ]
        },
        {
          "output_type": "stream",
          "name": "stderr",
          "text": [
            "The following generation flags are not valid and may be ignored: ['temperature', 'top_p']. Set `TRANSFORMERS_VERBOSITY=info` for more details.\n"
          ]
        },
        {
          "output_type": "stream",
          "name": "stdout",
          "text": [
            "Strategy 'ปิดฟ้าข้ามทะเล' เต็ม 27 แล้ว -> เปลี่ยนเป็น 'ปิดประตูจับโจร'\n",
            "  เกม 117: ปิดประตูจับโจร (รวม 4 อัน)\n"
          ]
        },
        {
          "output_type": "stream",
          "name": "stderr",
          "text": [
            "The following generation flags are not valid and may be ignored: ['temperature', 'top_p']. Set `TRANSFORMERS_VERBOSITY=info` for more details.\n"
          ]
        },
        {
          "output_type": "stream",
          "name": "stdout",
          "text": [
            "Strategy 'ปิดฟ้าข้ามทะเล' เต็ม 27 แล้ว -> เปลี่ยนเป็น 'มีในไม่มี'\n",
            "  เกม 118: มีในไม่มี (รวม 3 อัน)\n"
          ]
        },
        {
          "output_type": "stream",
          "name": "stderr",
          "text": [
            "The following generation flags are not valid and may be ignored: ['temperature', 'top_p']. Set `TRANSFORMERS_VERBOSITY=info` for more details.\n"
          ]
        },
        {
          "output_type": "stream",
          "name": "stdout",
          "text": [
            "Strategy 'ปิดฟ้าข้ามทะเล' เต็ม 27 แล้ว -> เปลี่ยนเป็น 'แสร้งปล่อยเพื่อจับ'\n",
            "  เกม 119: แสร้งปล่อยเพื่อจับ (รวม 4 อัน)\n"
          ]
        },
        {
          "output_type": "stream",
          "name": "stderr",
          "text": [
            "The following generation flags are not valid and may be ignored: ['temperature', 'top_p']. Set `TRANSFORMERS_VERBOSITY=info` for more details.\n"
          ]
        },
        {
          "output_type": "stream",
          "name": "stdout",
          "text": [
            "Strategy 'ปิดฟ้าข้ามทะเล' เต็ม 27 แล้ว -> เปลี่ยนเป็น 'กวนน้ำจับปลา'\n",
            "  เกม 120: กวนน้ำจับปลา (รวม 3 อัน)\n",
            "  -> วิเคราะห์แล้ว 120 เกม\n",
            "  -> Strategy ที่เต็ม 27 แล้ว: 1 กลยุทธ์\n",
            "\n",
            "แบทช์ 13: กำลังวิเคราะห์เกม 121-130\n"
          ]
        },
        {
          "output_type": "stream",
          "name": "stderr",
          "text": [
            "The following generation flags are not valid and may be ignored: ['temperature', 'top_p']. Set `TRANSFORMERS_VERBOSITY=info` for more details.\n"
          ]
        },
        {
          "output_type": "stream",
          "name": "stdout",
          "text": [
            "Strategy 'ปิดฟ้าข้ามทะเล' เต็ม 27 แล้ว -> เปลี่ยนเป็น 'ถอนฟืนใต้กระทะ'\n",
            "  เกม 121: ถอนฟืนใต้กระทะ (รวม 1 อัน)\n"
          ]
        },
        {
          "output_type": "stream",
          "name": "stderr",
          "text": [
            "The following generation flags are not valid and may be ignored: ['temperature', 'top_p']. Set `TRANSFORMERS_VERBOSITY=info` for more details.\n"
          ]
        },
        {
          "output_type": "stream",
          "name": "stdout",
          "text": [
            "Strategy 'ปิดฟ้าข้ามทะเล' เต็ม 27 แล้ว -> เปลี่ยนเป็น 'หลี่ตายแทนถาว'\n",
            "  เกม 122: หลี่ตายแทนถาว (รวม 1 อัน)\n"
          ]
        },
        {
          "output_type": "stream",
          "name": "stderr",
          "text": [
            "The following generation flags are not valid and may be ignored: ['temperature', 'top_p']. Set `TRANSFORMERS_VERBOSITY=info` for more details.\n"
          ]
        },
        {
          "output_type": "stream",
          "name": "stdout",
          "text": [
            "Strategy 'ปิดฟ้าข้ามทะเล' เต็ม 27 แล้ว -> เปลี่ยนเป็น 'หลี่ตายแทนถาว'\n",
            "  เกม 123: หลี่ตายแทนถาว (รวม 2 อัน)\n"
          ]
        },
        {
          "output_type": "stream",
          "name": "stderr",
          "text": [
            "The following generation flags are not valid and may be ignored: ['temperature', 'top_p']. Set `TRANSFORMERS_VERBOSITY=info` for more details.\n"
          ]
        },
        {
          "output_type": "stream",
          "name": "stdout",
          "text": [
            "Strategy 'ปิดฟ้าข้ามทะเล' เต็ม 27 แล้ว -> เปลี่ยนเป็น 'ถอนฟืนใต้กระทะ'\n",
            "  เกม 124: ถอนฟืนใต้กระทะ (รวม 2 อัน)\n"
          ]
        },
        {
          "output_type": "stream",
          "name": "stderr",
          "text": [
            "The following generation flags are not valid and may be ignored: ['temperature', 'top_p']. Set `TRANSFORMERS_VERBOSITY=info` for more details.\n"
          ]
        },
        {
          "output_type": "stream",
          "name": "stdout",
          "text": [
            "Strategy 'ปิดฟ้าข้ามทะเล' เต็ม 27 แล้ว -> เปลี่ยนเป็น 'มีในไม่มี'\n",
            "  เกม 125: มีในไม่มี (รวม 4 อัน)\n"
          ]
        },
        {
          "output_type": "stream",
          "name": "stderr",
          "text": [
            "The following generation flags are not valid and may be ignored: ['temperature', 'top_p']. Set `TRANSFORMERS_VERBOSITY=info` for more details.\n"
          ]
        },
        {
          "output_type": "stream",
          "name": "stdout",
          "text": [
            "Strategy 'ปิดฟ้าข้ามทะเล' เต็ม 27 แล้ว -> เปลี่ยนเป็น 'ยืมทางพรางกล'\n",
            "  เกม 126: ยืมทางพรางกล (รวม 2 อัน)\n"
          ]
        },
        {
          "output_type": "stream",
          "name": "stderr",
          "text": [
            "The following generation flags are not valid and may be ignored: ['temperature', 'top_p']. Set `TRANSFORMERS_VERBOSITY=info` for more details.\n"
          ]
        },
        {
          "output_type": "stream",
          "name": "stdout",
          "text": [
            "Strategy 'ปิดฟ้าข้ามทะเล' เต็ม 27 แล้ว -> เปลี่ยนเป็น 'ตีชิงตามไฟ'\n",
            "  เกม 127: ตีชิงตามไฟ (รวม 1 อัน)\n"
          ]
        },
        {
          "output_type": "stream",
          "name": "stderr",
          "text": [
            "The following generation flags are not valid and may be ignored: ['temperature', 'top_p']. Set `TRANSFORMERS_VERBOSITY=info` for more details.\n"
          ]
        },
        {
          "output_type": "stream",
          "name": "stdout",
          "text": [
            "Strategy 'ปิดฟ้าข้ามทะเล' เต็ม 27 แล้ว -> เปลี่ยนเป็น 'ลอบตีเฉินชาง'\n",
            "  เกม 128: ลอบตีเฉินชาง (รวม 5 อัน)\n"
          ]
        },
        {
          "output_type": "stream",
          "name": "stderr",
          "text": [
            "The following generation flags are not valid and may be ignored: ['temperature', 'top_p']. Set `TRANSFORMERS_VERBOSITY=info` for more details.\n"
          ]
        },
        {
          "output_type": "stream",
          "name": "stdout",
          "text": [
            "Strategy 'ปิดฟ้าข้ามทะเล' เต็ม 27 แล้ว -> เปลี่ยนเป็น 'ยืมดาบฆ่าคน'\n",
            "  เกม 129: ยืมดาบฆ่าคน (รวม 1 อัน)\n"
          ]
        },
        {
          "output_type": "stream",
          "name": "stderr",
          "text": [
            "The following generation flags are not valid and may be ignored: ['temperature', 'top_p']. Set `TRANSFORMERS_VERBOSITY=info` for more details.\n"
          ]
        },
        {
          "output_type": "stream",
          "name": "stdout",
          "text": [
            "Strategy 'ปิดฟ้าข้ามทะเล' เต็ม 27 แล้ว -> เปลี่ยนเป็น 'คบไกลตีใกล้'\n",
            "  เกม 130: คบไกลตีใกล้ (รวม 2 อัน)\n",
            "  -> วิเคราะห์แล้ว 130 เกม\n",
            "  -> Strategy ที่เต็ม 27 แล้ว: 1 กลยุทธ์\n",
            "\n",
            "แบทช์ 14: กำลังวิเคราะห์เกม 131-140\n"
          ]
        },
        {
          "output_type": "stream",
          "name": "stderr",
          "text": [
            "The following generation flags are not valid and may be ignored: ['temperature', 'top_p']. Set `TRANSFORMERS_VERBOSITY=info` for more details.\n"
          ]
        },
        {
          "output_type": "stream",
          "name": "stdout",
          "text": [
            "Strategy 'ปิดฟ้าข้ามทะเล' เต็ม 27 แล้ว -> เปลี่ยนเป็น 'สลับแขกเป็นเจ้าบ้าน'\n",
            "  เกม 131: สลับแขกเป็นเจ้าบ้าน (รวม 6 อัน)\n"
          ]
        },
        {
          "output_type": "stream",
          "name": "stderr",
          "text": [
            "The following generation flags are not valid and may be ignored: ['temperature', 'top_p']. Set `TRANSFORMERS_VERBOSITY=info` for more details.\n"
          ]
        },
        {
          "output_type": "stream",
          "name": "stdout",
          "text": [
            "Strategy 'ปิดฟ้าข้ามทะเล' เต็ม 27 แล้ว -> เปลี่ยนเป็น 'เปิดเมือง'\n",
            "  เกม 132: เปิดเมือง (รวม 3 อัน)\n"
          ]
        },
        {
          "output_type": "stream",
          "name": "stderr",
          "text": [
            "The following generation flags are not valid and may be ignored: ['temperature', 'top_p']. Set `TRANSFORMERS_VERBOSITY=info` for more details.\n"
          ]
        },
        {
          "output_type": "stream",
          "name": "stdout",
          "text": [
            "Strategy 'ปิดฟ้าข้ามทะเล' เต็ม 27 แล้ว -> เปลี่ยนเป็น 'มีในไม่มี'\n",
            "  เกม 133: มีในไม่มี (รวม 5 อัน)\n"
          ]
        },
        {
          "output_type": "stream",
          "name": "stderr",
          "text": [
            "The following generation flags are not valid and may be ignored: ['temperature', 'top_p']. Set `TRANSFORMERS_VERBOSITY=info` for more details.\n"
          ]
        },
        {
          "output_type": "stream",
          "name": "stdout",
          "text": [
            "Strategy 'ปิดฟ้าข้ามทะเล' เต็ม 27 แล้ว -> เปลี่ยนเป็น 'ล้อมเวยช่วยจ้าว'\n",
            "  เกม 134: ล้อมเวยช่วยจ้าว (รวม 2 อัน)\n"
          ]
        },
        {
          "output_type": "stream",
          "name": "stderr",
          "text": [
            "The following generation flags are not valid and may be ignored: ['temperature', 'top_p']. Set `TRANSFORMERS_VERBOSITY=info` for more details.\n"
          ]
        },
        {
          "output_type": "stream",
          "name": "stdout",
          "text": [
            "Strategy 'ปิดฟ้าข้ามทะเล' เต็ม 27 แล้ว -> เปลี่ยนเป็น 'รอซ้ำยามเปลี้ย'\n",
            "  เกม 135: รอซ้ำยามเปลี้ย (รวม 5 อัน)\n"
          ]
        },
        {
          "output_type": "stream",
          "name": "stderr",
          "text": [
            "The following generation flags are not valid and may be ignored: ['temperature', 'top_p']. Set `TRANSFORMERS_VERBOSITY=info` for more details.\n"
          ]
        },
        {
          "output_type": "stream",
          "name": "stdout",
          "text": [
            "Strategy 'ปิดฟ้าข้ามทะเล' เต็ม 27 แล้ว -> เปลี่ยนเป็น 'ทุกข์กาย'\n",
            "  เกม 136: ทุกข์กาย (รวม 2 อัน)\n"
          ]
        },
        {
          "output_type": "stream",
          "name": "stderr",
          "text": [
            "The following generation flags are not valid and may be ignored: ['temperature', 'top_p']. Set `TRANSFORMERS_VERBOSITY=info` for more details.\n"
          ]
        },
        {
          "output_type": "stream",
          "name": "stdout",
          "text": [
            "Strategy 'ปิดฟ้าข้ามทะเล' เต็ม 27 แล้ว -> เปลี่ยนเป็น 'จักจั่นลอกคราบ'\n",
            "  เกม 137: จักจั่นลอกคราบ (รวม 3 อัน)\n"
          ]
        },
        {
          "output_type": "stream",
          "name": "stderr",
          "text": [
            "The following generation flags are not valid and may be ignored: ['temperature', 'top_p']. Set `TRANSFORMERS_VERBOSITY=info` for more details.\n"
          ]
        },
        {
          "output_type": "stream",
          "name": "stdout",
          "text": [
            "Strategy 'ปิดฟ้าข้ามทะเล' เต็ม 27 แล้ว -> เปลี่ยนเป็น 'ทุกข์กาย'\n",
            "  เกม 138: ทุกข์กาย (รวม 3 อัน)\n"
          ]
        },
        {
          "output_type": "stream",
          "name": "stderr",
          "text": [
            "The following generation flags are not valid and may be ignored: ['temperature', 'top_p']. Set `TRANSFORMERS_VERBOSITY=info` for more details.\n"
          ]
        },
        {
          "output_type": "stream",
          "name": "stdout",
          "text": [
            "Strategy 'ปิดฟ้าข้ามทะเล' เต็ม 27 แล้ว -> เปลี่ยนเป็น 'หลี่ตายแทนถาว'\n",
            "  เกม 139: หลี่ตายแทนถาว (รวม 3 อัน)\n"
          ]
        },
        {
          "output_type": "stream",
          "name": "stderr",
          "text": [
            "The following generation flags are not valid and may be ignored: ['temperature', 'top_p']. Set `TRANSFORMERS_VERBOSITY=info` for more details.\n"
          ]
        },
        {
          "output_type": "stream",
          "name": "stdout",
          "text": [
            "Strategy 'ปิดฟ้าข้ามทะเล' เต็ม 27 แล้ว -> เปลี่ยนเป็น 'ล่อเสือออกจากถ้ำ'\n",
            "  เกม 140: ล่อเสือออกจากถ้ำ (รวม 5 อัน)\n",
            "  -> วิเคราะห์แล้ว 140 เกม\n",
            "  -> Strategy ที่เต็ม 27 แล้ว: 1 กลยุทธ์\n",
            "\n",
            "แบทช์ 15: กำลังวิเคราะห์เกม 141-150\n"
          ]
        },
        {
          "output_type": "stream",
          "name": "stderr",
          "text": [
            "The following generation flags are not valid and may be ignored: ['temperature', 'top_p']. Set `TRANSFORMERS_VERBOSITY=info` for more details.\n"
          ]
        },
        {
          "output_type": "stream",
          "name": "stdout",
          "text": [
            "Strategy 'ปิดฟ้าข้ามทะเล' เต็ม 27 แล้ว -> เปลี่ยนเป็น 'ลักขื่อเปลี่ยนเสา'\n",
            "  เกม 141: ลักขื่อเปลี่ยนเสา (รวม 3 อัน)\n"
          ]
        },
        {
          "output_type": "stream",
          "name": "stderr",
          "text": [
            "The following generation flags are not valid and may be ignored: ['temperature', 'top_p']. Set `TRANSFORMERS_VERBOSITY=info` for more details.\n"
          ]
        },
        {
          "output_type": "stream",
          "name": "stdout",
          "text": [
            "Strategy 'ปิดฟ้าข้ามทะเล' เต็ม 27 แล้ว -> เปลี่ยนเป็น 'เปิดเมือง'\n",
            "  เกม 142: เปิดเมือง (รวม 4 อัน)\n"
          ]
        },
        {
          "output_type": "stream",
          "name": "stderr",
          "text": [
            "The following generation flags are not valid and may be ignored: ['temperature', 'top_p']. Set `TRANSFORMERS_VERBOSITY=info` for more details.\n"
          ]
        },
        {
          "output_type": "stream",
          "name": "stdout",
          "text": [
            "Strategy 'ปิดฟ้าข้ามทะเล' เต็ม 27 แล้ว -> เปลี่ยนเป็น 'ตีหญ้าให้งูตื่น'\n",
            "  เกม 143: ตีหญ้าให้งูตื่น (รวม 4 อัน)\n"
          ]
        },
        {
          "output_type": "stream",
          "name": "stderr",
          "text": [
            "The following generation flags are not valid and may be ignored: ['temperature', 'top_p']. Set `TRANSFORMERS_VERBOSITY=info` for more details.\n"
          ]
        },
        {
          "output_type": "stream",
          "name": "stdout",
          "text": [
            "Strategy 'ปิดฟ้าข้ามทะเล' เต็ม 27 แล้ว -> เปลี่ยนเป็น 'ยืมทางพรางกล'\n",
            "  เกม 144: ยืมทางพรางกล (รวม 3 อัน)\n"
          ]
        },
        {
          "output_type": "stream",
          "name": "stderr",
          "text": [
            "The following generation flags are not valid and may be ignored: ['temperature', 'top_p']. Set `TRANSFORMERS_VERBOSITY=info` for more details.\n"
          ]
        },
        {
          "output_type": "stream",
          "name": "stdout",
          "text": [
            "Strategy 'ปิดฟ้าข้ามทะเล' เต็ม 27 แล้ว -> เปลี่ยนเป็น 'ขึ้นบ้านชักบันได'\n",
            "  เกม 145: ขึ้นบ้านชักบันได (รวม 3 อัน)\n"
          ]
        },
        {
          "output_type": "stream",
          "name": "stderr",
          "text": [
            "The following generation flags are not valid and may be ignored: ['temperature', 'top_p']. Set `TRANSFORMERS_VERBOSITY=info` for more details.\n"
          ]
        },
        {
          "output_type": "stream",
          "name": "stdout",
          "text": [
            "Strategy 'ปิดฟ้าข้ามทะเล' เต็ม 27 แล้ว -> เปลี่ยนเป็น 'เปิดเมือง'\n",
            "  เกม 146: เปิดเมือง (รวม 5 อัน)\n"
          ]
        },
        {
          "output_type": "stream",
          "name": "stderr",
          "text": [
            "The following generation flags are not valid and may be ignored: ['temperature', 'top_p']. Set `TRANSFORMERS_VERBOSITY=info` for more details.\n"
          ]
        },
        {
          "output_type": "stream",
          "name": "stdout",
          "text": [
            "Strategy 'ปิดฟ้าข้ามทะเล' เต็ม 27 แล้ว -> เปลี่ยนเป็น 'ส่งเสียงบูรพาฝ่าตีประจิม'\n",
            "  เกม 147: ส่งเสียงบูรพาฝ่าตีประจิม (รวม 7 อัน)\n"
          ]
        },
        {
          "output_type": "stream",
          "name": "stderr",
          "text": [
            "The following generation flags are not valid and may be ignored: ['temperature', 'top_p']. Set `TRANSFORMERS_VERBOSITY=info` for more details.\n"
          ]
        },
        {
          "output_type": "stream",
          "name": "stdout",
          "text": [
            "Strategy 'ปิดฟ้าข้ามทะเล' เต็ม 27 แล้ว -> เปลี่ยนเป็น 'ลูกโซ่'\n",
            "  เกม 148: ลูกโซ่ (รวม 5 อัน)\n"
          ]
        },
        {
          "output_type": "stream",
          "name": "stderr",
          "text": [
            "The following generation flags are not valid and may be ignored: ['temperature', 'top_p']. Set `TRANSFORMERS_VERBOSITY=info` for more details.\n"
          ]
        },
        {
          "output_type": "stream",
          "name": "stdout",
          "text": [
            "Strategy 'ปิดฟ้าข้ามทะเล' เต็ม 27 แล้ว -> เปลี่ยนเป็น 'จับโจรเอาหัวโจก'\n",
            "  เกม 149: จับโจรเอาหัวโจก (รวม 3 อัน)\n"
          ]
        },
        {
          "output_type": "stream",
          "name": "stderr",
          "text": [
            "The following generation flags are not valid and may be ignored: ['temperature', 'top_p']. Set `TRANSFORMERS_VERBOSITY=info` for more details.\n"
          ]
        },
        {
          "output_type": "stream",
          "name": "stdout",
          "text": [
            "Strategy 'ปิดฟ้าข้ามทะเล' เต็ม 27 แล้ว -> เปลี่ยนเป็น 'จักจั่นลอกคราบ'\n",
            "  เกม 150: จักจั่นลอกคราบ (รวม 4 อัน)\n",
            "  -> วิเคราะห์แล้ว 150 เกม\n",
            "  -> Strategy ที่เต็ม 27 แล้ว: 1 กลยุทธ์\n",
            "\n",
            "แบทช์ 16: กำลังวิเคราะห์เกม 151-160\n"
          ]
        },
        {
          "output_type": "stream",
          "name": "stderr",
          "text": [
            "The following generation flags are not valid and may be ignored: ['temperature', 'top_p']. Set `TRANSFORMERS_VERBOSITY=info` for more details.\n"
          ]
        },
        {
          "output_type": "stream",
          "name": "stdout",
          "text": [
            "Strategy 'ปิดฟ้าข้ามทะเล' เต็ม 27 แล้ว -> เปลี่ยนเป็น 'แสร้งปล่อยเพื่อจับ'\n",
            "  เกม 151: แสร้งปล่อยเพื่อจับ (รวม 5 อัน)\n"
          ]
        },
        {
          "output_type": "stream",
          "name": "stderr",
          "text": [
            "The following generation flags are not valid and may be ignored: ['temperature', 'top_p']. Set `TRANSFORMERS_VERBOSITY=info` for more details.\n"
          ]
        },
        {
          "output_type": "stream",
          "name": "stdout",
          "text": [
            "Strategy 'ปิดฟ้าข้ามทะเล' เต็ม 27 แล้ว -> เปลี่ยนเป็น 'ทุกข์กาย'\n",
            "  เกม 152: ทุกข์กาย (รวม 4 อัน)\n"
          ]
        },
        {
          "output_type": "stream",
          "name": "stderr",
          "text": [
            "The following generation flags are not valid and may be ignored: ['temperature', 'top_p']. Set `TRANSFORMERS_VERBOSITY=info` for more details.\n"
          ]
        },
        {
          "output_type": "stream",
          "name": "stdout",
          "text": [
            "Strategy 'ปิดฟ้าข้ามทะเล' เต็ม 27 แล้ว -> เปลี่ยนเป็น 'ยืมทางพรางกล'\n",
            "  เกม 153: ยืมทางพรางกล (รวม 4 อัน)\n"
          ]
        },
        {
          "output_type": "stream",
          "name": "stderr",
          "text": [
            "The following generation flags are not valid and may be ignored: ['temperature', 'top_p']. Set `TRANSFORMERS_VERBOSITY=info` for more details.\n"
          ]
        },
        {
          "output_type": "stream",
          "name": "stdout",
          "text": [
            "Strategy 'ปิดฟ้าข้ามทะเล' เต็ม 27 แล้ว -> เปลี่ยนเป็น 'จับโจรเอาหัวโจก'\n",
            "  เกม 154: จับโจรเอาหัวโจก (รวม 4 อัน)\n"
          ]
        },
        {
          "output_type": "stream",
          "name": "stderr",
          "text": [
            "The following generation flags are not valid and may be ignored: ['temperature', 'top_p']. Set `TRANSFORMERS_VERBOSITY=info` for more details.\n"
          ]
        },
        {
          "output_type": "stream",
          "name": "stdout",
          "text": [
            "Strategy 'ปิดฟ้าข้ามทะเล' เต็ม 27 แล้ว -> เปลี่ยนเป็น 'แสร้งทำบอแต่ไม่บ้า'\n",
            "  เกม 155: แสร้งทำบอแต่ไม่บ้า (รวม 4 อัน)\n"
          ]
        },
        {
          "output_type": "stream",
          "name": "stderr",
          "text": [
            "The following generation flags are not valid and may be ignored: ['temperature', 'top_p']. Set `TRANSFORMERS_VERBOSITY=info` for more details.\n"
          ]
        },
        {
          "output_type": "stream",
          "name": "stdout",
          "text": [
            "Strategy 'ปิดฟ้าข้ามทะเล' เต็ม 27 แล้ว -> เปลี่ยนเป็น 'ชี้ต้นหม่อนด่าต้นไหว'\n",
            "  เกม 156: ชี้ต้นหม่อนด่าต้นไหว (รวม 2 อัน)\n"
          ]
        },
        {
          "output_type": "stream",
          "name": "stderr",
          "text": [
            "The following generation flags are not valid and may be ignored: ['temperature', 'top_p']. Set `TRANSFORMERS_VERBOSITY=info` for more details.\n"
          ]
        },
        {
          "output_type": "stream",
          "name": "stdout",
          "text": [
            "Strategy 'ปิดฟ้าข้ามทะเล' เต็ม 27 แล้ว -> เปลี่ยนเป็น 'หลี่ตายแทนถาว'\n",
            "  เกม 157: หลี่ตายแทนถาว (รวม 4 อัน)\n"
          ]
        },
        {
          "output_type": "stream",
          "name": "stderr",
          "text": [
            "The following generation flags are not valid and may be ignored: ['temperature', 'top_p']. Set `TRANSFORMERS_VERBOSITY=info` for more details.\n"
          ]
        },
        {
          "output_type": "stream",
          "name": "stdout",
          "text": [
            "Strategy 'ปิดฟ้าข้ามทะเล' เต็ม 27 แล้ว -> เปลี่ยนเป็น 'ล่อเสือออกจากถ้ำ'\n",
            "  เกม 158: ล่อเสือออกจากถ้ำ (รวม 6 อัน)\n"
          ]
        },
        {
          "output_type": "stream",
          "name": "stderr",
          "text": [
            "The following generation flags are not valid and may be ignored: ['temperature', 'top_p']. Set `TRANSFORMERS_VERBOSITY=info` for more details.\n"
          ]
        },
        {
          "output_type": "stream",
          "name": "stdout",
          "text": [
            "Strategy 'ปิดฟ้าข้ามทะเล' เต็ม 27 แล้ว -> เปลี่ยนเป็น 'ขึ้นบ้านชักบันได'\n",
            "  เกม 159: ขึ้นบ้านชักบันได (รวม 4 อัน)\n"
          ]
        },
        {
          "output_type": "stream",
          "name": "stderr",
          "text": [
            "The following generation flags are not valid and may be ignored: ['temperature', 'top_p']. Set `TRANSFORMERS_VERBOSITY=info` for more details.\n"
          ]
        },
        {
          "output_type": "stream",
          "name": "stdout",
          "text": [
            "Strategy 'ปิดฟ้าข้ามทะเล' เต็ม 27 แล้ว -> เปลี่ยนเป็น 'ทุกข์กาย'\n",
            "  เกม 160: ทุกข์กาย (รวม 5 อัน)\n",
            "  -> วิเคราะห์แล้ว 160 เกม\n",
            "  -> Strategy ที่เต็ม 27 แล้ว: 1 กลยุทธ์\n",
            "\n",
            "แบทช์ 17: กำลังวิเคราะห์เกม 161-170\n"
          ]
        },
        {
          "output_type": "stream",
          "name": "stderr",
          "text": [
            "The following generation flags are not valid and may be ignored: ['temperature', 'top_p']. Set `TRANSFORMERS_VERBOSITY=info` for more details.\n"
          ]
        },
        {
          "output_type": "stream",
          "name": "stdout",
          "text": [
            "Strategy 'ปิดฟ้าข้ามทะเล' เต็ม 27 แล้ว -> เปลี่ยนเป็น 'แสร้งทำบอแต่ไม่บ้า'\n",
            "  เกม 161: แสร้งทำบอแต่ไม่บ้า (รวม 5 อัน)\n"
          ]
        },
        {
          "output_type": "stream",
          "name": "stderr",
          "text": [
            "The following generation flags are not valid and may be ignored: ['temperature', 'top_p']. Set `TRANSFORMERS_VERBOSITY=info` for more details.\n"
          ]
        },
        {
          "output_type": "stream",
          "name": "stdout",
          "text": [
            "Strategy 'ปิดฟ้าข้ามทะเล' เต็ม 27 แล้ว -> เปลี่ยนเป็น 'ลักขื่อเปลี่ยนเสา'\n",
            "  เกม 162: ลักขื่อเปลี่ยนเสา (รวม 4 อัน)\n"
          ]
        },
        {
          "output_type": "stream",
          "name": "stderr",
          "text": [
            "The following generation flags are not valid and may be ignored: ['temperature', 'top_p']. Set `TRANSFORMERS_VERBOSITY=info` for more details.\n"
          ]
        },
        {
          "output_type": "stream",
          "name": "stdout",
          "text": [
            "Strategy 'ปิดฟ้าข้ามทะเล' เต็ม 27 แล้ว -> เปลี่ยนเป็น 'กวนน้ำจับปลา'\n",
            "  เกม 163: กวนน้ำจับปลา (รวม 4 อัน)\n"
          ]
        },
        {
          "output_type": "stream",
          "name": "stderr",
          "text": [
            "The following generation flags are not valid and may be ignored: ['temperature', 'top_p']. Set `TRANSFORMERS_VERBOSITY=info` for more details.\n"
          ]
        },
        {
          "output_type": "stream",
          "name": "stdout",
          "text": [
            "Strategy 'ปิดฟ้าข้ามทะเล' เต็ม 27 แล้ว -> เปลี่ยนเป็น 'ขึ้นบ้านชักบันได'\n",
            "  เกม 164: ขึ้นบ้านชักบันได (รวม 5 อัน)\n"
          ]
        },
        {
          "output_type": "stream",
          "name": "stderr",
          "text": [
            "The following generation flags are not valid and may be ignored: ['temperature', 'top_p']. Set `TRANSFORMERS_VERBOSITY=info` for more details.\n"
          ]
        },
        {
          "output_type": "stream",
          "name": "stdout",
          "text": [
            "Strategy 'ปิดฟ้าข้ามทะเล' เต็ม 27 แล้ว -> เปลี่ยนเป็น 'ล้อมเวยช่วยจ้าว'\n",
            "  เกม 165: ล้อมเวยช่วยจ้าว (รวม 3 อัน)\n"
          ]
        },
        {
          "output_type": "stream",
          "name": "stderr",
          "text": [
            "The following generation flags are not valid and may be ignored: ['temperature', 'top_p']. Set `TRANSFORMERS_VERBOSITY=info` for more details.\n"
          ]
        },
        {
          "output_type": "stream",
          "name": "stdout",
          "text": [
            "Strategy 'ปิดฟ้าข้ามทะเล' เต็ม 27 แล้ว -> เปลี่ยนเป็น 'ล่อเสือออกจากถ้ำ'\n",
            "  เกม 166: ล่อเสือออกจากถ้ำ (รวม 7 อัน)\n"
          ]
        },
        {
          "output_type": "stream",
          "name": "stderr",
          "text": [
            "The following generation flags are not valid and may be ignored: ['temperature', 'top_p']. Set `TRANSFORMERS_VERBOSITY=info` for more details.\n"
          ]
        },
        {
          "output_type": "stream",
          "name": "stdout",
          "text": [
            "Strategy 'ปิดฟ้าข้ามทะเล' เต็ม 27 แล้ว -> เปลี่ยนเป็น 'ชี้ต้นหม่อนด่าต้นไหว'\n",
            "  เกม 167: ชี้ต้นหม่อนด่าต้นไหว (รวม 3 อัน)\n"
          ]
        },
        {
          "output_type": "stream",
          "name": "stderr",
          "text": [
            "The following generation flags are not valid and may be ignored: ['temperature', 'top_p']. Set `TRANSFORMERS_VERBOSITY=info` for more details.\n"
          ]
        },
        {
          "output_type": "stream",
          "name": "stdout",
          "text": [
            "Strategy 'ปิดฟ้าข้ามทะเล' เต็ม 27 แล้ว -> เปลี่ยนเป็น 'ปิดประตูจับโจร'\n",
            "  เกม 168: ปิดประตูจับโจร (รวม 5 อัน)\n"
          ]
        },
        {
          "output_type": "stream",
          "name": "stderr",
          "text": [
            "The following generation flags are not valid and may be ignored: ['temperature', 'top_p']. Set `TRANSFORMERS_VERBOSITY=info` for more details.\n"
          ]
        },
        {
          "output_type": "stream",
          "name": "stdout",
          "text": [
            "Strategy 'ปิดฟ้าข้ามทะเล' เต็ม 27 แล้ว -> เปลี่ยนเป็น 'โยนกระเบื้องล่อหยก'\n",
            "  เกม 169: โยนกระเบื้องล่อหยก (รวม 8 อัน)\n"
          ]
        },
        {
          "output_type": "stream",
          "name": "stderr",
          "text": [
            "The following generation flags are not valid and may be ignored: ['temperature', 'top_p']. Set `TRANSFORMERS_VERBOSITY=info` for more details.\n"
          ]
        },
        {
          "output_type": "stream",
          "name": "stdout",
          "text": [
            "Strategy 'ปิดฟ้าข้ามทะเล' เต็ม 27 แล้ว -> เปลี่ยนเป็น 'ตีชิงตามไฟ'\n",
            "  เกม 170: ตีชิงตามไฟ (รวม 2 อัน)\n",
            "  -> วิเคราะห์แล้ว 170 เกม\n",
            "  -> Strategy ที่เต็ม 27 แล้ว: 1 กลยุทธ์\n",
            "\n",
            "แบทช์ 18: กำลังวิเคราะห์เกม 171-180\n"
          ]
        },
        {
          "output_type": "stream",
          "name": "stderr",
          "text": [
            "The following generation flags are not valid and may be ignored: ['temperature', 'top_p']. Set `TRANSFORMERS_VERBOSITY=info` for more details.\n"
          ]
        },
        {
          "output_type": "stream",
          "name": "stdout",
          "text": [
            "Strategy 'ปิดฟ้าข้ามทะเล' เต็ม 27 แล้ว -> เปลี่ยนเป็น 'ทุกข์กาย'\n",
            "  เกม 171: ทุกข์กาย (รวม 6 อัน)\n"
          ]
        },
        {
          "output_type": "stream",
          "name": "stderr",
          "text": [
            "The following generation flags are not valid and may be ignored: ['temperature', 'top_p']. Set `TRANSFORMERS_VERBOSITY=info` for more details.\n"
          ]
        },
        {
          "output_type": "stream",
          "name": "stdout",
          "text": [
            "Strategy 'ปิดฟ้าข้ามทะเล' เต็ม 27 แล้ว -> เปลี่ยนเป็น 'ล่อเสือออกจากถ้ำ'\n",
            "  เกม 172: ล่อเสือออกจากถ้ำ (รวม 8 อัน)\n"
          ]
        },
        {
          "output_type": "stream",
          "name": "stderr",
          "text": [
            "The following generation flags are not valid and may be ignored: ['temperature', 'top_p']. Set `TRANSFORMERS_VERBOSITY=info` for more details.\n"
          ]
        },
        {
          "output_type": "stream",
          "name": "stdout",
          "text": [
            "Strategy 'ปิดฟ้าข้ามทะเล' เต็ม 27 แล้ว -> เปลี่ยนเป็น 'หลบหนี'\n",
            "  เกม 173: หลบหนี (รวม 4 อัน)\n"
          ]
        },
        {
          "output_type": "stream",
          "name": "stderr",
          "text": [
            "The following generation flags are not valid and may be ignored: ['temperature', 'top_p']. Set `TRANSFORMERS_VERBOSITY=info` for more details.\n"
          ]
        },
        {
          "output_type": "stream",
          "name": "stdout",
          "text": [
            "Strategy 'ปิดฟ้าข้ามทะเล' เต็ม 27 แล้ว -> เปลี่ยนเป็น 'ซ่อนดาบในรอยยิ้ม'\n",
            "  เกม 174: ซ่อนดาบในรอยยิ้ม (รวม 4 อัน)\n"
          ]
        },
        {
          "output_type": "stream",
          "name": "stderr",
          "text": [
            "The following generation flags are not valid and may be ignored: ['temperature', 'top_p']. Set `TRANSFORMERS_VERBOSITY=info` for more details.\n"
          ]
        },
        {
          "output_type": "stream",
          "name": "stdout",
          "text": [
            "Strategy 'ปิดฟ้าข้ามทะเล' เต็ม 27 แล้ว -> เปลี่ยนเป็น 'ยืมซากคืนชีพ'\n",
            "  เกม 175: ยืมซากคืนชีพ (รวม 4 อัน)\n"
          ]
        },
        {
          "output_type": "stream",
          "name": "stderr",
          "text": [
            "The following generation flags are not valid and may be ignored: ['temperature', 'top_p']. Set `TRANSFORMERS_VERBOSITY=info` for more details.\n"
          ]
        },
        {
          "output_type": "stream",
          "name": "stdout",
          "text": [
            "Strategy 'ปิดฟ้าข้ามทะเล' เต็ม 27 แล้ว -> เปลี่ยนเป็น 'ไส้ศึก'\n",
            "  เกม 176: ไส้ศึก (รวม 4 อัน)\n"
          ]
        },
        {
          "output_type": "stream",
          "name": "stderr",
          "text": [
            "The following generation flags are not valid and may be ignored: ['temperature', 'top_p']. Set `TRANSFORMERS_VERBOSITY=info` for more details.\n"
          ]
        },
        {
          "output_type": "stream",
          "name": "stdout",
          "text": [
            "Strategy 'ปิดฟ้าข้ามทะเล' เต็ม 27 แล้ว -> เปลี่ยนเป็น 'โยนกระเบื้องล่อหยก'\n",
            "  เกม 177: โยนกระเบื้องล่อหยก (รวม 9 อัน)\n"
          ]
        },
        {
          "output_type": "stream",
          "name": "stderr",
          "text": [
            "The following generation flags are not valid and may be ignored: ['temperature', 'top_p']. Set `TRANSFORMERS_VERBOSITY=info` for more details.\n"
          ]
        },
        {
          "output_type": "stream",
          "name": "stdout",
          "text": [
            "Strategy 'ปิดฟ้าข้ามทะเล' เต็ม 27 แล้ว -> เปลี่ยนเป็น 'สลับแขกเป็นเจ้าบ้าน'\n",
            "  เกม 178: สลับแขกเป็นเจ้าบ้าน (รวม 7 อัน)\n"
          ]
        },
        {
          "output_type": "stream",
          "name": "stderr",
          "text": [
            "The following generation flags are not valid and may be ignored: ['temperature', 'top_p']. Set `TRANSFORMERS_VERBOSITY=info` for more details.\n"
          ]
        },
        {
          "output_type": "stream",
          "name": "stdout",
          "text": [
            "Strategy 'ปิดฟ้าข้ามทะเล' เต็ม 27 แล้ว -> เปลี่ยนเป็น 'คบไกลตีใกล้'\n",
            "  เกม 179: คบไกลตีใกล้ (รวม 3 อัน)\n"
          ]
        },
        {
          "output_type": "stream",
          "name": "stderr",
          "text": [
            "The following generation flags are not valid and may be ignored: ['temperature', 'top_p']. Set `TRANSFORMERS_VERBOSITY=info` for more details.\n"
          ]
        },
        {
          "output_type": "stream",
          "name": "stdout",
          "text": [
            "Strategy 'ปิดฟ้าข้ามทะเล' เต็ม 27 แล้ว -> เปลี่ยนเป็น 'ลูกโซ่'\n",
            "  เกม 180: ลูกโซ่ (รวม 6 อัน)\n",
            "  -> วิเคราะห์แล้ว 180 เกม\n",
            "  -> Strategy ที่เต็ม 27 แล้ว: 1 กลยุทธ์\n",
            "\n",
            "แบทช์ 19: กำลังวิเคราะห์เกม 181-190\n"
          ]
        },
        {
          "output_type": "stream",
          "name": "stderr",
          "text": [
            "The following generation flags are not valid and may be ignored: ['temperature', 'top_p']. Set `TRANSFORMERS_VERBOSITY=info` for more details.\n"
          ]
        },
        {
          "output_type": "stream",
          "name": "stdout",
          "text": [
            "Strategy 'ปิดฟ้าข้ามทะเล' เต็ม 27 แล้ว -> เปลี่ยนเป็น 'โยนกระเบื้องล่อหยก'\n",
            "  เกม 181: โยนกระเบื้องล่อหยก (รวม 10 อัน)\n"
          ]
        },
        {
          "output_type": "stream",
          "name": "stderr",
          "text": [
            "The following generation flags are not valid and may be ignored: ['temperature', 'top_p']. Set `TRANSFORMERS_VERBOSITY=info` for more details.\n"
          ]
        },
        {
          "output_type": "stream",
          "name": "stdout",
          "text": [
            "Strategy 'ปิดฟ้าข้ามทะเล' เต็ม 27 แล้ว -> เปลี่ยนเป็น 'จูงแพะติดมือ'\n",
            "  เกม 182: จูงแพะติดมือ (รวม 5 อัน)\n"
          ]
        },
        {
          "output_type": "stream",
          "name": "stderr",
          "text": [
            "The following generation flags are not valid and may be ignored: ['temperature', 'top_p']. Set `TRANSFORMERS_VERBOSITY=info` for more details.\n"
          ]
        },
        {
          "output_type": "stream",
          "name": "stdout",
          "text": [
            "Strategy 'ปิดฟ้าข้ามทะเล' เต็ม 27 แล้ว -> เปลี่ยนเป็น 'ลอบตีเฉินชาง'\n",
            "  เกม 183: ลอบตีเฉินชาง (รวม 6 อัน)\n"
          ]
        },
        {
          "output_type": "stream",
          "name": "stderr",
          "text": [
            "The following generation flags are not valid and may be ignored: ['temperature', 'top_p']. Set `TRANSFORMERS_VERBOSITY=info` for more details.\n"
          ]
        },
        {
          "output_type": "stream",
          "name": "stdout",
          "text": [
            "Strategy 'ปิดฟ้าข้ามทะเล' เต็ม 27 แล้ว -> เปลี่ยนเป็น 'ยืมดาบฆ่าคน'\n",
            "  เกม 184: ยืมดาบฆ่าคน (รวม 2 อัน)\n"
          ]
        },
        {
          "output_type": "stream",
          "name": "stderr",
          "text": [
            "The following generation flags are not valid and may be ignored: ['temperature', 'top_p']. Set `TRANSFORMERS_VERBOSITY=info` for more details.\n"
          ]
        },
        {
          "output_type": "stream",
          "name": "stdout",
          "text": [
            "Strategy 'ปิดฟ้าข้ามทะเล' เต็ม 27 แล้ว -> เปลี่ยนเป็น 'จับโจรเอาหัวโจก'\n",
            "  เกม 185: จับโจรเอาหัวโจก (รวม 5 อัน)\n"
          ]
        },
        {
          "output_type": "stream",
          "name": "stderr",
          "text": [
            "The following generation flags are not valid and may be ignored: ['temperature', 'top_p']. Set `TRANSFORMERS_VERBOSITY=info` for more details.\n"
          ]
        },
        {
          "output_type": "stream",
          "name": "stdout",
          "text": [
            "Strategy 'ปิดฟ้าข้ามทะเล' เต็ม 27 แล้ว -> เปลี่ยนเป็น 'กวนน้ำจับปลา'\n",
            "  เกม 186: กวนน้ำจับปลา (รวม 5 อัน)\n"
          ]
        },
        {
          "output_type": "stream",
          "name": "stderr",
          "text": [
            "The following generation flags are not valid and may be ignored: ['temperature', 'top_p']. Set `TRANSFORMERS_VERBOSITY=info` for more details.\n"
          ]
        },
        {
          "output_type": "stream",
          "name": "stdout",
          "text": [
            "Strategy 'ปิดฟ้าข้ามทะเล' เต็ม 27 แล้ว -> เปลี่ยนเป็น 'หลี่ตายแทนถาว'\n",
            "  เกม 187: หลี่ตายแทนถาว (รวม 5 อัน)\n"
          ]
        },
        {
          "output_type": "stream",
          "name": "stderr",
          "text": [
            "The following generation flags are not valid and may be ignored: ['temperature', 'top_p']. Set `TRANSFORMERS_VERBOSITY=info` for more details.\n"
          ]
        },
        {
          "output_type": "stream",
          "name": "stdout",
          "text": [
            "Strategy 'ปิดฟ้าข้ามทะเล' เต็ม 27 แล้ว -> เปลี่ยนเป็น 'กวนน้ำจับปลา'\n",
            "  เกม 188: กวนน้ำจับปลา (รวม 6 อัน)\n"
          ]
        },
        {
          "output_type": "stream",
          "name": "stderr",
          "text": [
            "The following generation flags are not valid and may be ignored: ['temperature', 'top_p']. Set `TRANSFORMERS_VERBOSITY=info` for more details.\n"
          ]
        },
        {
          "output_type": "stream",
          "name": "stdout",
          "text": [
            "Strategy 'ปิดฟ้าข้ามทะเล' เต็ม 27 แล้ว -> เปลี่ยนเป็น 'ปิดประตูจับโจร'\n",
            "  เกม 189: ปิดประตูจับโจร (รวม 6 อัน)\n"
          ]
        },
        {
          "output_type": "stream",
          "name": "stderr",
          "text": [
            "The following generation flags are not valid and may be ignored: ['temperature', 'top_p']. Set `TRANSFORMERS_VERBOSITY=info` for more details.\n"
          ]
        },
        {
          "output_type": "stream",
          "name": "stdout",
          "text": [
            "Strategy 'ปิดฟ้าข้ามทะเล' เต็ม 27 แล้ว -> เปลี่ยนเป็น 'ปิดประตูจับโจร'\n",
            "  เกม 190: ปิดประตูจับโจร (รวม 7 อัน)\n",
            "  -> วิเคราะห์แล้ว 190 เกม\n",
            "  -> Strategy ที่เต็ม 27 แล้ว: 1 กลยุทธ์\n",
            "\n",
            "แบทช์ 20: กำลังวิเคราะห์เกม 191-200\n"
          ]
        },
        {
          "output_type": "stream",
          "name": "stderr",
          "text": [
            "The following generation flags are not valid and may be ignored: ['temperature', 'top_p']. Set `TRANSFORMERS_VERBOSITY=info` for more details.\n"
          ]
        },
        {
          "output_type": "stream",
          "name": "stdout",
          "text": [
            "Strategy 'ปิดฟ้าข้ามทะเล' เต็ม 27 แล้ว -> เปลี่ยนเป็น 'กวนน้ำจับปลา'\n",
            "  เกม 191: กวนน้ำจับปลา (รวม 7 อัน)\n"
          ]
        },
        {
          "output_type": "stream",
          "name": "stderr",
          "text": [
            "The following generation flags are not valid and may be ignored: ['temperature', 'top_p']. Set `TRANSFORMERS_VERBOSITY=info` for more details.\n"
          ]
        },
        {
          "output_type": "stream",
          "name": "stdout",
          "text": [
            "Strategy 'ปิดฟ้าข้ามทะเล' เต็ม 27 แล้ว -> เปลี่ยนเป็น 'ถอนฟืนใต้กระทะ'\n",
            "  เกม 192: ถอนฟืนใต้กระทะ (รวม 3 อัน)\n"
          ]
        },
        {
          "output_type": "stream",
          "name": "stderr",
          "text": [
            "The following generation flags are not valid and may be ignored: ['temperature', 'top_p']. Set `TRANSFORMERS_VERBOSITY=info` for more details.\n"
          ]
        },
        {
          "output_type": "stream",
          "name": "stdout",
          "text": [
            "Strategy 'ปิดฟ้าข้ามทะเล' เต็ม 27 แล้ว -> เปลี่ยนเป็น 'จับโจรเอาหัวโจก'\n",
            "  เกม 193: จับโจรเอาหัวโจก (รวม 6 อัน)\n"
          ]
        },
        {
          "output_type": "stream",
          "name": "stderr",
          "text": [
            "The following generation flags are not valid and may be ignored: ['temperature', 'top_p']. Set `TRANSFORMERS_VERBOSITY=info` for more details.\n"
          ]
        },
        {
          "output_type": "stream",
          "name": "stdout",
          "text": [
            "Strategy 'ปิดฟ้าข้ามทะเล' เต็ม 27 แล้ว -> เปลี่ยนเป็น 'ดูไฟชายฝั่ง'\n",
            "  เกม 194: ดูไฟชายฝั่ง (รวม 3 อัน)\n"
          ]
        },
        {
          "output_type": "stream",
          "name": "stderr",
          "text": [
            "The following generation flags are not valid and may be ignored: ['temperature', 'top_p']. Set `TRANSFORMERS_VERBOSITY=info` for more details.\n"
          ]
        },
        {
          "output_type": "stream",
          "name": "stdout",
          "text": [
            "Strategy 'ปิดฟ้าข้ามทะเล' เต็ม 27 แล้ว -> เปลี่ยนเป็น 'ทุกข์กาย'\n",
            "  เกม 195: ทุกข์กาย (รวม 7 อัน)\n"
          ]
        },
        {
          "output_type": "stream",
          "name": "stderr",
          "text": [
            "The following generation flags are not valid and may be ignored: ['temperature', 'top_p']. Set `TRANSFORMERS_VERBOSITY=info` for more details.\n"
          ]
        },
        {
          "output_type": "stream",
          "name": "stdout",
          "text": [
            "Strategy 'ปิดฟ้าข้ามทะเล' เต็ม 27 แล้ว -> เปลี่ยนเป็น 'ตีหญ้าให้งูตื่น'\n",
            "  เกม 196: ตีหญ้าให้งูตื่น (รวม 5 อัน)\n"
          ]
        },
        {
          "output_type": "stream",
          "name": "stderr",
          "text": [
            "The following generation flags are not valid and may be ignored: ['temperature', 'top_p']. Set `TRANSFORMERS_VERBOSITY=info` for more details.\n"
          ]
        },
        {
          "output_type": "stream",
          "name": "stdout",
          "text": [
            "Strategy 'ปิดฟ้าข้ามทะเล' เต็ม 27 แล้ว -> เปลี่ยนเป็น 'กวนน้ำจับปลา'\n",
            "  เกม 197: กวนน้ำจับปลา (รวม 8 อัน)\n"
          ]
        },
        {
          "output_type": "stream",
          "name": "stderr",
          "text": [
            "The following generation flags are not valid and may be ignored: ['temperature', 'top_p']. Set `TRANSFORMERS_VERBOSITY=info` for more details.\n"
          ]
        },
        {
          "output_type": "stream",
          "name": "stdout",
          "text": [
            "Strategy 'ปิดฟ้าข้ามทะเล' เต็ม 27 แล้ว -> เปลี่ยนเป็น 'คบไกลตีใกล้'\n",
            "  เกม 198: คบไกลตีใกล้ (รวม 4 อัน)\n"
          ]
        },
        {
          "output_type": "stream",
          "name": "stderr",
          "text": [
            "The following generation flags are not valid and may be ignored: ['temperature', 'top_p']. Set `TRANSFORMERS_VERBOSITY=info` for more details.\n"
          ]
        },
        {
          "output_type": "stream",
          "name": "stdout",
          "text": [
            "Strategy 'ปิดฟ้าข้ามทะเล' เต็ม 27 แล้ว -> เปลี่ยนเป็น 'สลับแขกเป็นเจ้าบ้าน'\n",
            "  เกม 199: สลับแขกเป็นเจ้าบ้าน (รวม 8 อัน)\n"
          ]
        },
        {
          "output_type": "stream",
          "name": "stderr",
          "text": [
            "The following generation flags are not valid and may be ignored: ['temperature', 'top_p']. Set `TRANSFORMERS_VERBOSITY=info` for more details.\n"
          ]
        },
        {
          "output_type": "stream",
          "name": "stdout",
          "text": [
            "Strategy 'ปิดฟ้าข้ามทะเล' เต็ม 27 แล้ว -> เปลี่ยนเป็น 'ถอนฟืนใต้กระทะ'\n",
            "  เกม 200: ถอนฟืนใต้กระทะ (รวม 4 อัน)\n",
            "  -> วิเคราะห์แล้ว 200 เกม\n",
            "  -> Strategy ที่เต็ม 27 แล้ว: 1 กลยุทธ์\n",
            "  -> บันทึกผลกลางแล้ว 200 เกม\n",
            "\n",
            "แบทช์ 21: กำลังวิเคราะห์เกม 201-210\n"
          ]
        },
        {
          "output_type": "stream",
          "name": "stderr",
          "text": [
            "The following generation flags are not valid and may be ignored: ['temperature', 'top_p']. Set `TRANSFORMERS_VERBOSITY=info` for more details.\n"
          ]
        },
        {
          "output_type": "stream",
          "name": "stdout",
          "text": [
            "Strategy 'ปิดฟ้าข้ามทะเล' เต็ม 27 แล้ว -> เปลี่ยนเป็น 'ไส้ศึก'\n",
            "  เกม 201: ไส้ศึก (รวม 5 อัน)\n"
          ]
        },
        {
          "output_type": "stream",
          "name": "stderr",
          "text": [
            "The following generation flags are not valid and may be ignored: ['temperature', 'top_p']. Set `TRANSFORMERS_VERBOSITY=info` for more details.\n"
          ]
        },
        {
          "output_type": "stream",
          "name": "stdout",
          "text": [
            "Strategy 'ปิดฟ้าข้ามทะเล' เต็ม 27 แล้ว -> เปลี่ยนเป็น 'ต้นไม้ผลิดอก'\n",
            "  เกม 202: ต้นไม้ผลิดอก (รวม 2 อัน)\n"
          ]
        },
        {
          "output_type": "stream",
          "name": "stderr",
          "text": [
            "The following generation flags are not valid and may be ignored: ['temperature', 'top_p']. Set `TRANSFORMERS_VERBOSITY=info` for more details.\n"
          ]
        },
        {
          "output_type": "stream",
          "name": "stdout",
          "text": [
            "Strategy 'ปิดฟ้าข้ามทะเล' เต็ม 27 แล้ว -> เปลี่ยนเป็น 'ดูไฟชายฝั่ง'\n",
            "  เกม 203: ดูไฟชายฝั่ง (รวม 4 อัน)\n"
          ]
        },
        {
          "output_type": "stream",
          "name": "stderr",
          "text": [
            "The following generation flags are not valid and may be ignored: ['temperature', 'top_p']. Set `TRANSFORMERS_VERBOSITY=info` for more details.\n"
          ]
        },
        {
          "output_type": "stream",
          "name": "stdout",
          "text": [
            "Strategy 'ปิดฟ้าข้ามทะเล' เต็ม 27 แล้ว -> เปลี่ยนเป็น 'โยนกระเบื้องล่อหยก'\n",
            "  เกม 204: โยนกระเบื้องล่อหยก (รวม 11 อัน)\n"
          ]
        },
        {
          "output_type": "stream",
          "name": "stderr",
          "text": [
            "The following generation flags are not valid and may be ignored: ['temperature', 'top_p']. Set `TRANSFORMERS_VERBOSITY=info` for more details.\n"
          ]
        },
        {
          "output_type": "stream",
          "name": "stdout",
          "text": [
            "Strategy 'ปิดฟ้าข้ามทะเล' เต็ม 27 แล้ว -> เปลี่ยนเป็น 'แสร้งปล่อยเพื่อจับ'\n",
            "  เกม 205: แสร้งปล่อยเพื่อจับ (รวม 6 อัน)\n"
          ]
        },
        {
          "output_type": "stream",
          "name": "stderr",
          "text": [
            "The following generation flags are not valid and may be ignored: ['temperature', 'top_p']. Set `TRANSFORMERS_VERBOSITY=info` for more details.\n"
          ]
        },
        {
          "output_type": "stream",
          "name": "stdout",
          "text": [
            "Strategy 'ปิดฟ้าข้ามทะเล' เต็ม 27 แล้ว -> เปลี่ยนเป็น 'ไส้ศึก'\n",
            "  เกม 206: ไส้ศึก (รวม 6 อัน)\n"
          ]
        },
        {
          "output_type": "stream",
          "name": "stderr",
          "text": [
            "The following generation flags are not valid and may be ignored: ['temperature', 'top_p']. Set `TRANSFORMERS_VERBOSITY=info` for more details.\n"
          ]
        },
        {
          "output_type": "stream",
          "name": "stdout",
          "text": [
            "Strategy 'ปิดฟ้าข้ามทะเล' เต็ม 27 แล้ว -> เปลี่ยนเป็น 'ลอบตีเฉินชาง'\n",
            "  เกม 207: ลอบตีเฉินชาง (รวม 7 อัน)\n"
          ]
        },
        {
          "output_type": "stream",
          "name": "stderr",
          "text": [
            "The following generation flags are not valid and may be ignored: ['temperature', 'top_p']. Set `TRANSFORMERS_VERBOSITY=info` for more details.\n"
          ]
        },
        {
          "output_type": "stream",
          "name": "stdout",
          "text": [
            "Strategy 'ปิดฟ้าข้ามทะเล' เต็ม 27 แล้ว -> เปลี่ยนเป็น 'ตีชิงตามไฟ'\n",
            "  เกม 208: ตีชิงตามไฟ (รวม 3 อัน)\n"
          ]
        },
        {
          "output_type": "stream",
          "name": "stderr",
          "text": [
            "The following generation flags are not valid and may be ignored: ['temperature', 'top_p']. Set `TRANSFORMERS_VERBOSITY=info` for more details.\n"
          ]
        },
        {
          "output_type": "stream",
          "name": "stdout",
          "text": [
            "Strategy 'ปิดฟ้าข้ามทะเล' เต็ม 27 แล้ว -> เปลี่ยนเป็น 'แสร้งปล่อยเพื่อจับ'\n",
            "  เกม 209: แสร้งปล่อยเพื่อจับ (รวม 7 อัน)\n"
          ]
        },
        {
          "output_type": "stream",
          "name": "stderr",
          "text": [
            "The following generation flags are not valid and may be ignored: ['temperature', 'top_p']. Set `TRANSFORMERS_VERBOSITY=info` for more details.\n"
          ]
        },
        {
          "output_type": "stream",
          "name": "stdout",
          "text": [
            "Strategy 'ปิดฟ้าข้ามทะเล' เต็ม 27 แล้ว -> เปลี่ยนเป็น 'เปิดเมือง'\n",
            "  เกม 210: เปิดเมือง (รวม 6 อัน)\n",
            "  -> วิเคราะห์แล้ว 210 เกม\n",
            "  -> Strategy ที่เต็ม 27 แล้ว: 1 กลยุทธ์\n",
            "\n",
            "แบทช์ 22: กำลังวิเคราะห์เกม 211-220\n"
          ]
        },
        {
          "output_type": "stream",
          "name": "stderr",
          "text": [
            "The following generation flags are not valid and may be ignored: ['temperature', 'top_p']. Set `TRANSFORMERS_VERBOSITY=info` for more details.\n"
          ]
        },
        {
          "output_type": "stream",
          "name": "stdout",
          "text": [
            "Strategy 'ปิดฟ้าข้ามทะเล' เต็ม 27 แล้ว -> เปลี่ยนเป็น 'ตีหญ้าให้งูตื่น'\n",
            "  เกม 211: ตีหญ้าให้งูตื่น (รวม 6 อัน)\n"
          ]
        },
        {
          "output_type": "stream",
          "name": "stderr",
          "text": [
            "The following generation flags are not valid and may be ignored: ['temperature', 'top_p']. Set `TRANSFORMERS_VERBOSITY=info` for more details.\n"
          ]
        },
        {
          "output_type": "stream",
          "name": "stdout",
          "text": [
            "Strategy 'ปิดฟ้าข้ามทะเล' เต็ม 27 แล้ว -> เปลี่ยนเป็น 'แสร้งทำบอแต่ไม่บ้า'\n",
            "  เกม 212: แสร้งทำบอแต่ไม่บ้า (รวม 6 อัน)\n"
          ]
        },
        {
          "output_type": "stream",
          "name": "stderr",
          "text": [
            "The following generation flags are not valid and may be ignored: ['temperature', 'top_p']. Set `TRANSFORMERS_VERBOSITY=info` for more details.\n"
          ]
        },
        {
          "output_type": "stream",
          "name": "stdout",
          "text": [
            "Strategy 'ปิดฟ้าข้ามทะเล' เต็ม 27 แล้ว -> เปลี่ยนเป็น 'คบไกลตีใกล้'\n",
            "  เกม 213: คบไกลตีใกล้ (รวม 5 อัน)\n"
          ]
        },
        {
          "output_type": "stream",
          "name": "stderr",
          "text": [
            "The following generation flags are not valid and may be ignored: ['temperature', 'top_p']. Set `TRANSFORMERS_VERBOSITY=info` for more details.\n"
          ]
        },
        {
          "output_type": "stream",
          "name": "stdout",
          "text": [
            "Strategy 'ปิดฟ้าข้ามทะเล' เต็ม 27 แล้ว -> เปลี่ยนเป็น 'จูงแพะติดมือ'\n",
            "  เกม 214: จูงแพะติดมือ (รวม 6 อัน)\n"
          ]
        },
        {
          "output_type": "stream",
          "name": "stderr",
          "text": [
            "The following generation flags are not valid and may be ignored: ['temperature', 'top_p']. Set `TRANSFORMERS_VERBOSITY=info` for more details.\n"
          ]
        },
        {
          "output_type": "stream",
          "name": "stdout",
          "text": [
            "Strategy 'ปิดฟ้าข้ามทะเล' เต็ม 27 แล้ว -> เปลี่ยนเป็น 'ล่อเสือออกจากถ้ำ'\n",
            "  เกม 215: ล่อเสือออกจากถ้ำ (รวม 9 อัน)\n"
          ]
        },
        {
          "output_type": "stream",
          "name": "stderr",
          "text": [
            "The following generation flags are not valid and may be ignored: ['temperature', 'top_p']. Set `TRANSFORMERS_VERBOSITY=info` for more details.\n"
          ]
        },
        {
          "output_type": "stream",
          "name": "stdout",
          "text": [
            "Strategy 'ปิดฟ้าข้ามทะเล' เต็ม 27 แล้ว -> เปลี่ยนเป็น 'ล่อเสือออกจากถ้ำ'\n",
            "  เกม 216: ล่อเสือออกจากถ้ำ (รวม 10 อัน)\n"
          ]
        },
        {
          "output_type": "stream",
          "name": "stderr",
          "text": [
            "The following generation flags are not valid and may be ignored: ['temperature', 'top_p']. Set `TRANSFORMERS_VERBOSITY=info` for more details.\n"
          ]
        },
        {
          "output_type": "stream",
          "name": "stdout",
          "text": [
            "Strategy 'ปิดฟ้าข้ามทะเล' เต็ม 27 แล้ว -> เปลี่ยนเป็น 'เปิดเมือง'\n",
            "  เกม 217: เปิดเมือง (รวม 7 อัน)\n"
          ]
        },
        {
          "output_type": "stream",
          "name": "stderr",
          "text": [
            "The following generation flags are not valid and may be ignored: ['temperature', 'top_p']. Set `TRANSFORMERS_VERBOSITY=info` for more details.\n"
          ]
        },
        {
          "output_type": "stream",
          "name": "stdout",
          "text": [
            "Strategy 'ปิดฟ้าข้ามทะเล' เต็ม 27 แล้ว -> เปลี่ยนเป็น 'ยืมซากคืนชีพ'\n",
            "  เกม 218: ยืมซากคืนชีพ (รวม 5 อัน)\n"
          ]
        },
        {
          "output_type": "stream",
          "name": "stderr",
          "text": [
            "The following generation flags are not valid and may be ignored: ['temperature', 'top_p']. Set `TRANSFORMERS_VERBOSITY=info` for more details.\n"
          ]
        },
        {
          "output_type": "stream",
          "name": "stdout",
          "text": [
            "Strategy 'ปิดฟ้าข้ามทะเล' เต็ม 27 แล้ว -> เปลี่ยนเป็น 'ยืมทางพรางกล'\n",
            "  เกม 219: ยืมทางพรางกล (รวม 5 อัน)\n"
          ]
        },
        {
          "output_type": "stream",
          "name": "stderr",
          "text": [
            "The following generation flags are not valid and may be ignored: ['temperature', 'top_p']. Set `TRANSFORMERS_VERBOSITY=info` for more details.\n"
          ]
        },
        {
          "output_type": "stream",
          "name": "stdout",
          "text": [
            "Strategy 'ปิดฟ้าข้ามทะเล' เต็ม 27 แล้ว -> เปลี่ยนเป็น 'ล้อมเวยช่วยจ้าว'\n",
            "  เกม 220: ล้อมเวยช่วยจ้าว (รวม 4 อัน)\n",
            "  -> วิเคราะห์แล้ว 220 เกม\n",
            "  -> Strategy ที่เต็ม 27 แล้ว: 1 กลยุทธ์\n",
            "\n",
            "แบทช์ 23: กำลังวิเคราะห์เกม 221-230\n"
          ]
        },
        {
          "output_type": "stream",
          "name": "stderr",
          "text": [
            "The following generation flags are not valid and may be ignored: ['temperature', 'top_p']. Set `TRANSFORMERS_VERBOSITY=info` for more details.\n"
          ]
        },
        {
          "output_type": "stream",
          "name": "stdout",
          "text": [
            "Strategy 'ปิดฟ้าข้ามทะเล' เต็ม 27 แล้ว -> เปลี่ยนเป็น 'กวนน้ำจับปลา'\n",
            "  เกม 221: กวนน้ำจับปลา (รวม 9 อัน)\n"
          ]
        },
        {
          "output_type": "stream",
          "name": "stderr",
          "text": [
            "The following generation flags are not valid and may be ignored: ['temperature', 'top_p']. Set `TRANSFORMERS_VERBOSITY=info` for more details.\n"
          ]
        },
        {
          "output_type": "stream",
          "name": "stdout",
          "text": [
            "Strategy 'ปิดฟ้าข้ามทะเล' เต็ม 27 แล้ว -> เปลี่ยนเป็น 'ขึ้นบ้านชักบันได'\n",
            "  เกม 222: ขึ้นบ้านชักบันได (รวม 6 อัน)\n"
          ]
        },
        {
          "output_type": "stream",
          "name": "stderr",
          "text": [
            "The following generation flags are not valid and may be ignored: ['temperature', 'top_p']. Set `TRANSFORMERS_VERBOSITY=info` for more details.\n"
          ]
        },
        {
          "output_type": "stream",
          "name": "stdout",
          "text": [
            "Strategy 'ปิดฟ้าข้ามทะเล' เต็ม 27 แล้ว -> เปลี่ยนเป็น 'สาวงาม'\n",
            "  เกม 223: สาวงาม (รวม 6 อัน)\n"
          ]
        },
        {
          "output_type": "stream",
          "name": "stderr",
          "text": [
            "The following generation flags are not valid and may be ignored: ['temperature', 'top_p']. Set `TRANSFORMERS_VERBOSITY=info` for more details.\n"
          ]
        },
        {
          "output_type": "stream",
          "name": "stdout",
          "text": [
            "Strategy 'ปิดฟ้าข้ามทะเล' เต็ม 27 แล้ว -> เปลี่ยนเป็น 'จับโจรเอาหัวโจก'\n",
            "  เกม 224: จับโจรเอาหัวโจก (รวม 7 อัน)\n"
          ]
        },
        {
          "output_type": "stream",
          "name": "stderr",
          "text": [
            "The following generation flags are not valid and may be ignored: ['temperature', 'top_p']. Set `TRANSFORMERS_VERBOSITY=info` for more details.\n"
          ]
        },
        {
          "output_type": "stream",
          "name": "stdout",
          "text": [
            "Strategy 'ปิดฟ้าข้ามทะเล' เต็ม 27 แล้ว -> เปลี่ยนเป็น 'ถอนฟืนใต้กระทะ'\n",
            "  เกม 225: ถอนฟืนใต้กระทะ (รวม 5 อัน)\n"
          ]
        },
        {
          "output_type": "stream",
          "name": "stderr",
          "text": [
            "The following generation flags are not valid and may be ignored: ['temperature', 'top_p']. Set `TRANSFORMERS_VERBOSITY=info` for more details.\n"
          ]
        },
        {
          "output_type": "stream",
          "name": "stdout",
          "text": [
            "Strategy 'ปิดฟ้าข้ามทะเล' เต็ม 27 แล้ว -> เปลี่ยนเป็น 'ส่งเสียงบูรพาฝ่าตีประจิม'\n",
            "  เกม 226: ส่งเสียงบูรพาฝ่าตีประจิม (รวม 8 อัน)\n"
          ]
        },
        {
          "output_type": "stream",
          "name": "stderr",
          "text": [
            "The following generation flags are not valid and may be ignored: ['temperature', 'top_p']. Set `TRANSFORMERS_VERBOSITY=info` for more details.\n"
          ]
        },
        {
          "output_type": "stream",
          "name": "stdout",
          "text": [
            "Strategy 'ปิดฟ้าข้ามทะเล' เต็ม 27 แล้ว -> เปลี่ยนเป็น 'จักจั่นลอกคราบ'\n",
            "  เกม 227: จักจั่นลอกคราบ (รวม 5 อัน)\n"
          ]
        },
        {
          "output_type": "stream",
          "name": "stderr",
          "text": [
            "The following generation flags are not valid and may be ignored: ['temperature', 'top_p']. Set `TRANSFORMERS_VERBOSITY=info` for more details.\n"
          ]
        },
        {
          "output_type": "stream",
          "name": "stdout",
          "text": [
            "Strategy 'ปิดฟ้าข้ามทะเล' เต็ม 27 แล้ว -> เปลี่ยนเป็น 'ยืมทางพรางกล'\n",
            "  เกม 228: ยืมทางพรางกล (รวม 6 อัน)\n"
          ]
        },
        {
          "output_type": "stream",
          "name": "stderr",
          "text": [
            "The following generation flags are not valid and may be ignored: ['temperature', 'top_p']. Set `TRANSFORMERS_VERBOSITY=info` for more details.\n"
          ]
        },
        {
          "output_type": "stream",
          "name": "stdout",
          "text": [
            "Strategy 'ปิดฟ้าข้ามทะเล' เต็ม 27 แล้ว -> เปลี่ยนเป็น 'ขึ้นบ้านชักบันได'\n",
            "  เกม 229: ขึ้นบ้านชักบันได (รวม 7 อัน)\n"
          ]
        },
        {
          "output_type": "stream",
          "name": "stderr",
          "text": [
            "The following generation flags are not valid and may be ignored: ['temperature', 'top_p']. Set `TRANSFORMERS_VERBOSITY=info` for more details.\n"
          ]
        },
        {
          "output_type": "stream",
          "name": "stdout",
          "text": [
            "Strategy 'ปิดฟ้าข้ามทะเล' เต็ม 27 แล้ว -> เปลี่ยนเป็น 'ล่อเสือออกจากถ้ำ'\n",
            "  เกม 230: ล่อเสือออกจากถ้ำ (รวม 11 อัน)\n",
            "  -> วิเคราะห์แล้ว 230 เกม\n",
            "  -> Strategy ที่เต็ม 27 แล้ว: 1 กลยุทธ์\n",
            "\n",
            "แบทช์ 24: กำลังวิเคราะห์เกม 231-240\n"
          ]
        },
        {
          "output_type": "stream",
          "name": "stderr",
          "text": [
            "The following generation flags are not valid and may be ignored: ['temperature', 'top_p']. Set `TRANSFORMERS_VERBOSITY=info` for more details.\n"
          ]
        },
        {
          "output_type": "stream",
          "name": "stdout",
          "text": [
            "Strategy 'ปิดฟ้าข้ามทะเล' เต็ม 27 แล้ว -> เปลี่ยนเป็น 'ลักขื่อเปลี่ยนเสา'\n",
            "  เกม 231: ลักขื่อเปลี่ยนเสา (รวม 5 อัน)\n"
          ]
        },
        {
          "output_type": "stream",
          "name": "stderr",
          "text": [
            "The following generation flags are not valid and may be ignored: ['temperature', 'top_p']. Set `TRANSFORMERS_VERBOSITY=info` for more details.\n"
          ]
        },
        {
          "output_type": "stream",
          "name": "stdout",
          "text": [
            "Strategy 'ปิดฟ้าข้ามทะเล' เต็ม 27 แล้ว -> เปลี่ยนเป็น 'ถอนฟืนใต้กระทะ'\n",
            "  เกม 232: ถอนฟืนใต้กระทะ (รวม 6 อัน)\n"
          ]
        },
        {
          "output_type": "stream",
          "name": "stderr",
          "text": [
            "The following generation flags are not valid and may be ignored: ['temperature', 'top_p']. Set `TRANSFORMERS_VERBOSITY=info` for more details.\n"
          ]
        },
        {
          "output_type": "stream",
          "name": "stdout",
          "text": [
            "Strategy 'ปิดฟ้าข้ามทะเล' เต็ม 27 แล้ว -> เปลี่ยนเป็น 'รอซ้ำยามเปลี้ย'\n",
            "  เกม 233: รอซ้ำยามเปลี้ย (รวม 6 อัน)\n"
          ]
        },
        {
          "output_type": "stream",
          "name": "stderr",
          "text": [
            "The following generation flags are not valid and may be ignored: ['temperature', 'top_p']. Set `TRANSFORMERS_VERBOSITY=info` for more details.\n"
          ]
        },
        {
          "output_type": "stream",
          "name": "stdout",
          "text": [
            "Strategy 'ปิดฟ้าข้ามทะเล' เต็ม 27 แล้ว -> เปลี่ยนเป็น 'จับโจรเอาหัวโจก'\n",
            "  เกม 234: จับโจรเอาหัวโจก (รวม 8 อัน)\n"
          ]
        },
        {
          "output_type": "stream",
          "name": "stderr",
          "text": [
            "The following generation flags are not valid and may be ignored: ['temperature', 'top_p']. Set `TRANSFORMERS_VERBOSITY=info` for more details.\n"
          ]
        },
        {
          "output_type": "stream",
          "name": "stdout",
          "text": [
            "Strategy 'ปิดฟ้าข้ามทะเล' เต็ม 27 แล้ว -> เปลี่ยนเป็น 'แสร้งปล่อยเพื่อจับ'\n",
            "  เกม 235: แสร้งปล่อยเพื่อจับ (รวม 8 อัน)\n"
          ]
        },
        {
          "output_type": "stream",
          "name": "stderr",
          "text": [
            "The following generation flags are not valid and may be ignored: ['temperature', 'top_p']. Set `TRANSFORMERS_VERBOSITY=info` for more details.\n"
          ]
        },
        {
          "output_type": "stream",
          "name": "stdout",
          "text": [
            "Strategy 'ปิดฟ้าข้ามทะเล' เต็ม 27 แล้ว -> เปลี่ยนเป็น 'ทุกข์กาย'\n",
            "  เกม 236: ทุกข์กาย (รวม 8 อัน)\n"
          ]
        },
        {
          "output_type": "stream",
          "name": "stderr",
          "text": [
            "The following generation flags are not valid and may be ignored: ['temperature', 'top_p']. Set `TRANSFORMERS_VERBOSITY=info` for more details.\n"
          ]
        },
        {
          "output_type": "stream",
          "name": "stdout",
          "text": [
            "Strategy 'ปิดฟ้าข้ามทะเล' เต็ม 27 แล้ว -> เปลี่ยนเป็น 'ยืมทางพรางกล'\n",
            "  เกม 237: ยืมทางพรางกล (รวม 7 อัน)\n"
          ]
        },
        {
          "output_type": "stream",
          "name": "stderr",
          "text": [
            "The following generation flags are not valid and may be ignored: ['temperature', 'top_p']. Set `TRANSFORMERS_VERBOSITY=info` for more details.\n"
          ]
        },
        {
          "output_type": "stream",
          "name": "stdout",
          "text": [
            "Strategy 'ปิดฟ้าข้ามทะเล' เต็ม 27 แล้ว -> เปลี่ยนเป็น 'หลบหนี'\n",
            "  เกม 238: หลบหนี (รวม 5 อัน)\n"
          ]
        },
        {
          "output_type": "stream",
          "name": "stderr",
          "text": [
            "The following generation flags are not valid and may be ignored: ['temperature', 'top_p']. Set `TRANSFORMERS_VERBOSITY=info` for more details.\n"
          ]
        },
        {
          "output_type": "stream",
          "name": "stdout",
          "text": [
            "Strategy 'ปิดฟ้าข้ามทะเล' เต็ม 27 แล้ว -> เปลี่ยนเป็น 'ลอบตีเฉินชาง'\n",
            "  เกม 239: ลอบตีเฉินชาง (รวม 8 อัน)\n"
          ]
        },
        {
          "output_type": "stream",
          "name": "stderr",
          "text": [
            "The following generation flags are not valid and may be ignored: ['temperature', 'top_p']. Set `TRANSFORMERS_VERBOSITY=info` for more details.\n"
          ]
        },
        {
          "output_type": "stream",
          "name": "stdout",
          "text": [
            "Strategy 'ปิดฟ้าข้ามทะเล' เต็ม 27 แล้ว -> เปลี่ยนเป็น 'ล่อเสือออกจากถ้ำ'\n",
            "  เกม 240: ล่อเสือออกจากถ้ำ (รวม 12 อัน)\n",
            "  -> วิเคราะห์แล้ว 240 เกม\n",
            "  -> Strategy ที่เต็ม 27 แล้ว: 1 กลยุทธ์\n",
            "\n",
            "แบทช์ 25: กำลังวิเคราะห์เกม 241-250\n"
          ]
        },
        {
          "output_type": "stream",
          "name": "stderr",
          "text": [
            "The following generation flags are not valid and may be ignored: ['temperature', 'top_p']. Set `TRANSFORMERS_VERBOSITY=info` for more details.\n"
          ]
        },
        {
          "output_type": "stream",
          "name": "stdout",
          "text": [
            "Strategy 'ปิดฟ้าข้ามทะเล' เต็ม 27 แล้ว -> เปลี่ยนเป็น 'ลูกโซ่'\n",
            "  เกม 241: ลูกโซ่ (รวม 7 อัน)\n"
          ]
        },
        {
          "output_type": "stream",
          "name": "stderr",
          "text": [
            "The following generation flags are not valid and may be ignored: ['temperature', 'top_p']. Set `TRANSFORMERS_VERBOSITY=info` for more details.\n"
          ]
        },
        {
          "output_type": "stream",
          "name": "stdout",
          "text": [
            "Strategy 'ปิดฟ้าข้ามทะเล' เต็ม 27 แล้ว -> เปลี่ยนเป็น 'กวนน้ำจับปลา'\n",
            "  เกม 242: กวนน้ำจับปลา (รวม 10 อัน)\n"
          ]
        },
        {
          "output_type": "stream",
          "name": "stderr",
          "text": [
            "The following generation flags are not valid and may be ignored: ['temperature', 'top_p']. Set `TRANSFORMERS_VERBOSITY=info` for more details.\n"
          ]
        },
        {
          "output_type": "stream",
          "name": "stdout",
          "text": [
            "Strategy 'ปิดฟ้าข้ามทะเล' เต็ม 27 แล้ว -> เปลี่ยนเป็น 'ไส้ศึก'\n",
            "  เกม 243: ไส้ศึก (รวม 7 อัน)\n"
          ]
        },
        {
          "output_type": "stream",
          "name": "stderr",
          "text": [
            "The following generation flags are not valid and may be ignored: ['temperature', 'top_p']. Set `TRANSFORMERS_VERBOSITY=info` for more details.\n"
          ]
        },
        {
          "output_type": "stream",
          "name": "stdout",
          "text": [
            "Strategy 'ปิดฟ้าข้ามทะเล' เต็ม 27 แล้ว -> เปลี่ยนเป็น 'ตีชิงตามไฟ'\n",
            "  เกม 244: ตีชิงตามไฟ (รวม 4 อัน)\n"
          ]
        },
        {
          "output_type": "stream",
          "name": "stderr",
          "text": [
            "The following generation flags are not valid and may be ignored: ['temperature', 'top_p']. Set `TRANSFORMERS_VERBOSITY=info` for more details.\n"
          ]
        },
        {
          "output_type": "stream",
          "name": "stdout",
          "text": [
            "Strategy 'ปิดฟ้าข้ามทะเล' เต็ม 27 แล้ว -> เปลี่ยนเป็น 'กวนน้ำจับปลา'\n",
            "  เกม 245: กวนน้ำจับปลา (รวม 11 อัน)\n"
          ]
        },
        {
          "output_type": "stream",
          "name": "stderr",
          "text": [
            "The following generation flags are not valid and may be ignored: ['temperature', 'top_p']. Set `TRANSFORMERS_VERBOSITY=info` for more details.\n"
          ]
        },
        {
          "output_type": "stream",
          "name": "stdout",
          "text": [
            "Strategy 'ปิดฟ้าข้ามทะเล' เต็ม 27 แล้ว -> เปลี่ยนเป็น 'โยนกระเบื้องล่อหยก'\n",
            "  เกม 246: โยนกระเบื้องล่อหยก (รวม 12 อัน)\n"
          ]
        },
        {
          "output_type": "stream",
          "name": "stderr",
          "text": [
            "The following generation flags are not valid and may be ignored: ['temperature', 'top_p']. Set `TRANSFORMERS_VERBOSITY=info` for more details.\n"
          ]
        },
        {
          "output_type": "stream",
          "name": "stdout",
          "text": [
            "Strategy 'ปิดฟ้าข้ามทะเล' เต็ม 27 แล้ว -> เปลี่ยนเป็น 'ลักขื่อเปลี่ยนเสา'\n",
            "  เกม 247: ลักขื่อเปลี่ยนเสา (รวม 6 อัน)\n"
          ]
        },
        {
          "output_type": "stream",
          "name": "stderr",
          "text": [
            "The following generation flags are not valid and may be ignored: ['temperature', 'top_p']. Set `TRANSFORMERS_VERBOSITY=info` for more details.\n"
          ]
        },
        {
          "output_type": "stream",
          "name": "stdout",
          "text": [
            "Strategy 'ปิดฟ้าข้ามทะเล' เต็ม 27 แล้ว -> เปลี่ยนเป็น 'ไส้ศึก'\n",
            "  เกม 248: ไส้ศึก (รวม 8 อัน)\n"
          ]
        },
        {
          "output_type": "stream",
          "name": "stderr",
          "text": [
            "The following generation flags are not valid and may be ignored: ['temperature', 'top_p']. Set `TRANSFORMERS_VERBOSITY=info` for more details.\n"
          ]
        },
        {
          "output_type": "stream",
          "name": "stdout",
          "text": [
            "Strategy 'ปิดฟ้าข้ามทะเล' เต็ม 27 แล้ว -> เปลี่ยนเป็น 'ตีหญ้าให้งูตื่น'\n",
            "  เกม 249: ตีหญ้าให้งูตื่น (รวม 7 อัน)\n"
          ]
        },
        {
          "output_type": "stream",
          "name": "stderr",
          "text": [
            "The following generation flags are not valid and may be ignored: ['temperature', 'top_p']. Set `TRANSFORMERS_VERBOSITY=info` for more details.\n"
          ]
        },
        {
          "output_type": "stream",
          "name": "stdout",
          "text": [
            "Strategy 'ปิดฟ้าข้ามทะเล' เต็ม 27 แล้ว -> เปลี่ยนเป็น 'แสร้งปล่อยเพื่อจับ'\n",
            "  เกม 250: แสร้งปล่อยเพื่อจับ (รวม 9 อัน)\n",
            "  -> วิเคราะห์แล้ว 250 เกม\n",
            "  -> Strategy ที่เต็ม 27 แล้ว: 1 กลยุทธ์\n",
            "\n",
            "แบทช์ 26: กำลังวิเคราะห์เกม 251-260\n"
          ]
        },
        {
          "output_type": "stream",
          "name": "stderr",
          "text": [
            "The following generation flags are not valid and may be ignored: ['temperature', 'top_p']. Set `TRANSFORMERS_VERBOSITY=info` for more details.\n"
          ]
        },
        {
          "output_type": "stream",
          "name": "stdout",
          "text": [
            "Strategy 'ปิดฟ้าข้ามทะเล' เต็ม 27 แล้ว -> เปลี่ยนเป็น 'ทุกข์กาย'\n",
            "  เกม 251: ทุกข์กาย (รวม 9 อัน)\n"
          ]
        },
        {
          "output_type": "stream",
          "name": "stderr",
          "text": [
            "The following generation flags are not valid and may be ignored: ['temperature', 'top_p']. Set `TRANSFORMERS_VERBOSITY=info` for more details.\n"
          ]
        },
        {
          "output_type": "stream",
          "name": "stdout",
          "text": [
            "Strategy 'ปิดฟ้าข้ามทะเล' เต็ม 27 แล้ว -> เปลี่ยนเป็น 'ตีชิงตามไฟ'\n",
            "  เกม 252: ตีชิงตามไฟ (รวม 5 อัน)\n"
          ]
        },
        {
          "output_type": "stream",
          "name": "stderr",
          "text": [
            "The following generation flags are not valid and may be ignored: ['temperature', 'top_p']. Set `TRANSFORMERS_VERBOSITY=info` for more details.\n"
          ]
        },
        {
          "output_type": "stream",
          "name": "stdout",
          "text": [
            "Strategy 'ปิดฟ้าข้ามทะเล' เต็ม 27 แล้ว -> เปลี่ยนเป็น 'ลอบตีเฉินชาง'\n",
            "  เกม 253: ลอบตีเฉินชาง (รวม 9 อัน)\n"
          ]
        },
        {
          "output_type": "stream",
          "name": "stderr",
          "text": [
            "The following generation flags are not valid and may be ignored: ['temperature', 'top_p']. Set `TRANSFORMERS_VERBOSITY=info` for more details.\n"
          ]
        },
        {
          "output_type": "stream",
          "name": "stdout",
          "text": [
            "Strategy 'ปิดฟ้าข้ามทะเล' เต็ม 27 แล้ว -> เปลี่ยนเป็น 'โยนกระเบื้องล่อหยก'\n",
            "  เกม 254: โยนกระเบื้องล่อหยก (รวม 13 อัน)\n"
          ]
        },
        {
          "output_type": "stream",
          "name": "stderr",
          "text": [
            "The following generation flags are not valid and may be ignored: ['temperature', 'top_p']. Set `TRANSFORMERS_VERBOSITY=info` for more details.\n"
          ]
        },
        {
          "output_type": "stream",
          "name": "stdout",
          "text": [
            "Strategy 'ปิดฟ้าข้ามทะเล' เต็ม 27 แล้ว -> เปลี่ยนเป็น 'ซ่อนดาบในรอยยิ้ม'\n",
            "  เกม 255: ซ่อนดาบในรอยยิ้ม (รวม 5 อัน)\n"
          ]
        },
        {
          "output_type": "stream",
          "name": "stderr",
          "text": [
            "The following generation flags are not valid and may be ignored: ['temperature', 'top_p']. Set `TRANSFORMERS_VERBOSITY=info` for more details.\n"
          ]
        },
        {
          "output_type": "stream",
          "name": "stdout",
          "text": [
            "Strategy 'ปิดฟ้าข้ามทะเล' เต็ม 27 แล้ว -> เปลี่ยนเป็น 'รอซ้ำยามเปลี้ย'\n",
            "  เกม 256: รอซ้ำยามเปลี้ย (รวม 7 อัน)\n"
          ]
        },
        {
          "output_type": "stream",
          "name": "stderr",
          "text": [
            "The following generation flags are not valid and may be ignored: ['temperature', 'top_p']. Set `TRANSFORMERS_VERBOSITY=info` for more details.\n"
          ]
        },
        {
          "output_type": "stream",
          "name": "stdout",
          "text": [
            "Strategy 'ปิดฟ้าข้ามทะเล' เต็ม 27 แล้ว -> เปลี่ยนเป็น 'ดูไฟชายฝั่ง'\n",
            "  เกม 257: ดูไฟชายฝั่ง (รวม 5 อัน)\n"
          ]
        },
        {
          "output_type": "stream",
          "name": "stderr",
          "text": [
            "The following generation flags are not valid and may be ignored: ['temperature', 'top_p']. Set `TRANSFORMERS_VERBOSITY=info` for more details.\n"
          ]
        },
        {
          "output_type": "stream",
          "name": "stdout",
          "text": [
            "Strategy 'ปิดฟ้าข้ามทะเล' เต็ม 27 แล้ว -> เปลี่ยนเป็น 'ชี้ต้นหม่อนด่าต้นไหว'\n",
            "  เกม 258: ชี้ต้นหม่อนด่าต้นไหว (รวม 4 อัน)\n"
          ]
        },
        {
          "output_type": "stream",
          "name": "stderr",
          "text": [
            "The following generation flags are not valid and may be ignored: ['temperature', 'top_p']. Set `TRANSFORMERS_VERBOSITY=info` for more details.\n"
          ]
        },
        {
          "output_type": "stream",
          "name": "stdout",
          "text": [
            "Strategy 'ปิดฟ้าข้ามทะเล' เต็ม 27 แล้ว -> เปลี่ยนเป็น 'ยืมดาบฆ่าคน'\n",
            "  เกม 259: ยืมดาบฆ่าคน (รวม 3 อัน)\n"
          ]
        },
        {
          "output_type": "stream",
          "name": "stderr",
          "text": [
            "The following generation flags are not valid and may be ignored: ['temperature', 'top_p']. Set `TRANSFORMERS_VERBOSITY=info` for more details.\n"
          ]
        },
        {
          "output_type": "stream",
          "name": "stdout",
          "text": [
            "Strategy 'ปิดฟ้าข้ามทะเล' เต็ม 27 แล้ว -> เปลี่ยนเป็น 'จูงแพะติดมือ'\n",
            "  เกม 260: จูงแพะติดมือ (รวม 7 อัน)\n",
            "  -> วิเคราะห์แล้ว 260 เกม\n",
            "  -> Strategy ที่เต็ม 27 แล้ว: 1 กลยุทธ์\n",
            "\n",
            "แบทช์ 27: กำลังวิเคราะห์เกม 261-270\n"
          ]
        },
        {
          "output_type": "stream",
          "name": "stderr",
          "text": [
            "The following generation flags are not valid and may be ignored: ['temperature', 'top_p']. Set `TRANSFORMERS_VERBOSITY=info` for more details.\n"
          ]
        },
        {
          "output_type": "stream",
          "name": "stdout",
          "text": [
            "Strategy 'ปิดฟ้าข้ามทะเล' เต็ม 27 แล้ว -> เปลี่ยนเป็น 'โยนกระเบื้องล่อหยก'\n",
            "  เกม 261: โยนกระเบื้องล่อหยก (รวม 14 อัน)\n"
          ]
        },
        {
          "output_type": "stream",
          "name": "stderr",
          "text": [
            "The following generation flags are not valid and may be ignored: ['temperature', 'top_p']. Set `TRANSFORMERS_VERBOSITY=info` for more details.\n"
          ]
        },
        {
          "output_type": "stream",
          "name": "stdout",
          "text": [
            "Strategy 'ปิดฟ้าข้ามทะเล' เต็ม 27 แล้ว -> เปลี่ยนเป็น 'ตีหญ้าให้งูตื่น'\n",
            "  เกม 262: ตีหญ้าให้งูตื่น (รวม 8 อัน)\n"
          ]
        },
        {
          "output_type": "stream",
          "name": "stderr",
          "text": [
            "The following generation flags are not valid and may be ignored: ['temperature', 'top_p']. Set `TRANSFORMERS_VERBOSITY=info` for more details.\n"
          ]
        },
        {
          "output_type": "stream",
          "name": "stdout",
          "text": [
            "Strategy 'ปิดฟ้าข้ามทะเล' เต็ม 27 แล้ว -> เปลี่ยนเป็น 'ทุกข์กาย'\n",
            "  เกม 263: ทุกข์กาย (รวม 10 อัน)\n"
          ]
        },
        {
          "output_type": "stream",
          "name": "stderr",
          "text": [
            "The following generation flags are not valid and may be ignored: ['temperature', 'top_p']. Set `TRANSFORMERS_VERBOSITY=info` for more details.\n"
          ]
        },
        {
          "output_type": "stream",
          "name": "stdout",
          "text": [
            "Strategy 'ปิดฟ้าข้ามทะเล' เต็ม 27 แล้ว -> เปลี่ยนเป็น 'ตีหญ้าให้งูตื่น'\n",
            "  เกม 264: ตีหญ้าให้งูตื่น (รวม 9 อัน)\n"
          ]
        },
        {
          "output_type": "stream",
          "name": "stderr",
          "text": [
            "The following generation flags are not valid and may be ignored: ['temperature', 'top_p']. Set `TRANSFORMERS_VERBOSITY=info` for more details.\n"
          ]
        },
        {
          "output_type": "stream",
          "name": "stdout",
          "text": [
            "Strategy 'ปิดฟ้าข้ามทะเล' เต็ม 27 แล้ว -> เปลี่ยนเป็น 'ตีชิงตามไฟ'\n",
            "  เกม 265: ตีชิงตามไฟ (รวม 6 อัน)\n"
          ]
        },
        {
          "output_type": "stream",
          "name": "stderr",
          "text": [
            "The following generation flags are not valid and may be ignored: ['temperature', 'top_p']. Set `TRANSFORMERS_VERBOSITY=info` for more details.\n"
          ]
        },
        {
          "output_type": "stream",
          "name": "stdout",
          "text": [
            "Strategy 'ปิดฟ้าข้ามทะเล' เต็ม 27 แล้ว -> เปลี่ยนเป็น 'แสร้งทำบอแต่ไม่บ้า'\n",
            "  เกม 266: แสร้งทำบอแต่ไม่บ้า (รวม 7 อัน)\n"
          ]
        },
        {
          "output_type": "stream",
          "name": "stderr",
          "text": [
            "The following generation flags are not valid and may be ignored: ['temperature', 'top_p']. Set `TRANSFORMERS_VERBOSITY=info` for more details.\n"
          ]
        },
        {
          "output_type": "stream",
          "name": "stdout",
          "text": [
            "Strategy 'ปิดฟ้าข้ามทะเล' เต็ม 27 แล้ว -> เปลี่ยนเป็น 'แสร้งปล่อยเพื่อจับ'\n",
            "  เกม 267: แสร้งปล่อยเพื่อจับ (รวม 10 อัน)\n"
          ]
        },
        {
          "output_type": "stream",
          "name": "stderr",
          "text": [
            "The following generation flags are not valid and may be ignored: ['temperature', 'top_p']. Set `TRANSFORMERS_VERBOSITY=info` for more details.\n"
          ]
        },
        {
          "output_type": "stream",
          "name": "stdout",
          "text": [
            "Strategy 'ปิดฟ้าข้ามทะเล' เต็ม 27 แล้ว -> เปลี่ยนเป็น 'ลอบตีเฉินชาง'\n",
            "  เกม 268: ลอบตีเฉินชาง (รวม 10 อัน)\n"
          ]
        },
        {
          "output_type": "stream",
          "name": "stderr",
          "text": [
            "The following generation flags are not valid and may be ignored: ['temperature', 'top_p']. Set `TRANSFORMERS_VERBOSITY=info` for more details.\n"
          ]
        },
        {
          "output_type": "stream",
          "name": "stdout",
          "text": [
            "Strategy 'ปิดฟ้าข้ามทะเล' เต็ม 27 แล้ว -> เปลี่ยนเป็น 'ลักขื่อเปลี่ยนเสา'\n",
            "  เกม 269: ลักขื่อเปลี่ยนเสา (รวม 7 อัน)\n"
          ]
        },
        {
          "output_type": "stream",
          "name": "stderr",
          "text": [
            "The following generation flags are not valid and may be ignored: ['temperature', 'top_p']. Set `TRANSFORMERS_VERBOSITY=info` for more details.\n"
          ]
        },
        {
          "output_type": "stream",
          "name": "stdout",
          "text": [
            "Strategy 'ปิดฟ้าข้ามทะเล' เต็ม 27 แล้ว -> เปลี่ยนเป็น 'ซ่อนดาบในรอยยิ้ม'\n",
            "  เกม 270: ซ่อนดาบในรอยยิ้ม (รวม 6 อัน)\n",
            "  -> วิเคราะห์แล้ว 270 เกม\n",
            "  -> Strategy ที่เต็ม 27 แล้ว: 1 กลยุทธ์\n",
            "\n",
            "แบทช์ 28: กำลังวิเคราะห์เกม 271-280\n"
          ]
        },
        {
          "output_type": "stream",
          "name": "stderr",
          "text": [
            "The following generation flags are not valid and may be ignored: ['temperature', 'top_p']. Set `TRANSFORMERS_VERBOSITY=info` for more details.\n"
          ]
        },
        {
          "output_type": "stream",
          "name": "stdout",
          "text": [
            "Strategy 'ปิดฟ้าข้ามทะเล' เต็ม 27 แล้ว -> เปลี่ยนเป็น 'ลูกโซ่'\n",
            "  เกม 271: ลูกโซ่ (รวม 8 อัน)\n"
          ]
        },
        {
          "output_type": "stream",
          "name": "stderr",
          "text": [
            "The following generation flags are not valid and may be ignored: ['temperature', 'top_p']. Set `TRANSFORMERS_VERBOSITY=info` for more details.\n"
          ]
        },
        {
          "output_type": "stream",
          "name": "stdout",
          "text": [
            "Strategy 'ปิดฟ้าข้ามทะเล' เต็ม 27 แล้ว -> เปลี่ยนเป็น 'ยืมทางพรางกล'\n",
            "  เกม 272: ยืมทางพรางกล (รวม 8 อัน)\n"
          ]
        },
        {
          "output_type": "stream",
          "name": "stderr",
          "text": [
            "The following generation flags are not valid and may be ignored: ['temperature', 'top_p']. Set `TRANSFORMERS_VERBOSITY=info` for more details.\n"
          ]
        },
        {
          "output_type": "stream",
          "name": "stdout",
          "text": [
            "Strategy 'ปิดฟ้าข้ามทะเล' เต็ม 27 แล้ว -> เปลี่ยนเป็น 'เปิดเมือง'\n",
            "  เกม 273: เปิดเมือง (รวม 8 อัน)\n"
          ]
        },
        {
          "output_type": "stream",
          "name": "stderr",
          "text": [
            "The following generation flags are not valid and may be ignored: ['temperature', 'top_p']. Set `TRANSFORMERS_VERBOSITY=info` for more details.\n"
          ]
        },
        {
          "output_type": "stream",
          "name": "stdout",
          "text": [
            "Strategy 'ปิดฟ้าข้ามทะเล' เต็ม 27 แล้ว -> เปลี่ยนเป็น 'มีในไม่มี'\n",
            "  เกม 274: มีในไม่มี (รวม 6 อัน)\n"
          ]
        },
        {
          "output_type": "stream",
          "name": "stderr",
          "text": [
            "The following generation flags are not valid and may be ignored: ['temperature', 'top_p']. Set `TRANSFORMERS_VERBOSITY=info` for more details.\n"
          ]
        },
        {
          "output_type": "stream",
          "name": "stdout",
          "text": [
            "Strategy 'ปิดฟ้าข้ามทะเล' เต็ม 27 แล้ว -> เปลี่ยนเป็น 'ซ่อนดาบในรอยยิ้ม'\n",
            "  เกม 275: ซ่อนดาบในรอยยิ้ม (รวม 7 อัน)\n"
          ]
        },
        {
          "output_type": "stream",
          "name": "stderr",
          "text": [
            "The following generation flags are not valid and may be ignored: ['temperature', 'top_p']. Set `TRANSFORMERS_VERBOSITY=info` for more details.\n"
          ]
        },
        {
          "output_type": "stream",
          "name": "stdout",
          "text": [
            "Strategy 'ปิดฟ้าข้ามทะเล' เต็ม 27 แล้ว -> เปลี่ยนเป็น 'จูงแพะติดมือ'\n",
            "  เกม 276: จูงแพะติดมือ (รวม 8 อัน)\n"
          ]
        },
        {
          "output_type": "stream",
          "name": "stderr",
          "text": [
            "The following generation flags are not valid and may be ignored: ['temperature', 'top_p']. Set `TRANSFORMERS_VERBOSITY=info` for more details.\n"
          ]
        },
        {
          "output_type": "stream",
          "name": "stdout",
          "text": [
            "Strategy 'ปิดฟ้าข้ามทะเล' เต็ม 27 แล้ว -> เปลี่ยนเป็น 'ทุกข์กาย'\n",
            "  เกม 277: ทุกข์กาย (รวม 11 อัน)\n"
          ]
        },
        {
          "output_type": "stream",
          "name": "stderr",
          "text": [
            "The following generation flags are not valid and may be ignored: ['temperature', 'top_p']. Set `TRANSFORMERS_VERBOSITY=info` for more details.\n"
          ]
        },
        {
          "output_type": "stream",
          "name": "stdout",
          "text": [
            "Strategy 'ปิดฟ้าข้ามทะเล' เต็ม 27 แล้ว -> เปลี่ยนเป็น 'ถอนฟืนใต้กระทะ'\n",
            "  เกม 278: ถอนฟืนใต้กระทะ (รวม 7 อัน)\n"
          ]
        },
        {
          "output_type": "stream",
          "name": "stderr",
          "text": [
            "The following generation flags are not valid and may be ignored: ['temperature', 'top_p']. Set `TRANSFORMERS_VERBOSITY=info` for more details.\n"
          ]
        },
        {
          "output_type": "stream",
          "name": "stdout",
          "text": [
            "Strategy 'ปิดฟ้าข้ามทะเล' เต็ม 27 แล้ว -> เปลี่ยนเป็น 'ชี้ต้นหม่อนด่าต้นไหว'\n",
            "  เกม 279: ชี้ต้นหม่อนด่าต้นไหว (รวม 5 อัน)\n"
          ]
        },
        {
          "output_type": "stream",
          "name": "stderr",
          "text": [
            "The following generation flags are not valid and may be ignored: ['temperature', 'top_p']. Set `TRANSFORMERS_VERBOSITY=info` for more details.\n"
          ]
        },
        {
          "output_type": "stream",
          "name": "stdout",
          "text": [
            "Strategy 'ปิดฟ้าข้ามทะเล' เต็ม 27 แล้ว -> เปลี่ยนเป็น 'ตีหญ้าให้งูตื่น'\n",
            "  เกม 280: ตีหญ้าให้งูตื่น (รวม 10 อัน)\n",
            "  -> วิเคราะห์แล้ว 280 เกม\n",
            "  -> Strategy ที่เต็ม 27 แล้ว: 1 กลยุทธ์\n",
            "\n",
            "แบทช์ 29: กำลังวิเคราะห์เกม 281-290\n"
          ]
        },
        {
          "output_type": "stream",
          "name": "stderr",
          "text": [
            "The following generation flags are not valid and may be ignored: ['temperature', 'top_p']. Set `TRANSFORMERS_VERBOSITY=info` for more details.\n"
          ]
        },
        {
          "output_type": "stream",
          "name": "stdout",
          "text": [
            "Strategy 'ปิดฟ้าข้ามทะเล' เต็ม 27 แล้ว -> เปลี่ยนเป็น 'ดูไฟชายฝั่ง'\n",
            "  เกม 281: ดูไฟชายฝั่ง (รวม 6 อัน)\n"
          ]
        },
        {
          "output_type": "stream",
          "name": "stderr",
          "text": [
            "The following generation flags are not valid and may be ignored: ['temperature', 'top_p']. Set `TRANSFORMERS_VERBOSITY=info` for more details.\n"
          ]
        },
        {
          "output_type": "stream",
          "name": "stdout",
          "text": [
            "Strategy 'ปิดฟ้าข้ามทะเล' เต็ม 27 แล้ว -> เปลี่ยนเป็น 'แสร้งทำบอแต่ไม่บ้า'\n",
            "  เกม 282: แสร้งทำบอแต่ไม่บ้า (รวม 8 อัน)\n"
          ]
        },
        {
          "output_type": "stream",
          "name": "stderr",
          "text": [
            "The following generation flags are not valid and may be ignored: ['temperature', 'top_p']. Set `TRANSFORMERS_VERBOSITY=info` for more details.\n"
          ]
        },
        {
          "output_type": "stream",
          "name": "stdout",
          "text": [
            "Strategy 'ปิดฟ้าข้ามทะเล' เต็ม 27 แล้ว -> เปลี่ยนเป็น 'ไส้ศึก'\n",
            "  เกม 283: ไส้ศึก (รวม 9 อัน)\n"
          ]
        },
        {
          "output_type": "stream",
          "name": "stderr",
          "text": [
            "The following generation flags are not valid and may be ignored: ['temperature', 'top_p']. Set `TRANSFORMERS_VERBOSITY=info` for more details.\n"
          ]
        },
        {
          "output_type": "stream",
          "name": "stdout",
          "text": [
            "Strategy 'ปิดฟ้าข้ามทะเล' เต็ม 27 แล้ว -> เปลี่ยนเป็น 'ยืมซากคืนชีพ'\n",
            "  เกม 284: ยืมซากคืนชีพ (รวม 6 อัน)\n"
          ]
        },
        {
          "output_type": "stream",
          "name": "stderr",
          "text": [
            "The following generation flags are not valid and may be ignored: ['temperature', 'top_p']. Set `TRANSFORMERS_VERBOSITY=info` for more details.\n"
          ]
        },
        {
          "output_type": "stream",
          "name": "stdout",
          "text": [
            "Strategy 'ปิดฟ้าข้ามทะเล' เต็ม 27 แล้ว -> เปลี่ยนเป็น 'แสร้งปล่อยเพื่อจับ'\n",
            "  เกม 285: แสร้งปล่อยเพื่อจับ (รวม 11 อัน)\n"
          ]
        },
        {
          "output_type": "stream",
          "name": "stderr",
          "text": [
            "The following generation flags are not valid and may be ignored: ['temperature', 'top_p']. Set `TRANSFORMERS_VERBOSITY=info` for more details.\n"
          ]
        },
        {
          "output_type": "stream",
          "name": "stdout",
          "text": [
            "Strategy 'ปิดฟ้าข้ามทะเล' เต็ม 27 แล้ว -> เปลี่ยนเป็น 'ลักขื่อเปลี่ยนเสา'\n",
            "  เกม 286: ลักขื่อเปลี่ยนเสา (รวม 8 อัน)\n"
          ]
        },
        {
          "output_type": "stream",
          "name": "stderr",
          "text": [
            "The following generation flags are not valid and may be ignored: ['temperature', 'top_p']. Set `TRANSFORMERS_VERBOSITY=info` for more details.\n"
          ]
        },
        {
          "output_type": "stream",
          "name": "stdout",
          "text": [
            "Strategy 'ปิดฟ้าข้ามทะเล' เต็ม 27 แล้ว -> เปลี่ยนเป็น 'ตีหญ้าให้งูตื่น'\n",
            "  เกม 287: ตีหญ้าให้งูตื่น (รวม 11 อัน)\n"
          ]
        },
        {
          "output_type": "stream",
          "name": "stderr",
          "text": [
            "The following generation flags are not valid and may be ignored: ['temperature', 'top_p']. Set `TRANSFORMERS_VERBOSITY=info` for more details.\n"
          ]
        },
        {
          "output_type": "stream",
          "name": "stdout",
          "text": [
            "Strategy 'ปิดฟ้าข้ามทะเล' เต็ม 27 แล้ว -> เปลี่ยนเป็น 'มีในไม่มี'\n",
            "  เกม 288: มีในไม่มี (รวม 7 อัน)\n"
          ]
        },
        {
          "output_type": "stream",
          "name": "stderr",
          "text": [
            "The following generation flags are not valid and may be ignored: ['temperature', 'top_p']. Set `TRANSFORMERS_VERBOSITY=info` for more details.\n"
          ]
        },
        {
          "output_type": "stream",
          "name": "stdout",
          "text": [
            "Strategy 'ปิดฟ้าข้ามทะเล' เต็ม 27 แล้ว -> เปลี่ยนเป็น 'จูงแพะติดมือ'\n",
            "  เกม 289: จูงแพะติดมือ (รวม 9 อัน)\n"
          ]
        },
        {
          "output_type": "stream",
          "name": "stderr",
          "text": [
            "The following generation flags are not valid and may be ignored: ['temperature', 'top_p']. Set `TRANSFORMERS_VERBOSITY=info` for more details.\n"
          ]
        },
        {
          "output_type": "stream",
          "name": "stdout",
          "text": [
            "Strategy 'ปิดฟ้าข้ามทะเล' เต็ม 27 แล้ว -> เปลี่ยนเป็น 'ล้อมเวยช่วยจ้าว'\n",
            "  เกม 290: ล้อมเวยช่วยจ้าว (รวม 5 อัน)\n",
            "  -> วิเคราะห์แล้ว 290 เกม\n",
            "  -> Strategy ที่เต็ม 27 แล้ว: 1 กลยุทธ์\n",
            "\n",
            "แบทช์ 30: กำลังวิเคราะห์เกม 291-300\n"
          ]
        },
        {
          "output_type": "stream",
          "name": "stderr",
          "text": [
            "The following generation flags are not valid and may be ignored: ['temperature', 'top_p']. Set `TRANSFORMERS_VERBOSITY=info` for more details.\n"
          ]
        },
        {
          "output_type": "stream",
          "name": "stdout",
          "text": [
            "Strategy 'ปิดฟ้าข้ามทะเล' เต็ม 27 แล้ว -> เปลี่ยนเป็น 'จูงแพะติดมือ'\n",
            "  เกม 291: จูงแพะติดมือ (รวม 10 อัน)\n"
          ]
        },
        {
          "output_type": "stream",
          "name": "stderr",
          "text": [
            "The following generation flags are not valid and may be ignored: ['temperature', 'top_p']. Set `TRANSFORMERS_VERBOSITY=info` for more details.\n"
          ]
        },
        {
          "output_type": "stream",
          "name": "stdout",
          "text": [
            "Strategy 'ปิดฟ้าข้ามทะเล' เต็ม 27 แล้ว -> เปลี่ยนเป็น 'จับโจรเอาหัวโจก'\n",
            "  เกม 292: จับโจรเอาหัวโจก (รวม 9 อัน)\n"
          ]
        },
        {
          "output_type": "stream",
          "name": "stderr",
          "text": [
            "The following generation flags are not valid and may be ignored: ['temperature', 'top_p']. Set `TRANSFORMERS_VERBOSITY=info` for more details.\n"
          ]
        },
        {
          "output_type": "stream",
          "name": "stdout",
          "text": [
            "Strategy 'ปิดฟ้าข้ามทะเล' เต็ม 27 แล้ว -> เปลี่ยนเป็น 'ยืมซากคืนชีพ'\n",
            "  เกม 293: ยืมซากคืนชีพ (รวม 7 อัน)\n"
          ]
        },
        {
          "output_type": "stream",
          "name": "stderr",
          "text": [
            "The following generation flags are not valid and may be ignored: ['temperature', 'top_p']. Set `TRANSFORMERS_VERBOSITY=info` for more details.\n"
          ]
        },
        {
          "output_type": "stream",
          "name": "stdout",
          "text": [
            "Strategy 'ปิดฟ้าข้ามทะเล' เต็ม 27 แล้ว -> เปลี่ยนเป็น 'ส่งเสียงบูรพาฝ่าตีประจิม'\n",
            "  เกม 294: ส่งเสียงบูรพาฝ่าตีประจิม (รวม 9 อัน)\n"
          ]
        },
        {
          "output_type": "stream",
          "name": "stderr",
          "text": [
            "The following generation flags are not valid and may be ignored: ['temperature', 'top_p']. Set `TRANSFORMERS_VERBOSITY=info` for more details.\n"
          ]
        },
        {
          "output_type": "stream",
          "name": "stdout",
          "text": [
            "Strategy 'ปิดฟ้าข้ามทะเล' เต็ม 27 แล้ว -> เปลี่ยนเป็น 'ชี้ต้นหม่อนด่าต้นไหว'\n",
            "  เกม 295: ชี้ต้นหม่อนด่าต้นไหว (รวม 6 อัน)\n"
          ]
        },
        {
          "output_type": "stream",
          "name": "stderr",
          "text": [
            "The following generation flags are not valid and may be ignored: ['temperature', 'top_p']. Set `TRANSFORMERS_VERBOSITY=info` for more details.\n"
          ]
        },
        {
          "output_type": "stream",
          "name": "stdout",
          "text": [
            "Strategy 'ปิดฟ้าข้ามทะเล' เต็ม 27 แล้ว -> เปลี่ยนเป็น 'ต้นไม้ผลิดอก'\n",
            "  เกม 296: ต้นไม้ผลิดอก (รวม 3 อัน)\n"
          ]
        },
        {
          "output_type": "stream",
          "name": "stderr",
          "text": [
            "The following generation flags are not valid and may be ignored: ['temperature', 'top_p']. Set `TRANSFORMERS_VERBOSITY=info` for more details.\n"
          ]
        },
        {
          "output_type": "stream",
          "name": "stdout",
          "text": [
            "Strategy 'ปิดฟ้าข้ามทะเล' เต็ม 27 แล้ว -> เปลี่ยนเป็น 'มีในไม่มี'\n",
            "  เกม 297: มีในไม่มี (รวม 8 อัน)\n"
          ]
        },
        {
          "output_type": "stream",
          "name": "stderr",
          "text": [
            "The following generation flags are not valid and may be ignored: ['temperature', 'top_p']. Set `TRANSFORMERS_VERBOSITY=info` for more details.\n"
          ]
        },
        {
          "output_type": "stream",
          "name": "stdout",
          "text": [
            "Strategy 'ปิดฟ้าข้ามทะเล' เต็ม 27 แล้ว -> เปลี่ยนเป็น 'ชี้ต้นหม่อนด่าต้นไหว'\n",
            "  เกม 298: ชี้ต้นหม่อนด่าต้นไหว (รวม 7 อัน)\n"
          ]
        },
        {
          "output_type": "stream",
          "name": "stderr",
          "text": [
            "The following generation flags are not valid and may be ignored: ['temperature', 'top_p']. Set `TRANSFORMERS_VERBOSITY=info` for more details.\n"
          ]
        },
        {
          "output_type": "stream",
          "name": "stdout",
          "text": [
            "Strategy 'ปิดฟ้าข้ามทะเล' เต็ม 27 แล้ว -> เปลี่ยนเป็น 'ล้อมเวยช่วยจ้าว'\n",
            "  เกม 299: ล้อมเวยช่วยจ้าว (รวม 6 อัน)\n"
          ]
        },
        {
          "output_type": "stream",
          "name": "stderr",
          "text": [
            "The following generation flags are not valid and may be ignored: ['temperature', 'top_p']. Set `TRANSFORMERS_VERBOSITY=info` for more details.\n"
          ]
        },
        {
          "output_type": "stream",
          "name": "stdout",
          "text": [
            "Strategy 'ปิดฟ้าข้ามทะเล' เต็ม 27 แล้ว -> เปลี่ยนเป็น 'คบไกลตีใกล้'\n",
            "  เกม 300: คบไกลตีใกล้ (รวม 6 อัน)\n",
            "  -> วิเคราะห์แล้ว 300 เกม\n",
            "  -> Strategy ที่เต็ม 27 แล้ว: 1 กลยุทธ์\n",
            "  -> บันทึกผลกลางแล้ว 300 เกม\n",
            "\n",
            "แบทช์ 31: กำลังวิเคราะห์เกม 301-310\n"
          ]
        },
        {
          "output_type": "stream",
          "name": "stderr",
          "text": [
            "The following generation flags are not valid and may be ignored: ['temperature', 'top_p']. Set `TRANSFORMERS_VERBOSITY=info` for more details.\n"
          ]
        },
        {
          "output_type": "stream",
          "name": "stdout",
          "text": [
            "Strategy 'ปิดฟ้าข้ามทะเล' เต็ม 27 แล้ว -> เปลี่ยนเป็น 'หลี่ตายแทนถาว'\n",
            "  เกม 301: หลี่ตายแทนถาว (รวม 6 อัน)\n"
          ]
        },
        {
          "output_type": "stream",
          "name": "stderr",
          "text": [
            "The following generation flags are not valid and may be ignored: ['temperature', 'top_p']. Set `TRANSFORMERS_VERBOSITY=info` for more details.\n"
          ]
        },
        {
          "output_type": "stream",
          "name": "stdout",
          "text": [
            "Strategy 'ปิดฟ้าข้ามทะเล' เต็ม 27 แล้ว -> เปลี่ยนเป็น 'ลอบตีเฉินชาง'\n",
            "  เกม 302: ลอบตีเฉินชาง (รวม 11 อัน)\n"
          ]
        },
        {
          "output_type": "stream",
          "name": "stderr",
          "text": [
            "The following generation flags are not valid and may be ignored: ['temperature', 'top_p']. Set `TRANSFORMERS_VERBOSITY=info` for more details.\n"
          ]
        },
        {
          "output_type": "stream",
          "name": "stdout",
          "text": [
            "Strategy 'ปิดฟ้าข้ามทะเล' เต็ม 27 แล้ว -> เปลี่ยนเป็น 'สาวงาม'\n",
            "  เกม 303: สาวงาม (รวม 7 อัน)\n"
          ]
        },
        {
          "output_type": "stream",
          "name": "stderr",
          "text": [
            "The following generation flags are not valid and may be ignored: ['temperature', 'top_p']. Set `TRANSFORMERS_VERBOSITY=info` for more details.\n"
          ]
        },
        {
          "output_type": "stream",
          "name": "stdout",
          "text": [
            "Strategy 'ปิดฟ้าข้ามทะเล' เต็ม 27 แล้ว -> เปลี่ยนเป็น 'หลบหนี'\n",
            "  เกม 304: หลบหนี (รวม 6 อัน)\n"
          ]
        },
        {
          "output_type": "stream",
          "name": "stderr",
          "text": [
            "The following generation flags are not valid and may be ignored: ['temperature', 'top_p']. Set `TRANSFORMERS_VERBOSITY=info` for more details.\n"
          ]
        },
        {
          "output_type": "stream",
          "name": "stdout",
          "text": [
            "Strategy 'ปิดฟ้าข้ามทะเล' เต็ม 27 แล้ว -> เปลี่ยนเป็น 'สลับแขกเป็นเจ้าบ้าน'\n",
            "  เกม 305: สลับแขกเป็นเจ้าบ้าน (รวม 9 อัน)\n"
          ]
        },
        {
          "output_type": "stream",
          "name": "stderr",
          "text": [
            "The following generation flags are not valid and may be ignored: ['temperature', 'top_p']. Set `TRANSFORMERS_VERBOSITY=info` for more details.\n"
          ]
        },
        {
          "output_type": "stream",
          "name": "stdout",
          "text": [
            "Strategy 'ปิดฟ้าข้ามทะเล' เต็ม 27 แล้ว -> เปลี่ยนเป็น 'เปิดเมือง'\n",
            "  เกม 306: เปิดเมือง (รวม 9 อัน)\n"
          ]
        },
        {
          "output_type": "stream",
          "name": "stderr",
          "text": [
            "The following generation flags are not valid and may be ignored: ['temperature', 'top_p']. Set `TRANSFORMERS_VERBOSITY=info` for more details.\n"
          ]
        },
        {
          "output_type": "stream",
          "name": "stdout",
          "text": [
            "Strategy 'ปิดฟ้าข้ามทะเล' เต็ม 27 แล้ว -> เปลี่ยนเป็น 'ตีชิงตามไฟ'\n",
            "  เกม 307: ตีชิงตามไฟ (รวม 7 อัน)\n"
          ]
        },
        {
          "output_type": "stream",
          "name": "stderr",
          "text": [
            "The following generation flags are not valid and may be ignored: ['temperature', 'top_p']. Set `TRANSFORMERS_VERBOSITY=info` for more details.\n"
          ]
        },
        {
          "output_type": "stream",
          "name": "stdout",
          "text": [
            "Strategy 'ปิดฟ้าข้ามทะเล' เต็ม 27 แล้ว -> เปลี่ยนเป็น 'ทุกข์กาย'\n",
            "  เกม 308: ทุกข์กาย (รวม 12 อัน)\n"
          ]
        },
        {
          "output_type": "stream",
          "name": "stderr",
          "text": [
            "The following generation flags are not valid and may be ignored: ['temperature', 'top_p']. Set `TRANSFORMERS_VERBOSITY=info` for more details.\n"
          ]
        },
        {
          "output_type": "stream",
          "name": "stdout",
          "text": [
            "Strategy 'ปิดฟ้าข้ามทะเล' เต็ม 27 แล้ว -> เปลี่ยนเป็น 'ชี้ต้นหม่อนด่าต้นไหว'\n",
            "  เกม 309: ชี้ต้นหม่อนด่าต้นไหว (รวม 8 อัน)\n"
          ]
        },
        {
          "output_type": "stream",
          "name": "stderr",
          "text": [
            "The following generation flags are not valid and may be ignored: ['temperature', 'top_p']. Set `TRANSFORMERS_VERBOSITY=info` for more details.\n"
          ]
        },
        {
          "output_type": "stream",
          "name": "stdout",
          "text": [
            "Strategy 'ปิดฟ้าข้ามทะเล' เต็ม 27 แล้ว -> เปลี่ยนเป็น 'ปิดประตูจับโจร'\n",
            "  เกม 310: ปิดประตูจับโจร (รวม 8 อัน)\n",
            "  -> วิเคราะห์แล้ว 310 เกม\n",
            "  -> Strategy ที่เต็ม 27 แล้ว: 1 กลยุทธ์\n",
            "\n",
            "แบทช์ 32: กำลังวิเคราะห์เกม 311-320\n"
          ]
        },
        {
          "output_type": "stream",
          "name": "stderr",
          "text": [
            "The following generation flags are not valid and may be ignored: ['temperature', 'top_p']. Set `TRANSFORMERS_VERBOSITY=info` for more details.\n"
          ]
        },
        {
          "output_type": "stream",
          "name": "stdout",
          "text": [
            "Strategy 'ปิดฟ้าข้ามทะเล' เต็ม 27 แล้ว -> เปลี่ยนเป็น 'สลับแขกเป็นเจ้าบ้าน'\n",
            "  เกม 311: สลับแขกเป็นเจ้าบ้าน (รวม 10 อัน)\n"
          ]
        },
        {
          "output_type": "stream",
          "name": "stderr",
          "text": [
            "The following generation flags are not valid and may be ignored: ['temperature', 'top_p']. Set `TRANSFORMERS_VERBOSITY=info` for more details.\n"
          ]
        },
        {
          "output_type": "stream",
          "name": "stdout",
          "text": [
            "Strategy 'ปิดฟ้าข้ามทะเล' เต็ม 27 แล้ว -> เปลี่ยนเป็น 'สาวงาม'\n",
            "  เกม 312: สาวงาม (รวม 8 อัน)\n"
          ]
        },
        {
          "output_type": "stream",
          "name": "stderr",
          "text": [
            "The following generation flags are not valid and may be ignored: ['temperature', 'top_p']. Set `TRANSFORMERS_VERBOSITY=info` for more details.\n"
          ]
        },
        {
          "output_type": "stream",
          "name": "stdout",
          "text": [
            "Strategy 'ปิดฟ้าข้ามทะเล' เต็ม 27 แล้ว -> เปลี่ยนเป็น 'เปิดเมือง'\n",
            "  เกม 313: เปิดเมือง (รวม 10 อัน)\n"
          ]
        },
        {
          "output_type": "stream",
          "name": "stderr",
          "text": [
            "The following generation flags are not valid and may be ignored: ['temperature', 'top_p']. Set `TRANSFORMERS_VERBOSITY=info` for more details.\n"
          ]
        },
        {
          "output_type": "stream",
          "name": "stdout",
          "text": [
            "Strategy 'ปิดฟ้าข้ามทะเล' เต็ม 27 แล้ว -> เปลี่ยนเป็น 'ต้นไม้ผลิดอก'\n",
            "  เกม 314: ต้นไม้ผลิดอก (รวม 4 อัน)\n"
          ]
        },
        {
          "output_type": "stream",
          "name": "stderr",
          "text": [
            "The following generation flags are not valid and may be ignored: ['temperature', 'top_p']. Set `TRANSFORMERS_VERBOSITY=info` for more details.\n"
          ]
        },
        {
          "output_type": "stream",
          "name": "stdout",
          "text": [
            "Strategy 'ปิดฟ้าข้ามทะเล' เต็ม 27 แล้ว -> เปลี่ยนเป็น 'จักจั่นลอกคราบ'\n",
            "  เกม 315: จักจั่นลอกคราบ (รวม 6 อัน)\n"
          ]
        },
        {
          "output_type": "stream",
          "name": "stderr",
          "text": [
            "The following generation flags are not valid and may be ignored: ['temperature', 'top_p']. Set `TRANSFORMERS_VERBOSITY=info` for more details.\n"
          ]
        },
        {
          "output_type": "stream",
          "name": "stdout",
          "text": [
            "Strategy 'ปิดฟ้าข้ามทะเล' เต็ม 27 แล้ว -> เปลี่ยนเป็น 'ล่อเสือออกจากถ้ำ'\n",
            "  เกม 316: ล่อเสือออกจากถ้ำ (รวม 13 อัน)\n"
          ]
        },
        {
          "output_type": "stream",
          "name": "stderr",
          "text": [
            "The following generation flags are not valid and may be ignored: ['temperature', 'top_p']. Set `TRANSFORMERS_VERBOSITY=info` for more details.\n"
          ]
        },
        {
          "output_type": "stream",
          "name": "stdout",
          "text": [
            "Strategy 'ปิดฟ้าข้ามทะเล' เต็ม 27 แล้ว -> เปลี่ยนเป็น 'เปิดเมือง'\n",
            "  เกม 317: เปิดเมือง (รวม 11 อัน)\n"
          ]
        },
        {
          "output_type": "stream",
          "name": "stderr",
          "text": [
            "The following generation flags are not valid and may be ignored: ['temperature', 'top_p']. Set `TRANSFORMERS_VERBOSITY=info` for more details.\n"
          ]
        },
        {
          "output_type": "stream",
          "name": "stdout",
          "text": [
            "Strategy 'ปิดฟ้าข้ามทะเล' เต็ม 27 แล้ว -> เปลี่ยนเป็น 'หลบหนี'\n",
            "  เกม 318: หลบหนี (รวม 7 อัน)\n"
          ]
        },
        {
          "output_type": "stream",
          "name": "stderr",
          "text": [
            "The following generation flags are not valid and may be ignored: ['temperature', 'top_p']. Set `TRANSFORMERS_VERBOSITY=info` for more details.\n"
          ]
        },
        {
          "output_type": "stream",
          "name": "stdout",
          "text": [
            "Strategy 'ปิดฟ้าข้ามทะเล' เต็ม 27 แล้ว -> เปลี่ยนเป็น 'ทุกข์กาย'\n",
            "  เกม 319: ทุกข์กาย (รวม 13 อัน)\n"
          ]
        },
        {
          "output_type": "stream",
          "name": "stderr",
          "text": [
            "The following generation flags are not valid and may be ignored: ['temperature', 'top_p']. Set `TRANSFORMERS_VERBOSITY=info` for more details.\n"
          ]
        },
        {
          "output_type": "stream",
          "name": "stdout",
          "text": [
            "Strategy 'ปิดฟ้าข้ามทะเล' เต็ม 27 แล้ว -> เปลี่ยนเป็น 'จับโจรเอาหัวโจก'\n",
            "  เกม 320: จับโจรเอาหัวโจก (รวม 10 อัน)\n",
            "  -> วิเคราะห์แล้ว 320 เกม\n",
            "  -> Strategy ที่เต็ม 27 แล้ว: 1 กลยุทธ์\n",
            "\n",
            "แบทช์ 33: กำลังวิเคราะห์เกม 321-330\n"
          ]
        },
        {
          "output_type": "stream",
          "name": "stderr",
          "text": [
            "The following generation flags are not valid and may be ignored: ['temperature', 'top_p']. Set `TRANSFORMERS_VERBOSITY=info` for more details.\n"
          ]
        },
        {
          "output_type": "stream",
          "name": "stdout",
          "text": [
            "Strategy 'ปิดฟ้าข้ามทะเล' เต็ม 27 แล้ว -> เปลี่ยนเป็น 'สาวงาม'\n",
            "  เกม 321: สาวงาม (รวม 9 อัน)\n"
          ]
        },
        {
          "output_type": "stream",
          "name": "stderr",
          "text": [
            "The following generation flags are not valid and may be ignored: ['temperature', 'top_p']. Set `TRANSFORMERS_VERBOSITY=info` for more details.\n"
          ]
        },
        {
          "output_type": "stream",
          "name": "stdout",
          "text": [
            "Strategy 'ปิดฟ้าข้ามทะเล' เต็ม 27 แล้ว -> เปลี่ยนเป็น 'ตีหญ้าให้งูตื่น'\n",
            "  เกม 322: ตีหญ้าให้งูตื่น (รวม 12 อัน)\n"
          ]
        },
        {
          "output_type": "stream",
          "name": "stderr",
          "text": [
            "The following generation flags are not valid and may be ignored: ['temperature', 'top_p']. Set `TRANSFORMERS_VERBOSITY=info` for more details.\n"
          ]
        },
        {
          "output_type": "stream",
          "name": "stdout",
          "text": [
            "Strategy 'ปิดฟ้าข้ามทะเล' เต็ม 27 แล้ว -> เปลี่ยนเป็น 'ซ่อนดาบในรอยยิ้ม'\n",
            "  เกม 323: ซ่อนดาบในรอยยิ้ม (รวม 8 อัน)\n"
          ]
        },
        {
          "output_type": "stream",
          "name": "stderr",
          "text": [
            "The following generation flags are not valid and may be ignored: ['temperature', 'top_p']. Set `TRANSFORMERS_VERBOSITY=info` for more details.\n"
          ]
        },
        {
          "output_type": "stream",
          "name": "stdout",
          "text": [
            "Strategy 'ปิดฟ้าข้ามทะเล' เต็ม 27 แล้ว -> เปลี่ยนเป็น 'ส่งเสียงบูรพาฝ่าตีประจิม'\n",
            "  เกม 324: ส่งเสียงบูรพาฝ่าตีประจิม (รวม 10 อัน)\n"
          ]
        },
        {
          "output_type": "stream",
          "name": "stderr",
          "text": [
            "The following generation flags are not valid and may be ignored: ['temperature', 'top_p']. Set `TRANSFORMERS_VERBOSITY=info` for more details.\n"
          ]
        },
        {
          "output_type": "stream",
          "name": "stdout",
          "text": [
            "Strategy 'ปิดฟ้าข้ามทะเล' เต็ม 27 แล้ว -> เปลี่ยนเป็น 'แสร้งปล่อยเพื่อจับ'\n",
            "  เกม 325: แสร้งปล่อยเพื่อจับ (รวม 12 อัน)\n"
          ]
        },
        {
          "output_type": "stream",
          "name": "stderr",
          "text": [
            "The following generation flags are not valid and may be ignored: ['temperature', 'top_p']. Set `TRANSFORMERS_VERBOSITY=info` for more details.\n"
          ]
        },
        {
          "output_type": "stream",
          "name": "stdout",
          "text": [
            "Strategy 'ปิดฟ้าข้ามทะเล' เต็ม 27 แล้ว -> เปลี่ยนเป็น 'แสร้งปล่อยเพื่อจับ'\n",
            "  เกม 326: แสร้งปล่อยเพื่อจับ (รวม 13 อัน)\n"
          ]
        },
        {
          "output_type": "stream",
          "name": "stderr",
          "text": [
            "The following generation flags are not valid and may be ignored: ['temperature', 'top_p']. Set `TRANSFORMERS_VERBOSITY=info` for more details.\n"
          ]
        },
        {
          "output_type": "stream",
          "name": "stdout",
          "text": [
            "Strategy 'ปิดฟ้าข้ามทะเล' เต็ม 27 แล้ว -> เปลี่ยนเป็น 'ล้อมเวยช่วยจ้าว'\n",
            "  เกม 327: ล้อมเวยช่วยจ้าว (รวม 7 อัน)\n"
          ]
        },
        {
          "output_type": "stream",
          "name": "stderr",
          "text": [
            "The following generation flags are not valid and may be ignored: ['temperature', 'top_p']. Set `TRANSFORMERS_VERBOSITY=info` for more details.\n"
          ]
        },
        {
          "output_type": "stream",
          "name": "stdout",
          "text": [
            "Strategy 'ปิดฟ้าข้ามทะเล' เต็ม 27 แล้ว -> เปลี่ยนเป็น 'มีในไม่มี'\n",
            "  เกม 328: มีในไม่มี (รวม 9 อัน)\n"
          ]
        },
        {
          "output_type": "stream",
          "name": "stderr",
          "text": [
            "The following generation flags are not valid and may be ignored: ['temperature', 'top_p']. Set `TRANSFORMERS_VERBOSITY=info` for more details.\n"
          ]
        },
        {
          "output_type": "stream",
          "name": "stdout",
          "text": [
            "Strategy 'ปิดฟ้าข้ามทะเล' เต็ม 27 แล้ว -> เปลี่ยนเป็น 'สาวงาม'\n",
            "  เกม 329: สาวงาม (รวม 10 อัน)\n"
          ]
        },
        {
          "output_type": "stream",
          "name": "stderr",
          "text": [
            "The following generation flags are not valid and may be ignored: ['temperature', 'top_p']. Set `TRANSFORMERS_VERBOSITY=info` for more details.\n"
          ]
        },
        {
          "output_type": "stream",
          "name": "stdout",
          "text": [
            "Strategy 'ปิดฟ้าข้ามทะเล' เต็ม 27 แล้ว -> เปลี่ยนเป็น 'ตีชิงตามไฟ'\n",
            "  เกม 330: ตีชิงตามไฟ (รวม 8 อัน)\n",
            "  -> วิเคราะห์แล้ว 330 เกม\n",
            "  -> Strategy ที่เต็ม 27 แล้ว: 1 กลยุทธ์\n",
            "\n",
            "แบทช์ 34: กำลังวิเคราะห์เกม 331-340\n"
          ]
        },
        {
          "output_type": "stream",
          "name": "stderr",
          "text": [
            "The following generation flags are not valid and may be ignored: ['temperature', 'top_p']. Set `TRANSFORMERS_VERBOSITY=info` for more details.\n"
          ]
        },
        {
          "output_type": "stream",
          "name": "stdout",
          "text": [
            "Strategy 'ปิดฟ้าข้ามทะเล' เต็ม 27 แล้ว -> เปลี่ยนเป็น 'ชี้ต้นหม่อนด่าต้นไหว'\n",
            "  เกม 331: ชี้ต้นหม่อนด่าต้นไหว (รวม 9 อัน)\n"
          ]
        },
        {
          "output_type": "stream",
          "name": "stderr",
          "text": [
            "The following generation flags are not valid and may be ignored: ['temperature', 'top_p']. Set `TRANSFORMERS_VERBOSITY=info` for more details.\n"
          ]
        },
        {
          "output_type": "stream",
          "name": "stdout",
          "text": [
            "Strategy 'ปิดฟ้าข้ามทะเล' เต็ม 27 แล้ว -> เปลี่ยนเป็น 'ตีหญ้าให้งูตื่น'\n",
            "  เกม 332: ตีหญ้าให้งูตื่น (รวม 13 อัน)\n"
          ]
        },
        {
          "output_type": "stream",
          "name": "stderr",
          "text": [
            "The following generation flags are not valid and may be ignored: ['temperature', 'top_p']. Set `TRANSFORMERS_VERBOSITY=info` for more details.\n"
          ]
        },
        {
          "output_type": "stream",
          "name": "stdout",
          "text": [
            "Strategy 'ปิดฟ้าข้ามทะเล' เต็ม 27 แล้ว -> เปลี่ยนเป็น 'ลักขื่อเปลี่ยนเสา'\n",
            "  เกม 333: ลักขื่อเปลี่ยนเสา (รวม 9 อัน)\n"
          ]
        },
        {
          "output_type": "stream",
          "name": "stderr",
          "text": [
            "The following generation flags are not valid and may be ignored: ['temperature', 'top_p']. Set `TRANSFORMERS_VERBOSITY=info` for more details.\n"
          ]
        },
        {
          "output_type": "stream",
          "name": "stdout",
          "text": [
            "Strategy 'ปิดฟ้าข้ามทะเล' เต็ม 27 แล้ว -> เปลี่ยนเป็น 'จับโจรเอาหัวโจก'\n",
            "  เกม 334: จับโจรเอาหัวโจก (รวม 11 อัน)\n"
          ]
        },
        {
          "output_type": "stream",
          "name": "stderr",
          "text": [
            "The following generation flags are not valid and may be ignored: ['temperature', 'top_p']. Set `TRANSFORMERS_VERBOSITY=info` for more details.\n"
          ]
        },
        {
          "output_type": "stream",
          "name": "stdout",
          "text": [
            "Strategy 'ปิดฟ้าข้ามทะเล' เต็ม 27 แล้ว -> เปลี่ยนเป็น 'ทุกข์กาย'\n",
            "  เกม 335: ทุกข์กาย (รวม 14 อัน)\n"
          ]
        },
        {
          "output_type": "stream",
          "name": "stderr",
          "text": [
            "The following generation flags are not valid and may be ignored: ['temperature', 'top_p']. Set `TRANSFORMERS_VERBOSITY=info` for more details.\n"
          ]
        },
        {
          "output_type": "stream",
          "name": "stdout",
          "text": [
            "Strategy 'ปิดฟ้าข้ามทะเล' เต็ม 27 แล้ว -> เปลี่ยนเป็น 'รอซ้ำยามเปลี้ย'\n",
            "  เกม 336: รอซ้ำยามเปลี้ย (รวม 8 อัน)\n"
          ]
        },
        {
          "output_type": "stream",
          "name": "stderr",
          "text": [
            "The following generation flags are not valid and may be ignored: ['temperature', 'top_p']. Set `TRANSFORMERS_VERBOSITY=info` for more details.\n"
          ]
        },
        {
          "output_type": "stream",
          "name": "stdout",
          "text": [
            "Strategy 'ปิดฟ้าข้ามทะเล' เต็ม 27 แล้ว -> เปลี่ยนเป็น 'ถอนฟืนใต้กระทะ'\n",
            "  เกม 337: ถอนฟืนใต้กระทะ (รวม 8 อัน)\n"
          ]
        },
        {
          "output_type": "stream",
          "name": "stderr",
          "text": [
            "The following generation flags are not valid and may be ignored: ['temperature', 'top_p']. Set `TRANSFORMERS_VERBOSITY=info` for more details.\n"
          ]
        },
        {
          "output_type": "stream",
          "name": "stdout",
          "text": [
            "Strategy 'ปิดฟ้าข้ามทะเล' เต็ม 27 แล้ว -> เปลี่ยนเป็น 'ล่อเสือออกจากถ้ำ'\n",
            "  เกม 338: ล่อเสือออกจากถ้ำ (รวม 14 อัน)\n"
          ]
        },
        {
          "output_type": "stream",
          "name": "stderr",
          "text": [
            "The following generation flags are not valid and may be ignored: ['temperature', 'top_p']. Set `TRANSFORMERS_VERBOSITY=info` for more details.\n"
          ]
        },
        {
          "output_type": "stream",
          "name": "stdout",
          "text": [
            "Strategy 'ปิดฟ้าข้ามทะเล' เต็ม 27 แล้ว -> เปลี่ยนเป็น 'ส่งเสียงบูรพาฝ่าตีประจิม'\n",
            "  เกม 339: ส่งเสียงบูรพาฝ่าตีประจิม (รวม 11 อัน)\n"
          ]
        },
        {
          "output_type": "stream",
          "name": "stderr",
          "text": [
            "The following generation flags are not valid and may be ignored: ['temperature', 'top_p']. Set `TRANSFORMERS_VERBOSITY=info` for more details.\n"
          ]
        },
        {
          "output_type": "stream",
          "name": "stdout",
          "text": [
            "Strategy 'ปิดฟ้าข้ามทะเล' เต็ม 27 แล้ว -> เปลี่ยนเป็น 'ถอนฟืนใต้กระทะ'\n",
            "  เกม 340: ถอนฟืนใต้กระทะ (รวม 9 อัน)\n",
            "  -> วิเคราะห์แล้ว 340 เกม\n",
            "  -> Strategy ที่เต็ม 27 แล้ว: 1 กลยุทธ์\n",
            "\n",
            "แบทช์ 35: กำลังวิเคราะห์เกม 341-350\n"
          ]
        },
        {
          "output_type": "stream",
          "name": "stderr",
          "text": [
            "The following generation flags are not valid and may be ignored: ['temperature', 'top_p']. Set `TRANSFORMERS_VERBOSITY=info` for more details.\n"
          ]
        },
        {
          "output_type": "stream",
          "name": "stdout",
          "text": [
            "Strategy 'ปิดฟ้าข้ามทะเล' เต็ม 27 แล้ว -> เปลี่ยนเป็น 'ยืมทางพรางกล'\n",
            "  เกม 341: ยืมทางพรางกล (รวม 9 อัน)\n"
          ]
        },
        {
          "output_type": "stream",
          "name": "stderr",
          "text": [
            "The following generation flags are not valid and may be ignored: ['temperature', 'top_p']. Set `TRANSFORMERS_VERBOSITY=info` for more details.\n"
          ]
        },
        {
          "output_type": "stream",
          "name": "stdout",
          "text": [
            "Strategy 'ปิดฟ้าข้ามทะเล' เต็ม 27 แล้ว -> เปลี่ยนเป็น 'ยืมซากคืนชีพ'\n",
            "  เกม 342: ยืมซากคืนชีพ (รวม 8 อัน)\n"
          ]
        },
        {
          "output_type": "stream",
          "name": "stderr",
          "text": [
            "The following generation flags are not valid and may be ignored: ['temperature', 'top_p']. Set `TRANSFORMERS_VERBOSITY=info` for more details.\n"
          ]
        },
        {
          "output_type": "stream",
          "name": "stdout",
          "text": [
            "Strategy 'ปิดฟ้าข้ามทะเล' เต็ม 27 แล้ว -> เปลี่ยนเป็น 'ดูไฟชายฝั่ง'\n",
            "  เกม 343: ดูไฟชายฝั่ง (รวม 7 อัน)\n"
          ]
        },
        {
          "output_type": "stream",
          "name": "stderr",
          "text": [
            "The following generation flags are not valid and may be ignored: ['temperature', 'top_p']. Set `TRANSFORMERS_VERBOSITY=info` for more details.\n"
          ]
        },
        {
          "output_type": "stream",
          "name": "stdout",
          "text": [
            "Strategy 'ปิดฟ้าข้ามทะเล' เต็ม 27 แล้ว -> เปลี่ยนเป็น 'ลูกโซ่'\n",
            "  เกม 344: ลูกโซ่ (รวม 9 อัน)\n"
          ]
        },
        {
          "output_type": "stream",
          "name": "stderr",
          "text": [
            "The following generation flags are not valid and may be ignored: ['temperature', 'top_p']. Set `TRANSFORMERS_VERBOSITY=info` for more details.\n"
          ]
        },
        {
          "output_type": "stream",
          "name": "stdout",
          "text": [
            "Strategy 'ปิดฟ้าข้ามทะเล' เต็ม 27 แล้ว -> เปลี่ยนเป็น 'ยืมทางพรางกล'\n",
            "  เกม 345: ยืมทางพรางกล (รวม 10 อัน)\n"
          ]
        },
        {
          "output_type": "stream",
          "name": "stderr",
          "text": [
            "The following generation flags are not valid and may be ignored: ['temperature', 'top_p']. Set `TRANSFORMERS_VERBOSITY=info` for more details.\n"
          ]
        },
        {
          "output_type": "stream",
          "name": "stdout",
          "text": [
            "Strategy 'ปิดฟ้าข้ามทะเล' เต็ม 27 แล้ว -> เปลี่ยนเป็น 'ซ่อนดาบในรอยยิ้ม'\n",
            "  เกม 346: ซ่อนดาบในรอยยิ้ม (รวม 9 อัน)\n"
          ]
        },
        {
          "output_type": "stream",
          "name": "stderr",
          "text": [
            "The following generation flags are not valid and may be ignored: ['temperature', 'top_p']. Set `TRANSFORMERS_VERBOSITY=info` for more details.\n"
          ]
        },
        {
          "output_type": "stream",
          "name": "stdout",
          "text": [
            "Strategy 'ปิดฟ้าข้ามทะเล' เต็ม 27 แล้ว -> เปลี่ยนเป็น 'ตีหญ้าให้งูตื่น'\n",
            "  เกม 347: ตีหญ้าให้งูตื่น (รวม 14 อัน)\n"
          ]
        },
        {
          "output_type": "stream",
          "name": "stderr",
          "text": [
            "The following generation flags are not valid and may be ignored: ['temperature', 'top_p']. Set `TRANSFORMERS_VERBOSITY=info` for more details.\n"
          ]
        },
        {
          "output_type": "stream",
          "name": "stdout",
          "text": [
            "Strategy 'ปิดฟ้าข้ามทะเล' เต็ม 27 แล้ว -> เปลี่ยนเป็น 'ลอบตีเฉินชาง'\n",
            "  เกม 348: ลอบตีเฉินชาง (รวม 12 อัน)\n"
          ]
        },
        {
          "output_type": "stream",
          "name": "stderr",
          "text": [
            "The following generation flags are not valid and may be ignored: ['temperature', 'top_p']. Set `TRANSFORMERS_VERBOSITY=info` for more details.\n"
          ]
        },
        {
          "output_type": "stream",
          "name": "stdout",
          "text": [
            "Strategy 'ปิดฟ้าข้ามทะเล' เต็ม 27 แล้ว -> เปลี่ยนเป็น 'ยืมซากคืนชีพ'\n",
            "  เกม 349: ยืมซากคืนชีพ (รวม 9 อัน)\n"
          ]
        },
        {
          "output_type": "stream",
          "name": "stderr",
          "text": [
            "The following generation flags are not valid and may be ignored: ['temperature', 'top_p']. Set `TRANSFORMERS_VERBOSITY=info` for more details.\n"
          ]
        },
        {
          "output_type": "stream",
          "name": "stdout",
          "text": [
            "Strategy 'ปิดฟ้าข้ามทะเล' เต็ม 27 แล้ว -> เปลี่ยนเป็น 'ยืมทางพรางกล'\n",
            "  เกม 350: ยืมทางพรางกล (รวม 11 อัน)\n",
            "  -> วิเคราะห์แล้ว 350 เกม\n",
            "  -> Strategy ที่เต็ม 27 แล้ว: 1 กลยุทธ์\n",
            "\n",
            "แบทช์ 36: กำลังวิเคราะห์เกม 351-360\n"
          ]
        },
        {
          "output_type": "stream",
          "name": "stderr",
          "text": [
            "The following generation flags are not valid and may be ignored: ['temperature', 'top_p']. Set `TRANSFORMERS_VERBOSITY=info` for more details.\n"
          ]
        },
        {
          "output_type": "stream",
          "name": "stdout",
          "text": [
            "Strategy 'ปิดฟ้าข้ามทะเล' เต็ม 27 แล้ว -> เปลี่ยนเป็น 'ตีหญ้าให้งูตื่น'\n",
            "  เกม 351: ตีหญ้าให้งูตื่น (รวม 15 อัน)\n"
          ]
        },
        {
          "output_type": "stream",
          "name": "stderr",
          "text": [
            "The following generation flags are not valid and may be ignored: ['temperature', 'top_p']. Set `TRANSFORMERS_VERBOSITY=info` for more details.\n"
          ]
        },
        {
          "output_type": "stream",
          "name": "stdout",
          "text": [
            "Strategy 'ปิดฟ้าข้ามทะเล' เต็ม 27 แล้ว -> เปลี่ยนเป็น 'สาวงาม'\n",
            "  เกม 352: สาวงาม (รวม 11 อัน)\n"
          ]
        },
        {
          "output_type": "stream",
          "name": "stderr",
          "text": [
            "The following generation flags are not valid and may be ignored: ['temperature', 'top_p']. Set `TRANSFORMERS_VERBOSITY=info` for more details.\n"
          ]
        },
        {
          "output_type": "stream",
          "name": "stdout",
          "text": [
            "Strategy 'ปิดฟ้าข้ามทะเล' เต็ม 27 แล้ว -> เปลี่ยนเป็น 'ต้นไม้ผลิดอก'\n",
            "  เกม 353: ต้นไม้ผลิดอก (รวม 5 อัน)\n"
          ]
        },
        {
          "output_type": "stream",
          "name": "stderr",
          "text": [
            "The following generation flags are not valid and may be ignored: ['temperature', 'top_p']. Set `TRANSFORMERS_VERBOSITY=info` for more details.\n"
          ]
        },
        {
          "output_type": "stream",
          "name": "stdout",
          "text": [
            "Strategy 'ปิดฟ้าข้ามทะเล' เต็ม 27 แล้ว -> เปลี่ยนเป็น 'รอซ้ำยามเปลี้ย'\n",
            "  เกม 354: รอซ้ำยามเปลี้ย (รวม 9 อัน)\n"
          ]
        },
        {
          "output_type": "stream",
          "name": "stderr",
          "text": [
            "The following generation flags are not valid and may be ignored: ['temperature', 'top_p']. Set `TRANSFORMERS_VERBOSITY=info` for more details.\n"
          ]
        },
        {
          "output_type": "stream",
          "name": "stdout",
          "text": [
            "Strategy 'ปิดฟ้าข้ามทะเล' เต็ม 27 แล้ว -> เปลี่ยนเป็น 'สลับแขกเป็นเจ้าบ้าน'\n",
            "  เกม 355: สลับแขกเป็นเจ้าบ้าน (รวม 11 อัน)\n"
          ]
        },
        {
          "output_type": "stream",
          "name": "stderr",
          "text": [
            "The following generation flags are not valid and may be ignored: ['temperature', 'top_p']. Set `TRANSFORMERS_VERBOSITY=info` for more details.\n"
          ]
        },
        {
          "output_type": "stream",
          "name": "stdout",
          "text": [
            "Strategy 'ปิดฟ้าข้ามทะเล' เต็ม 27 แล้ว -> เปลี่ยนเป็น 'ต้นไม้ผลิดอก'\n",
            "  เกม 356: ต้นไม้ผลิดอก (รวม 6 อัน)\n"
          ]
        },
        {
          "output_type": "stream",
          "name": "stderr",
          "text": [
            "The following generation flags are not valid and may be ignored: ['temperature', 'top_p']. Set `TRANSFORMERS_VERBOSITY=info` for more details.\n"
          ]
        },
        {
          "output_type": "stream",
          "name": "stdout",
          "text": [
            "Strategy 'ปิดฟ้าข้ามทะเล' เต็ม 27 แล้ว -> เปลี่ยนเป็น 'สลับแขกเป็นเจ้าบ้าน'\n",
            "  เกม 357: สลับแขกเป็นเจ้าบ้าน (รวม 12 อัน)\n"
          ]
        },
        {
          "output_type": "stream",
          "name": "stderr",
          "text": [
            "The following generation flags are not valid and may be ignored: ['temperature', 'top_p']. Set `TRANSFORMERS_VERBOSITY=info` for more details.\n"
          ]
        },
        {
          "output_type": "stream",
          "name": "stdout",
          "text": [
            "Strategy 'ปิดฟ้าข้ามทะเล' เต็ม 27 แล้ว -> เปลี่ยนเป็น 'หลี่ตายแทนถาว'\n",
            "  เกม 358: หลี่ตายแทนถาว (รวม 7 อัน)\n"
          ]
        },
        {
          "output_type": "stream",
          "name": "stderr",
          "text": [
            "The following generation flags are not valid and may be ignored: ['temperature', 'top_p']. Set `TRANSFORMERS_VERBOSITY=info` for more details.\n"
          ]
        },
        {
          "output_type": "stream",
          "name": "stdout",
          "text": [
            "Strategy 'ปิดฟ้าข้ามทะเล' เต็ม 27 แล้ว -> เปลี่ยนเป็น 'แสร้งปล่อยเพื่อจับ'\n",
            "  เกม 359: แสร้งปล่อยเพื่อจับ (รวม 14 อัน)\n"
          ]
        },
        {
          "output_type": "stream",
          "name": "stderr",
          "text": [
            "The following generation flags are not valid and may be ignored: ['temperature', 'top_p']. Set `TRANSFORMERS_VERBOSITY=info` for more details.\n"
          ]
        },
        {
          "output_type": "stream",
          "name": "stdout",
          "text": [
            "Strategy 'ปิดฟ้าข้ามทะเล' เต็ม 27 แล้ว -> เปลี่ยนเป็น 'โยนกระเบื้องล่อหยก'\n",
            "  เกม 360: โยนกระเบื้องล่อหยก (รวม 15 อัน)\n",
            "  -> วิเคราะห์แล้ว 360 เกม\n",
            "  -> Strategy ที่เต็ม 27 แล้ว: 1 กลยุทธ์\n",
            "\n",
            "แบทช์ 37: กำลังวิเคราะห์เกม 361-370\n"
          ]
        },
        {
          "output_type": "stream",
          "name": "stderr",
          "text": [
            "The following generation flags are not valid and may be ignored: ['temperature', 'top_p']. Set `TRANSFORMERS_VERBOSITY=info` for more details.\n"
          ]
        },
        {
          "output_type": "stream",
          "name": "stdout",
          "text": [
            "Strategy 'ปิดฟ้าข้ามทะเล' เต็ม 27 แล้ว -> เปลี่ยนเป็น 'ถอนฟืนใต้กระทะ'\n",
            "  เกม 361: ถอนฟืนใต้กระทะ (รวม 10 อัน)\n"
          ]
        },
        {
          "output_type": "stream",
          "name": "stderr",
          "text": [
            "The following generation flags are not valid and may be ignored: ['temperature', 'top_p']. Set `TRANSFORMERS_VERBOSITY=info` for more details.\n"
          ]
        },
        {
          "output_type": "stream",
          "name": "stdout",
          "text": [
            "Strategy 'ปิดฟ้าข้ามทะเล' เต็ม 27 แล้ว -> เปลี่ยนเป็น 'ตีหญ้าให้งูตื่น'\n",
            "  เกม 362: ตีหญ้าให้งูตื่น (รวม 16 อัน)\n"
          ]
        },
        {
          "output_type": "stream",
          "name": "stderr",
          "text": [
            "The following generation flags are not valid and may be ignored: ['temperature', 'top_p']. Set `TRANSFORMERS_VERBOSITY=info` for more details.\n"
          ]
        },
        {
          "output_type": "stream",
          "name": "stdout",
          "text": [
            "Strategy 'ปิดฟ้าข้ามทะเล' เต็ม 27 แล้ว -> เปลี่ยนเป็น 'จูงแพะติดมือ'\n",
            "  เกม 363: จูงแพะติดมือ (รวม 11 อัน)\n"
          ]
        },
        {
          "output_type": "stream",
          "name": "stderr",
          "text": [
            "The following generation flags are not valid and may be ignored: ['temperature', 'top_p']. Set `TRANSFORMERS_VERBOSITY=info` for more details.\n"
          ]
        },
        {
          "output_type": "stream",
          "name": "stdout",
          "text": [
            "Strategy 'ปิดฟ้าข้ามทะเล' เต็ม 27 แล้ว -> เปลี่ยนเป็น 'ลูกโซ่'\n",
            "  เกม 364: ลูกโซ่ (รวม 10 อัน)\n"
          ]
        },
        {
          "output_type": "stream",
          "name": "stderr",
          "text": [
            "The following generation flags are not valid and may be ignored: ['temperature', 'top_p']. Set `TRANSFORMERS_VERBOSITY=info` for more details.\n"
          ]
        },
        {
          "output_type": "stream",
          "name": "stdout",
          "text": [
            "Strategy 'ปิดฟ้าข้ามทะเล' เต็ม 27 แล้ว -> เปลี่ยนเป็น 'สลับแขกเป็นเจ้าบ้าน'\n",
            "  เกม 365: สลับแขกเป็นเจ้าบ้าน (รวม 13 อัน)\n"
          ]
        },
        {
          "output_type": "stream",
          "name": "stderr",
          "text": [
            "The following generation flags are not valid and may be ignored: ['temperature', 'top_p']. Set `TRANSFORMERS_VERBOSITY=info` for more details.\n"
          ]
        },
        {
          "output_type": "stream",
          "name": "stdout",
          "text": [
            "Strategy 'ปิดฟ้าข้ามทะเล' เต็ม 27 แล้ว -> เปลี่ยนเป็น 'ลูกโซ่'\n",
            "  เกม 366: ลูกโซ่ (รวม 11 อัน)\n"
          ]
        },
        {
          "output_type": "stream",
          "name": "stderr",
          "text": [
            "The following generation flags are not valid and may be ignored: ['temperature', 'top_p']. Set `TRANSFORMERS_VERBOSITY=info` for more details.\n"
          ]
        },
        {
          "output_type": "stream",
          "name": "stdout",
          "text": [
            "Strategy 'ปิดฟ้าข้ามทะเล' เต็ม 27 แล้ว -> เปลี่ยนเป็น 'ยืมทางพรางกล'\n",
            "  เกม 367: ยืมทางพรางกล (รวม 12 อัน)\n"
          ]
        },
        {
          "output_type": "stream",
          "name": "stderr",
          "text": [
            "The following generation flags are not valid and may be ignored: ['temperature', 'top_p']. Set `TRANSFORMERS_VERBOSITY=info` for more details.\n"
          ]
        },
        {
          "output_type": "stream",
          "name": "stdout",
          "text": [
            "Strategy 'ปิดฟ้าข้ามทะเล' เต็ม 27 แล้ว -> เปลี่ยนเป็น 'หลบหนี'\n",
            "  เกม 368: หลบหนี (รวม 8 อัน)\n"
          ]
        },
        {
          "output_type": "stream",
          "name": "stderr",
          "text": [
            "The following generation flags are not valid and may be ignored: ['temperature', 'top_p']. Set `TRANSFORMERS_VERBOSITY=info` for more details.\n"
          ]
        },
        {
          "output_type": "stream",
          "name": "stdout",
          "text": [
            "Strategy 'ปิดฟ้าข้ามทะเล' เต็ม 27 แล้ว -> เปลี่ยนเป็น 'กวนน้ำจับปลา'\n",
            "  เกม 369: กวนน้ำจับปลา (รวม 12 อัน)\n"
          ]
        },
        {
          "output_type": "stream",
          "name": "stderr",
          "text": [
            "The following generation flags are not valid and may be ignored: ['temperature', 'top_p']. Set `TRANSFORMERS_VERBOSITY=info` for more details.\n"
          ]
        },
        {
          "output_type": "stream",
          "name": "stdout",
          "text": [
            "Strategy 'ปิดฟ้าข้ามทะเล' เต็ม 27 แล้ว -> เปลี่ยนเป็น 'ลักขื่อเปลี่ยนเสา'\n",
            "  เกม 370: ลักขื่อเปลี่ยนเสา (รวม 10 อัน)\n",
            "  -> วิเคราะห์แล้ว 370 เกม\n",
            "  -> Strategy ที่เต็ม 27 แล้ว: 1 กลยุทธ์\n",
            "\n",
            "แบทช์ 38: กำลังวิเคราะห์เกม 371-380\n"
          ]
        },
        {
          "output_type": "stream",
          "name": "stderr",
          "text": [
            "The following generation flags are not valid and may be ignored: ['temperature', 'top_p']. Set `TRANSFORMERS_VERBOSITY=info` for more details.\n"
          ]
        },
        {
          "output_type": "stream",
          "name": "stdout",
          "text": [
            "Strategy 'ปิดฟ้าข้ามทะเล' เต็ม 27 แล้ว -> เปลี่ยนเป็น 'จูงแพะติดมือ'\n",
            "  เกม 371: จูงแพะติดมือ (รวม 12 อัน)\n"
          ]
        },
        {
          "output_type": "stream",
          "name": "stderr",
          "text": [
            "The following generation flags are not valid and may be ignored: ['temperature', 'top_p']. Set `TRANSFORMERS_VERBOSITY=info` for more details.\n"
          ]
        },
        {
          "output_type": "stream",
          "name": "stdout",
          "text": [
            "Strategy 'ปิดฟ้าข้ามทะเล' เต็ม 27 แล้ว -> เปลี่ยนเป็น 'เปิดเมือง'\n",
            "  เกม 372: เปิดเมือง (รวม 12 อัน)\n"
          ]
        },
        {
          "output_type": "stream",
          "name": "stderr",
          "text": [
            "The following generation flags are not valid and may be ignored: ['temperature', 'top_p']. Set `TRANSFORMERS_VERBOSITY=info` for more details.\n"
          ]
        },
        {
          "output_type": "stream",
          "name": "stdout",
          "text": [
            "Strategy 'ปิดฟ้าข้ามทะเล' เต็ม 27 แล้ว -> เปลี่ยนเป็น 'รอซ้ำยามเปลี้ย'\n",
            "  เกม 373: รอซ้ำยามเปลี้ย (รวม 10 อัน)\n"
          ]
        },
        {
          "output_type": "stream",
          "name": "stderr",
          "text": [
            "The following generation flags are not valid and may be ignored: ['temperature', 'top_p']. Set `TRANSFORMERS_VERBOSITY=info` for more details.\n"
          ]
        },
        {
          "output_type": "stream",
          "name": "stdout",
          "text": [
            "Strategy 'ปิดฟ้าข้ามทะเล' เต็ม 27 แล้ว -> เปลี่ยนเป็น 'ดูไฟชายฝั่ง'\n",
            "  เกม 374: ดูไฟชายฝั่ง (รวม 8 อัน)\n"
          ]
        },
        {
          "output_type": "stream",
          "name": "stderr",
          "text": [
            "The following generation flags are not valid and may be ignored: ['temperature', 'top_p']. Set `TRANSFORMERS_VERBOSITY=info` for more details.\n"
          ]
        },
        {
          "output_type": "stream",
          "name": "stdout",
          "text": [
            "Strategy 'ปิดฟ้าข้ามทะเล' เต็ม 27 แล้ว -> เปลี่ยนเป็น 'ถอนฟืนใต้กระทะ'\n",
            "  เกม 375: ถอนฟืนใต้กระทะ (รวม 11 อัน)\n"
          ]
        },
        {
          "output_type": "stream",
          "name": "stderr",
          "text": [
            "The following generation flags are not valid and may be ignored: ['temperature', 'top_p']. Set `TRANSFORMERS_VERBOSITY=info` for more details.\n"
          ]
        },
        {
          "output_type": "stream",
          "name": "stdout",
          "text": [
            "Strategy 'ปิดฟ้าข้ามทะเล' เต็ม 27 แล้ว -> เปลี่ยนเป็น 'ลอบตีเฉินชาง'\n",
            "  เกม 376: ลอบตีเฉินชาง (รวม 13 อัน)\n"
          ]
        },
        {
          "output_type": "stream",
          "name": "stderr",
          "text": [
            "The following generation flags are not valid and may be ignored: ['temperature', 'top_p']. Set `TRANSFORMERS_VERBOSITY=info` for more details.\n"
          ]
        },
        {
          "output_type": "stream",
          "name": "stdout",
          "text": [
            "Strategy 'ปิดฟ้าข้ามทะเล' เต็ม 27 แล้ว -> เปลี่ยนเป็น 'ขึ้นบ้านชักบันได'\n",
            "  เกม 377: ขึ้นบ้านชักบันได (รวม 8 อัน)\n"
          ]
        },
        {
          "output_type": "stream",
          "name": "stderr",
          "text": [
            "The following generation flags are not valid and may be ignored: ['temperature', 'top_p']. Set `TRANSFORMERS_VERBOSITY=info` for more details.\n"
          ]
        },
        {
          "output_type": "stream",
          "name": "stdout",
          "text": [
            "Strategy 'ปิดฟ้าข้ามทะเล' เต็ม 27 แล้ว -> เปลี่ยนเป็น 'เปิดเมือง'\n",
            "  เกม 378: เปิดเมือง (รวม 13 อัน)\n"
          ]
        },
        {
          "output_type": "stream",
          "name": "stderr",
          "text": [
            "The following generation flags are not valid and may be ignored: ['temperature', 'top_p']. Set `TRANSFORMERS_VERBOSITY=info` for more details.\n"
          ]
        },
        {
          "output_type": "stream",
          "name": "stdout",
          "text": [
            "Strategy 'ปิดฟ้าข้ามทะเล' เต็ม 27 แล้ว -> เปลี่ยนเป็น 'ขึ้นบ้านชักบันได'\n",
            "  เกม 379: ขึ้นบ้านชักบันได (รวม 9 อัน)\n"
          ]
        },
        {
          "output_type": "stream",
          "name": "stderr",
          "text": [
            "The following generation flags are not valid and may be ignored: ['temperature', 'top_p']. Set `TRANSFORMERS_VERBOSITY=info` for more details.\n"
          ]
        },
        {
          "output_type": "stream",
          "name": "stdout",
          "text": [
            "Strategy 'ปิดฟ้าข้ามทะเล' เต็ม 27 แล้ว -> เปลี่ยนเป็น 'จักจั่นลอกคราบ'\n",
            "  เกม 380: จักจั่นลอกคราบ (รวม 7 อัน)\n",
            "  -> วิเคราะห์แล้ว 380 เกม\n",
            "  -> Strategy ที่เต็ม 27 แล้ว: 1 กลยุทธ์\n",
            "\n",
            "แบทช์ 39: กำลังวิเคราะห์เกม 381-390\n"
          ]
        },
        {
          "output_type": "stream",
          "name": "stderr",
          "text": [
            "The following generation flags are not valid and may be ignored: ['temperature', 'top_p']. Set `TRANSFORMERS_VERBOSITY=info` for more details.\n"
          ]
        },
        {
          "output_type": "stream",
          "name": "stdout",
          "text": [
            "Strategy 'ปิดฟ้าข้ามทะเล' เต็ม 27 แล้ว -> เปลี่ยนเป็น 'ยืมซากคืนชีพ'\n",
            "  เกม 381: ยืมซากคืนชีพ (รวม 10 อัน)\n"
          ]
        },
        {
          "output_type": "stream",
          "name": "stderr",
          "text": [
            "The following generation flags are not valid and may be ignored: ['temperature', 'top_p']. Set `TRANSFORMERS_VERBOSITY=info` for more details.\n"
          ]
        },
        {
          "output_type": "stream",
          "name": "stdout",
          "text": [
            "Strategy 'ปิดฟ้าข้ามทะเล' เต็ม 27 แล้ว -> เปลี่ยนเป็น 'หลี่ตายแทนถาว'\n",
            "  เกม 382: หลี่ตายแทนถาว (รวม 8 อัน)\n"
          ]
        },
        {
          "output_type": "stream",
          "name": "stderr",
          "text": [
            "The following generation flags are not valid and may be ignored: ['temperature', 'top_p']. Set `TRANSFORMERS_VERBOSITY=info` for more details.\n"
          ]
        },
        {
          "output_type": "stream",
          "name": "stdout",
          "text": [
            "Strategy 'ปิดฟ้าข้ามทะเล' เต็ม 27 แล้ว -> เปลี่ยนเป็น 'ตีชิงตามไฟ'\n",
            "  เกม 383: ตีชิงตามไฟ (รวม 9 อัน)\n"
          ]
        },
        {
          "output_type": "stream",
          "name": "stderr",
          "text": [
            "The following generation flags are not valid and may be ignored: ['temperature', 'top_p']. Set `TRANSFORMERS_VERBOSITY=info` for more details.\n"
          ]
        },
        {
          "output_type": "stream",
          "name": "stdout",
          "text": [
            "Strategy 'ปิดฟ้าข้ามทะเล' เต็ม 27 แล้ว -> เปลี่ยนเป็น 'สาวงาม'\n",
            "  เกม 384: สาวงาม (รวม 12 อัน)\n"
          ]
        },
        {
          "output_type": "stream",
          "name": "stderr",
          "text": [
            "The following generation flags are not valid and may be ignored: ['temperature', 'top_p']. Set `TRANSFORMERS_VERBOSITY=info` for more details.\n"
          ]
        },
        {
          "output_type": "stream",
          "name": "stdout",
          "text": [
            "Strategy 'ปิดฟ้าข้ามทะเล' เต็ม 27 แล้ว -> เปลี่ยนเป็น 'แสร้งปล่อยเพื่อจับ'\n",
            "  เกม 385: แสร้งปล่อยเพื่อจับ (รวม 15 อัน)\n"
          ]
        },
        {
          "output_type": "stream",
          "name": "stderr",
          "text": [
            "The following generation flags are not valid and may be ignored: ['temperature', 'top_p']. Set `TRANSFORMERS_VERBOSITY=info` for more details.\n"
          ]
        },
        {
          "output_type": "stream",
          "name": "stdout",
          "text": [
            "Strategy 'ปิดฟ้าข้ามทะเล' เต็ม 27 แล้ว -> เปลี่ยนเป็น 'หลี่ตายแทนถาว'\n",
            "  เกม 386: หลี่ตายแทนถาว (รวม 9 อัน)\n"
          ]
        },
        {
          "output_type": "stream",
          "name": "stderr",
          "text": [
            "The following generation flags are not valid and may be ignored: ['temperature', 'top_p']. Set `TRANSFORMERS_VERBOSITY=info` for more details.\n"
          ]
        },
        {
          "output_type": "stream",
          "name": "stdout",
          "text": [
            "Strategy 'ปิดฟ้าข้ามทะเล' เต็ม 27 แล้ว -> เปลี่ยนเป็น 'ยืมดาบฆ่าคน'\n",
            "  เกม 387: ยืมดาบฆ่าคน (รวม 4 อัน)\n"
          ]
        },
        {
          "output_type": "stream",
          "name": "stderr",
          "text": [
            "The following generation flags are not valid and may be ignored: ['temperature', 'top_p']. Set `TRANSFORMERS_VERBOSITY=info` for more details.\n"
          ]
        },
        {
          "output_type": "stream",
          "name": "stdout",
          "text": [
            "Strategy 'ปิดฟ้าข้ามทะเล' เต็ม 27 แล้ว -> เปลี่ยนเป็น 'ชี้ต้นหม่อนด่าต้นไหว'\n",
            "  เกม 388: ชี้ต้นหม่อนด่าต้นไหว (รวม 10 อัน)\n"
          ]
        },
        {
          "output_type": "stream",
          "name": "stderr",
          "text": [
            "The following generation flags are not valid and may be ignored: ['temperature', 'top_p']. Set `TRANSFORMERS_VERBOSITY=info` for more details.\n"
          ]
        },
        {
          "output_type": "stream",
          "name": "stdout",
          "text": [
            "Strategy 'ปิดฟ้าข้ามทะเล' เต็ม 27 แล้ว -> เปลี่ยนเป็น 'ทุกข์กาย'\n",
            "  เกม 389: ทุกข์กาย (รวม 15 อัน)\n"
          ]
        },
        {
          "output_type": "stream",
          "name": "stderr",
          "text": [
            "The following generation flags are not valid and may be ignored: ['temperature', 'top_p']. Set `TRANSFORMERS_VERBOSITY=info` for more details.\n"
          ]
        },
        {
          "output_type": "stream",
          "name": "stdout",
          "text": [
            "Strategy 'ปิดฟ้าข้ามทะเล' เต็ม 27 แล้ว -> เปลี่ยนเป็น 'ไส้ศึก'\n",
            "  เกม 390: ไส้ศึก (รวม 10 อัน)\n",
            "  -> วิเคราะห์แล้ว 390 เกม\n",
            "  -> Strategy ที่เต็ม 27 แล้ว: 1 กลยุทธ์\n",
            "\n",
            "แบทช์ 40: กำลังวิเคราะห์เกม 391-400\n"
          ]
        },
        {
          "output_type": "stream",
          "name": "stderr",
          "text": [
            "The following generation flags are not valid and may be ignored: ['temperature', 'top_p']. Set `TRANSFORMERS_VERBOSITY=info` for more details.\n"
          ]
        },
        {
          "output_type": "stream",
          "name": "stdout",
          "text": [
            "Strategy 'ปิดฟ้าข้ามทะเล' เต็ม 27 แล้ว -> เปลี่ยนเป็น 'ทุกข์กาย'\n",
            "  เกม 391: ทุกข์กาย (รวม 16 อัน)\n"
          ]
        },
        {
          "output_type": "stream",
          "name": "stderr",
          "text": [
            "The following generation flags are not valid and may be ignored: ['temperature', 'top_p']. Set `TRANSFORMERS_VERBOSITY=info` for more details.\n"
          ]
        },
        {
          "output_type": "stream",
          "name": "stdout",
          "text": [
            "Strategy 'ปิดฟ้าข้ามทะเล' เต็ม 27 แล้ว -> เปลี่ยนเป็น 'มีในไม่มี'\n",
            "  เกม 392: มีในไม่มี (รวม 10 อัน)\n"
          ]
        },
        {
          "output_type": "stream",
          "name": "stderr",
          "text": [
            "The following generation flags are not valid and may be ignored: ['temperature', 'top_p']. Set `TRANSFORMERS_VERBOSITY=info` for more details.\n"
          ]
        },
        {
          "output_type": "stream",
          "name": "stdout",
          "text": [
            "Strategy 'ปิดฟ้าข้ามทะเล' เต็ม 27 แล้ว -> เปลี่ยนเป็น 'กวนน้ำจับปลา'\n",
            "  เกม 393: กวนน้ำจับปลา (รวม 13 อัน)\n"
          ]
        },
        {
          "output_type": "stream",
          "name": "stderr",
          "text": [
            "The following generation flags are not valid and may be ignored: ['temperature', 'top_p']. Set `TRANSFORMERS_VERBOSITY=info` for more details.\n"
          ]
        },
        {
          "output_type": "stream",
          "name": "stdout",
          "text": [
            "Strategy 'ปิดฟ้าข้ามทะเล' เต็ม 27 แล้ว -> เปลี่ยนเป็น 'ตีชิงตามไฟ'\n",
            "  เกม 394: ตีชิงตามไฟ (รวม 10 อัน)\n"
          ]
        },
        {
          "output_type": "stream",
          "name": "stderr",
          "text": [
            "The following generation flags are not valid and may be ignored: ['temperature', 'top_p']. Set `TRANSFORMERS_VERBOSITY=info` for more details.\n"
          ]
        },
        {
          "output_type": "stream",
          "name": "stdout",
          "text": [
            "Strategy 'ปิดฟ้าข้ามทะเล' เต็ม 27 แล้ว -> เปลี่ยนเป็น 'ซ่อนดาบในรอยยิ้ม'\n",
            "  เกม 395: ซ่อนดาบในรอยยิ้ม (รวม 10 อัน)\n"
          ]
        },
        {
          "output_type": "stream",
          "name": "stderr",
          "text": [
            "The following generation flags are not valid and may be ignored: ['temperature', 'top_p']. Set `TRANSFORMERS_VERBOSITY=info` for more details.\n"
          ]
        },
        {
          "output_type": "stream",
          "name": "stdout",
          "text": [
            "Strategy 'ปิดฟ้าข้ามทะเล' เต็ม 27 แล้ว -> เปลี่ยนเป็น 'ลูกโซ่'\n",
            "  เกม 396: ลูกโซ่ (รวม 12 อัน)\n"
          ]
        },
        {
          "output_type": "stream",
          "name": "stderr",
          "text": [
            "The following generation flags are not valid and may be ignored: ['temperature', 'top_p']. Set `TRANSFORMERS_VERBOSITY=info` for more details.\n"
          ]
        },
        {
          "output_type": "stream",
          "name": "stdout",
          "text": [
            "Strategy 'ปิดฟ้าข้ามทะเล' เต็ม 27 แล้ว -> เปลี่ยนเป็น 'กวนน้ำจับปลา'\n",
            "  เกม 397: กวนน้ำจับปลา (รวม 14 อัน)\n"
          ]
        },
        {
          "output_type": "stream",
          "name": "stderr",
          "text": [
            "The following generation flags are not valid and may be ignored: ['temperature', 'top_p']. Set `TRANSFORMERS_VERBOSITY=info` for more details.\n"
          ]
        },
        {
          "output_type": "stream",
          "name": "stdout",
          "text": [
            "Strategy 'ปิดฟ้าข้ามทะเล' เต็ม 27 แล้ว -> เปลี่ยนเป็น 'ตีชิงตามไฟ'\n",
            "  เกม 398: ตีชิงตามไฟ (รวม 11 อัน)\n"
          ]
        },
        {
          "output_type": "stream",
          "name": "stderr",
          "text": [
            "The following generation flags are not valid and may be ignored: ['temperature', 'top_p']. Set `TRANSFORMERS_VERBOSITY=info` for more details.\n"
          ]
        },
        {
          "output_type": "stream",
          "name": "stdout",
          "text": [
            "Strategy 'ปิดฟ้าข้ามทะเล' เต็ม 27 แล้ว -> เปลี่ยนเป็น 'คบไกลตีใกล้'\n",
            "  เกม 399: คบไกลตีใกล้ (รวม 7 อัน)\n"
          ]
        },
        {
          "output_type": "stream",
          "name": "stderr",
          "text": [
            "The following generation flags are not valid and may be ignored: ['temperature', 'top_p']. Set `TRANSFORMERS_VERBOSITY=info` for more details.\n"
          ]
        },
        {
          "output_type": "stream",
          "name": "stdout",
          "text": [
            "Strategy 'ปิดฟ้าข้ามทะเล' เต็ม 27 แล้ว -> เปลี่ยนเป็น 'สาวงาม'\n",
            "  เกม 400: สาวงาม (รวม 13 อัน)\n",
            "  -> วิเคราะห์แล้ว 400 เกม\n",
            "  -> Strategy ที่เต็ม 27 แล้ว: 1 กลยุทธ์\n",
            "  -> บันทึกผลกลางแล้ว 400 เกม\n",
            "\n",
            "แบทช์ 41: กำลังวิเคราะห์เกม 401-410\n"
          ]
        },
        {
          "output_type": "stream",
          "name": "stderr",
          "text": [
            "The following generation flags are not valid and may be ignored: ['temperature', 'top_p']. Set `TRANSFORMERS_VERBOSITY=info` for more details.\n"
          ]
        },
        {
          "output_type": "stream",
          "name": "stdout",
          "text": [
            "Strategy 'ปิดฟ้าข้ามทะเล' เต็ม 27 แล้ว -> เปลี่ยนเป็น 'จูงแพะติดมือ'\n",
            "  เกม 401: จูงแพะติดมือ (รวม 13 อัน)\n"
          ]
        },
        {
          "output_type": "stream",
          "name": "stderr",
          "text": [
            "The following generation flags are not valid and may be ignored: ['temperature', 'top_p']. Set `TRANSFORMERS_VERBOSITY=info` for more details.\n"
          ]
        },
        {
          "output_type": "stream",
          "name": "stdout",
          "text": [
            "Strategy 'ปิดฟ้าข้ามทะเล' เต็ม 27 แล้ว -> เปลี่ยนเป็น 'กวนน้ำจับปลา'\n",
            "  เกม 402: กวนน้ำจับปลา (รวม 15 อัน)\n"
          ]
        },
        {
          "output_type": "stream",
          "name": "stderr",
          "text": [
            "The following generation flags are not valid and may be ignored: ['temperature', 'top_p']. Set `TRANSFORMERS_VERBOSITY=info` for more details.\n"
          ]
        },
        {
          "output_type": "stream",
          "name": "stdout",
          "text": [
            "Strategy 'ปิดฟ้าข้ามทะเล' เต็ม 27 แล้ว -> เปลี่ยนเป็น 'ขึ้นบ้านชักบันได'\n",
            "  เกม 403: ขึ้นบ้านชักบันได (รวม 10 อัน)\n"
          ]
        },
        {
          "output_type": "stream",
          "name": "stderr",
          "text": [
            "The following generation flags are not valid and may be ignored: ['temperature', 'top_p']. Set `TRANSFORMERS_VERBOSITY=info` for more details.\n"
          ]
        },
        {
          "output_type": "stream",
          "name": "stdout",
          "text": [
            "Strategy 'ปิดฟ้าข้ามทะเล' เต็ม 27 แล้ว -> เปลี่ยนเป็น 'ต้นไม้ผลิดอก'\n",
            "  เกม 404: ต้นไม้ผลิดอก (รวม 7 อัน)\n"
          ]
        },
        {
          "output_type": "stream",
          "name": "stderr",
          "text": [
            "The following generation flags are not valid and may be ignored: ['temperature', 'top_p']. Set `TRANSFORMERS_VERBOSITY=info` for more details.\n"
          ]
        },
        {
          "output_type": "stream",
          "name": "stdout",
          "text": [
            "Strategy 'ปิดฟ้าข้ามทะเล' เต็ม 27 แล้ว -> เปลี่ยนเป็น 'ลอบตีเฉินชาง'\n",
            "  เกม 405: ลอบตีเฉินชาง (รวม 14 อัน)\n"
          ]
        },
        {
          "output_type": "stream",
          "name": "stderr",
          "text": [
            "The following generation flags are not valid and may be ignored: ['temperature', 'top_p']. Set `TRANSFORMERS_VERBOSITY=info` for more details.\n"
          ]
        },
        {
          "output_type": "stream",
          "name": "stdout",
          "text": [
            "Strategy 'ปิดฟ้าข้ามทะเล' เต็ม 27 แล้ว -> เปลี่ยนเป็น 'มีในไม่มี'\n",
            "  เกม 406: มีในไม่มี (รวม 11 อัน)\n"
          ]
        },
        {
          "output_type": "stream",
          "name": "stderr",
          "text": [
            "The following generation flags are not valid and may be ignored: ['temperature', 'top_p']. Set `TRANSFORMERS_VERBOSITY=info` for more details.\n"
          ]
        },
        {
          "output_type": "stream",
          "name": "stdout",
          "text": [
            "Strategy 'ปิดฟ้าข้ามทะเล' เต็ม 27 แล้ว -> เปลี่ยนเป็น 'ไส้ศึก'\n",
            "  เกม 407: ไส้ศึก (รวม 11 อัน)\n"
          ]
        },
        {
          "output_type": "stream",
          "name": "stderr",
          "text": [
            "The following generation flags are not valid and may be ignored: ['temperature', 'top_p']. Set `TRANSFORMERS_VERBOSITY=info` for more details.\n"
          ]
        },
        {
          "output_type": "stream",
          "name": "stdout",
          "text": [
            "Strategy 'ปิดฟ้าข้ามทะเล' เต็ม 27 แล้ว -> เปลี่ยนเป็น 'ยืมดาบฆ่าคน'\n",
            "  เกม 408: ยืมดาบฆ่าคน (รวม 5 อัน)\n"
          ]
        },
        {
          "output_type": "stream",
          "name": "stderr",
          "text": [
            "The following generation flags are not valid and may be ignored: ['temperature', 'top_p']. Set `TRANSFORMERS_VERBOSITY=info` for more details.\n"
          ]
        },
        {
          "output_type": "stream",
          "name": "stdout",
          "text": [
            "Strategy 'ปิดฟ้าข้ามทะเล' เต็ม 27 แล้ว -> เปลี่ยนเป็น 'ยืมดาบฆ่าคน'\n",
            "  เกม 409: ยืมดาบฆ่าคน (รวม 6 อัน)\n"
          ]
        },
        {
          "output_type": "stream",
          "name": "stderr",
          "text": [
            "The following generation flags are not valid and may be ignored: ['temperature', 'top_p']. Set `TRANSFORMERS_VERBOSITY=info` for more details.\n"
          ]
        },
        {
          "output_type": "stream",
          "name": "stdout",
          "text": [
            "Strategy 'ปิดฟ้าข้ามทะเล' เต็ม 27 แล้ว -> เปลี่ยนเป็น 'ยืมทางพรางกล'\n",
            "  เกม 410: ยืมทางพรางกล (รวม 13 อัน)\n",
            "  -> วิเคราะห์แล้ว 410 เกม\n",
            "  -> Strategy ที่เต็ม 27 แล้ว: 1 กลยุทธ์\n",
            "\n",
            "แบทช์ 42: กำลังวิเคราะห์เกม 411-420\n"
          ]
        },
        {
          "output_type": "stream",
          "name": "stderr",
          "text": [
            "The following generation flags are not valid and may be ignored: ['temperature', 'top_p']. Set `TRANSFORMERS_VERBOSITY=info` for more details.\n"
          ]
        },
        {
          "output_type": "stream",
          "name": "stdout",
          "text": [
            "Strategy 'ปิดฟ้าข้ามทะเล' เต็ม 27 แล้ว -> เปลี่ยนเป็น 'ทุกข์กาย'\n",
            "  เกม 411: ทุกข์กาย (รวม 17 อัน)\n"
          ]
        },
        {
          "output_type": "stream",
          "name": "stderr",
          "text": [
            "The following generation flags are not valid and may be ignored: ['temperature', 'top_p']. Set `TRANSFORMERS_VERBOSITY=info` for more details.\n"
          ]
        },
        {
          "output_type": "stream",
          "name": "stdout",
          "text": [
            "Strategy 'ปิดฟ้าข้ามทะเล' เต็ม 27 แล้ว -> เปลี่ยนเป็น 'ตีหญ้าให้งูตื่น'\n",
            "  เกม 412: ตีหญ้าให้งูตื่น (รวม 17 อัน)\n"
          ]
        },
        {
          "output_type": "stream",
          "name": "stderr",
          "text": [
            "The following generation flags are not valid and may be ignored: ['temperature', 'top_p']. Set `TRANSFORMERS_VERBOSITY=info` for more details.\n"
          ]
        },
        {
          "output_type": "stream",
          "name": "stdout",
          "text": [
            "Strategy 'ปิดฟ้าข้ามทะเล' เต็ม 27 แล้ว -> เปลี่ยนเป็น 'จักจั่นลอกคราบ'\n",
            "  เกม 413: จักจั่นลอกคราบ (รวม 8 อัน)\n"
          ]
        },
        {
          "output_type": "stream",
          "name": "stderr",
          "text": [
            "The following generation flags are not valid and may be ignored: ['temperature', 'top_p']. Set `TRANSFORMERS_VERBOSITY=info` for more details.\n"
          ]
        },
        {
          "output_type": "stream",
          "name": "stdout",
          "text": [
            "Strategy 'ปิดฟ้าข้ามทะเล' เต็ม 27 แล้ว -> เปลี่ยนเป็น 'จับโจรเอาหัวโจก'\n",
            "  เกม 414: จับโจรเอาหัวโจก (รวม 12 อัน)\n"
          ]
        },
        {
          "output_type": "stream",
          "name": "stderr",
          "text": [
            "The following generation flags are not valid and may be ignored: ['temperature', 'top_p']. Set `TRANSFORMERS_VERBOSITY=info` for more details.\n"
          ]
        },
        {
          "output_type": "stream",
          "name": "stdout",
          "text": [
            "Strategy 'ปิดฟ้าข้ามทะเล' เต็ม 27 แล้ว -> เปลี่ยนเป็น 'ล้อมเวยช่วยจ้าว'\n",
            "  เกม 415: ล้อมเวยช่วยจ้าว (รวม 8 อัน)\n"
          ]
        },
        {
          "output_type": "stream",
          "name": "stderr",
          "text": [
            "The following generation flags are not valid and may be ignored: ['temperature', 'top_p']. Set `TRANSFORMERS_VERBOSITY=info` for more details.\n"
          ]
        },
        {
          "output_type": "stream",
          "name": "stdout",
          "text": [
            "Strategy 'ปิดฟ้าข้ามทะเล' เต็ม 27 แล้ว -> เปลี่ยนเป็น 'สาวงาม'\n",
            "  เกม 416: สาวงาม (รวม 14 อัน)\n"
          ]
        },
        {
          "output_type": "stream",
          "name": "stderr",
          "text": [
            "The following generation flags are not valid and may be ignored: ['temperature', 'top_p']. Set `TRANSFORMERS_VERBOSITY=info` for more details.\n"
          ]
        },
        {
          "output_type": "stream",
          "name": "stdout",
          "text": [
            "Strategy 'ปิดฟ้าข้ามทะเล' เต็ม 27 แล้ว -> เปลี่ยนเป็น 'มีในไม่มี'\n",
            "  เกม 417: มีในไม่มี (รวม 12 อัน)\n"
          ]
        },
        {
          "output_type": "stream",
          "name": "stderr",
          "text": [
            "The following generation flags are not valid and may be ignored: ['temperature', 'top_p']. Set `TRANSFORMERS_VERBOSITY=info` for more details.\n"
          ]
        },
        {
          "output_type": "stream",
          "name": "stdout",
          "text": [
            "Strategy 'ปิดฟ้าข้ามทะเล' เต็ม 27 แล้ว -> เปลี่ยนเป็น 'ล้อมเวยช่วยจ้าว'\n",
            "  เกม 418: ล้อมเวยช่วยจ้าว (รวม 9 อัน)\n"
          ]
        },
        {
          "output_type": "stream",
          "name": "stderr",
          "text": [
            "The following generation flags are not valid and may be ignored: ['temperature', 'top_p']. Set `TRANSFORMERS_VERBOSITY=info` for more details.\n"
          ]
        },
        {
          "output_type": "stream",
          "name": "stdout",
          "text": [
            "Strategy 'ปิดฟ้าข้ามทะเล' เต็ม 27 แล้ว -> เปลี่ยนเป็น 'ตีหญ้าให้งูตื่น'\n",
            "  เกม 419: ตีหญ้าให้งูตื่น (รวม 18 อัน)\n"
          ]
        },
        {
          "output_type": "stream",
          "name": "stderr",
          "text": [
            "The following generation flags are not valid and may be ignored: ['temperature', 'top_p']. Set `TRANSFORMERS_VERBOSITY=info` for more details.\n"
          ]
        },
        {
          "output_type": "stream",
          "name": "stdout",
          "text": [
            "Strategy 'ปิดฟ้าข้ามทะเล' เต็ม 27 แล้ว -> เปลี่ยนเป็น 'ดูไฟชายฝั่ง'\n",
            "  เกม 420: ดูไฟชายฝั่ง (รวม 9 อัน)\n",
            "  -> วิเคราะห์แล้ว 420 เกม\n",
            "  -> Strategy ที่เต็ม 27 แล้ว: 1 กลยุทธ์\n",
            "\n",
            "แบทช์ 43: กำลังวิเคราะห์เกม 421-430\n"
          ]
        },
        {
          "output_type": "stream",
          "name": "stderr",
          "text": [
            "The following generation flags are not valid and may be ignored: ['temperature', 'top_p']. Set `TRANSFORMERS_VERBOSITY=info` for more details.\n"
          ]
        },
        {
          "output_type": "stream",
          "name": "stdout",
          "text": [
            "Strategy 'ปิดฟ้าข้ามทะเล' เต็ม 27 แล้ว -> เปลี่ยนเป็น 'โยนกระเบื้องล่อหยก'\n",
            "  เกม 421: โยนกระเบื้องล่อหยก (รวม 16 อัน)\n"
          ]
        },
        {
          "output_type": "stream",
          "name": "stderr",
          "text": [
            "The following generation flags are not valid and may be ignored: ['temperature', 'top_p']. Set `TRANSFORMERS_VERBOSITY=info` for more details.\n"
          ]
        },
        {
          "output_type": "stream",
          "name": "stdout",
          "text": [
            "Strategy 'ปิดฟ้าข้ามทะเล' เต็ม 27 แล้ว -> เปลี่ยนเป็น 'ขึ้นบ้านชักบันได'\n",
            "  เกม 422: ขึ้นบ้านชักบันได (รวม 11 อัน)\n"
          ]
        },
        {
          "output_type": "stream",
          "name": "stderr",
          "text": [
            "The following generation flags are not valid and may be ignored: ['temperature', 'top_p']. Set `TRANSFORMERS_VERBOSITY=info` for more details.\n"
          ]
        },
        {
          "output_type": "stream",
          "name": "stdout",
          "text": [
            "Strategy 'ปิดฟ้าข้ามทะเล' เต็ม 27 แล้ว -> เปลี่ยนเป็น 'เปิดเมือง'\n",
            "  เกม 423: เปิดเมือง (รวม 14 อัน)\n"
          ]
        },
        {
          "output_type": "stream",
          "name": "stderr",
          "text": [
            "The following generation flags are not valid and may be ignored: ['temperature', 'top_p']. Set `TRANSFORMERS_VERBOSITY=info` for more details.\n"
          ]
        },
        {
          "output_type": "stream",
          "name": "stdout",
          "text": [
            "Strategy 'ปิดฟ้าข้ามทะเล' เต็ม 27 แล้ว -> เปลี่ยนเป็น 'ล้อมเวยช่วยจ้าว'\n",
            "  เกม 424: ล้อมเวยช่วยจ้าว (รวม 10 อัน)\n"
          ]
        },
        {
          "output_type": "stream",
          "name": "stderr",
          "text": [
            "The following generation flags are not valid and may be ignored: ['temperature', 'top_p']. Set `TRANSFORMERS_VERBOSITY=info` for more details.\n"
          ]
        },
        {
          "output_type": "stream",
          "name": "stdout",
          "text": [
            "Strategy 'ปิดฟ้าข้ามทะเล' เต็ม 27 แล้ว -> เปลี่ยนเป็น 'ยืมทางพรางกล'\n",
            "  เกม 425: ยืมทางพรางกล (รวม 14 อัน)\n"
          ]
        },
        {
          "output_type": "stream",
          "name": "stderr",
          "text": [
            "The following generation flags are not valid and may be ignored: ['temperature', 'top_p']. Set `TRANSFORMERS_VERBOSITY=info` for more details.\n"
          ]
        },
        {
          "output_type": "stream",
          "name": "stdout",
          "text": [
            "Strategy 'ปิดฟ้าข้ามทะเล' เต็ม 27 แล้ว -> เปลี่ยนเป็น 'ยืมซากคืนชีพ'\n",
            "  เกม 426: ยืมซากคืนชีพ (รวม 11 อัน)\n"
          ]
        },
        {
          "output_type": "stream",
          "name": "stderr",
          "text": [
            "The following generation flags are not valid and may be ignored: ['temperature', 'top_p']. Set `TRANSFORMERS_VERBOSITY=info` for more details.\n"
          ]
        },
        {
          "output_type": "stream",
          "name": "stdout",
          "text": [
            "Strategy 'ปิดฟ้าข้ามทะเล' เต็ม 27 แล้ว -> เปลี่ยนเป็น 'ชี้ต้นหม่อนด่าต้นไหว'\n",
            "  เกม 427: ชี้ต้นหม่อนด่าต้นไหว (รวม 11 อัน)\n"
          ]
        },
        {
          "output_type": "stream",
          "name": "stderr",
          "text": [
            "The following generation flags are not valid and may be ignored: ['temperature', 'top_p']. Set `TRANSFORMERS_VERBOSITY=info` for more details.\n"
          ]
        },
        {
          "output_type": "stream",
          "name": "stdout",
          "text": [
            "Strategy 'ปิดฟ้าข้ามทะเล' เต็ม 27 แล้ว -> เปลี่ยนเป็น 'ชี้ต้นหม่อนด่าต้นไหว'\n",
            "  เกม 428: ชี้ต้นหม่อนด่าต้นไหว (รวม 12 อัน)\n"
          ]
        },
        {
          "output_type": "stream",
          "name": "stderr",
          "text": [
            "The following generation flags are not valid and may be ignored: ['temperature', 'top_p']. Set `TRANSFORMERS_VERBOSITY=info` for more details.\n"
          ]
        },
        {
          "output_type": "stream",
          "name": "stdout",
          "text": [
            "Strategy 'ปิดฟ้าข้ามทะเล' เต็ม 27 แล้ว -> เปลี่ยนเป็น 'ยืมทางพรางกล'\n",
            "  เกม 429: ยืมทางพรางกล (รวม 15 อัน)\n"
          ]
        },
        {
          "output_type": "stream",
          "name": "stderr",
          "text": [
            "The following generation flags are not valid and may be ignored: ['temperature', 'top_p']. Set `TRANSFORMERS_VERBOSITY=info` for more details.\n"
          ]
        },
        {
          "output_type": "stream",
          "name": "stdout",
          "text": [
            "Strategy 'ปิดฟ้าข้ามทะเล' เต็ม 27 แล้ว -> เปลี่ยนเป็น 'ซ่อนดาบในรอยยิ้ม'\n",
            "  เกม 430: ซ่อนดาบในรอยยิ้ม (รวม 11 อัน)\n",
            "  -> วิเคราะห์แล้ว 430 เกม\n",
            "  -> Strategy ที่เต็ม 27 แล้ว: 1 กลยุทธ์\n",
            "\n",
            "แบทช์ 44: กำลังวิเคราะห์เกม 431-440\n"
          ]
        },
        {
          "output_type": "stream",
          "name": "stderr",
          "text": [
            "The following generation flags are not valid and may be ignored: ['temperature', 'top_p']. Set `TRANSFORMERS_VERBOSITY=info` for more details.\n"
          ]
        },
        {
          "output_type": "stream",
          "name": "stdout",
          "text": [
            "Strategy 'ปิดฟ้าข้ามทะเล' เต็ม 27 แล้ว -> เปลี่ยนเป็น 'จับโจรเอาหัวโจก'\n",
            "  เกม 431: จับโจรเอาหัวโจก (รวม 13 อัน)\n"
          ]
        },
        {
          "output_type": "stream",
          "name": "stderr",
          "text": [
            "The following generation flags are not valid and may be ignored: ['temperature', 'top_p']. Set `TRANSFORMERS_VERBOSITY=info` for more details.\n"
          ]
        },
        {
          "output_type": "stream",
          "name": "stdout",
          "text": [
            "Strategy 'ปิดฟ้าข้ามทะเล' เต็ม 27 แล้ว -> เปลี่ยนเป็น 'จับโจรเอาหัวโจก'\n",
            "  เกม 432: จับโจรเอาหัวโจก (รวม 14 อัน)\n"
          ]
        },
        {
          "output_type": "stream",
          "name": "stderr",
          "text": [
            "The following generation flags are not valid and may be ignored: ['temperature', 'top_p']. Set `TRANSFORMERS_VERBOSITY=info` for more details.\n"
          ]
        },
        {
          "output_type": "stream",
          "name": "stdout",
          "text": [
            "Strategy 'ปิดฟ้าข้ามทะเล' เต็ม 27 แล้ว -> เปลี่ยนเป็น 'ทุกข์กาย'\n",
            "  เกม 433: ทุกข์กาย (รวม 18 อัน)\n"
          ]
        },
        {
          "output_type": "stream",
          "name": "stderr",
          "text": [
            "The following generation flags are not valid and may be ignored: ['temperature', 'top_p']. Set `TRANSFORMERS_VERBOSITY=info` for more details.\n"
          ]
        },
        {
          "output_type": "stream",
          "name": "stdout",
          "text": [
            "Strategy 'ปิดฟ้าข้ามทะเล' เต็ม 27 แล้ว -> เปลี่ยนเป็น 'ตีหญ้าให้งูตื่น'\n",
            "  เกม 434: ตีหญ้าให้งูตื่น (รวม 19 อัน)\n"
          ]
        },
        {
          "output_type": "stream",
          "name": "stderr",
          "text": [
            "The following generation flags are not valid and may be ignored: ['temperature', 'top_p']. Set `TRANSFORMERS_VERBOSITY=info` for more details.\n"
          ]
        },
        {
          "output_type": "stream",
          "name": "stdout",
          "text": [
            "Strategy 'ปิดฟ้าข้ามทะเล' เต็ม 27 แล้ว -> เปลี่ยนเป็น 'ชี้ต้นหม่อนด่าต้นไหว'\n",
            "  เกม 435: ชี้ต้นหม่อนด่าต้นไหว (รวม 13 อัน)\n"
          ]
        },
        {
          "output_type": "stream",
          "name": "stderr",
          "text": [
            "The following generation flags are not valid and may be ignored: ['temperature', 'top_p']. Set `TRANSFORMERS_VERBOSITY=info` for more details.\n"
          ]
        },
        {
          "output_type": "stream",
          "name": "stdout",
          "text": [
            "Strategy 'ปิดฟ้าข้ามทะเล' เต็ม 27 แล้ว -> เปลี่ยนเป็น 'จูงแพะติดมือ'\n",
            "  เกม 436: จูงแพะติดมือ (รวม 14 อัน)\n"
          ]
        },
        {
          "output_type": "stream",
          "name": "stderr",
          "text": [
            "The following generation flags are not valid and may be ignored: ['temperature', 'top_p']. Set `TRANSFORMERS_VERBOSITY=info` for more details.\n"
          ]
        },
        {
          "output_type": "stream",
          "name": "stdout",
          "text": [
            "Strategy 'ปิดฟ้าข้ามทะเล' เต็ม 27 แล้ว -> เปลี่ยนเป็น 'ถอนฟืนใต้กระทะ'\n",
            "  เกม 437: ถอนฟืนใต้กระทะ (รวม 12 อัน)\n"
          ]
        },
        {
          "output_type": "stream",
          "name": "stderr",
          "text": [
            "The following generation flags are not valid and may be ignored: ['temperature', 'top_p']. Set `TRANSFORMERS_VERBOSITY=info` for more details.\n"
          ]
        },
        {
          "output_type": "stream",
          "name": "stdout",
          "text": [
            "Strategy 'ปิดฟ้าข้ามทะเล' เต็ม 27 แล้ว -> เปลี่ยนเป็น 'ยืมทางพรางกล'\n",
            "  เกม 438: ยืมทางพรางกล (รวม 16 อัน)\n"
          ]
        },
        {
          "output_type": "stream",
          "name": "stderr",
          "text": [
            "The following generation flags are not valid and may be ignored: ['temperature', 'top_p']. Set `TRANSFORMERS_VERBOSITY=info` for more details.\n"
          ]
        },
        {
          "output_type": "stream",
          "name": "stdout",
          "text": [
            "Strategy 'ปิดฟ้าข้ามทะเล' เต็ม 27 แล้ว -> เปลี่ยนเป็น 'สาวงาม'\n",
            "  เกม 439: สาวงาม (รวม 15 อัน)\n"
          ]
        },
        {
          "output_type": "stream",
          "name": "stderr",
          "text": [
            "The following generation flags are not valid and may be ignored: ['temperature', 'top_p']. Set `TRANSFORMERS_VERBOSITY=info` for more details.\n"
          ]
        },
        {
          "output_type": "stream",
          "name": "stdout",
          "text": [
            "Strategy 'ปิดฟ้าข้ามทะเล' เต็ม 27 แล้ว -> เปลี่ยนเป็น 'ซ่อนดาบในรอยยิ้ม'\n",
            "  เกม 440: ซ่อนดาบในรอยยิ้ม (รวม 12 อัน)\n",
            "  -> วิเคราะห์แล้ว 440 เกม\n",
            "  -> Strategy ที่เต็ม 27 แล้ว: 1 กลยุทธ์\n",
            "\n",
            "แบทช์ 45: กำลังวิเคราะห์เกม 441-450\n"
          ]
        },
        {
          "output_type": "stream",
          "name": "stderr",
          "text": [
            "The following generation flags are not valid and may be ignored: ['temperature', 'top_p']. Set `TRANSFORMERS_VERBOSITY=info` for more details.\n"
          ]
        },
        {
          "output_type": "stream",
          "name": "stdout",
          "text": [
            "Strategy 'ปิดฟ้าข้ามทะเล' เต็ม 27 แล้ว -> เปลี่ยนเป็น 'ตีหญ้าให้งูตื่น'\n",
            "  เกม 441: ตีหญ้าให้งูตื่น (รวม 20 อัน)\n"
          ]
        },
        {
          "output_type": "stream",
          "name": "stderr",
          "text": [
            "The following generation flags are not valid and may be ignored: ['temperature', 'top_p']. Set `TRANSFORMERS_VERBOSITY=info` for more details.\n"
          ]
        },
        {
          "output_type": "stream",
          "name": "stdout",
          "text": [
            "Strategy 'ปิดฟ้าข้ามทะเล' เต็ม 27 แล้ว -> เปลี่ยนเป็น 'จูงแพะติดมือ'\n",
            "  เกม 442: จูงแพะติดมือ (รวม 15 อัน)\n"
          ]
        },
        {
          "output_type": "stream",
          "name": "stderr",
          "text": [
            "The following generation flags are not valid and may be ignored: ['temperature', 'top_p']. Set `TRANSFORMERS_VERBOSITY=info` for more details.\n"
          ]
        },
        {
          "output_type": "stream",
          "name": "stdout",
          "text": [
            "Strategy 'ปิดฟ้าข้ามทะเล' เต็ม 27 แล้ว -> เปลี่ยนเป็น 'ถอนฟืนใต้กระทะ'\n",
            "  เกม 443: ถอนฟืนใต้กระทะ (รวม 13 อัน)\n"
          ]
        },
        {
          "output_type": "stream",
          "name": "stderr",
          "text": [
            "The following generation flags are not valid and may be ignored: ['temperature', 'top_p']. Set `TRANSFORMERS_VERBOSITY=info` for more details.\n"
          ]
        },
        {
          "output_type": "stream",
          "name": "stdout",
          "text": [
            "Strategy 'ปิดฟ้าข้ามทะเล' เต็ม 27 แล้ว -> เปลี่ยนเป็น 'คบไกลตีใกล้'\n",
            "  เกม 444: คบไกลตีใกล้ (รวม 8 อัน)\n"
          ]
        },
        {
          "output_type": "stream",
          "name": "stderr",
          "text": [
            "The following generation flags are not valid and may be ignored: ['temperature', 'top_p']. Set `TRANSFORMERS_VERBOSITY=info` for more details.\n"
          ]
        },
        {
          "output_type": "stream",
          "name": "stdout",
          "text": [
            "Strategy 'ปิดฟ้าข้ามทะเล' เต็ม 27 แล้ว -> เปลี่ยนเป็น 'หลี่ตายแทนถาว'\n",
            "  เกม 445: หลี่ตายแทนถาว (รวม 10 อัน)\n"
          ]
        },
        {
          "output_type": "stream",
          "name": "stderr",
          "text": [
            "The following generation flags are not valid and may be ignored: ['temperature', 'top_p']. Set `TRANSFORMERS_VERBOSITY=info` for more details.\n"
          ]
        },
        {
          "output_type": "stream",
          "name": "stdout",
          "text": [
            "Strategy 'ปิดฟ้าข้ามทะเล' เต็ม 27 แล้ว -> เปลี่ยนเป็น 'ลูกโซ่'\n",
            "  เกม 446: ลูกโซ่ (รวม 13 อัน)\n"
          ]
        },
        {
          "output_type": "stream",
          "name": "stderr",
          "text": [
            "The following generation flags are not valid and may be ignored: ['temperature', 'top_p']. Set `TRANSFORMERS_VERBOSITY=info` for more details.\n"
          ]
        },
        {
          "output_type": "stream",
          "name": "stdout",
          "text": [
            "Strategy 'ปิดฟ้าข้ามทะเล' เต็ม 27 แล้ว -> เปลี่ยนเป็น 'แสร้งทำบอแต่ไม่บ้า'\n",
            "  เกม 447: แสร้งทำบอแต่ไม่บ้า (รวม 9 อัน)\n"
          ]
        },
        {
          "output_type": "stream",
          "name": "stderr",
          "text": [
            "The following generation flags are not valid and may be ignored: ['temperature', 'top_p']. Set `TRANSFORMERS_VERBOSITY=info` for more details.\n"
          ]
        },
        {
          "output_type": "stream",
          "name": "stdout",
          "text": [
            "Strategy 'ปิดฟ้าข้ามทะเล' เต็ม 27 แล้ว -> เปลี่ยนเป็น 'ซ่อนดาบในรอยยิ้ม'\n",
            "  เกม 448: ซ่อนดาบในรอยยิ้ม (รวม 13 อัน)\n"
          ]
        },
        {
          "output_type": "stream",
          "name": "stderr",
          "text": [
            "The following generation flags are not valid and may be ignored: ['temperature', 'top_p']. Set `TRANSFORMERS_VERBOSITY=info` for more details.\n"
          ]
        },
        {
          "output_type": "stream",
          "name": "stdout",
          "text": [
            "Strategy 'ปิดฟ้าข้ามทะเล' เต็ม 27 แล้ว -> เปลี่ยนเป็น 'เปิดเมือง'\n",
            "  เกม 449: เปิดเมือง (รวม 15 อัน)\n"
          ]
        },
        {
          "output_type": "stream",
          "name": "stderr",
          "text": [
            "The following generation flags are not valid and may be ignored: ['temperature', 'top_p']. Set `TRANSFORMERS_VERBOSITY=info` for more details.\n"
          ]
        },
        {
          "output_type": "stream",
          "name": "stdout",
          "text": [
            "Strategy 'ปิดฟ้าข้ามทะเล' เต็ม 27 แล้ว -> เปลี่ยนเป็น 'มีในไม่มี'\n",
            "  เกม 450: มีในไม่มี (รวม 13 อัน)\n",
            "  -> วิเคราะห์แล้ว 450 เกม\n",
            "  -> Strategy ที่เต็ม 27 แล้ว: 1 กลยุทธ์\n",
            "\n",
            "แบทช์ 46: กำลังวิเคราะห์เกม 451-460\n"
          ]
        },
        {
          "output_type": "stream",
          "name": "stderr",
          "text": [
            "The following generation flags are not valid and may be ignored: ['temperature', 'top_p']. Set `TRANSFORMERS_VERBOSITY=info` for more details.\n"
          ]
        },
        {
          "output_type": "stream",
          "name": "stdout",
          "text": [
            "Strategy 'ปิดฟ้าข้ามทะเล' เต็ม 27 แล้ว -> เปลี่ยนเป็น 'ซ่อนดาบในรอยยิ้ม'\n",
            "  เกม 451: ซ่อนดาบในรอยยิ้ม (รวม 14 อัน)\n"
          ]
        },
        {
          "output_type": "stream",
          "name": "stderr",
          "text": [
            "The following generation flags are not valid and may be ignored: ['temperature', 'top_p']. Set `TRANSFORMERS_VERBOSITY=info` for more details.\n"
          ]
        },
        {
          "output_type": "stream",
          "name": "stdout",
          "text": [
            "Strategy 'ปิดฟ้าข้ามทะเล' เต็ม 27 แล้ว -> เปลี่ยนเป็น 'จูงแพะติดมือ'\n",
            "  เกม 452: จูงแพะติดมือ (รวม 16 อัน)\n"
          ]
        },
        {
          "output_type": "stream",
          "name": "stderr",
          "text": [
            "The following generation flags are not valid and may be ignored: ['temperature', 'top_p']. Set `TRANSFORMERS_VERBOSITY=info` for more details.\n"
          ]
        },
        {
          "output_type": "stream",
          "name": "stdout",
          "text": [
            "Strategy 'ปิดฟ้าข้ามทะเล' เต็ม 27 แล้ว -> เปลี่ยนเป็น 'ไส้ศึก'\n",
            "  เกม 453: ไส้ศึก (รวม 12 อัน)\n"
          ]
        },
        {
          "output_type": "stream",
          "name": "stderr",
          "text": [
            "The following generation flags are not valid and may be ignored: ['temperature', 'top_p']. Set `TRANSFORMERS_VERBOSITY=info` for more details.\n"
          ]
        },
        {
          "output_type": "stream",
          "name": "stdout",
          "text": [
            "Strategy 'ปิดฟ้าข้ามทะเล' เต็ม 27 แล้ว -> เปลี่ยนเป็น 'หลบหนี'\n",
            "  เกม 454: หลบหนี (รวม 9 อัน)\n"
          ]
        },
        {
          "output_type": "stream",
          "name": "stderr",
          "text": [
            "The following generation flags are not valid and may be ignored: ['temperature', 'top_p']. Set `TRANSFORMERS_VERBOSITY=info` for more details.\n"
          ]
        },
        {
          "output_type": "stream",
          "name": "stdout",
          "text": [
            "Strategy 'ปิดฟ้าข้ามทะเล' เต็ม 27 แล้ว -> เปลี่ยนเป็น 'ส่งเสียงบูรพาฝ่าตีประจิม'\n",
            "  เกม 455: ส่งเสียงบูรพาฝ่าตีประจิม (รวม 12 อัน)\n"
          ]
        },
        {
          "output_type": "stream",
          "name": "stderr",
          "text": [
            "The following generation flags are not valid and may be ignored: ['temperature', 'top_p']. Set `TRANSFORMERS_VERBOSITY=info` for more details.\n"
          ]
        },
        {
          "output_type": "stream",
          "name": "stdout",
          "text": [
            "Strategy 'ปิดฟ้าข้ามทะเล' เต็ม 27 แล้ว -> เปลี่ยนเป็น 'ซ่อนดาบในรอยยิ้ม'\n",
            "  เกม 456: ซ่อนดาบในรอยยิ้ม (รวม 15 อัน)\n"
          ]
        },
        {
          "output_type": "stream",
          "name": "stderr",
          "text": [
            "The following generation flags are not valid and may be ignored: ['temperature', 'top_p']. Set `TRANSFORMERS_VERBOSITY=info` for more details.\n"
          ]
        },
        {
          "output_type": "stream",
          "name": "stdout",
          "text": [
            "Strategy 'ปิดฟ้าข้ามทะเล' เต็ม 27 แล้ว -> เปลี่ยนเป็น 'ล่อเสือออกจากถ้ำ'\n",
            "  เกม 457: ล่อเสือออกจากถ้ำ (รวม 15 อัน)\n"
          ]
        },
        {
          "output_type": "stream",
          "name": "stderr",
          "text": [
            "The following generation flags are not valid and may be ignored: ['temperature', 'top_p']. Set `TRANSFORMERS_VERBOSITY=info` for more details.\n"
          ]
        },
        {
          "output_type": "stream",
          "name": "stdout",
          "text": [
            "Strategy 'ปิดฟ้าข้ามทะเล' เต็ม 27 แล้ว -> เปลี่ยนเป็น 'แสร้งปล่อยเพื่อจับ'\n",
            "  เกม 458: แสร้งปล่อยเพื่อจับ (รวม 16 อัน)\n"
          ]
        },
        {
          "output_type": "stream",
          "name": "stderr",
          "text": [
            "The following generation flags are not valid and may be ignored: ['temperature', 'top_p']. Set `TRANSFORMERS_VERBOSITY=info` for more details.\n"
          ]
        },
        {
          "output_type": "stream",
          "name": "stdout",
          "text": [
            "Strategy 'ปิดฟ้าข้ามทะเล' เต็ม 27 แล้ว -> เปลี่ยนเป็น 'ปิดประตูจับโจร'\n",
            "  เกม 459: ปิดประตูจับโจร (รวม 9 อัน)\n"
          ]
        },
        {
          "output_type": "stream",
          "name": "stderr",
          "text": [
            "The following generation flags are not valid and may be ignored: ['temperature', 'top_p']. Set `TRANSFORMERS_VERBOSITY=info` for more details.\n"
          ]
        },
        {
          "output_type": "stream",
          "name": "stdout",
          "text": [
            "Strategy 'ปิดฟ้าข้ามทะเล' เต็ม 27 แล้ว -> เปลี่ยนเป็น 'คบไกลตีใกล้'\n",
            "  เกม 460: คบไกลตีใกล้ (รวม 9 อัน)\n",
            "  -> วิเคราะห์แล้ว 460 เกม\n",
            "  -> Strategy ที่เต็ม 27 แล้ว: 1 กลยุทธ์\n",
            "\n",
            "แบทช์ 47: กำลังวิเคราะห์เกม 461-470\n"
          ]
        },
        {
          "output_type": "stream",
          "name": "stderr",
          "text": [
            "The following generation flags are not valid and may be ignored: ['temperature', 'top_p']. Set `TRANSFORMERS_VERBOSITY=info` for more details.\n"
          ]
        },
        {
          "output_type": "stream",
          "name": "stdout",
          "text": [
            "Strategy 'ปิดฟ้าข้ามทะเล' เต็ม 27 แล้ว -> เปลี่ยนเป็น 'รอซ้ำยามเปลี้ย'\n",
            "  เกม 461: รอซ้ำยามเปลี้ย (รวม 11 อัน)\n"
          ]
        },
        {
          "output_type": "stream",
          "name": "stderr",
          "text": [
            "The following generation flags are not valid and may be ignored: ['temperature', 'top_p']. Set `TRANSFORMERS_VERBOSITY=info` for more details.\n"
          ]
        },
        {
          "output_type": "stream",
          "name": "stdout",
          "text": [
            "Strategy 'ปิดฟ้าข้ามทะเล' เต็ม 27 แล้ว -> เปลี่ยนเป็น 'ตีชิงตามไฟ'\n",
            "  เกม 462: ตีชิงตามไฟ (รวม 12 อัน)\n"
          ]
        },
        {
          "output_type": "stream",
          "name": "stderr",
          "text": [
            "The following generation flags are not valid and may be ignored: ['temperature', 'top_p']. Set `TRANSFORMERS_VERBOSITY=info` for more details.\n"
          ]
        },
        {
          "output_type": "stream",
          "name": "stdout",
          "text": [
            "Strategy 'ปิดฟ้าข้ามทะเล' เต็ม 27 แล้ว -> เปลี่ยนเป็น 'ล่อเสือออกจากถ้ำ'\n",
            "  เกม 463: ล่อเสือออกจากถ้ำ (รวม 16 อัน)\n"
          ]
        },
        {
          "output_type": "stream",
          "name": "stderr",
          "text": [
            "The following generation flags are not valid and may be ignored: ['temperature', 'top_p']. Set `TRANSFORMERS_VERBOSITY=info` for more details.\n"
          ]
        },
        {
          "output_type": "stream",
          "name": "stdout",
          "text": [
            "Strategy 'ปิดฟ้าข้ามทะเล' เต็ม 27 แล้ว -> เปลี่ยนเป็น 'ปิดประตูจับโจร'\n",
            "  เกม 464: ปิดประตูจับโจร (รวม 10 อัน)\n"
          ]
        },
        {
          "output_type": "stream",
          "name": "stderr",
          "text": [
            "The following generation flags are not valid and may be ignored: ['temperature', 'top_p']. Set `TRANSFORMERS_VERBOSITY=info` for more details.\n"
          ]
        },
        {
          "output_type": "stream",
          "name": "stdout",
          "text": [
            "Strategy 'ปิดฟ้าข้ามทะเล' เต็ม 27 แล้ว -> เปลี่ยนเป็น 'ขึ้นบ้านชักบันได'\n",
            "  เกม 465: ขึ้นบ้านชักบันได (รวม 12 อัน)\n"
          ]
        },
        {
          "output_type": "stream",
          "name": "stderr",
          "text": [
            "The following generation flags are not valid and may be ignored: ['temperature', 'top_p']. Set `TRANSFORMERS_VERBOSITY=info` for more details.\n"
          ]
        },
        {
          "output_type": "stream",
          "name": "stdout",
          "text": [
            "Strategy 'ปิดฟ้าข้ามทะเล' เต็ม 27 แล้ว -> เปลี่ยนเป็น 'ล่อเสือออกจากถ้ำ'\n",
            "  เกม 466: ล่อเสือออกจากถ้ำ (รวม 17 อัน)\n"
          ]
        },
        {
          "output_type": "stream",
          "name": "stderr",
          "text": [
            "The following generation flags are not valid and may be ignored: ['temperature', 'top_p']. Set `TRANSFORMERS_VERBOSITY=info` for more details.\n"
          ]
        },
        {
          "output_type": "stream",
          "name": "stdout",
          "text": [
            "Strategy 'ปิดฟ้าข้ามทะเล' เต็ม 27 แล้ว -> เปลี่ยนเป็น 'หลี่ตายแทนถาว'\n",
            "  เกม 467: หลี่ตายแทนถาว (รวม 11 อัน)\n"
          ]
        },
        {
          "output_type": "stream",
          "name": "stderr",
          "text": [
            "The following generation flags are not valid and may be ignored: ['temperature', 'top_p']. Set `TRANSFORMERS_VERBOSITY=info` for more details.\n"
          ]
        },
        {
          "output_type": "stream",
          "name": "stdout",
          "text": [
            "Strategy 'ปิดฟ้าข้ามทะเล' เต็ม 27 แล้ว -> เปลี่ยนเป็น 'หลี่ตายแทนถาว'\n",
            "  เกม 468: หลี่ตายแทนถาว (รวม 12 อัน)\n"
          ]
        },
        {
          "output_type": "stream",
          "name": "stderr",
          "text": [
            "The following generation flags are not valid and may be ignored: ['temperature', 'top_p']. Set `TRANSFORMERS_VERBOSITY=info` for more details.\n"
          ]
        },
        {
          "output_type": "stream",
          "name": "stdout",
          "text": [
            "Strategy 'ปิดฟ้าข้ามทะเล' เต็ม 27 แล้ว -> เปลี่ยนเป็น 'แสร้งทำบอแต่ไม่บ้า'\n",
            "  เกม 469: แสร้งทำบอแต่ไม่บ้า (รวม 10 อัน)\n"
          ]
        },
        {
          "output_type": "stream",
          "name": "stderr",
          "text": [
            "The following generation flags are not valid and may be ignored: ['temperature', 'top_p']. Set `TRANSFORMERS_VERBOSITY=info` for more details.\n"
          ]
        },
        {
          "output_type": "stream",
          "name": "stdout",
          "text": [
            "Strategy 'ปิดฟ้าข้ามทะเล' เต็ม 27 แล้ว -> เปลี่ยนเป็น 'ลอบตีเฉินชาง'\n",
            "  เกม 470: ลอบตีเฉินชาง (รวม 15 อัน)\n",
            "  -> วิเคราะห์แล้ว 470 เกม\n",
            "  -> Strategy ที่เต็ม 27 แล้ว: 1 กลยุทธ์\n",
            "\n",
            "แบทช์ 48: กำลังวิเคราะห์เกม 471-480\n"
          ]
        },
        {
          "output_type": "stream",
          "name": "stderr",
          "text": [
            "The following generation flags are not valid and may be ignored: ['temperature', 'top_p']. Set `TRANSFORMERS_VERBOSITY=info` for more details.\n"
          ]
        },
        {
          "output_type": "stream",
          "name": "stdout",
          "text": [
            "Strategy 'ปิดฟ้าข้ามทะเล' เต็ม 27 แล้ว -> เปลี่ยนเป็น 'ไส้ศึก'\n",
            "  เกม 471: ไส้ศึก (รวม 13 อัน)\n"
          ]
        },
        {
          "output_type": "stream",
          "name": "stderr",
          "text": [
            "The following generation flags are not valid and may be ignored: ['temperature', 'top_p']. Set `TRANSFORMERS_VERBOSITY=info` for more details.\n"
          ]
        },
        {
          "output_type": "stream",
          "name": "stdout",
          "text": [
            "Strategy 'ปิดฟ้าข้ามทะเล' เต็ม 27 แล้ว -> เปลี่ยนเป็น 'สลับแขกเป็นเจ้าบ้าน'\n",
            "  เกม 472: สลับแขกเป็นเจ้าบ้าน (รวม 14 อัน)\n"
          ]
        },
        {
          "output_type": "stream",
          "name": "stderr",
          "text": [
            "The following generation flags are not valid and may be ignored: ['temperature', 'top_p']. Set `TRANSFORMERS_VERBOSITY=info` for more details.\n"
          ]
        },
        {
          "output_type": "stream",
          "name": "stdout",
          "text": [
            "Strategy 'ปิดฟ้าข้ามทะเล' เต็ม 27 แล้ว -> เปลี่ยนเป็น 'ยืมทางพรางกล'\n",
            "  เกม 473: ยืมทางพรางกล (รวม 17 อัน)\n"
          ]
        },
        {
          "output_type": "stream",
          "name": "stderr",
          "text": [
            "The following generation flags are not valid and may be ignored: ['temperature', 'top_p']. Set `TRANSFORMERS_VERBOSITY=info` for more details.\n"
          ]
        },
        {
          "output_type": "stream",
          "name": "stdout",
          "text": [
            "Strategy 'ปิดฟ้าข้ามทะเล' เต็ม 27 แล้ว -> เปลี่ยนเป็น 'ลูกโซ่'\n",
            "  เกม 474: ลูกโซ่ (รวม 14 อัน)\n"
          ]
        },
        {
          "output_type": "stream",
          "name": "stderr",
          "text": [
            "The following generation flags are not valid and may be ignored: ['temperature', 'top_p']. Set `TRANSFORMERS_VERBOSITY=info` for more details.\n"
          ]
        },
        {
          "output_type": "stream",
          "name": "stdout",
          "text": [
            "Strategy 'ปิดฟ้าข้ามทะเล' เต็ม 27 แล้ว -> เปลี่ยนเป็น 'ตีชิงตามไฟ'\n",
            "  เกม 475: ตีชิงตามไฟ (รวม 13 อัน)\n"
          ]
        },
        {
          "output_type": "stream",
          "name": "stderr",
          "text": [
            "The following generation flags are not valid and may be ignored: ['temperature', 'top_p']. Set `TRANSFORMERS_VERBOSITY=info` for more details.\n"
          ]
        },
        {
          "output_type": "stream",
          "name": "stdout",
          "text": [
            "Strategy 'ปิดฟ้าข้ามทะเล' เต็ม 27 แล้ว -> เปลี่ยนเป็น 'หลบหนี'\n",
            "  เกม 476: หลบหนี (รวม 10 อัน)\n"
          ]
        },
        {
          "output_type": "stream",
          "name": "stderr",
          "text": [
            "The following generation flags are not valid and may be ignored: ['temperature', 'top_p']. Set `TRANSFORMERS_VERBOSITY=info` for more details.\n"
          ]
        },
        {
          "output_type": "stream",
          "name": "stdout",
          "text": [
            "Strategy 'ปิดฟ้าข้ามทะเล' เต็ม 27 แล้ว -> เปลี่ยนเป็น 'ตีชิงตามไฟ'\n",
            "  เกม 477: ตีชิงตามไฟ (รวม 14 อัน)\n"
          ]
        },
        {
          "output_type": "stream",
          "name": "stderr",
          "text": [
            "The following generation flags are not valid and may be ignored: ['temperature', 'top_p']. Set `TRANSFORMERS_VERBOSITY=info` for more details.\n"
          ]
        },
        {
          "output_type": "stream",
          "name": "stdout",
          "text": [
            "Strategy 'ปิดฟ้าข้ามทะเล' เต็ม 27 แล้ว -> เปลี่ยนเป็น 'ต้นไม้ผลิดอก'\n",
            "  เกม 478: ต้นไม้ผลิดอก (รวม 8 อัน)\n"
          ]
        },
        {
          "output_type": "stream",
          "name": "stderr",
          "text": [
            "The following generation flags are not valid and may be ignored: ['temperature', 'top_p']. Set `TRANSFORMERS_VERBOSITY=info` for more details.\n"
          ]
        },
        {
          "output_type": "stream",
          "name": "stdout",
          "text": [
            "Strategy 'ปิดฟ้าข้ามทะเล' เต็ม 27 แล้ว -> เปลี่ยนเป็น 'จักจั่นลอกคราบ'\n",
            "  เกม 479: จักจั่นลอกคราบ (รวม 9 อัน)\n"
          ]
        },
        {
          "output_type": "stream",
          "name": "stderr",
          "text": [
            "The following generation flags are not valid and may be ignored: ['temperature', 'top_p']. Set `TRANSFORMERS_VERBOSITY=info` for more details.\n"
          ]
        },
        {
          "output_type": "stream",
          "name": "stdout",
          "text": [
            "Strategy 'ปิดฟ้าข้ามทะเล' เต็ม 27 แล้ว -> เปลี่ยนเป็น 'รอซ้ำยามเปลี้ย'\n",
            "  เกม 480: รอซ้ำยามเปลี้ย (รวม 12 อัน)\n",
            "  -> วิเคราะห์แล้ว 480 เกม\n",
            "  -> Strategy ที่เต็ม 27 แล้ว: 1 กลยุทธ์\n",
            "\n",
            "แบทช์ 49: กำลังวิเคราะห์เกม 481-490\n"
          ]
        },
        {
          "output_type": "stream",
          "name": "stderr",
          "text": [
            "The following generation flags are not valid and may be ignored: ['temperature', 'top_p']. Set `TRANSFORMERS_VERBOSITY=info` for more details.\n"
          ]
        },
        {
          "output_type": "stream",
          "name": "stdout",
          "text": [
            "Strategy 'ปิดฟ้าข้ามทะเล' เต็ม 27 แล้ว -> เปลี่ยนเป็น 'โยนกระเบื้องล่อหยก'\n",
            "  เกม 481: โยนกระเบื้องล่อหยก (รวม 17 อัน)\n"
          ]
        },
        {
          "output_type": "stream",
          "name": "stderr",
          "text": [
            "The following generation flags are not valid and may be ignored: ['temperature', 'top_p']. Set `TRANSFORMERS_VERBOSITY=info` for more details.\n"
          ]
        },
        {
          "output_type": "stream",
          "name": "stdout",
          "text": [
            "Strategy 'ปิดฟ้าข้ามทะเล' เต็ม 27 แล้ว -> เปลี่ยนเป็น 'โยนกระเบื้องล่อหยก'\n",
            "  เกม 482: โยนกระเบื้องล่อหยก (รวม 18 อัน)\n"
          ]
        },
        {
          "output_type": "stream",
          "name": "stderr",
          "text": [
            "The following generation flags are not valid and may be ignored: ['temperature', 'top_p']. Set `TRANSFORMERS_VERBOSITY=info` for more details.\n"
          ]
        },
        {
          "output_type": "stream",
          "name": "stdout",
          "text": [
            "Strategy 'ปิดฟ้าข้ามทะเล' เต็ม 27 แล้ว -> เปลี่ยนเป็น 'ยืมทางพรางกล'\n",
            "  เกม 483: ยืมทางพรางกล (รวม 18 อัน)\n"
          ]
        },
        {
          "output_type": "stream",
          "name": "stderr",
          "text": [
            "The following generation flags are not valid and may be ignored: ['temperature', 'top_p']. Set `TRANSFORMERS_VERBOSITY=info` for more details.\n"
          ]
        },
        {
          "output_type": "stream",
          "name": "stdout",
          "text": [
            "Strategy 'ปิดฟ้าข้ามทะเล' เต็ม 27 แล้ว -> เปลี่ยนเป็น 'ปิดประตูจับโจร'\n",
            "  เกม 484: ปิดประตูจับโจร (รวม 11 อัน)\n"
          ]
        },
        {
          "output_type": "stream",
          "name": "stderr",
          "text": [
            "The following generation flags are not valid and may be ignored: ['temperature', 'top_p']. Set `TRANSFORMERS_VERBOSITY=info` for more details.\n"
          ]
        },
        {
          "output_type": "stream",
          "name": "stdout",
          "text": [
            "Strategy 'ปิดฟ้าข้ามทะเล' เต็ม 27 แล้ว -> เปลี่ยนเป็น 'ไส้ศึก'\n",
            "  เกม 485: ไส้ศึก (รวม 14 อัน)\n"
          ]
        },
        {
          "output_type": "stream",
          "name": "stderr",
          "text": [
            "The following generation flags are not valid and may be ignored: ['temperature', 'top_p']. Set `TRANSFORMERS_VERBOSITY=info` for more details.\n"
          ]
        },
        {
          "output_type": "stream",
          "name": "stdout",
          "text": [
            "Strategy 'ปิดฟ้าข้ามทะเล' เต็ม 27 แล้ว -> เปลี่ยนเป็น 'คบไกลตีใกล้'\n",
            "  เกม 486: คบไกลตีใกล้ (รวม 10 อัน)\n"
          ]
        },
        {
          "output_type": "stream",
          "name": "stderr",
          "text": [
            "The following generation flags are not valid and may be ignored: ['temperature', 'top_p']. Set `TRANSFORMERS_VERBOSITY=info` for more details.\n"
          ]
        },
        {
          "output_type": "stream",
          "name": "stdout",
          "text": [
            "Strategy 'ปิดฟ้าข้ามทะเล' เต็ม 27 แล้ว -> เปลี่ยนเป็น 'คบไกลตีใกล้'\n",
            "  เกม 487: คบไกลตีใกล้ (รวม 11 อัน)\n"
          ]
        },
        {
          "output_type": "stream",
          "name": "stderr",
          "text": [
            "The following generation flags are not valid and may be ignored: ['temperature', 'top_p']. Set `TRANSFORMERS_VERBOSITY=info` for more details.\n"
          ]
        },
        {
          "output_type": "stream",
          "name": "stdout",
          "text": [
            "Strategy 'ปิดฟ้าข้ามทะเล' เต็ม 27 แล้ว -> เปลี่ยนเป็น 'ไส้ศึก'\n",
            "  เกม 488: ไส้ศึก (รวม 15 อัน)\n"
          ]
        },
        {
          "output_type": "stream",
          "name": "stderr",
          "text": [
            "The following generation flags are not valid and may be ignored: ['temperature', 'top_p']. Set `TRANSFORMERS_VERBOSITY=info` for more details.\n"
          ]
        },
        {
          "output_type": "stream",
          "name": "stdout",
          "text": [
            "Strategy 'ปิดฟ้าข้ามทะเล' เต็ม 27 แล้ว -> เปลี่ยนเป็น 'เปิดเมือง'\n",
            "  เกม 489: เปิดเมือง (รวม 16 อัน)\n"
          ]
        },
        {
          "output_type": "stream",
          "name": "stderr",
          "text": [
            "The following generation flags are not valid and may be ignored: ['temperature', 'top_p']. Set `TRANSFORMERS_VERBOSITY=info` for more details.\n"
          ]
        },
        {
          "output_type": "stream",
          "name": "stdout",
          "text": [
            "Strategy 'ปิดฟ้าข้ามทะเล' เต็ม 27 แล้ว -> เปลี่ยนเป็น 'ตีชิงตามไฟ'\n",
            "  เกม 490: ตีชิงตามไฟ (รวม 15 อัน)\n",
            "  -> วิเคราะห์แล้ว 490 เกม\n",
            "  -> Strategy ที่เต็ม 27 แล้ว: 1 กลยุทธ์\n",
            "\n",
            "แบทช์ 50: กำลังวิเคราะห์เกม 491-500\n"
          ]
        },
        {
          "output_type": "stream",
          "name": "stderr",
          "text": [
            "The following generation flags are not valid and may be ignored: ['temperature', 'top_p']. Set `TRANSFORMERS_VERBOSITY=info` for more details.\n"
          ]
        },
        {
          "output_type": "stream",
          "name": "stdout",
          "text": [
            "Strategy 'ปิดฟ้าข้ามทะเล' เต็ม 27 แล้ว -> เปลี่ยนเป็น 'ขึ้นบ้านชักบันได'\n",
            "  เกม 491: ขึ้นบ้านชักบันได (รวม 13 อัน)\n"
          ]
        },
        {
          "output_type": "stream",
          "name": "stderr",
          "text": [
            "The following generation flags are not valid and may be ignored: ['temperature', 'top_p']. Set `TRANSFORMERS_VERBOSITY=info` for more details.\n"
          ]
        },
        {
          "output_type": "stream",
          "name": "stdout",
          "text": [
            "Strategy 'ปิดฟ้าข้ามทะเล' เต็ม 27 แล้ว -> เปลี่ยนเป็น 'ล่อเสือออกจากถ้ำ'\n",
            "  เกม 492: ล่อเสือออกจากถ้ำ (รวม 18 อัน)\n"
          ]
        },
        {
          "output_type": "stream",
          "name": "stderr",
          "text": [
            "The following generation flags are not valid and may be ignored: ['temperature', 'top_p']. Set `TRANSFORMERS_VERBOSITY=info` for more details.\n"
          ]
        },
        {
          "output_type": "stream",
          "name": "stdout",
          "text": [
            "Strategy 'ปิดฟ้าข้ามทะเล' เต็ม 27 แล้ว -> เปลี่ยนเป็น 'ซ่อนดาบในรอยยิ้ม'\n",
            "  เกม 493: ซ่อนดาบในรอยยิ้ม (รวม 16 อัน)\n"
          ]
        },
        {
          "output_type": "stream",
          "name": "stderr",
          "text": [
            "The following generation flags are not valid and may be ignored: ['temperature', 'top_p']. Set `TRANSFORMERS_VERBOSITY=info` for more details.\n"
          ]
        },
        {
          "output_type": "stream",
          "name": "stdout",
          "text": [
            "Strategy 'ปิดฟ้าข้ามทะเล' เต็ม 27 แล้ว -> เปลี่ยนเป็น 'ลักขื่อเปลี่ยนเสา'\n",
            "  เกม 494: ลักขื่อเปลี่ยนเสา (รวม 11 อัน)\n"
          ]
        },
        {
          "output_type": "stream",
          "name": "stderr",
          "text": [
            "The following generation flags are not valid and may be ignored: ['temperature', 'top_p']. Set `TRANSFORMERS_VERBOSITY=info` for more details.\n"
          ]
        },
        {
          "output_type": "stream",
          "name": "stdout",
          "text": [
            "Strategy 'ปิดฟ้าข้ามทะเล' เต็ม 27 แล้ว -> เปลี่ยนเป็น 'เปิดเมือง'\n",
            "  เกม 495: เปิดเมือง (รวม 17 อัน)\n"
          ]
        },
        {
          "output_type": "stream",
          "name": "stderr",
          "text": [
            "The following generation flags are not valid and may be ignored: ['temperature', 'top_p']. Set `TRANSFORMERS_VERBOSITY=info` for more details.\n"
          ]
        },
        {
          "output_type": "stream",
          "name": "stdout",
          "text": [
            "Strategy 'ปิดฟ้าข้ามทะเล' เต็ม 27 แล้ว -> เปลี่ยนเป็น 'ลักขื่อเปลี่ยนเสา'\n",
            "  เกม 496: ลักขื่อเปลี่ยนเสา (รวม 12 อัน)\n"
          ]
        },
        {
          "output_type": "stream",
          "name": "stderr",
          "text": [
            "The following generation flags are not valid and may be ignored: ['temperature', 'top_p']. Set `TRANSFORMERS_VERBOSITY=info` for more details.\n"
          ]
        },
        {
          "output_type": "stream",
          "name": "stdout",
          "text": [
            "Strategy 'ปิดฟ้าข้ามทะเล' เต็ม 27 แล้ว -> เปลี่ยนเป็น 'จูงแพะติดมือ'\n",
            "  เกม 497: จูงแพะติดมือ (รวม 17 อัน)\n"
          ]
        },
        {
          "output_type": "stream",
          "name": "stderr",
          "text": [
            "The following generation flags are not valid and may be ignored: ['temperature', 'top_p']. Set `TRANSFORMERS_VERBOSITY=info` for more details.\n"
          ]
        },
        {
          "output_type": "stream",
          "name": "stdout",
          "text": [
            "Strategy 'ปิดฟ้าข้ามทะเล' เต็ม 27 แล้ว -> เปลี่ยนเป็น 'ล่อเสือออกจากถ้ำ'\n",
            "  เกม 498: ล่อเสือออกจากถ้ำ (รวม 19 อัน)\n"
          ]
        },
        {
          "output_type": "stream",
          "name": "stderr",
          "text": [
            "The following generation flags are not valid and may be ignored: ['temperature', 'top_p']. Set `TRANSFORMERS_VERBOSITY=info` for more details.\n"
          ]
        },
        {
          "output_type": "stream",
          "name": "stdout",
          "text": [
            "Strategy 'ปิดฟ้าข้ามทะเล' เต็ม 27 แล้ว -> เปลี่ยนเป็น 'สาวงาม'\n",
            "  เกม 499: สาวงาม (รวม 16 อัน)\n"
          ]
        },
        {
          "output_type": "stream",
          "name": "stderr",
          "text": [
            "The following generation flags are not valid and may be ignored: ['temperature', 'top_p']. Set `TRANSFORMERS_VERBOSITY=info` for more details.\n"
          ]
        },
        {
          "output_type": "stream",
          "name": "stdout",
          "text": [
            "Strategy 'ปิดฟ้าข้ามทะเล' เต็ม 27 แล้ว -> เปลี่ยนเป็น 'ถอนฟืนใต้กระทะ'\n",
            "  เกม 500: ถอนฟืนใต้กระทะ (รวม 14 อัน)\n",
            "  -> วิเคราะห์แล้ว 500 เกม\n",
            "  -> Strategy ที่เต็ม 27 แล้ว: 1 กลยุทธ์\n",
            "  -> บันทึกผลกลางแล้ว 500 เกม\n",
            "\n",
            "แบทช์ 51: กำลังวิเคราะห์เกม 501-510\n"
          ]
        },
        {
          "output_type": "stream",
          "name": "stderr",
          "text": [
            "The following generation flags are not valid and may be ignored: ['temperature', 'top_p']. Set `TRANSFORMERS_VERBOSITY=info` for more details.\n"
          ]
        },
        {
          "output_type": "stream",
          "name": "stdout",
          "text": [
            "Strategy 'ปิดฟ้าข้ามทะเล' เต็ม 27 แล้ว -> เปลี่ยนเป็น 'หลี่ตายแทนถาว'\n",
            "  เกม 501: หลี่ตายแทนถาว (รวม 13 อัน)\n"
          ]
        },
        {
          "output_type": "stream",
          "name": "stderr",
          "text": [
            "The following generation flags are not valid and may be ignored: ['temperature', 'top_p']. Set `TRANSFORMERS_VERBOSITY=info` for more details.\n"
          ]
        },
        {
          "output_type": "stream",
          "name": "stdout",
          "text": [
            "Strategy 'ปิดฟ้าข้ามทะเล' เต็ม 27 แล้ว -> เปลี่ยนเป็น 'เปิดเมือง'\n",
            "  เกม 502: เปิดเมือง (รวม 18 อัน)\n"
          ]
        },
        {
          "output_type": "stream",
          "name": "stderr",
          "text": [
            "The following generation flags are not valid and may be ignored: ['temperature', 'top_p']. Set `TRANSFORMERS_VERBOSITY=info` for more details.\n"
          ]
        },
        {
          "output_type": "stream",
          "name": "stdout",
          "text": [
            "Strategy 'ปิดฟ้าข้ามทะเล' เต็ม 27 แล้ว -> เปลี่ยนเป็น 'มีในไม่มี'\n",
            "  เกม 503: มีในไม่มี (รวม 14 อัน)\n"
          ]
        },
        {
          "output_type": "stream",
          "name": "stderr",
          "text": [
            "The following generation flags are not valid and may be ignored: ['temperature', 'top_p']. Set `TRANSFORMERS_VERBOSITY=info` for more details.\n"
          ]
        },
        {
          "output_type": "stream",
          "name": "stdout",
          "text": [
            "Strategy 'ปิดฟ้าข้ามทะเล' เต็ม 27 แล้ว -> เปลี่ยนเป็น 'ชี้ต้นหม่อนด่าต้นไหว'\n",
            "  เกม 504: ชี้ต้นหม่อนด่าต้นไหว (รวม 14 อัน)\n"
          ]
        },
        {
          "output_type": "stream",
          "name": "stderr",
          "text": [
            "The following generation flags are not valid and may be ignored: ['temperature', 'top_p']. Set `TRANSFORMERS_VERBOSITY=info` for more details.\n"
          ]
        },
        {
          "output_type": "stream",
          "name": "stdout",
          "text": [
            "Strategy 'ปิดฟ้าข้ามทะเล' เต็ม 27 แล้ว -> เปลี่ยนเป็น 'ลักขื่อเปลี่ยนเสา'\n",
            "  เกม 505: ลักขื่อเปลี่ยนเสา (รวม 13 อัน)\n"
          ]
        },
        {
          "output_type": "stream",
          "name": "stderr",
          "text": [
            "The following generation flags are not valid and may be ignored: ['temperature', 'top_p']. Set `TRANSFORMERS_VERBOSITY=info` for more details.\n"
          ]
        },
        {
          "output_type": "stream",
          "name": "stdout",
          "text": [
            "Strategy 'ปิดฟ้าข้ามทะเล' เต็ม 27 แล้ว -> เปลี่ยนเป็น 'ยืมซากคืนชีพ'\n",
            "  เกม 506: ยืมซากคืนชีพ (รวม 12 อัน)\n"
          ]
        },
        {
          "output_type": "stream",
          "name": "stderr",
          "text": [
            "The following generation flags are not valid and may be ignored: ['temperature', 'top_p']. Set `TRANSFORMERS_VERBOSITY=info` for more details.\n"
          ]
        },
        {
          "output_type": "stream",
          "name": "stdout",
          "text": [
            "Strategy 'ปิดฟ้าข้ามทะเล' เต็ม 27 แล้ว -> เปลี่ยนเป็น 'ปิดประตูจับโจร'\n",
            "  เกม 507: ปิดประตูจับโจร (รวม 12 อัน)\n"
          ]
        },
        {
          "output_type": "stream",
          "name": "stderr",
          "text": [
            "The following generation flags are not valid and may be ignored: ['temperature', 'top_p']. Set `TRANSFORMERS_VERBOSITY=info` for more details.\n"
          ]
        },
        {
          "output_type": "stream",
          "name": "stdout",
          "text": [
            "Strategy 'ปิดฟ้าข้ามทะเล' เต็ม 27 แล้ว -> เปลี่ยนเป็น 'ลูกโซ่'\n",
            "  เกม 508: ลูกโซ่ (รวม 15 อัน)\n"
          ]
        },
        {
          "output_type": "stream",
          "name": "stderr",
          "text": [
            "The following generation flags are not valid and may be ignored: ['temperature', 'top_p']. Set `TRANSFORMERS_VERBOSITY=info` for more details.\n"
          ]
        },
        {
          "output_type": "stream",
          "name": "stdout",
          "text": [
            "Strategy 'ปิดฟ้าข้ามทะเล' เต็ม 27 แล้ว -> เปลี่ยนเป็น 'โยนกระเบื้องล่อหยก'\n",
            "  เกม 509: โยนกระเบื้องล่อหยก (รวม 19 อัน)\n"
          ]
        },
        {
          "output_type": "stream",
          "name": "stderr",
          "text": [
            "The following generation flags are not valid and may be ignored: ['temperature', 'top_p']. Set `TRANSFORMERS_VERBOSITY=info` for more details.\n"
          ]
        },
        {
          "output_type": "stream",
          "name": "stdout",
          "text": [
            "Strategy 'ปิดฟ้าข้ามทะเล' เต็ม 27 แล้ว -> เปลี่ยนเป็น 'ตีชิงตามไฟ'\n",
            "  เกม 510: ตีชิงตามไฟ (รวม 16 อัน)\n",
            "  -> วิเคราะห์แล้ว 510 เกม\n",
            "  -> Strategy ที่เต็ม 27 แล้ว: 1 กลยุทธ์\n",
            "\n",
            "แบทช์ 52: กำลังวิเคราะห์เกม 511-520\n"
          ]
        },
        {
          "output_type": "stream",
          "name": "stderr",
          "text": [
            "The following generation flags are not valid and may be ignored: ['temperature', 'top_p']. Set `TRANSFORMERS_VERBOSITY=info` for more details.\n"
          ]
        },
        {
          "output_type": "stream",
          "name": "stdout",
          "text": [
            "Strategy 'ปิดฟ้าข้ามทะเล' เต็ม 27 แล้ว -> เปลี่ยนเป็น 'ปิดประตูจับโจร'\n",
            "  เกม 511: ปิดประตูจับโจร (รวม 13 อัน)\n"
          ]
        },
        {
          "output_type": "stream",
          "name": "stderr",
          "text": [
            "The following generation flags are not valid and may be ignored: ['temperature', 'top_p']. Set `TRANSFORMERS_VERBOSITY=info` for more details.\n"
          ]
        },
        {
          "output_type": "stream",
          "name": "stdout",
          "text": [
            "Strategy 'ปิดฟ้าข้ามทะเล' เต็ม 27 แล้ว -> เปลี่ยนเป็น 'ไส้ศึก'\n",
            "  เกม 512: ไส้ศึก (รวม 16 อัน)\n"
          ]
        },
        {
          "output_type": "stream",
          "name": "stderr",
          "text": [
            "The following generation flags are not valid and may be ignored: ['temperature', 'top_p']. Set `TRANSFORMERS_VERBOSITY=info` for more details.\n"
          ]
        },
        {
          "output_type": "stream",
          "name": "stdout",
          "text": [
            "Strategy 'ปิดฟ้าข้ามทะเล' เต็ม 27 แล้ว -> เปลี่ยนเป็น 'สลับแขกเป็นเจ้าบ้าน'\n",
            "  เกม 513: สลับแขกเป็นเจ้าบ้าน (รวม 15 อัน)\n"
          ]
        },
        {
          "output_type": "stream",
          "name": "stderr",
          "text": [
            "The following generation flags are not valid and may be ignored: ['temperature', 'top_p']. Set `TRANSFORMERS_VERBOSITY=info` for more details.\n"
          ]
        },
        {
          "output_type": "stream",
          "name": "stdout",
          "text": [
            "Strategy 'ปิดฟ้าข้ามทะเล' เต็ม 27 แล้ว -> เปลี่ยนเป็น 'มีในไม่มี'\n",
            "  เกม 514: มีในไม่มี (รวม 15 อัน)\n"
          ]
        },
        {
          "output_type": "stream",
          "name": "stderr",
          "text": [
            "The following generation flags are not valid and may be ignored: ['temperature', 'top_p']. Set `TRANSFORMERS_VERBOSITY=info` for more details.\n"
          ]
        },
        {
          "output_type": "stream",
          "name": "stdout",
          "text": [
            "Strategy 'ปิดฟ้าข้ามทะเล' เต็ม 27 แล้ว -> เปลี่ยนเป็น 'จับโจรเอาหัวโจก'\n",
            "  เกม 515: จับโจรเอาหัวโจก (รวม 15 อัน)\n"
          ]
        },
        {
          "output_type": "stream",
          "name": "stderr",
          "text": [
            "The following generation flags are not valid and may be ignored: ['temperature', 'top_p']. Set `TRANSFORMERS_VERBOSITY=info` for more details.\n"
          ]
        },
        {
          "output_type": "stream",
          "name": "stdout",
          "text": [
            "Strategy 'ปิดฟ้าข้ามทะเล' เต็ม 27 แล้ว -> เปลี่ยนเป็น 'แสร้งปล่อยเพื่อจับ'\n",
            "  เกม 516: แสร้งปล่อยเพื่อจับ (รวม 17 อัน)\n"
          ]
        },
        {
          "output_type": "stream",
          "name": "stderr",
          "text": [
            "The following generation flags are not valid and may be ignored: ['temperature', 'top_p']. Set `TRANSFORMERS_VERBOSITY=info` for more details.\n"
          ]
        },
        {
          "output_type": "stream",
          "name": "stdout",
          "text": [
            "Strategy 'ปิดฟ้าข้ามทะเล' เต็ม 27 แล้ว -> เปลี่ยนเป็น 'สลับแขกเป็นเจ้าบ้าน'\n",
            "  เกม 517: สลับแขกเป็นเจ้าบ้าน (รวม 16 อัน)\n"
          ]
        },
        {
          "output_type": "stream",
          "name": "stderr",
          "text": [
            "The following generation flags are not valid and may be ignored: ['temperature', 'top_p']. Set `TRANSFORMERS_VERBOSITY=info` for more details.\n"
          ]
        },
        {
          "output_type": "stream",
          "name": "stdout",
          "text": [
            "Strategy 'ปิดฟ้าข้ามทะเล' เต็ม 27 แล้ว -> เปลี่ยนเป็น 'ล่อเสือออกจากถ้ำ'\n",
            "  เกม 518: ล่อเสือออกจากถ้ำ (รวม 20 อัน)\n"
          ]
        },
        {
          "output_type": "stream",
          "name": "stderr",
          "text": [
            "The following generation flags are not valid and may be ignored: ['temperature', 'top_p']. Set `TRANSFORMERS_VERBOSITY=info` for more details.\n"
          ]
        },
        {
          "output_type": "stream",
          "name": "stdout",
          "text": [
            "Strategy 'ปิดฟ้าข้ามทะเล' เต็ม 27 แล้ว -> เปลี่ยนเป็น 'มีในไม่มี'\n",
            "  เกม 519: มีในไม่มี (รวม 16 อัน)\n"
          ]
        },
        {
          "output_type": "stream",
          "name": "stderr",
          "text": [
            "The following generation flags are not valid and may be ignored: ['temperature', 'top_p']. Set `TRANSFORMERS_VERBOSITY=info` for more details.\n"
          ]
        },
        {
          "output_type": "stream",
          "name": "stdout",
          "text": [
            "Strategy 'ปิดฟ้าข้ามทะเล' เต็ม 27 แล้ว -> เปลี่ยนเป็น 'แสร้งทำบอแต่ไม่บ้า'\n",
            "  เกม 520: แสร้งทำบอแต่ไม่บ้า (รวม 11 อัน)\n",
            "  -> วิเคราะห์แล้ว 520 เกม\n",
            "  -> Strategy ที่เต็ม 27 แล้ว: 1 กลยุทธ์\n",
            "\n",
            "แบทช์ 53: กำลังวิเคราะห์เกม 521-530\n"
          ]
        },
        {
          "output_type": "stream",
          "name": "stderr",
          "text": [
            "The following generation flags are not valid and may be ignored: ['temperature', 'top_p']. Set `TRANSFORMERS_VERBOSITY=info` for more details.\n"
          ]
        },
        {
          "output_type": "stream",
          "name": "stdout",
          "text": [
            "Strategy 'ปิดฟ้าข้ามทะเล' เต็ม 27 แล้ว -> เปลี่ยนเป็น 'กวนน้ำจับปลา'\n",
            "  เกม 521: กวนน้ำจับปลา (รวม 16 อัน)\n"
          ]
        },
        {
          "output_type": "stream",
          "name": "stderr",
          "text": [
            "The following generation flags are not valid and may be ignored: ['temperature', 'top_p']. Set `TRANSFORMERS_VERBOSITY=info` for more details.\n"
          ]
        },
        {
          "output_type": "stream",
          "name": "stdout",
          "text": [
            "Strategy 'ปิดฟ้าข้ามทะเล' เต็ม 27 แล้ว -> เปลี่ยนเป็น 'โยนกระเบื้องล่อหยก'\n",
            "  เกม 522: โยนกระเบื้องล่อหยก (รวม 20 อัน)\n"
          ]
        },
        {
          "output_type": "stream",
          "name": "stderr",
          "text": [
            "The following generation flags are not valid and may be ignored: ['temperature', 'top_p']. Set `TRANSFORMERS_VERBOSITY=info` for more details.\n"
          ]
        },
        {
          "output_type": "stream",
          "name": "stdout",
          "text": [
            "Strategy 'ปิดฟ้าข้ามทะเล' เต็ม 27 แล้ว -> เปลี่ยนเป็น 'ล้อมเวยช่วยจ้าว'\n",
            "  เกม 523: ล้อมเวยช่วยจ้าว (รวม 11 อัน)\n"
          ]
        },
        {
          "output_type": "stream",
          "name": "stderr",
          "text": [
            "The following generation flags are not valid and may be ignored: ['temperature', 'top_p']. Set `TRANSFORMERS_VERBOSITY=info` for more details.\n"
          ]
        },
        {
          "output_type": "stream",
          "name": "stdout",
          "text": [
            "Strategy 'ปิดฟ้าข้ามทะเล' เต็ม 27 แล้ว -> เปลี่ยนเป็น 'รอซ้ำยามเปลี้ย'\n",
            "  เกม 524: รอซ้ำยามเปลี้ย (รวม 13 อัน)\n"
          ]
        },
        {
          "output_type": "stream",
          "name": "stderr",
          "text": [
            "The following generation flags are not valid and may be ignored: ['temperature', 'top_p']. Set `TRANSFORMERS_VERBOSITY=info` for more details.\n"
          ]
        },
        {
          "output_type": "stream",
          "name": "stdout",
          "text": [
            "Strategy 'ปิดฟ้าข้ามทะเล' เต็ม 27 แล้ว -> เปลี่ยนเป็น 'จักจั่นลอกคราบ'\n",
            "  เกม 525: จักจั่นลอกคราบ (รวม 10 อัน)\n"
          ]
        },
        {
          "output_type": "stream",
          "name": "stderr",
          "text": [
            "The following generation flags are not valid and may be ignored: ['temperature', 'top_p']. Set `TRANSFORMERS_VERBOSITY=info` for more details.\n"
          ]
        },
        {
          "output_type": "stream",
          "name": "stdout",
          "text": [
            "Strategy 'ปิดฟ้าข้ามทะเล' เต็ม 27 แล้ว -> เปลี่ยนเป็น 'ทุกข์กาย'\n",
            "  เกม 526: ทุกข์กาย (รวม 19 อัน)\n"
          ]
        },
        {
          "output_type": "stream",
          "name": "stderr",
          "text": [
            "The following generation flags are not valid and may be ignored: ['temperature', 'top_p']. Set `TRANSFORMERS_VERBOSITY=info` for more details.\n"
          ]
        },
        {
          "output_type": "stream",
          "name": "stdout",
          "text": [
            "Strategy 'ปิดฟ้าข้ามทะเล' เต็ม 27 แล้ว -> เปลี่ยนเป็น 'ปิดประตูจับโจร'\n",
            "  เกม 527: ปิดประตูจับโจร (รวม 14 อัน)\n"
          ]
        },
        {
          "output_type": "stream",
          "name": "stderr",
          "text": [
            "The following generation flags are not valid and may be ignored: ['temperature', 'top_p']. Set `TRANSFORMERS_VERBOSITY=info` for more details.\n"
          ]
        },
        {
          "output_type": "stream",
          "name": "stdout",
          "text": [
            "Strategy 'ปิดฟ้าข้ามทะเล' เต็ม 27 แล้ว -> เปลี่ยนเป็น 'จับโจรเอาหัวโจก'\n",
            "  เกม 528: จับโจรเอาหัวโจก (รวม 16 อัน)\n"
          ]
        },
        {
          "output_type": "stream",
          "name": "stderr",
          "text": [
            "The following generation flags are not valid and may be ignored: ['temperature', 'top_p']. Set `TRANSFORMERS_VERBOSITY=info` for more details.\n"
          ]
        },
        {
          "output_type": "stream",
          "name": "stdout",
          "text": [
            "Strategy 'ปิดฟ้าข้ามทะเล' เต็ม 27 แล้ว -> เปลี่ยนเป็น 'ลูกโซ่'\n",
            "  เกม 529: ลูกโซ่ (รวม 16 อัน)\n"
          ]
        },
        {
          "output_type": "stream",
          "name": "stderr",
          "text": [
            "The following generation flags are not valid and may be ignored: ['temperature', 'top_p']. Set `TRANSFORMERS_VERBOSITY=info` for more details.\n"
          ]
        },
        {
          "output_type": "stream",
          "name": "stdout",
          "text": [
            "Strategy 'ปิดฟ้าข้ามทะเล' เต็ม 27 แล้ว -> เปลี่ยนเป็น 'ไส้ศึก'\n",
            "  เกม 530: ไส้ศึก (รวม 17 อัน)\n",
            "  -> วิเคราะห์แล้ว 530 เกม\n",
            "  -> Strategy ที่เต็ม 27 แล้ว: 1 กลยุทธ์\n",
            "\n",
            "แบทช์ 54: กำลังวิเคราะห์เกม 531-540\n"
          ]
        },
        {
          "output_type": "stream",
          "name": "stderr",
          "text": [
            "The following generation flags are not valid and may be ignored: ['temperature', 'top_p']. Set `TRANSFORMERS_VERBOSITY=info` for more details.\n"
          ]
        },
        {
          "output_type": "stream",
          "name": "stdout",
          "text": [
            "Strategy 'ปิดฟ้าข้ามทะเล' เต็ม 27 แล้ว -> เปลี่ยนเป็น 'ลักขื่อเปลี่ยนเสา'\n",
            "  เกม 531: ลักขื่อเปลี่ยนเสา (รวม 14 อัน)\n"
          ]
        },
        {
          "output_type": "stream",
          "name": "stderr",
          "text": [
            "The following generation flags are not valid and may be ignored: ['temperature', 'top_p']. Set `TRANSFORMERS_VERBOSITY=info` for more details.\n"
          ]
        },
        {
          "output_type": "stream",
          "name": "stdout",
          "text": [
            "Strategy 'ปิดฟ้าข้ามทะเล' เต็ม 27 แล้ว -> เปลี่ยนเป็น 'ลักขื่อเปลี่ยนเสา'\n",
            "  เกม 532: ลักขื่อเปลี่ยนเสา (รวม 15 อัน)\n"
          ]
        },
        {
          "output_type": "stream",
          "name": "stderr",
          "text": [
            "The following generation flags are not valid and may be ignored: ['temperature', 'top_p']. Set `TRANSFORMERS_VERBOSITY=info` for more details.\n"
          ]
        },
        {
          "output_type": "stream",
          "name": "stdout",
          "text": [
            "Strategy 'ปิดฟ้าข้ามทะเล' เต็ม 27 แล้ว -> เปลี่ยนเป็น 'ปิดประตูจับโจร'\n",
            "  เกม 533: ปิดประตูจับโจร (รวม 15 อัน)\n"
          ]
        },
        {
          "output_type": "stream",
          "name": "stderr",
          "text": [
            "The following generation flags are not valid and may be ignored: ['temperature', 'top_p']. Set `TRANSFORMERS_VERBOSITY=info` for more details.\n"
          ]
        },
        {
          "output_type": "stream",
          "name": "stdout",
          "text": [
            "Strategy 'ปิดฟ้าข้ามทะเล' เต็ม 27 แล้ว -> เปลี่ยนเป็น 'ซ่อนดาบในรอยยิ้ม'\n",
            "  เกม 534: ซ่อนดาบในรอยยิ้ม (รวม 17 อัน)\n"
          ]
        },
        {
          "output_type": "stream",
          "name": "stderr",
          "text": [
            "The following generation flags are not valid and may be ignored: ['temperature', 'top_p']. Set `TRANSFORMERS_VERBOSITY=info` for more details.\n"
          ]
        },
        {
          "output_type": "stream",
          "name": "stdout",
          "text": [
            "Strategy 'ปิดฟ้าข้ามทะเล' เต็ม 27 แล้ว -> เปลี่ยนเป็น 'ยืมซากคืนชีพ'\n",
            "  เกม 535: ยืมซากคืนชีพ (รวม 13 อัน)\n"
          ]
        },
        {
          "output_type": "stream",
          "name": "stderr",
          "text": [
            "The following generation flags are not valid and may be ignored: ['temperature', 'top_p']. Set `TRANSFORMERS_VERBOSITY=info` for more details.\n"
          ]
        },
        {
          "output_type": "stream",
          "name": "stdout",
          "text": [
            "Strategy 'ปิดฟ้าข้ามทะเล' เต็ม 27 แล้ว -> เปลี่ยนเป็น 'หลี่ตายแทนถาว'\n",
            "  เกม 536: หลี่ตายแทนถาว (รวม 14 อัน)\n"
          ]
        },
        {
          "output_type": "stream",
          "name": "stderr",
          "text": [
            "The following generation flags are not valid and may be ignored: ['temperature', 'top_p']. Set `TRANSFORMERS_VERBOSITY=info` for more details.\n"
          ]
        },
        {
          "output_type": "stream",
          "name": "stdout",
          "text": [
            "Strategy 'ปิดฟ้าข้ามทะเล' เต็ม 27 แล้ว -> เปลี่ยนเป็น 'ต้นไม้ผลิดอก'\n",
            "  เกม 537: ต้นไม้ผลิดอก (รวม 9 อัน)\n"
          ]
        },
        {
          "output_type": "stream",
          "name": "stderr",
          "text": [
            "The following generation flags are not valid and may be ignored: ['temperature', 'top_p']. Set `TRANSFORMERS_VERBOSITY=info` for more details.\n"
          ]
        },
        {
          "output_type": "stream",
          "name": "stdout",
          "text": [
            "Strategy 'ปิดฟ้าข้ามทะเล' เต็ม 27 แล้ว -> เปลี่ยนเป็น 'กวนน้ำจับปลา'\n",
            "  เกม 538: กวนน้ำจับปลา (รวม 17 อัน)\n"
          ]
        },
        {
          "output_type": "stream",
          "name": "stderr",
          "text": [
            "The following generation flags are not valid and may be ignored: ['temperature', 'top_p']. Set `TRANSFORMERS_VERBOSITY=info` for more details.\n"
          ]
        },
        {
          "output_type": "stream",
          "name": "stdout",
          "text": [
            "Strategy 'ปิดฟ้าข้ามทะเล' เต็ม 27 แล้ว -> เปลี่ยนเป็น 'สลับแขกเป็นเจ้าบ้าน'\n",
            "  เกม 539: สลับแขกเป็นเจ้าบ้าน (รวม 17 อัน)\n"
          ]
        },
        {
          "output_type": "stream",
          "name": "stderr",
          "text": [
            "The following generation flags are not valid and may be ignored: ['temperature', 'top_p']. Set `TRANSFORMERS_VERBOSITY=info` for more details.\n"
          ]
        },
        {
          "output_type": "stream",
          "name": "stdout",
          "text": [
            "Strategy 'ปิดฟ้าข้ามทะเล' เต็ม 27 แล้ว -> เปลี่ยนเป็น 'ปิดประตูจับโจร'\n",
            "  เกม 540: ปิดประตูจับโจร (รวม 16 อัน)\n",
            "  -> วิเคราะห์แล้ว 540 เกม\n",
            "  -> Strategy ที่เต็ม 27 แล้ว: 1 กลยุทธ์\n",
            "\n",
            "แบทช์ 55: กำลังวิเคราะห์เกม 541-550\n"
          ]
        },
        {
          "output_type": "stream",
          "name": "stderr",
          "text": [
            "The following generation flags are not valid and may be ignored: ['temperature', 'top_p']. Set `TRANSFORMERS_VERBOSITY=info` for more details.\n"
          ]
        },
        {
          "output_type": "stream",
          "name": "stdout",
          "text": [
            "Strategy 'ปิดฟ้าข้ามทะเล' เต็ม 27 แล้ว -> เปลี่ยนเป็น 'ตีหญ้าให้งูตื่น'\n",
            "  เกม 541: ตีหญ้าให้งูตื่น (รวม 21 อัน)\n"
          ]
        },
        {
          "output_type": "stream",
          "name": "stderr",
          "text": [
            "The following generation flags are not valid and may be ignored: ['temperature', 'top_p']. Set `TRANSFORMERS_VERBOSITY=info` for more details.\n"
          ]
        },
        {
          "output_type": "stream",
          "name": "stdout",
          "text": [
            "Strategy 'ปิดฟ้าข้ามทะเล' เต็ม 27 แล้ว -> เปลี่ยนเป็น 'ตีหญ้าให้งูตื่น'\n",
            "  เกม 542: ตีหญ้าให้งูตื่น (รวม 22 อัน)\n"
          ]
        },
        {
          "output_type": "stream",
          "name": "stderr",
          "text": [
            "The following generation flags are not valid and may be ignored: ['temperature', 'top_p']. Set `TRANSFORMERS_VERBOSITY=info` for more details.\n"
          ]
        },
        {
          "output_type": "stream",
          "name": "stdout",
          "text": [
            "Strategy 'ปิดฟ้าข้ามทะเล' เต็ม 27 แล้ว -> เปลี่ยนเป็น 'มีในไม่มี'\n",
            "  เกม 543: มีในไม่มี (รวม 17 อัน)\n"
          ]
        },
        {
          "output_type": "stream",
          "name": "stderr",
          "text": [
            "The following generation flags are not valid and may be ignored: ['temperature', 'top_p']. Set `TRANSFORMERS_VERBOSITY=info` for more details.\n"
          ]
        },
        {
          "output_type": "stream",
          "name": "stdout",
          "text": [
            "Strategy 'ปิดฟ้าข้ามทะเล' เต็ม 27 แล้ว -> เปลี่ยนเป็น 'กวนน้ำจับปลา'\n",
            "  เกม 544: กวนน้ำจับปลา (รวม 18 อัน)\n"
          ]
        },
        {
          "output_type": "stream",
          "name": "stderr",
          "text": [
            "The following generation flags are not valid and may be ignored: ['temperature', 'top_p']. Set `TRANSFORMERS_VERBOSITY=info` for more details.\n"
          ]
        },
        {
          "output_type": "stream",
          "name": "stdout",
          "text": [
            "Strategy 'ปิดฟ้าข้ามทะเล' เต็ม 27 แล้ว -> เปลี่ยนเป็น 'หลบหนี'\n",
            "  เกม 545: หลบหนี (รวม 11 อัน)\n"
          ]
        },
        {
          "output_type": "stream",
          "name": "stderr",
          "text": [
            "The following generation flags are not valid and may be ignored: ['temperature', 'top_p']. Set `TRANSFORMERS_VERBOSITY=info` for more details.\n"
          ]
        },
        {
          "output_type": "stream",
          "name": "stdout",
          "text": [
            "Strategy 'ปิดฟ้าข้ามทะเล' เต็ม 27 แล้ว -> เปลี่ยนเป็น 'ยืมซากคืนชีพ'\n",
            "  เกม 546: ยืมซากคืนชีพ (รวม 14 อัน)\n"
          ]
        },
        {
          "output_type": "stream",
          "name": "stderr",
          "text": [
            "The following generation flags are not valid and may be ignored: ['temperature', 'top_p']. Set `TRANSFORMERS_VERBOSITY=info` for more details.\n"
          ]
        },
        {
          "output_type": "stream",
          "name": "stdout",
          "text": [
            "Strategy 'ปิดฟ้าข้ามทะเล' เต็ม 27 แล้ว -> เปลี่ยนเป็น 'คบไกลตีใกล้'\n",
            "  เกม 547: คบไกลตีใกล้ (รวม 12 อัน)\n"
          ]
        },
        {
          "output_type": "stream",
          "name": "stderr",
          "text": [
            "The following generation flags are not valid and may be ignored: ['temperature', 'top_p']. Set `TRANSFORMERS_VERBOSITY=info` for more details.\n"
          ]
        },
        {
          "output_type": "stream",
          "name": "stdout",
          "text": [
            "Strategy 'ปิดฟ้าข้ามทะเล' เต็ม 27 แล้ว -> เปลี่ยนเป็น 'ไส้ศึก'\n",
            "  เกม 548: ไส้ศึก (รวม 18 อัน)\n"
          ]
        },
        {
          "output_type": "stream",
          "name": "stderr",
          "text": [
            "The following generation flags are not valid and may be ignored: ['temperature', 'top_p']. Set `TRANSFORMERS_VERBOSITY=info` for more details.\n"
          ]
        },
        {
          "output_type": "stream",
          "name": "stdout",
          "text": [
            "Strategy 'ปิดฟ้าข้ามทะเล' เต็ม 27 แล้ว -> เปลี่ยนเป็น 'ลักขื่อเปลี่ยนเสา'\n",
            "  เกม 549: ลักขื่อเปลี่ยนเสา (รวม 16 อัน)\n"
          ]
        },
        {
          "output_type": "stream",
          "name": "stderr",
          "text": [
            "The following generation flags are not valid and may be ignored: ['temperature', 'top_p']. Set `TRANSFORMERS_VERBOSITY=info` for more details.\n"
          ]
        },
        {
          "output_type": "stream",
          "name": "stdout",
          "text": [
            "Strategy 'ปิดฟ้าข้ามทะเล' เต็ม 27 แล้ว -> เปลี่ยนเป็น 'จักจั่นลอกคราบ'\n",
            "  เกม 550: จักจั่นลอกคราบ (รวม 11 อัน)\n",
            "  -> วิเคราะห์แล้ว 550 เกม\n",
            "  -> Strategy ที่เต็ม 27 แล้ว: 1 กลยุทธ์\n",
            "\n",
            "แบทช์ 56: กำลังวิเคราะห์เกม 551-560\n"
          ]
        },
        {
          "output_type": "stream",
          "name": "stderr",
          "text": [
            "The following generation flags are not valid and may be ignored: ['temperature', 'top_p']. Set `TRANSFORMERS_VERBOSITY=info` for more details.\n"
          ]
        },
        {
          "output_type": "stream",
          "name": "stdout",
          "text": [
            "Strategy 'ปิดฟ้าข้ามทะเล' เต็ม 27 แล้ว -> เปลี่ยนเป็น 'ตีหญ้าให้งูตื่น'\n",
            "  เกม 551: ตีหญ้าให้งูตื่น (รวม 23 อัน)\n"
          ]
        },
        {
          "output_type": "stream",
          "name": "stderr",
          "text": [
            "The following generation flags are not valid and may be ignored: ['temperature', 'top_p']. Set `TRANSFORMERS_VERBOSITY=info` for more details.\n"
          ]
        },
        {
          "output_type": "stream",
          "name": "stdout",
          "text": [
            "Strategy 'ปิดฟ้าข้ามทะเล' เต็ม 27 แล้ว -> เปลี่ยนเป็น 'มีในไม่มี'\n",
            "  เกม 552: มีในไม่มี (รวม 18 อัน)\n"
          ]
        },
        {
          "output_type": "stream",
          "name": "stderr",
          "text": [
            "The following generation flags are not valid and may be ignored: ['temperature', 'top_p']. Set `TRANSFORMERS_VERBOSITY=info` for more details.\n"
          ]
        },
        {
          "output_type": "stream",
          "name": "stdout",
          "text": [
            "Strategy 'ปิดฟ้าข้ามทะเล' เต็ม 27 แล้ว -> เปลี่ยนเป็น 'ตีชิงตามไฟ'\n",
            "  เกม 553: ตีชิงตามไฟ (รวม 17 อัน)\n"
          ]
        },
        {
          "output_type": "stream",
          "name": "stderr",
          "text": [
            "The following generation flags are not valid and may be ignored: ['temperature', 'top_p']. Set `TRANSFORMERS_VERBOSITY=info` for more details.\n"
          ]
        },
        {
          "output_type": "stream",
          "name": "stdout",
          "text": [
            "Strategy 'ปิดฟ้าข้ามทะเล' เต็ม 27 แล้ว -> เปลี่ยนเป็น 'รอซ้ำยามเปลี้ย'\n",
            "  เกม 554: รอซ้ำยามเปลี้ย (รวม 14 อัน)\n"
          ]
        },
        {
          "output_type": "stream",
          "name": "stderr",
          "text": [
            "The following generation flags are not valid and may be ignored: ['temperature', 'top_p']. Set `TRANSFORMERS_VERBOSITY=info` for more details.\n"
          ]
        },
        {
          "output_type": "stream",
          "name": "stdout",
          "text": [
            "Strategy 'ปิดฟ้าข้ามทะเล' เต็ม 27 แล้ว -> เปลี่ยนเป็น 'กวนน้ำจับปลา'\n",
            "  เกม 555: กวนน้ำจับปลา (รวม 19 อัน)\n"
          ]
        },
        {
          "output_type": "stream",
          "name": "stderr",
          "text": [
            "The following generation flags are not valid and may be ignored: ['temperature', 'top_p']. Set `TRANSFORMERS_VERBOSITY=info` for more details.\n"
          ]
        },
        {
          "output_type": "stream",
          "name": "stdout",
          "text": [
            "Strategy 'ปิดฟ้าข้ามทะเล' เต็ม 27 แล้ว -> เปลี่ยนเป็น 'แสร้งปล่อยเพื่อจับ'\n",
            "  เกม 556: แสร้งปล่อยเพื่อจับ (รวม 18 อัน)\n"
          ]
        },
        {
          "output_type": "stream",
          "name": "stderr",
          "text": [
            "The following generation flags are not valid and may be ignored: ['temperature', 'top_p']. Set `TRANSFORMERS_VERBOSITY=info` for more details.\n"
          ]
        },
        {
          "output_type": "stream",
          "name": "stdout",
          "text": [
            "Strategy 'ปิดฟ้าข้ามทะเล' เต็ม 27 แล้ว -> เปลี่ยนเป็น 'คบไกลตีใกล้'\n",
            "  เกม 557: คบไกลตีใกล้ (รวม 13 อัน)\n"
          ]
        },
        {
          "output_type": "stream",
          "name": "stderr",
          "text": [
            "The following generation flags are not valid and may be ignored: ['temperature', 'top_p']. Set `TRANSFORMERS_VERBOSITY=info` for more details.\n"
          ]
        },
        {
          "output_type": "stream",
          "name": "stdout",
          "text": [
            "Strategy 'ปิดฟ้าข้ามทะเล' เต็ม 27 แล้ว -> เปลี่ยนเป็น 'จับโจรเอาหัวโจก'\n",
            "  เกม 558: จับโจรเอาหัวโจก (รวม 17 อัน)\n"
          ]
        },
        {
          "output_type": "stream",
          "name": "stderr",
          "text": [
            "The following generation flags are not valid and may be ignored: ['temperature', 'top_p']. Set `TRANSFORMERS_VERBOSITY=info` for more details.\n"
          ]
        },
        {
          "output_type": "stream",
          "name": "stdout",
          "text": [
            "Strategy 'ปิดฟ้าข้ามทะเล' เต็ม 27 แล้ว -> เปลี่ยนเป็น 'เปิดเมือง'\n",
            "  เกม 559: เปิดเมือง (รวม 19 อัน)\n"
          ]
        },
        {
          "output_type": "stream",
          "name": "stderr",
          "text": [
            "The following generation flags are not valid and may be ignored: ['temperature', 'top_p']. Set `TRANSFORMERS_VERBOSITY=info` for more details.\n"
          ]
        },
        {
          "output_type": "stream",
          "name": "stdout",
          "text": [
            "Strategy 'ปิดฟ้าข้ามทะเล' เต็ม 27 แล้ว -> เปลี่ยนเป็น 'เปิดเมือง'\n",
            "  เกม 560: เปิดเมือง (รวม 20 อัน)\n",
            "  -> วิเคราะห์แล้ว 560 เกม\n",
            "  -> Strategy ที่เต็ม 27 แล้ว: 1 กลยุทธ์\n",
            "\n",
            "แบทช์ 57: กำลังวิเคราะห์เกม 561-570\n"
          ]
        },
        {
          "output_type": "stream",
          "name": "stderr",
          "text": [
            "The following generation flags are not valid and may be ignored: ['temperature', 'top_p']. Set `TRANSFORMERS_VERBOSITY=info` for more details.\n"
          ]
        },
        {
          "output_type": "stream",
          "name": "stdout",
          "text": [
            "Strategy 'ปิดฟ้าข้ามทะเล' เต็ม 27 แล้ว -> เปลี่ยนเป็น 'ตีชิงตามไฟ'\n",
            "  เกม 561: ตีชิงตามไฟ (รวม 18 อัน)\n"
          ]
        },
        {
          "output_type": "stream",
          "name": "stderr",
          "text": [
            "The following generation flags are not valid and may be ignored: ['temperature', 'top_p']. Set `TRANSFORMERS_VERBOSITY=info` for more details.\n"
          ]
        },
        {
          "output_type": "stream",
          "name": "stdout",
          "text": [
            "Strategy 'ปิดฟ้าข้ามทะเล' เต็ม 27 แล้ว -> เปลี่ยนเป็น 'ยืมดาบฆ่าคน'\n",
            "  เกม 562: ยืมดาบฆ่าคน (รวม 7 อัน)\n"
          ]
        },
        {
          "output_type": "stream",
          "name": "stderr",
          "text": [
            "The following generation flags are not valid and may be ignored: ['temperature', 'top_p']. Set `TRANSFORMERS_VERBOSITY=info` for more details.\n"
          ]
        },
        {
          "output_type": "stream",
          "name": "stdout",
          "text": [
            "Strategy 'ปิดฟ้าข้ามทะเล' เต็ม 27 แล้ว -> เปลี่ยนเป็น 'จูงแพะติดมือ'\n",
            "  เกม 563: จูงแพะติดมือ (รวม 18 อัน)\n"
          ]
        },
        {
          "output_type": "stream",
          "name": "stderr",
          "text": [
            "The following generation flags are not valid and may be ignored: ['temperature', 'top_p']. Set `TRANSFORMERS_VERBOSITY=info` for more details.\n"
          ]
        },
        {
          "output_type": "stream",
          "name": "stdout",
          "text": [
            "Strategy 'ปิดฟ้าข้ามทะเล' เต็ม 27 แล้ว -> เปลี่ยนเป็น 'ซ่อนดาบในรอยยิ้ม'\n",
            "  เกม 564: ซ่อนดาบในรอยยิ้ม (รวม 18 อัน)\n"
          ]
        },
        {
          "output_type": "stream",
          "name": "stderr",
          "text": [
            "The following generation flags are not valid and may be ignored: ['temperature', 'top_p']. Set `TRANSFORMERS_VERBOSITY=info` for more details.\n"
          ]
        },
        {
          "output_type": "stream",
          "name": "stdout",
          "text": [
            "Strategy 'ปิดฟ้าข้ามทะเล' เต็ม 27 แล้ว -> เปลี่ยนเป็น 'แสร้งปล่อยเพื่อจับ'\n",
            "  เกม 565: แสร้งปล่อยเพื่อจับ (รวม 19 อัน)\n"
          ]
        },
        {
          "output_type": "stream",
          "name": "stderr",
          "text": [
            "The following generation flags are not valid and may be ignored: ['temperature', 'top_p']. Set `TRANSFORMERS_VERBOSITY=info` for more details.\n"
          ]
        },
        {
          "output_type": "stream",
          "name": "stdout",
          "text": [
            "Strategy 'ปิดฟ้าข้ามทะเล' เต็ม 27 แล้ว -> เปลี่ยนเป็น 'ส่งเสียงบูรพาฝ่าตีประจิม'\n",
            "  เกม 566: ส่งเสียงบูรพาฝ่าตีประจิม (รวม 13 อัน)\n"
          ]
        },
        {
          "output_type": "stream",
          "name": "stderr",
          "text": [
            "The following generation flags are not valid and may be ignored: ['temperature', 'top_p']. Set `TRANSFORMERS_VERBOSITY=info` for more details.\n"
          ]
        },
        {
          "output_type": "stream",
          "name": "stdout",
          "text": [
            "Strategy 'ปิดฟ้าข้ามทะเล' เต็ม 27 แล้ว -> เปลี่ยนเป็น 'จับโจรเอาหัวโจก'\n",
            "  เกม 567: จับโจรเอาหัวโจก (รวม 18 อัน)\n"
          ]
        },
        {
          "output_type": "stream",
          "name": "stderr",
          "text": [
            "The following generation flags are not valid and may be ignored: ['temperature', 'top_p']. Set `TRANSFORMERS_VERBOSITY=info` for more details.\n"
          ]
        },
        {
          "output_type": "stream",
          "name": "stdout",
          "text": [
            "Strategy 'ปิดฟ้าข้ามทะเล' เต็ม 27 แล้ว -> เปลี่ยนเป็น 'จับโจรเอาหัวโจก'\n",
            "  เกม 568: จับโจรเอาหัวโจก (รวม 19 อัน)\n"
          ]
        },
        {
          "output_type": "stream",
          "name": "stderr",
          "text": [
            "The following generation flags are not valid and may be ignored: ['temperature', 'top_p']. Set `TRANSFORMERS_VERBOSITY=info` for more details.\n"
          ]
        },
        {
          "output_type": "stream",
          "name": "stdout",
          "text": [
            "Strategy 'ปิดฟ้าข้ามทะเล' เต็ม 27 แล้ว -> เปลี่ยนเป็น 'แสร้งทำบอแต่ไม่บ้า'\n",
            "  เกม 569: แสร้งทำบอแต่ไม่บ้า (รวม 12 อัน)\n"
          ]
        },
        {
          "output_type": "stream",
          "name": "stderr",
          "text": [
            "The following generation flags are not valid and may be ignored: ['temperature', 'top_p']. Set `TRANSFORMERS_VERBOSITY=info` for more details.\n"
          ]
        },
        {
          "output_type": "stream",
          "name": "stdout",
          "text": [
            "Strategy 'ปิดฟ้าข้ามทะเล' เต็ม 27 แล้ว -> เปลี่ยนเป็น 'ล่อเสือออกจากถ้ำ'\n",
            "  เกม 570: ล่อเสือออกจากถ้ำ (รวม 21 อัน)\n",
            "  -> วิเคราะห์แล้ว 570 เกม\n",
            "  -> Strategy ที่เต็ม 27 แล้ว: 1 กลยุทธ์\n",
            "\n",
            "แบทช์ 58: กำลังวิเคราะห์เกม 571-580\n"
          ]
        },
        {
          "output_type": "stream",
          "name": "stderr",
          "text": [
            "The following generation flags are not valid and may be ignored: ['temperature', 'top_p']. Set `TRANSFORMERS_VERBOSITY=info` for more details.\n"
          ]
        },
        {
          "output_type": "stream",
          "name": "stdout",
          "text": [
            "Strategy 'ปิดฟ้าข้ามทะเล' เต็ม 27 แล้ว -> เปลี่ยนเป็น 'ลอบตีเฉินชาง'\n",
            "  เกม 571: ลอบตีเฉินชาง (รวม 16 อัน)\n"
          ]
        },
        {
          "output_type": "stream",
          "name": "stderr",
          "text": [
            "The following generation flags are not valid and may be ignored: ['temperature', 'top_p']. Set `TRANSFORMERS_VERBOSITY=info` for more details.\n"
          ]
        },
        {
          "output_type": "stream",
          "name": "stdout",
          "text": [
            "Strategy 'ปิดฟ้าข้ามทะเล' เต็ม 27 แล้ว -> เปลี่ยนเป็น 'จับโจรเอาหัวโจก'\n",
            "  เกม 572: จับโจรเอาหัวโจก (รวม 20 อัน)\n"
          ]
        },
        {
          "output_type": "stream",
          "name": "stderr",
          "text": [
            "The following generation flags are not valid and may be ignored: ['temperature', 'top_p']. Set `TRANSFORMERS_VERBOSITY=info` for more details.\n"
          ]
        },
        {
          "output_type": "stream",
          "name": "stdout",
          "text": [
            "Strategy 'ปิดฟ้าข้ามทะเล' เต็ม 27 แล้ว -> เปลี่ยนเป็น 'ชี้ต้นหม่อนด่าต้นไหว'\n",
            "  เกม 573: ชี้ต้นหม่อนด่าต้นไหว (รวม 15 อัน)\n"
          ]
        },
        {
          "output_type": "stream",
          "name": "stderr",
          "text": [
            "The following generation flags are not valid and may be ignored: ['temperature', 'top_p']. Set `TRANSFORMERS_VERBOSITY=info` for more details.\n"
          ]
        },
        {
          "output_type": "stream",
          "name": "stdout",
          "text": [
            "Strategy 'ปิดฟ้าข้ามทะเล' เต็ม 27 แล้ว -> เปลี่ยนเป็น 'กวนน้ำจับปลา'\n",
            "  เกม 574: กวนน้ำจับปลา (รวม 20 อัน)\n"
          ]
        },
        {
          "output_type": "stream",
          "name": "stderr",
          "text": [
            "The following generation flags are not valid and may be ignored: ['temperature', 'top_p']. Set `TRANSFORMERS_VERBOSITY=info` for more details.\n"
          ]
        },
        {
          "output_type": "stream",
          "name": "stdout",
          "text": [
            "Strategy 'ปิดฟ้าข้ามทะเล' เต็ม 27 แล้ว -> เปลี่ยนเป็น 'มีในไม่มี'\n",
            "  เกม 575: มีในไม่มี (รวม 19 อัน)\n"
          ]
        },
        {
          "output_type": "stream",
          "name": "stderr",
          "text": [
            "The following generation flags are not valid and may be ignored: ['temperature', 'top_p']. Set `TRANSFORMERS_VERBOSITY=info` for more details.\n"
          ]
        },
        {
          "output_type": "stream",
          "name": "stdout",
          "text": [
            "Strategy 'ปิดฟ้าข้ามทะเล' เต็ม 27 แล้ว -> เปลี่ยนเป็น 'ถอนฟืนใต้กระทะ'\n",
            "  เกม 576: ถอนฟืนใต้กระทะ (รวม 15 อัน)\n"
          ]
        },
        {
          "output_type": "stream",
          "name": "stderr",
          "text": [
            "The following generation flags are not valid and may be ignored: ['temperature', 'top_p']. Set `TRANSFORMERS_VERBOSITY=info` for more details.\n"
          ]
        },
        {
          "output_type": "stream",
          "name": "stdout",
          "text": [
            "Strategy 'ปิดฟ้าข้ามทะเล' เต็ม 27 แล้ว -> เปลี่ยนเป็น 'ยืมซากคืนชีพ'\n",
            "  เกม 577: ยืมซากคืนชีพ (รวม 15 อัน)\n"
          ]
        },
        {
          "output_type": "stream",
          "name": "stderr",
          "text": [
            "The following generation flags are not valid and may be ignored: ['temperature', 'top_p']. Set `TRANSFORMERS_VERBOSITY=info` for more details.\n"
          ]
        },
        {
          "output_type": "stream",
          "name": "stdout",
          "text": [
            "Strategy 'ปิดฟ้าข้ามทะเล' เต็ม 27 แล้ว -> เปลี่ยนเป็น 'ล้อมเวยช่วยจ้าว'\n",
            "  เกม 578: ล้อมเวยช่วยจ้าว (รวม 12 อัน)\n"
          ]
        },
        {
          "output_type": "stream",
          "name": "stderr",
          "text": [
            "The following generation flags are not valid and may be ignored: ['temperature', 'top_p']. Set `TRANSFORMERS_VERBOSITY=info` for more details.\n"
          ]
        },
        {
          "output_type": "stream",
          "name": "stdout",
          "text": [
            "Strategy 'ปิดฟ้าข้ามทะเล' เต็ม 27 แล้ว -> เปลี่ยนเป็น 'สาวงาม'\n",
            "  เกม 579: สาวงาม (รวม 17 อัน)\n"
          ]
        },
        {
          "output_type": "stream",
          "name": "stderr",
          "text": [
            "The following generation flags are not valid and may be ignored: ['temperature', 'top_p']. Set `TRANSFORMERS_VERBOSITY=info` for more details.\n"
          ]
        },
        {
          "output_type": "stream",
          "name": "stdout",
          "text": [
            "Strategy 'ปิดฟ้าข้ามทะเล' เต็ม 27 แล้ว -> เปลี่ยนเป็น 'แสร้งทำบอแต่ไม่บ้า'\n",
            "  เกม 580: แสร้งทำบอแต่ไม่บ้า (รวม 13 อัน)\n",
            "  -> วิเคราะห์แล้ว 580 เกม\n",
            "  -> Strategy ที่เต็ม 27 แล้ว: 1 กลยุทธ์\n",
            "\n",
            "แบทช์ 59: กำลังวิเคราะห์เกม 581-590\n"
          ]
        },
        {
          "output_type": "stream",
          "name": "stderr",
          "text": [
            "The following generation flags are not valid and may be ignored: ['temperature', 'top_p']. Set `TRANSFORMERS_VERBOSITY=info` for more details.\n"
          ]
        },
        {
          "output_type": "stream",
          "name": "stdout",
          "text": [
            "Strategy 'ปิดฟ้าข้ามทะเล' เต็ม 27 แล้ว -> เปลี่ยนเป็น 'สลับแขกเป็นเจ้าบ้าน'\n",
            "  เกม 581: สลับแขกเป็นเจ้าบ้าน (รวม 18 อัน)\n"
          ]
        },
        {
          "output_type": "stream",
          "name": "stderr",
          "text": [
            "The following generation flags are not valid and may be ignored: ['temperature', 'top_p']. Set `TRANSFORMERS_VERBOSITY=info` for more details.\n"
          ]
        },
        {
          "output_type": "stream",
          "name": "stdout",
          "text": [
            "Strategy 'ปิดฟ้าข้ามทะเล' เต็ม 27 แล้ว -> เปลี่ยนเป็น 'โยนกระเบื้องล่อหยก'\n",
            "  เกม 582: โยนกระเบื้องล่อหยก (รวม 21 อัน)\n"
          ]
        },
        {
          "output_type": "stream",
          "name": "stderr",
          "text": [
            "The following generation flags are not valid and may be ignored: ['temperature', 'top_p']. Set `TRANSFORMERS_VERBOSITY=info` for more details.\n"
          ]
        },
        {
          "output_type": "stream",
          "name": "stdout",
          "text": [
            "Strategy 'ปิดฟ้าข้ามทะเล' เต็ม 27 แล้ว -> เปลี่ยนเป็น 'แสร้งทำบอแต่ไม่บ้า'\n",
            "  เกม 583: แสร้งทำบอแต่ไม่บ้า (รวม 14 อัน)\n"
          ]
        },
        {
          "output_type": "stream",
          "name": "stderr",
          "text": [
            "The following generation flags are not valid and may be ignored: ['temperature', 'top_p']. Set `TRANSFORMERS_VERBOSITY=info` for more details.\n"
          ]
        },
        {
          "output_type": "stream",
          "name": "stdout",
          "text": [
            "Strategy 'ปิดฟ้าข้ามทะเล' เต็ม 27 แล้ว -> เปลี่ยนเป็น 'ลูกโซ่'\n",
            "  เกม 584: ลูกโซ่ (รวม 17 อัน)\n"
          ]
        },
        {
          "output_type": "stream",
          "name": "stderr",
          "text": [
            "The following generation flags are not valid and may be ignored: ['temperature', 'top_p']. Set `TRANSFORMERS_VERBOSITY=info` for more details.\n"
          ]
        },
        {
          "output_type": "stream",
          "name": "stdout",
          "text": [
            "Strategy 'ปิดฟ้าข้ามทะเล' เต็ม 27 แล้ว -> เปลี่ยนเป็น 'ซ่อนดาบในรอยยิ้ม'\n",
            "  เกม 585: ซ่อนดาบในรอยยิ้ม (รวม 19 อัน)\n"
          ]
        },
        {
          "output_type": "stream",
          "name": "stderr",
          "text": [
            "The following generation flags are not valid and may be ignored: ['temperature', 'top_p']. Set `TRANSFORMERS_VERBOSITY=info` for more details.\n"
          ]
        },
        {
          "output_type": "stream",
          "name": "stdout",
          "text": [
            "Strategy 'ปิดฟ้าข้ามทะเล' เต็ม 27 แล้ว -> เปลี่ยนเป็น 'ยืมดาบฆ่าคน'\n",
            "  เกม 586: ยืมดาบฆ่าคน (รวม 8 อัน)\n"
          ]
        },
        {
          "output_type": "stream",
          "name": "stderr",
          "text": [
            "The following generation flags are not valid and may be ignored: ['temperature', 'top_p']. Set `TRANSFORMERS_VERBOSITY=info` for more details.\n"
          ]
        },
        {
          "output_type": "stream",
          "name": "stdout",
          "text": [
            "Strategy 'ปิดฟ้าข้ามทะเล' เต็ม 27 แล้ว -> เปลี่ยนเป็น 'ส่งเสียงบูรพาฝ่าตีประจิม'\n",
            "  เกม 587: ส่งเสียงบูรพาฝ่าตีประจิม (รวม 14 อัน)\n"
          ]
        },
        {
          "output_type": "stream",
          "name": "stderr",
          "text": [
            "The following generation flags are not valid and may be ignored: ['temperature', 'top_p']. Set `TRANSFORMERS_VERBOSITY=info` for more details.\n"
          ]
        },
        {
          "output_type": "stream",
          "name": "stdout",
          "text": [
            "Strategy 'ปิดฟ้าข้ามทะเล' เต็ม 27 แล้ว -> เปลี่ยนเป็น 'ยืมดาบฆ่าคน'\n",
            "  เกม 588: ยืมดาบฆ่าคน (รวม 9 อัน)\n"
          ]
        },
        {
          "output_type": "stream",
          "name": "stderr",
          "text": [
            "The following generation flags are not valid and may be ignored: ['temperature', 'top_p']. Set `TRANSFORMERS_VERBOSITY=info` for more details.\n"
          ]
        },
        {
          "output_type": "stream",
          "name": "stdout",
          "text": [
            "Strategy 'ปิดฟ้าข้ามทะเล' เต็ม 27 แล้ว -> เปลี่ยนเป็น 'แสร้งปล่อยเพื่อจับ'\n",
            "  เกม 589: แสร้งปล่อยเพื่อจับ (รวม 20 อัน)\n"
          ]
        },
        {
          "output_type": "stream",
          "name": "stderr",
          "text": [
            "The following generation flags are not valid and may be ignored: ['temperature', 'top_p']. Set `TRANSFORMERS_VERBOSITY=info` for more details.\n"
          ]
        },
        {
          "output_type": "stream",
          "name": "stdout",
          "text": [
            "Strategy 'ปิดฟ้าข้ามทะเล' เต็ม 27 แล้ว -> เปลี่ยนเป็น 'ลักขื่อเปลี่ยนเสา'\n",
            "  เกม 590: ลักขื่อเปลี่ยนเสา (รวม 17 อัน)\n",
            "  -> วิเคราะห์แล้ว 590 เกม\n",
            "  -> Strategy ที่เต็ม 27 แล้ว: 1 กลยุทธ์\n",
            "\n",
            "แบทช์ 60: กำลังวิเคราะห์เกม 591-600\n"
          ]
        },
        {
          "output_type": "stream",
          "name": "stderr",
          "text": [
            "The following generation flags are not valid and may be ignored: ['temperature', 'top_p']. Set `TRANSFORMERS_VERBOSITY=info` for more details.\n"
          ]
        },
        {
          "output_type": "stream",
          "name": "stdout",
          "text": [
            "Strategy 'ปิดฟ้าข้ามทะเล' เต็ม 27 แล้ว -> เปลี่ยนเป็น 'ขึ้นบ้านชักบันได'\n",
            "  เกม 591: ขึ้นบ้านชักบันได (รวม 14 อัน)\n"
          ]
        },
        {
          "output_type": "stream",
          "name": "stderr",
          "text": [
            "The following generation flags are not valid and may be ignored: ['temperature', 'top_p']. Set `TRANSFORMERS_VERBOSITY=info` for more details.\n"
          ]
        },
        {
          "output_type": "stream",
          "name": "stdout",
          "text": [
            "Strategy 'ปิดฟ้าข้ามทะเล' เต็ม 27 แล้ว -> เปลี่ยนเป็น 'ขึ้นบ้านชักบันได'\n",
            "  เกม 592: ขึ้นบ้านชักบันได (รวม 15 อัน)\n"
          ]
        },
        {
          "output_type": "stream",
          "name": "stderr",
          "text": [
            "The following generation flags are not valid and may be ignored: ['temperature', 'top_p']. Set `TRANSFORMERS_VERBOSITY=info` for more details.\n"
          ]
        },
        {
          "output_type": "stream",
          "name": "stdout",
          "text": [
            "Strategy 'ปิดฟ้าข้ามทะเล' เต็ม 27 แล้ว -> เปลี่ยนเป็น 'มีในไม่มี'\n",
            "  เกม 593: มีในไม่มี (รวม 20 อัน)\n"
          ]
        },
        {
          "output_type": "stream",
          "name": "stderr",
          "text": [
            "The following generation flags are not valid and may be ignored: ['temperature', 'top_p']. Set `TRANSFORMERS_VERBOSITY=info` for more details.\n"
          ]
        },
        {
          "output_type": "stream",
          "name": "stdout",
          "text": [
            "Strategy 'ปิดฟ้าข้ามทะเล' เต็ม 27 แล้ว -> เปลี่ยนเป็น 'ลูกโซ่'\n",
            "  เกม 594: ลูกโซ่ (รวม 18 อัน)\n"
          ]
        },
        {
          "output_type": "stream",
          "name": "stderr",
          "text": [
            "The following generation flags are not valid and may be ignored: ['temperature', 'top_p']. Set `TRANSFORMERS_VERBOSITY=info` for more details.\n"
          ]
        },
        {
          "output_type": "stream",
          "name": "stdout",
          "text": [
            "Strategy 'ปิดฟ้าข้ามทะเล' เต็ม 27 แล้ว -> เปลี่ยนเป็น 'ตีหญ้าให้งูตื่น'\n",
            "  เกม 595: ตีหญ้าให้งูตื่น (รวม 24 อัน)\n"
          ]
        },
        {
          "output_type": "stream",
          "name": "stderr",
          "text": [
            "The following generation flags are not valid and may be ignored: ['temperature', 'top_p']. Set `TRANSFORMERS_VERBOSITY=info` for more details.\n"
          ]
        },
        {
          "output_type": "stream",
          "name": "stdout",
          "text": [
            "Strategy 'ปิดฟ้าข้ามทะเล' เต็ม 27 แล้ว -> เปลี่ยนเป็น 'สลับแขกเป็นเจ้าบ้าน'\n",
            "  เกม 596: สลับแขกเป็นเจ้าบ้าน (รวม 19 อัน)\n"
          ]
        },
        {
          "output_type": "stream",
          "name": "stderr",
          "text": [
            "The following generation flags are not valid and may be ignored: ['temperature', 'top_p']. Set `TRANSFORMERS_VERBOSITY=info` for more details.\n"
          ]
        },
        {
          "output_type": "stream",
          "name": "stdout",
          "text": [
            "Strategy 'ปิดฟ้าข้ามทะเล' เต็ม 27 แล้ว -> เปลี่ยนเป็น 'รอซ้ำยามเปลี้ย'\n",
            "  เกม 597: รอซ้ำยามเปลี้ย (รวม 15 อัน)\n"
          ]
        },
        {
          "output_type": "stream",
          "name": "stderr",
          "text": [
            "The following generation flags are not valid and may be ignored: ['temperature', 'top_p']. Set `TRANSFORMERS_VERBOSITY=info` for more details.\n"
          ]
        },
        {
          "output_type": "stream",
          "name": "stdout",
          "text": [
            "Strategy 'ปิดฟ้าข้ามทะเล' เต็ม 27 แล้ว -> เปลี่ยนเป็น 'ตีหญ้าให้งูตื่น'\n",
            "  เกม 598: ตีหญ้าให้งูตื่น (รวม 25 อัน)\n"
          ]
        },
        {
          "output_type": "stream",
          "name": "stderr",
          "text": [
            "The following generation flags are not valid and may be ignored: ['temperature', 'top_p']. Set `TRANSFORMERS_VERBOSITY=info` for more details.\n"
          ]
        },
        {
          "output_type": "stream",
          "name": "stdout",
          "text": [
            "Strategy 'ปิดฟ้าข้ามทะเล' เต็ม 27 แล้ว -> เปลี่ยนเป็น 'แสร้งทำบอแต่ไม่บ้า'\n",
            "  เกม 599: แสร้งทำบอแต่ไม่บ้า (รวม 15 อัน)\n"
          ]
        },
        {
          "output_type": "stream",
          "name": "stderr",
          "text": [
            "The following generation flags are not valid and may be ignored: ['temperature', 'top_p']. Set `TRANSFORMERS_VERBOSITY=info` for more details.\n"
          ]
        },
        {
          "output_type": "stream",
          "name": "stdout",
          "text": [
            "Strategy 'ปิดฟ้าข้ามทะเล' เต็ม 27 แล้ว -> เปลี่ยนเป็น 'ตีหญ้าให้งูตื่น'\n",
            "  เกม 600: ตีหญ้าให้งูตื่น (รวม 26 อัน)\n",
            "  -> วิเคราะห์แล้ว 600 เกม\n",
            "  -> Strategy ที่เต็ม 27 แล้ว: 1 กลยุทธ์\n",
            "  -> บันทึกผลกลางแล้ว 600 เกม\n",
            "\n",
            "แบทช์ 61: กำลังวิเคราะห์เกม 601-610\n"
          ]
        },
        {
          "output_type": "stream",
          "name": "stderr",
          "text": [
            "The following generation flags are not valid and may be ignored: ['temperature', 'top_p']. Set `TRANSFORMERS_VERBOSITY=info` for more details.\n"
          ]
        },
        {
          "output_type": "stream",
          "name": "stdout",
          "text": [
            "Strategy 'ปิดฟ้าข้ามทะเล' เต็ม 27 แล้ว -> เปลี่ยนเป็น 'ถอนฟืนใต้กระทะ'\n",
            "  เกม 601: ถอนฟืนใต้กระทะ (รวม 16 อัน)\n"
          ]
        },
        {
          "output_type": "stream",
          "name": "stderr",
          "text": [
            "The following generation flags are not valid and may be ignored: ['temperature', 'top_p']. Set `TRANSFORMERS_VERBOSITY=info` for more details.\n"
          ]
        },
        {
          "output_type": "stream",
          "name": "stdout",
          "text": [
            "Strategy 'ปิดฟ้าข้ามทะเล' เต็ม 27 แล้ว -> เปลี่ยนเป็น 'ลักขื่อเปลี่ยนเสา'\n",
            "  เกม 602: ลักขื่อเปลี่ยนเสา (รวม 18 อัน)\n"
          ]
        },
        {
          "output_type": "stream",
          "name": "stderr",
          "text": [
            "The following generation flags are not valid and may be ignored: ['temperature', 'top_p']. Set `TRANSFORMERS_VERBOSITY=info` for more details.\n"
          ]
        },
        {
          "output_type": "stream",
          "name": "stdout",
          "text": [
            "Strategy 'ปิดฟ้าข้ามทะเล' เต็ม 27 แล้ว -> เปลี่ยนเป็น 'ดูไฟชายฝั่ง'\n",
            "  เกม 603: ดูไฟชายฝั่ง (รวม 10 อัน)\n"
          ]
        },
        {
          "output_type": "stream",
          "name": "stderr",
          "text": [
            "The following generation flags are not valid and may be ignored: ['temperature', 'top_p']. Set `TRANSFORMERS_VERBOSITY=info` for more details.\n"
          ]
        },
        {
          "output_type": "stream",
          "name": "stdout",
          "text": [
            "Strategy 'ปิดฟ้าข้ามทะเล' เต็ม 27 แล้ว -> เปลี่ยนเป็น 'สลับแขกเป็นเจ้าบ้าน'\n",
            "  เกม 604: สลับแขกเป็นเจ้าบ้าน (รวม 20 อัน)\n"
          ]
        },
        {
          "output_type": "stream",
          "name": "stderr",
          "text": [
            "The following generation flags are not valid and may be ignored: ['temperature', 'top_p']. Set `TRANSFORMERS_VERBOSITY=info` for more details.\n"
          ]
        },
        {
          "output_type": "stream",
          "name": "stdout",
          "text": [
            "Strategy 'ปิดฟ้าข้ามทะเล' เต็ม 27 แล้ว -> เปลี่ยนเป็น 'ลูกโซ่'\n",
            "  เกม 605: ลูกโซ่ (รวม 19 อัน)\n"
          ]
        },
        {
          "output_type": "stream",
          "name": "stderr",
          "text": [
            "The following generation flags are not valid and may be ignored: ['temperature', 'top_p']. Set `TRANSFORMERS_VERBOSITY=info` for more details.\n"
          ]
        },
        {
          "output_type": "stream",
          "name": "stdout",
          "text": [
            "Strategy 'ปิดฟ้าข้ามทะเล' เต็ม 27 แล้ว -> เปลี่ยนเป็น 'ลอบตีเฉินชาง'\n",
            "  เกม 606: ลอบตีเฉินชาง (รวม 17 อัน)\n"
          ]
        },
        {
          "output_type": "stream",
          "name": "stderr",
          "text": [
            "The following generation flags are not valid and may be ignored: ['temperature', 'top_p']. Set `TRANSFORMERS_VERBOSITY=info` for more details.\n"
          ]
        },
        {
          "output_type": "stream",
          "name": "stdout",
          "text": [
            "Strategy 'ปิดฟ้าข้ามทะเล' เต็ม 27 แล้ว -> เปลี่ยนเป็น 'ตีหญ้าให้งูตื่น'\n",
            "  เกม 607: ตีหญ้าให้งูตื่น (รวม 27 อัน)\n"
          ]
        },
        {
          "output_type": "stream",
          "name": "stderr",
          "text": [
            "The following generation flags are not valid and may be ignored: ['temperature', 'top_p']. Set `TRANSFORMERS_VERBOSITY=info` for more details.\n"
          ]
        },
        {
          "output_type": "stream",
          "name": "stdout",
          "text": [
            "Strategy 'ปิดฟ้าข้ามทะเล' เต็ม 27 แล้ว -> เปลี่ยนเป็น 'ไส้ศึก'\n",
            "  เกม 608: ไส้ศึก (รวม 19 อัน)\n"
          ]
        },
        {
          "output_type": "stream",
          "name": "stderr",
          "text": [
            "The following generation flags are not valid and may be ignored: ['temperature', 'top_p']. Set `TRANSFORMERS_VERBOSITY=info` for more details.\n"
          ]
        },
        {
          "output_type": "stream",
          "name": "stdout",
          "text": [
            "Strategy 'ปิดฟ้าข้ามทะเล' เต็ม 27 แล้ว -> เปลี่ยนเป็น 'สาวงาม'\n",
            "  เกม 609: สาวงาม (รวม 18 อัน)\n"
          ]
        },
        {
          "output_type": "stream",
          "name": "stderr",
          "text": [
            "The following generation flags are not valid and may be ignored: ['temperature', 'top_p']. Set `TRANSFORMERS_VERBOSITY=info` for more details.\n"
          ]
        },
        {
          "output_type": "stream",
          "name": "stdout",
          "text": [
            "Strategy 'ปิดฟ้าข้ามทะเล' เต็ม 27 แล้ว -> เปลี่ยนเป็น 'หลี่ตายแทนถาว'\n",
            "  เกม 610: หลี่ตายแทนถาว (รวม 15 อัน)\n",
            "  -> วิเคราะห์แล้ว 610 เกม\n",
            "  -> Strategy ที่เต็ม 27 แล้ว: 2 กลยุทธ์\n",
            "\n",
            "แบทช์ 62: กำลังวิเคราะห์เกม 611-620\n"
          ]
        },
        {
          "output_type": "stream",
          "name": "stderr",
          "text": [
            "The following generation flags are not valid and may be ignored: ['temperature', 'top_p']. Set `TRANSFORMERS_VERBOSITY=info` for more details.\n"
          ]
        },
        {
          "output_type": "stream",
          "name": "stdout",
          "text": [
            "Strategy 'ปิดฟ้าข้ามทะเล' เต็ม 27 แล้ว -> เปลี่ยนเป็น 'ดูไฟชายฝั่ง'\n",
            "  เกม 611: ดูไฟชายฝั่ง (รวม 11 อัน)\n"
          ]
        },
        {
          "output_type": "stream",
          "name": "stderr",
          "text": [
            "The following generation flags are not valid and may be ignored: ['temperature', 'top_p']. Set `TRANSFORMERS_VERBOSITY=info` for more details.\n"
          ]
        },
        {
          "output_type": "stream",
          "name": "stdout",
          "text": [
            "Strategy 'ปิดฟ้าข้ามทะเล' เต็ม 27 แล้ว -> เปลี่ยนเป็น 'แสร้งทำบอแต่ไม่บ้า'\n",
            "  เกม 612: แสร้งทำบอแต่ไม่บ้า (รวม 16 อัน)\n"
          ]
        },
        {
          "output_type": "stream",
          "name": "stderr",
          "text": [
            "The following generation flags are not valid and may be ignored: ['temperature', 'top_p']. Set `TRANSFORMERS_VERBOSITY=info` for more details.\n"
          ]
        },
        {
          "output_type": "stream",
          "name": "stdout",
          "text": [
            "Strategy 'ปิดฟ้าข้ามทะเล' เต็ม 27 แล้ว -> เปลี่ยนเป็น 'ยืมดาบฆ่าคน'\n",
            "  เกม 613: ยืมดาบฆ่าคน (รวม 10 อัน)\n"
          ]
        },
        {
          "output_type": "stream",
          "name": "stderr",
          "text": [
            "The following generation flags are not valid and may be ignored: ['temperature', 'top_p']. Set `TRANSFORMERS_VERBOSITY=info` for more details.\n"
          ]
        },
        {
          "output_type": "stream",
          "name": "stdout",
          "text": [
            "Strategy 'ปิดฟ้าข้ามทะเล' เต็ม 27 แล้ว -> เปลี่ยนเป็น 'ปิดประตูจับโจร'\n",
            "  เกม 614: ปิดประตูจับโจร (รวม 17 อัน)\n"
          ]
        },
        {
          "output_type": "stream",
          "name": "stderr",
          "text": [
            "The following generation flags are not valid and may be ignored: ['temperature', 'top_p']. Set `TRANSFORMERS_VERBOSITY=info` for more details.\n"
          ]
        },
        {
          "output_type": "stream",
          "name": "stdout",
          "text": [
            "Strategy 'ปิดฟ้าข้ามทะเล' เต็ม 27 แล้ว -> เปลี่ยนเป็น 'สาวงาม'\n",
            "  เกม 615: สาวงาม (รวม 19 อัน)\n"
          ]
        },
        {
          "output_type": "stream",
          "name": "stderr",
          "text": [
            "The following generation flags are not valid and may be ignored: ['temperature', 'top_p']. Set `TRANSFORMERS_VERBOSITY=info` for more details.\n"
          ]
        },
        {
          "output_type": "stream",
          "name": "stdout",
          "text": [
            "Strategy 'ปิดฟ้าข้ามทะเล' เต็ม 27 แล้ว -> เปลี่ยนเป็น 'ยืมดาบฆ่าคน'\n",
            "  เกม 616: ยืมดาบฆ่าคน (รวม 11 อัน)\n"
          ]
        },
        {
          "output_type": "stream",
          "name": "stderr",
          "text": [
            "The following generation flags are not valid and may be ignored: ['temperature', 'top_p']. Set `TRANSFORMERS_VERBOSITY=info` for more details.\n"
          ]
        },
        {
          "output_type": "stream",
          "name": "stdout",
          "text": [
            "Strategy 'ปิดฟ้าข้ามทะเล' เต็ม 27 แล้ว -> เปลี่ยนเป็น 'เปิดเมือง'\n",
            "  เกม 617: เปิดเมือง (รวม 21 อัน)\n"
          ]
        },
        {
          "output_type": "stream",
          "name": "stderr",
          "text": [
            "The following generation flags are not valid and may be ignored: ['temperature', 'top_p']. Set `TRANSFORMERS_VERBOSITY=info` for more details.\n"
          ]
        },
        {
          "output_type": "stream",
          "name": "stdout",
          "text": [
            "Strategy 'ปิดฟ้าข้ามทะเล' เต็ม 27 แล้ว -> เปลี่ยนเป็น 'ล้อมเวยช่วยจ้าว'\n",
            "  เกม 618: ล้อมเวยช่วยจ้าว (รวม 13 อัน)\n"
          ]
        },
        {
          "output_type": "stream",
          "name": "stderr",
          "text": [
            "The following generation flags are not valid and may be ignored: ['temperature', 'top_p']. Set `TRANSFORMERS_VERBOSITY=info` for more details.\n"
          ]
        },
        {
          "output_type": "stream",
          "name": "stdout",
          "text": [
            "Strategy 'ปิดฟ้าข้ามทะเล' เต็ม 27 แล้ว -> เปลี่ยนเป็น 'ปิดประตูจับโจร'\n",
            "  เกม 619: ปิดประตูจับโจร (รวม 18 อัน)\n"
          ]
        },
        {
          "output_type": "stream",
          "name": "stderr",
          "text": [
            "The following generation flags are not valid and may be ignored: ['temperature', 'top_p']. Set `TRANSFORMERS_VERBOSITY=info` for more details.\n"
          ]
        },
        {
          "output_type": "stream",
          "name": "stdout",
          "text": [
            "Strategy 'ปิดฟ้าข้ามทะเล' เต็ม 27 แล้ว -> เปลี่ยนเป็น 'มีในไม่มี'\n",
            "  เกม 620: มีในไม่มี (รวม 21 อัน)\n",
            "  -> วิเคราะห์แล้ว 620 เกม\n",
            "  -> Strategy ที่เต็ม 27 แล้ว: 2 กลยุทธ์\n",
            "\n",
            "แบทช์ 63: กำลังวิเคราะห์เกม 621-630\n"
          ]
        },
        {
          "output_type": "stream",
          "name": "stderr",
          "text": [
            "The following generation flags are not valid and may be ignored: ['temperature', 'top_p']. Set `TRANSFORMERS_VERBOSITY=info` for more details.\n"
          ]
        },
        {
          "output_type": "stream",
          "name": "stdout",
          "text": [
            "Strategy 'ปิดฟ้าข้ามทะเล' เต็ม 27 แล้ว -> เปลี่ยนเป็น 'ทุกข์กาย'\n",
            "  เกม 621: ทุกข์กาย (รวม 20 อัน)\n"
          ]
        },
        {
          "output_type": "stream",
          "name": "stderr",
          "text": [
            "The following generation flags are not valid and may be ignored: ['temperature', 'top_p']. Set `TRANSFORMERS_VERBOSITY=info` for more details.\n"
          ]
        },
        {
          "output_type": "stream",
          "name": "stdout",
          "text": [
            "Strategy 'ปิดฟ้าข้ามทะเล' เต็ม 27 แล้ว -> เปลี่ยนเป็น 'กวนน้ำจับปลา'\n",
            "  เกม 622: กวนน้ำจับปลา (รวม 21 อัน)\n"
          ]
        },
        {
          "output_type": "stream",
          "name": "stderr",
          "text": [
            "The following generation flags are not valid and may be ignored: ['temperature', 'top_p']. Set `TRANSFORMERS_VERBOSITY=info` for more details.\n"
          ]
        },
        {
          "output_type": "stream",
          "name": "stdout",
          "text": [
            "Strategy 'ปิดฟ้าข้ามทะเล' เต็ม 27 แล้ว -> เปลี่ยนเป็น 'แสร้งทำบอแต่ไม่บ้า'\n",
            "  เกม 623: แสร้งทำบอแต่ไม่บ้า (รวม 17 อัน)\n"
          ]
        },
        {
          "output_type": "stream",
          "name": "stderr",
          "text": [
            "The following generation flags are not valid and may be ignored: ['temperature', 'top_p']. Set `TRANSFORMERS_VERBOSITY=info` for more details.\n"
          ]
        },
        {
          "output_type": "stream",
          "name": "stdout",
          "text": [
            "Strategy 'ปิดฟ้าข้ามทะเล' เต็ม 27 แล้ว -> เปลี่ยนเป็น 'ปิดประตูจับโจร'\n",
            "  เกม 624: ปิดประตูจับโจร (รวม 19 อัน)\n"
          ]
        },
        {
          "output_type": "stream",
          "name": "stderr",
          "text": [
            "The following generation flags are not valid and may be ignored: ['temperature', 'top_p']. Set `TRANSFORMERS_VERBOSITY=info` for more details.\n"
          ]
        },
        {
          "output_type": "stream",
          "name": "stdout",
          "text": [
            "Strategy 'ปิดฟ้าข้ามทะเล' เต็ม 27 แล้ว -> เปลี่ยนเป็น 'ชี้ต้นหม่อนด่าต้นไหว'\n",
            "  เกม 625: ชี้ต้นหม่อนด่าต้นไหว (รวม 16 อัน)\n"
          ]
        },
        {
          "output_type": "stream",
          "name": "stderr",
          "text": [
            "The following generation flags are not valid and may be ignored: ['temperature', 'top_p']. Set `TRANSFORMERS_VERBOSITY=info` for more details.\n"
          ]
        },
        {
          "output_type": "stream",
          "name": "stdout",
          "text": [
            "Strategy 'ปิดฟ้าข้ามทะเล' เต็ม 27 แล้ว -> เปลี่ยนเป็น 'แสร้งทำบอแต่ไม่บ้า'\n",
            "  เกม 626: แสร้งทำบอแต่ไม่บ้า (รวม 18 อัน)\n"
          ]
        },
        {
          "output_type": "stream",
          "name": "stderr",
          "text": [
            "The following generation flags are not valid and may be ignored: ['temperature', 'top_p']. Set `TRANSFORMERS_VERBOSITY=info` for more details.\n"
          ]
        },
        {
          "output_type": "stream",
          "name": "stdout",
          "text": [
            "Strategy 'ปิดฟ้าข้ามทะเล' เต็ม 27 แล้ว -> เปลี่ยนเป็น 'ถอนฟืนใต้กระทะ'\n",
            "  เกม 627: ถอนฟืนใต้กระทะ (รวม 17 อัน)\n"
          ]
        },
        {
          "output_type": "stream",
          "name": "stderr",
          "text": [
            "The following generation flags are not valid and may be ignored: ['temperature', 'top_p']. Set `TRANSFORMERS_VERBOSITY=info` for more details.\n"
          ]
        },
        {
          "output_type": "stream",
          "name": "stdout",
          "text": [
            "Strategy 'ปิดฟ้าข้ามทะเล' เต็ม 27 แล้ว -> เปลี่ยนเป็น 'ยืมดาบฆ่าคน'\n",
            "  เกม 628: ยืมดาบฆ่าคน (รวม 12 อัน)\n"
          ]
        },
        {
          "output_type": "stream",
          "name": "stderr",
          "text": [
            "The following generation flags are not valid and may be ignored: ['temperature', 'top_p']. Set `TRANSFORMERS_VERBOSITY=info` for more details.\n"
          ]
        },
        {
          "output_type": "stream",
          "name": "stdout",
          "text": [
            "Strategy 'ปิดฟ้าข้ามทะเล' เต็ม 27 แล้ว -> เปลี่ยนเป็น 'จับโจรเอาหัวโจก'\n",
            "  เกม 629: จับโจรเอาหัวโจก (รวม 21 อัน)\n"
          ]
        },
        {
          "output_type": "stream",
          "name": "stderr",
          "text": [
            "The following generation flags are not valid and may be ignored: ['temperature', 'top_p']. Set `TRANSFORMERS_VERBOSITY=info` for more details.\n"
          ]
        },
        {
          "output_type": "stream",
          "name": "stdout",
          "text": [
            "Strategy 'ปิดฟ้าข้ามทะเล' เต็ม 27 แล้ว -> เปลี่ยนเป็น 'ไส้ศึก'\n",
            "  เกม 630: ไส้ศึก (รวม 20 อัน)\n",
            "  -> วิเคราะห์แล้ว 630 เกม\n",
            "  -> Strategy ที่เต็ม 27 แล้ว: 2 กลยุทธ์\n",
            "\n",
            "แบทช์ 64: กำลังวิเคราะห์เกม 631-640\n"
          ]
        },
        {
          "output_type": "stream",
          "name": "stderr",
          "text": [
            "The following generation flags are not valid and may be ignored: ['temperature', 'top_p']. Set `TRANSFORMERS_VERBOSITY=info` for more details.\n"
          ]
        },
        {
          "output_type": "stream",
          "name": "stdout",
          "text": [
            "Strategy 'ปิดฟ้าข้ามทะเล' เต็ม 27 แล้ว -> เปลี่ยนเป็น 'เปิดเมือง'\n",
            "  เกม 631: เปิดเมือง (รวม 22 อัน)\n"
          ]
        },
        {
          "output_type": "stream",
          "name": "stderr",
          "text": [
            "The following generation flags are not valid and may be ignored: ['temperature', 'top_p']. Set `TRANSFORMERS_VERBOSITY=info` for more details.\n"
          ]
        },
        {
          "output_type": "stream",
          "name": "stdout",
          "text": [
            "Strategy 'ปิดฟ้าข้ามทะเล' เต็ม 27 แล้ว -> เปลี่ยนเป็น 'ไส้ศึก'\n",
            "  เกม 632: ไส้ศึก (รวม 21 อัน)\n"
          ]
        },
        {
          "output_type": "stream",
          "name": "stderr",
          "text": [
            "The following generation flags are not valid and may be ignored: ['temperature', 'top_p']. Set `TRANSFORMERS_VERBOSITY=info` for more details.\n"
          ]
        },
        {
          "output_type": "stream",
          "name": "stdout",
          "text": [
            "Strategy 'ปิดฟ้าข้ามทะเล' เต็ม 27 แล้ว -> เปลี่ยนเป็น 'มีในไม่มี'\n",
            "  เกม 633: มีในไม่มี (รวม 22 อัน)\n"
          ]
        },
        {
          "output_type": "stream",
          "name": "stderr",
          "text": [
            "The following generation flags are not valid and may be ignored: ['temperature', 'top_p']. Set `TRANSFORMERS_VERBOSITY=info` for more details.\n"
          ]
        },
        {
          "output_type": "stream",
          "name": "stdout",
          "text": [
            "Strategy 'ปิดฟ้าข้ามทะเล' เต็ม 27 แล้ว -> เปลี่ยนเป็น 'จักจั่นลอกคราบ'\n",
            "  เกม 634: จักจั่นลอกคราบ (รวม 12 อัน)\n"
          ]
        },
        {
          "output_type": "stream",
          "name": "stderr",
          "text": [
            "The following generation flags are not valid and may be ignored: ['temperature', 'top_p']. Set `TRANSFORMERS_VERBOSITY=info` for more details.\n"
          ]
        },
        {
          "output_type": "stream",
          "name": "stdout",
          "text": [
            "Strategy 'ปิดฟ้าข้ามทะเล' เต็ม 27 แล้ว -> เปลี่ยนเป็น 'ถอนฟืนใต้กระทะ'\n",
            "  เกม 635: ถอนฟืนใต้กระทะ (รวม 18 อัน)\n"
          ]
        },
        {
          "output_type": "stream",
          "name": "stderr",
          "text": [
            "The following generation flags are not valid and may be ignored: ['temperature', 'top_p']. Set `TRANSFORMERS_VERBOSITY=info` for more details.\n"
          ]
        },
        {
          "output_type": "stream",
          "name": "stdout",
          "text": [
            "Strategy 'ปิดฟ้าข้ามทะเล' เต็ม 27 แล้ว -> เปลี่ยนเป็น 'ชี้ต้นหม่อนด่าต้นไหว'\n",
            "  เกม 636: ชี้ต้นหม่อนด่าต้นไหว (รวม 17 อัน)\n"
          ]
        },
        {
          "output_type": "stream",
          "name": "stderr",
          "text": [
            "The following generation flags are not valid and may be ignored: ['temperature', 'top_p']. Set `TRANSFORMERS_VERBOSITY=info` for more details.\n"
          ]
        },
        {
          "output_type": "stream",
          "name": "stdout",
          "text": [
            "Strategy 'ปิดฟ้าข้ามทะเล' เต็ม 27 แล้ว -> เปลี่ยนเป็น 'มีในไม่มี'\n",
            "  เกม 637: มีในไม่มี (รวม 23 อัน)\n"
          ]
        },
        {
          "output_type": "stream",
          "name": "stderr",
          "text": [
            "The following generation flags are not valid and may be ignored: ['temperature', 'top_p']. Set `TRANSFORMERS_VERBOSITY=info` for more details.\n"
          ]
        },
        {
          "output_type": "stream",
          "name": "stdout",
          "text": [
            "Strategy 'ปิดฟ้าข้ามทะเล' เต็ม 27 แล้ว -> เปลี่ยนเป็น 'เปิดเมือง'\n",
            "  เกม 638: เปิดเมือง (รวม 23 อัน)\n"
          ]
        },
        {
          "output_type": "stream",
          "name": "stderr",
          "text": [
            "The following generation flags are not valid and may be ignored: ['temperature', 'top_p']. Set `TRANSFORMERS_VERBOSITY=info` for more details.\n"
          ]
        },
        {
          "output_type": "stream",
          "name": "stdout",
          "text": [
            "Strategy 'ปิดฟ้าข้ามทะเล' เต็ม 27 แล้ว -> เปลี่ยนเป็น 'หลบหนี'\n",
            "  เกม 639: หลบหนี (รวม 12 อัน)\n"
          ]
        },
        {
          "output_type": "stream",
          "name": "stderr",
          "text": [
            "The following generation flags are not valid and may be ignored: ['temperature', 'top_p']. Set `TRANSFORMERS_VERBOSITY=info` for more details.\n"
          ]
        },
        {
          "output_type": "stream",
          "name": "stdout",
          "text": [
            "Strategy 'ปิดฟ้าข้ามทะเล' เต็ม 27 แล้ว -> เปลี่ยนเป็น 'จับโจรเอาหัวโจก'\n",
            "  เกม 640: จับโจรเอาหัวโจก (รวม 22 อัน)\n",
            "  -> วิเคราะห์แล้ว 640 เกม\n",
            "  -> Strategy ที่เต็ม 27 แล้ว: 2 กลยุทธ์\n",
            "\n",
            "แบทช์ 65: กำลังวิเคราะห์เกม 641-650\n"
          ]
        },
        {
          "output_type": "stream",
          "name": "stderr",
          "text": [
            "The following generation flags are not valid and may be ignored: ['temperature', 'top_p']. Set `TRANSFORMERS_VERBOSITY=info` for more details.\n"
          ]
        },
        {
          "output_type": "stream",
          "name": "stdout",
          "text": [
            "Strategy 'ปิดฟ้าข้ามทะเล' เต็ม 27 แล้ว -> เปลี่ยนเป็น 'โยนกระเบื้องล่อหยก'\n",
            "  เกม 641: โยนกระเบื้องล่อหยก (รวม 22 อัน)\n"
          ]
        },
        {
          "output_type": "stream",
          "name": "stderr",
          "text": [
            "The following generation flags are not valid and may be ignored: ['temperature', 'top_p']. Set `TRANSFORMERS_VERBOSITY=info` for more details.\n"
          ]
        },
        {
          "output_type": "stream",
          "name": "stdout",
          "text": [
            "Strategy 'ปิดฟ้าข้ามทะเล' เต็ม 27 แล้ว -> เปลี่ยนเป็น 'ยืมทางพรางกล'\n",
            "  เกม 642: ยืมทางพรางกล (รวม 19 อัน)\n"
          ]
        },
        {
          "output_type": "stream",
          "name": "stderr",
          "text": [
            "The following generation flags are not valid and may be ignored: ['temperature', 'top_p']. Set `TRANSFORMERS_VERBOSITY=info` for more details.\n"
          ]
        },
        {
          "output_type": "stream",
          "name": "stdout",
          "text": [
            "Strategy 'ปิดฟ้าข้ามทะเล' เต็ม 27 แล้ว -> เปลี่ยนเป็น 'ปิดประตูจับโจร'\n",
            "  เกม 643: ปิดประตูจับโจร (รวม 20 อัน)\n"
          ]
        },
        {
          "output_type": "stream",
          "name": "stderr",
          "text": [
            "The following generation flags are not valid and may be ignored: ['temperature', 'top_p']. Set `TRANSFORMERS_VERBOSITY=info` for more details.\n"
          ]
        },
        {
          "output_type": "stream",
          "name": "stdout",
          "text": [
            "Strategy 'ปิดฟ้าข้ามทะเล' เต็ม 27 แล้ว -> เปลี่ยนเป็น 'ถอนฟืนใต้กระทะ'\n",
            "  เกม 644: ถอนฟืนใต้กระทะ (รวม 19 อัน)\n"
          ]
        },
        {
          "output_type": "stream",
          "name": "stderr",
          "text": [
            "The following generation flags are not valid and may be ignored: ['temperature', 'top_p']. Set `TRANSFORMERS_VERBOSITY=info` for more details.\n"
          ]
        },
        {
          "output_type": "stream",
          "name": "stdout",
          "text": [
            "Strategy 'ปิดฟ้าข้ามทะเล' เต็ม 27 แล้ว -> เปลี่ยนเป็น 'ยืมดาบฆ่าคน'\n",
            "  เกม 645: ยืมดาบฆ่าคน (รวม 13 อัน)\n"
          ]
        },
        {
          "output_type": "stream",
          "name": "stderr",
          "text": [
            "The following generation flags are not valid and may be ignored: ['temperature', 'top_p']. Set `TRANSFORMERS_VERBOSITY=info` for more details.\n"
          ]
        },
        {
          "output_type": "stream",
          "name": "stdout",
          "text": [
            "Strategy 'ปิดฟ้าข้ามทะเล' เต็ม 27 แล้ว -> เปลี่ยนเป็น 'จับโจรเอาหัวโจก'\n",
            "  เกม 646: จับโจรเอาหัวโจก (รวม 23 อัน)\n"
          ]
        },
        {
          "output_type": "stream",
          "name": "stderr",
          "text": [
            "The following generation flags are not valid and may be ignored: ['temperature', 'top_p']. Set `TRANSFORMERS_VERBOSITY=info` for more details.\n"
          ]
        },
        {
          "output_type": "stream",
          "name": "stdout",
          "text": [
            "Strategy 'ปิดฟ้าข้ามทะเล' เต็ม 27 แล้ว -> เปลี่ยนเป็น 'จักจั่นลอกคราบ'\n",
            "  เกม 647: จักจั่นลอกคราบ (รวม 13 อัน)\n"
          ]
        },
        {
          "output_type": "stream",
          "name": "stderr",
          "text": [
            "The following generation flags are not valid and may be ignored: ['temperature', 'top_p']. Set `TRANSFORMERS_VERBOSITY=info` for more details.\n"
          ]
        },
        {
          "output_type": "stream",
          "name": "stdout",
          "text": [
            "Strategy 'ปิดฟ้าข้ามทะเล' เต็ม 27 แล้ว -> เปลี่ยนเป็น 'มีในไม่มี'\n",
            "  เกม 648: มีในไม่มี (รวม 24 อัน)\n"
          ]
        },
        {
          "output_type": "stream",
          "name": "stderr",
          "text": [
            "The following generation flags are not valid and may be ignored: ['temperature', 'top_p']. Set `TRANSFORMERS_VERBOSITY=info` for more details.\n"
          ]
        },
        {
          "output_type": "stream",
          "name": "stdout",
          "text": [
            "Strategy 'ปิดฟ้าข้ามทะเล' เต็ม 27 แล้ว -> เปลี่ยนเป็น 'ไส้ศึก'\n",
            "  เกม 649: ไส้ศึก (รวม 22 อัน)\n"
          ]
        },
        {
          "output_type": "stream",
          "name": "stderr",
          "text": [
            "The following generation flags are not valid and may be ignored: ['temperature', 'top_p']. Set `TRANSFORMERS_VERBOSITY=info` for more details.\n"
          ]
        },
        {
          "output_type": "stream",
          "name": "stdout",
          "text": [
            "Strategy 'ปิดฟ้าข้ามทะเล' เต็ม 27 แล้ว -> เปลี่ยนเป็น 'ชี้ต้นหม่อนด่าต้นไหว'\n",
            "  เกม 650: ชี้ต้นหม่อนด่าต้นไหว (รวม 18 อัน)\n",
            "  -> วิเคราะห์แล้ว 650 เกม\n",
            "  -> Strategy ที่เต็ม 27 แล้ว: 2 กลยุทธ์\n",
            "\n",
            "แบทช์ 66: กำลังวิเคราะห์เกม 651-660\n"
          ]
        },
        {
          "output_type": "stream",
          "name": "stderr",
          "text": [
            "The following generation flags are not valid and may be ignored: ['temperature', 'top_p']. Set `TRANSFORMERS_VERBOSITY=info` for more details.\n"
          ]
        },
        {
          "output_type": "stream",
          "name": "stdout",
          "text": [
            "Strategy 'ปิดฟ้าข้ามทะเล' เต็ม 27 แล้ว -> เปลี่ยนเป็น 'ชี้ต้นหม่อนด่าต้นไหว'\n",
            "  เกม 651: ชี้ต้นหม่อนด่าต้นไหว (รวม 19 อัน)\n"
          ]
        },
        {
          "output_type": "stream",
          "name": "stderr",
          "text": [
            "The following generation flags are not valid and may be ignored: ['temperature', 'top_p']. Set `TRANSFORMERS_VERBOSITY=info` for more details.\n"
          ]
        },
        {
          "output_type": "stream",
          "name": "stdout",
          "text": [
            "Strategy 'ปิดฟ้าข้ามทะเล' เต็ม 27 แล้ว -> เปลี่ยนเป็น 'ปิดประตูจับโจร'\n",
            "  เกม 652: ปิดประตูจับโจร (รวม 21 อัน)\n"
          ]
        },
        {
          "output_type": "stream",
          "name": "stderr",
          "text": [
            "The following generation flags are not valid and may be ignored: ['temperature', 'top_p']. Set `TRANSFORMERS_VERBOSITY=info` for more details.\n"
          ]
        },
        {
          "output_type": "stream",
          "name": "stdout",
          "text": [
            "Strategy 'ปิดฟ้าข้ามทะเล' เต็ม 27 แล้ว -> เปลี่ยนเป็น 'หลบหนี'\n",
            "  เกม 653: หลบหนี (รวม 13 อัน)\n"
          ]
        },
        {
          "output_type": "stream",
          "name": "stderr",
          "text": [
            "The following generation flags are not valid and may be ignored: ['temperature', 'top_p']. Set `TRANSFORMERS_VERBOSITY=info` for more details.\n"
          ]
        },
        {
          "output_type": "stream",
          "name": "stdout",
          "text": [
            "Strategy 'ปิดฟ้าข้ามทะเล' เต็ม 27 แล้ว -> เปลี่ยนเป็น 'แสร้งทำบอแต่ไม่บ้า'\n",
            "  เกม 654: แสร้งทำบอแต่ไม่บ้า (รวม 19 อัน)\n"
          ]
        },
        {
          "output_type": "stream",
          "name": "stderr",
          "text": [
            "The following generation flags are not valid and may be ignored: ['temperature', 'top_p']. Set `TRANSFORMERS_VERBOSITY=info` for more details.\n"
          ]
        },
        {
          "output_type": "stream",
          "name": "stdout",
          "text": [
            "Strategy 'ปิดฟ้าข้ามทะเล' เต็ม 27 แล้ว -> เปลี่ยนเป็น 'ชี้ต้นหม่อนด่าต้นไหว'\n",
            "  เกม 655: ชี้ต้นหม่อนด่าต้นไหว (รวม 20 อัน)\n"
          ]
        },
        {
          "output_type": "stream",
          "name": "stderr",
          "text": [
            "The following generation flags are not valid and may be ignored: ['temperature', 'top_p']. Set `TRANSFORMERS_VERBOSITY=info` for more details.\n"
          ]
        },
        {
          "output_type": "stream",
          "name": "stdout",
          "text": [
            "Strategy 'ปิดฟ้าข้ามทะเล' เต็ม 27 แล้ว -> เปลี่ยนเป็น 'ลอบตีเฉินชาง'\n",
            "  เกม 656: ลอบตีเฉินชาง (รวม 18 อัน)\n"
          ]
        },
        {
          "output_type": "stream",
          "name": "stderr",
          "text": [
            "The following generation flags are not valid and may be ignored: ['temperature', 'top_p']. Set `TRANSFORMERS_VERBOSITY=info` for more details.\n"
          ]
        },
        {
          "output_type": "stream",
          "name": "stdout",
          "text": [
            "Strategy 'ปิดฟ้าข้ามทะเล' เต็ม 27 แล้ว -> เปลี่ยนเป็น 'เปิดเมือง'\n",
            "  เกม 657: เปิดเมือง (รวม 24 อัน)\n"
          ]
        },
        {
          "output_type": "stream",
          "name": "stderr",
          "text": [
            "The following generation flags are not valid and may be ignored: ['temperature', 'top_p']. Set `TRANSFORMERS_VERBOSITY=info` for more details.\n"
          ]
        },
        {
          "output_type": "stream",
          "name": "stdout",
          "text": [
            "Strategy 'ปิดฟ้าข้ามทะเล' เต็ม 27 แล้ว -> เปลี่ยนเป็น 'ทุกข์กาย'\n",
            "  เกม 658: ทุกข์กาย (รวม 21 อัน)\n"
          ]
        },
        {
          "output_type": "stream",
          "name": "stderr",
          "text": [
            "The following generation flags are not valid and may be ignored: ['temperature', 'top_p']. Set `TRANSFORMERS_VERBOSITY=info` for more details.\n"
          ]
        },
        {
          "output_type": "stream",
          "name": "stdout",
          "text": [
            "Strategy 'ปิดฟ้าข้ามทะเล' เต็ม 27 แล้ว -> เปลี่ยนเป็น 'ไส้ศึก'\n",
            "  เกม 659: ไส้ศึก (รวม 23 อัน)\n"
          ]
        },
        {
          "output_type": "stream",
          "name": "stderr",
          "text": [
            "The following generation flags are not valid and may be ignored: ['temperature', 'top_p']. Set `TRANSFORMERS_VERBOSITY=info` for more details.\n"
          ]
        },
        {
          "output_type": "stream",
          "name": "stdout",
          "text": [
            "Strategy 'ปิดฟ้าข้ามทะเล' เต็ม 27 แล้ว -> เปลี่ยนเป็น 'ล่อเสือออกจากถ้ำ'\n",
            "  เกม 660: ล่อเสือออกจากถ้ำ (รวม 22 อัน)\n",
            "  -> วิเคราะห์แล้ว 660 เกม\n",
            "  -> Strategy ที่เต็ม 27 แล้ว: 2 กลยุทธ์\n",
            "\n",
            "แบทช์ 67: กำลังวิเคราะห์เกม 661-670\n"
          ]
        },
        {
          "output_type": "stream",
          "name": "stderr",
          "text": [
            "The following generation flags are not valid and may be ignored: ['temperature', 'top_p']. Set `TRANSFORMERS_VERBOSITY=info` for more details.\n"
          ]
        },
        {
          "output_type": "stream",
          "name": "stdout",
          "text": [
            "Strategy 'ปิดฟ้าข้ามทะเล' เต็ม 27 แล้ว -> เปลี่ยนเป็น 'หลบหนี'\n",
            "  เกม 661: หลบหนี (รวม 14 อัน)\n"
          ]
        },
        {
          "output_type": "stream",
          "name": "stderr",
          "text": [
            "The following generation flags are not valid and may be ignored: ['temperature', 'top_p']. Set `TRANSFORMERS_VERBOSITY=info` for more details.\n"
          ]
        },
        {
          "output_type": "stream",
          "name": "stdout",
          "text": [
            "Strategy 'ปิดฟ้าข้ามทะเล' เต็ม 27 แล้ว -> เปลี่ยนเป็น 'แสร้งปล่อยเพื่อจับ'\n",
            "  เกม 662: แสร้งปล่อยเพื่อจับ (รวม 21 อัน)\n"
          ]
        },
        {
          "output_type": "stream",
          "name": "stderr",
          "text": [
            "The following generation flags are not valid and may be ignored: ['temperature', 'top_p']. Set `TRANSFORMERS_VERBOSITY=info` for more details.\n"
          ]
        },
        {
          "output_type": "stream",
          "name": "stdout",
          "text": [
            "Strategy 'ปิดฟ้าข้ามทะเล' เต็ม 27 แล้ว -> เปลี่ยนเป็น 'กวนน้ำจับปลา'\n",
            "  เกม 663: กวนน้ำจับปลา (รวม 22 อัน)\n"
          ]
        },
        {
          "output_type": "stream",
          "name": "stderr",
          "text": [
            "The following generation flags are not valid and may be ignored: ['temperature', 'top_p']. Set `TRANSFORMERS_VERBOSITY=info` for more details.\n"
          ]
        },
        {
          "output_type": "stream",
          "name": "stdout",
          "text": [
            "Strategy 'ปิดฟ้าข้ามทะเล' เต็ม 27 แล้ว -> เปลี่ยนเป็น 'ยืมดาบฆ่าคน'\n",
            "  เกม 664: ยืมดาบฆ่าคน (รวม 14 อัน)\n"
          ]
        },
        {
          "output_type": "stream",
          "name": "stderr",
          "text": [
            "The following generation flags are not valid and may be ignored: ['temperature', 'top_p']. Set `TRANSFORMERS_VERBOSITY=info` for more details.\n"
          ]
        },
        {
          "output_type": "stream",
          "name": "stdout",
          "text": [
            "Strategy 'ปิดฟ้าข้ามทะเล' เต็ม 27 แล้ว -> เปลี่ยนเป็น 'แสร้งปล่อยเพื่อจับ'\n",
            "  เกม 665: แสร้งปล่อยเพื่อจับ (รวม 22 อัน)\n"
          ]
        },
        {
          "output_type": "stream",
          "name": "stderr",
          "text": [
            "The following generation flags are not valid and may be ignored: ['temperature', 'top_p']. Set `TRANSFORMERS_VERBOSITY=info` for more details.\n"
          ]
        },
        {
          "output_type": "stream",
          "name": "stdout",
          "text": [
            "Strategy 'ปิดฟ้าข้ามทะเล' เต็ม 27 แล้ว -> เปลี่ยนเป็น 'ปิดประตูจับโจร'\n",
            "  เกม 666: ปิดประตูจับโจร (รวม 22 อัน)\n"
          ]
        },
        {
          "output_type": "stream",
          "name": "stderr",
          "text": [
            "The following generation flags are not valid and may be ignored: ['temperature', 'top_p']. Set `TRANSFORMERS_VERBOSITY=info` for more details.\n"
          ]
        },
        {
          "output_type": "stream",
          "name": "stdout",
          "text": [
            "Strategy 'ปิดฟ้าข้ามทะเล' เต็ม 27 แล้ว -> เปลี่ยนเป็น 'ชี้ต้นหม่อนด่าต้นไหว'\n",
            "  เกม 667: ชี้ต้นหม่อนด่าต้นไหว (รวม 21 อัน)\n"
          ]
        },
        {
          "output_type": "stream",
          "name": "stderr",
          "text": [
            "The following generation flags are not valid and may be ignored: ['temperature', 'top_p']. Set `TRANSFORMERS_VERBOSITY=info` for more details.\n"
          ]
        },
        {
          "output_type": "stream",
          "name": "stdout",
          "text": [
            "Strategy 'ปิดฟ้าข้ามทะเล' เต็ม 27 แล้ว -> เปลี่ยนเป็น 'แสร้งทำบอแต่ไม่บ้า'\n",
            "  เกม 668: แสร้งทำบอแต่ไม่บ้า (รวม 20 อัน)\n"
          ]
        },
        {
          "output_type": "stream",
          "name": "stderr",
          "text": [
            "The following generation flags are not valid and may be ignored: ['temperature', 'top_p']. Set `TRANSFORMERS_VERBOSITY=info` for more details.\n"
          ]
        },
        {
          "output_type": "stream",
          "name": "stdout",
          "text": [
            "Strategy 'ปิดฟ้าข้ามทะเล' เต็ม 27 แล้ว -> เปลี่ยนเป็น 'ลูกโซ่'\n",
            "  เกม 669: ลูกโซ่ (รวม 20 อัน)\n"
          ]
        },
        {
          "output_type": "stream",
          "name": "stderr",
          "text": [
            "The following generation flags are not valid and may be ignored: ['temperature', 'top_p']. Set `TRANSFORMERS_VERBOSITY=info` for more details.\n"
          ]
        },
        {
          "output_type": "stream",
          "name": "stdout",
          "text": [
            "Strategy 'ปิดฟ้าข้ามทะเล' เต็ม 27 แล้ว -> เปลี่ยนเป็น 'หลี่ตายแทนถาว'\n",
            "  เกม 670: หลี่ตายแทนถาว (รวม 16 อัน)\n",
            "  -> วิเคราะห์แล้ว 670 เกม\n",
            "  -> Strategy ที่เต็ม 27 แล้ว: 2 กลยุทธ์\n",
            "\n",
            "แบทช์ 68: กำลังวิเคราะห์เกม 671-680\n"
          ]
        },
        {
          "output_type": "stream",
          "name": "stderr",
          "text": [
            "The following generation flags are not valid and may be ignored: ['temperature', 'top_p']. Set `TRANSFORMERS_VERBOSITY=info` for more details.\n"
          ]
        },
        {
          "output_type": "stream",
          "name": "stdout",
          "text": [
            "Strategy 'ปิดฟ้าข้ามทะเล' เต็ม 27 แล้ว -> เปลี่ยนเป็น 'ส่งเสียงบูรพาฝ่าตีประจิม'\n",
            "  เกม 671: ส่งเสียงบูรพาฝ่าตีประจิม (รวม 15 อัน)\n"
          ]
        },
        {
          "output_type": "stream",
          "name": "stderr",
          "text": [
            "The following generation flags are not valid and may be ignored: ['temperature', 'top_p']. Set `TRANSFORMERS_VERBOSITY=info` for more details.\n"
          ]
        },
        {
          "output_type": "stream",
          "name": "stdout",
          "text": [
            "Strategy 'ปิดฟ้าข้ามทะเล' เต็ม 27 แล้ว -> เปลี่ยนเป็น 'แสร้งปล่อยเพื่อจับ'\n",
            "  เกม 672: แสร้งปล่อยเพื่อจับ (รวม 23 อัน)\n"
          ]
        },
        {
          "output_type": "stream",
          "name": "stderr",
          "text": [
            "The following generation flags are not valid and may be ignored: ['temperature', 'top_p']. Set `TRANSFORMERS_VERBOSITY=info` for more details.\n"
          ]
        },
        {
          "output_type": "stream",
          "name": "stdout",
          "text": [
            "Strategy 'ปิดฟ้าข้ามทะเล' เต็ม 27 แล้ว -> เปลี่ยนเป็น 'สาวงาม'\n",
            "  เกม 673: สาวงาม (รวม 20 อัน)\n"
          ]
        },
        {
          "output_type": "stream",
          "name": "stderr",
          "text": [
            "The following generation flags are not valid and may be ignored: ['temperature', 'top_p']. Set `TRANSFORMERS_VERBOSITY=info` for more details.\n"
          ]
        },
        {
          "output_type": "stream",
          "name": "stdout",
          "text": [
            "Strategy 'ปิดฟ้าข้ามทะเล' เต็ม 27 แล้ว -> เปลี่ยนเป็น 'สาวงาม'\n",
            "  เกม 674: สาวงาม (รวม 21 อัน)\n"
          ]
        },
        {
          "output_type": "stream",
          "name": "stderr",
          "text": [
            "The following generation flags are not valid and may be ignored: ['temperature', 'top_p']. Set `TRANSFORMERS_VERBOSITY=info` for more details.\n"
          ]
        },
        {
          "output_type": "stream",
          "name": "stdout",
          "text": [
            "Strategy 'ปิดฟ้าข้ามทะเล' เต็ม 27 แล้ว -> เปลี่ยนเป็น 'ลอบตีเฉินชาง'\n",
            "  เกม 675: ลอบตีเฉินชาง (รวม 19 อัน)\n"
          ]
        },
        {
          "output_type": "stream",
          "name": "stderr",
          "text": [
            "The following generation flags are not valid and may be ignored: ['temperature', 'top_p']. Set `TRANSFORMERS_VERBOSITY=info` for more details.\n"
          ]
        },
        {
          "output_type": "stream",
          "name": "stdout",
          "text": [
            "Strategy 'ปิดฟ้าข้ามทะเล' เต็ม 27 แล้ว -> เปลี่ยนเป็น 'ชี้ต้นหม่อนด่าต้นไหว'\n",
            "  เกม 676: ชี้ต้นหม่อนด่าต้นไหว (รวม 22 อัน)\n"
          ]
        },
        {
          "output_type": "stream",
          "name": "stderr",
          "text": [
            "The following generation flags are not valid and may be ignored: ['temperature', 'top_p']. Set `TRANSFORMERS_VERBOSITY=info` for more details.\n"
          ]
        },
        {
          "output_type": "stream",
          "name": "stdout",
          "text": [
            "Strategy 'ปิดฟ้าข้ามทะเล' เต็ม 27 แล้ว -> เปลี่ยนเป็น 'สาวงาม'\n",
            "  เกม 677: สาวงาม (รวม 22 อัน)\n"
          ]
        },
        {
          "output_type": "stream",
          "name": "stderr",
          "text": [
            "The following generation flags are not valid and may be ignored: ['temperature', 'top_p']. Set `TRANSFORMERS_VERBOSITY=info` for more details.\n"
          ]
        },
        {
          "output_type": "stream",
          "name": "stdout",
          "text": [
            "Strategy 'ปิดฟ้าข้ามทะเล' เต็ม 27 แล้ว -> เปลี่ยนเป็น 'คบไกลตีใกล้'\n",
            "  เกม 678: คบไกลตีใกล้ (รวม 14 อัน)\n"
          ]
        },
        {
          "output_type": "stream",
          "name": "stderr",
          "text": [
            "The following generation flags are not valid and may be ignored: ['temperature', 'top_p']. Set `TRANSFORMERS_VERBOSITY=info` for more details.\n"
          ]
        },
        {
          "output_type": "stream",
          "name": "stdout",
          "text": [
            "Strategy 'ปิดฟ้าข้ามทะเล' เต็ม 27 แล้ว -> เปลี่ยนเป็น 'มีในไม่มี'\n",
            "  เกม 679: มีในไม่มี (รวม 25 อัน)\n"
          ]
        },
        {
          "output_type": "stream",
          "name": "stderr",
          "text": [
            "The following generation flags are not valid and may be ignored: ['temperature', 'top_p']. Set `TRANSFORMERS_VERBOSITY=info` for more details.\n"
          ]
        },
        {
          "output_type": "stream",
          "name": "stdout",
          "text": [
            "Strategy 'ปิดฟ้าข้ามทะเล' เต็ม 27 แล้ว -> เปลี่ยนเป็น 'ยืมซากคืนชีพ'\n",
            "  เกม 680: ยืมซากคืนชีพ (รวม 16 อัน)\n",
            "  -> วิเคราะห์แล้ว 680 เกม\n",
            "  -> Strategy ที่เต็ม 27 แล้ว: 2 กลยุทธ์\n",
            "\n",
            "แบทช์ 69: กำลังวิเคราะห์เกม 681-690\n"
          ]
        },
        {
          "output_type": "stream",
          "name": "stderr",
          "text": [
            "The following generation flags are not valid and may be ignored: ['temperature', 'top_p']. Set `TRANSFORMERS_VERBOSITY=info` for more details.\n"
          ]
        },
        {
          "output_type": "stream",
          "name": "stdout",
          "text": [
            "Strategy 'ปิดฟ้าข้ามทะเล' เต็ม 27 แล้ว -> เปลี่ยนเป็น 'ขึ้นบ้านชักบันได'\n",
            "  เกม 681: ขึ้นบ้านชักบันได (รวม 16 อัน)\n"
          ]
        },
        {
          "output_type": "stream",
          "name": "stderr",
          "text": [
            "The following generation flags are not valid and may be ignored: ['temperature', 'top_p']. Set `TRANSFORMERS_VERBOSITY=info` for more details.\n"
          ]
        },
        {
          "output_type": "stream",
          "name": "stdout",
          "text": [
            "Strategy 'ปิดฟ้าข้ามทะเล' เต็ม 27 แล้ว -> เปลี่ยนเป็น 'โยนกระเบื้องล่อหยก'\n",
            "  เกม 682: โยนกระเบื้องล่อหยก (รวม 23 อัน)\n"
          ]
        },
        {
          "output_type": "stream",
          "name": "stderr",
          "text": [
            "The following generation flags are not valid and may be ignored: ['temperature', 'top_p']. Set `TRANSFORMERS_VERBOSITY=info` for more details.\n"
          ]
        },
        {
          "output_type": "stream",
          "name": "stdout",
          "text": [
            "Strategy 'ปิดฟ้าข้ามทะเล' เต็ม 27 แล้ว -> เปลี่ยนเป็น 'ตีชิงตามไฟ'\n",
            "  เกม 683: ตีชิงตามไฟ (รวม 19 อัน)\n"
          ]
        },
        {
          "output_type": "stream",
          "name": "stderr",
          "text": [
            "The following generation flags are not valid and may be ignored: ['temperature', 'top_p']. Set `TRANSFORMERS_VERBOSITY=info` for more details.\n"
          ]
        },
        {
          "output_type": "stream",
          "name": "stdout",
          "text": [
            "Strategy 'ปิดฟ้าข้ามทะเล' เต็ม 27 แล้ว -> เปลี่ยนเป็น 'รอซ้ำยามเปลี้ย'\n",
            "  เกม 684: รอซ้ำยามเปลี้ย (รวม 16 อัน)\n"
          ]
        },
        {
          "output_type": "stream",
          "name": "stderr",
          "text": [
            "The following generation flags are not valid and may be ignored: ['temperature', 'top_p']. Set `TRANSFORMERS_VERBOSITY=info` for more details.\n"
          ]
        },
        {
          "output_type": "stream",
          "name": "stdout",
          "text": [
            "Strategy 'ปิดฟ้าข้ามทะเล' เต็ม 27 แล้ว -> เปลี่ยนเป็น 'สลับแขกเป็นเจ้าบ้าน'\n",
            "  เกม 685: สลับแขกเป็นเจ้าบ้าน (รวม 21 อัน)\n"
          ]
        },
        {
          "output_type": "stream",
          "name": "stderr",
          "text": [
            "The following generation flags are not valid and may be ignored: ['temperature', 'top_p']. Set `TRANSFORMERS_VERBOSITY=info` for more details.\n"
          ]
        },
        {
          "output_type": "stream",
          "name": "stdout",
          "text": [
            "Strategy 'ปิดฟ้าข้ามทะเล' เต็ม 27 แล้ว -> เปลี่ยนเป็น 'คบไกลตีใกล้'\n",
            "  เกม 686: คบไกลตีใกล้ (รวม 15 อัน)\n"
          ]
        },
        {
          "output_type": "stream",
          "name": "stderr",
          "text": [
            "The following generation flags are not valid and may be ignored: ['temperature', 'top_p']. Set `TRANSFORMERS_VERBOSITY=info` for more details.\n"
          ]
        },
        {
          "output_type": "stream",
          "name": "stdout",
          "text": [
            "Strategy 'ปิดฟ้าข้ามทะเล' เต็ม 27 แล้ว -> เปลี่ยนเป็น 'ชี้ต้นหม่อนด่าต้นไหว'\n",
            "  เกม 687: ชี้ต้นหม่อนด่าต้นไหว (รวม 23 อัน)\n"
          ]
        },
        {
          "output_type": "stream",
          "name": "stderr",
          "text": [
            "The following generation flags are not valid and may be ignored: ['temperature', 'top_p']. Set `TRANSFORMERS_VERBOSITY=info` for more details.\n"
          ]
        },
        {
          "output_type": "stream",
          "name": "stdout",
          "text": [
            "Strategy 'ปิดฟ้าข้ามทะเล' เต็ม 27 แล้ว -> เปลี่ยนเป็น 'ไส้ศึก'\n",
            "  เกม 688: ไส้ศึก (รวม 24 อัน)\n"
          ]
        },
        {
          "output_type": "stream",
          "name": "stderr",
          "text": [
            "The following generation flags are not valid and may be ignored: ['temperature', 'top_p']. Set `TRANSFORMERS_VERBOSITY=info` for more details.\n"
          ]
        },
        {
          "output_type": "stream",
          "name": "stdout",
          "text": [
            "Strategy 'ปิดฟ้าข้ามทะเล' เต็ม 27 แล้ว -> เปลี่ยนเป็น 'ยืมซากคืนชีพ'\n",
            "  เกม 689: ยืมซากคืนชีพ (รวม 17 อัน)\n"
          ]
        },
        {
          "output_type": "stream",
          "name": "stderr",
          "text": [
            "The following generation flags are not valid and may be ignored: ['temperature', 'top_p']. Set `TRANSFORMERS_VERBOSITY=info` for more details.\n"
          ]
        },
        {
          "output_type": "stream",
          "name": "stdout",
          "text": [
            "Strategy 'ปิดฟ้าข้ามทะเล' เต็ม 27 แล้ว -> เปลี่ยนเป็น 'ซ่อนดาบในรอยยิ้ม'\n",
            "  เกม 690: ซ่อนดาบในรอยยิ้ม (รวม 20 อัน)\n",
            "  -> วิเคราะห์แล้ว 690 เกม\n",
            "  -> Strategy ที่เต็ม 27 แล้ว: 2 กลยุทธ์\n",
            "\n",
            "แบทช์ 70: กำลังวิเคราะห์เกม 691-700\n"
          ]
        },
        {
          "output_type": "stream",
          "name": "stderr",
          "text": [
            "The following generation flags are not valid and may be ignored: ['temperature', 'top_p']. Set `TRANSFORMERS_VERBOSITY=info` for more details.\n"
          ]
        },
        {
          "output_type": "stream",
          "name": "stdout",
          "text": [
            "Strategy 'ปิดฟ้าข้ามทะเล' เต็ม 27 แล้ว -> เปลี่ยนเป็น 'ดูไฟชายฝั่ง'\n",
            "  เกม 691: ดูไฟชายฝั่ง (รวม 12 อัน)\n"
          ]
        },
        {
          "output_type": "stream",
          "name": "stderr",
          "text": [
            "The following generation flags are not valid and may be ignored: ['temperature', 'top_p']. Set `TRANSFORMERS_VERBOSITY=info` for more details.\n"
          ]
        },
        {
          "output_type": "stream",
          "name": "stdout",
          "text": [
            "Strategy 'ปิดฟ้าข้ามทะเล' เต็ม 27 แล้ว -> เปลี่ยนเป็น 'โยนกระเบื้องล่อหยก'\n",
            "  เกม 692: โยนกระเบื้องล่อหยก (รวม 24 อัน)\n"
          ]
        },
        {
          "output_type": "stream",
          "name": "stderr",
          "text": [
            "The following generation flags are not valid and may be ignored: ['temperature', 'top_p']. Set `TRANSFORMERS_VERBOSITY=info` for more details.\n"
          ]
        },
        {
          "output_type": "stream",
          "name": "stdout",
          "text": [
            "Strategy 'ปิดฟ้าข้ามทะเล' เต็ม 27 แล้ว -> เปลี่ยนเป็น 'ถอนฟืนใต้กระทะ'\n",
            "  เกม 693: ถอนฟืนใต้กระทะ (รวม 20 อัน)\n"
          ]
        },
        {
          "output_type": "stream",
          "name": "stderr",
          "text": [
            "The following generation flags are not valid and may be ignored: ['temperature', 'top_p']. Set `TRANSFORMERS_VERBOSITY=info` for more details.\n"
          ]
        },
        {
          "output_type": "stream",
          "name": "stdout",
          "text": [
            "Strategy 'ปิดฟ้าข้ามทะเล' เต็ม 27 แล้ว -> เปลี่ยนเป็น 'ปิดประตูจับโจร'\n",
            "  เกม 694: ปิดประตูจับโจร (รวม 23 อัน)\n"
          ]
        },
        {
          "output_type": "stream",
          "name": "stderr",
          "text": [
            "The following generation flags are not valid and may be ignored: ['temperature', 'top_p']. Set `TRANSFORMERS_VERBOSITY=info` for more details.\n"
          ]
        },
        {
          "output_type": "stream",
          "name": "stdout",
          "text": [
            "Strategy 'ปิดฟ้าข้ามทะเล' เต็ม 27 แล้ว -> เปลี่ยนเป็น 'ล่อเสือออกจากถ้ำ'\n",
            "  เกม 695: ล่อเสือออกจากถ้ำ (รวม 23 อัน)\n"
          ]
        },
        {
          "output_type": "stream",
          "name": "stderr",
          "text": [
            "The following generation flags are not valid and may be ignored: ['temperature', 'top_p']. Set `TRANSFORMERS_VERBOSITY=info` for more details.\n"
          ]
        },
        {
          "output_type": "stream",
          "name": "stdout",
          "text": [
            "Strategy 'ปิดฟ้าข้ามทะเล' เต็ม 27 แล้ว -> เปลี่ยนเป็น 'รอซ้ำยามเปลี้ย'\n",
            "  เกม 696: รอซ้ำยามเปลี้ย (รวม 17 อัน)\n"
          ]
        },
        {
          "output_type": "stream",
          "name": "stderr",
          "text": [
            "The following generation flags are not valid and may be ignored: ['temperature', 'top_p']. Set `TRANSFORMERS_VERBOSITY=info` for more details.\n"
          ]
        },
        {
          "output_type": "stream",
          "name": "stdout",
          "text": [
            "Strategy 'ปิดฟ้าข้ามทะเล' เต็ม 27 แล้ว -> เปลี่ยนเป็น 'ขึ้นบ้านชักบันได'\n",
            "  เกม 697: ขึ้นบ้านชักบันได (รวม 17 อัน)\n"
          ]
        },
        {
          "output_type": "stream",
          "name": "stderr",
          "text": [
            "The following generation flags are not valid and may be ignored: ['temperature', 'top_p']. Set `TRANSFORMERS_VERBOSITY=info` for more details.\n"
          ]
        },
        {
          "output_type": "stream",
          "name": "stdout",
          "text": [
            "Strategy 'ปิดฟ้าข้ามทะเล' เต็ม 27 แล้ว -> เปลี่ยนเป็น 'ล่อเสือออกจากถ้ำ'\n",
            "  เกม 698: ล่อเสือออกจากถ้ำ (รวม 24 อัน)\n"
          ]
        },
        {
          "output_type": "stream",
          "name": "stderr",
          "text": [
            "The following generation flags are not valid and may be ignored: ['temperature', 'top_p']. Set `TRANSFORMERS_VERBOSITY=info` for more details.\n"
          ]
        },
        {
          "output_type": "stream",
          "name": "stdout",
          "text": [
            "Strategy 'ปิดฟ้าข้ามทะเล' เต็ม 27 แล้ว -> เปลี่ยนเป็น 'ชี้ต้นหม่อนด่าต้นไหว'\n",
            "  เกม 699: ชี้ต้นหม่อนด่าต้นไหว (รวม 24 อัน)\n"
          ]
        },
        {
          "output_type": "stream",
          "name": "stderr",
          "text": [
            "The following generation flags are not valid and may be ignored: ['temperature', 'top_p']. Set `TRANSFORMERS_VERBOSITY=info` for more details.\n"
          ]
        },
        {
          "output_type": "stream",
          "name": "stdout",
          "text": [
            "Strategy 'ปิดฟ้าข้ามทะเล' เต็ม 27 แล้ว -> เปลี่ยนเป็น 'แสร้งทำบอแต่ไม่บ้า'\n",
            "  เกม 700: แสร้งทำบอแต่ไม่บ้า (รวม 21 อัน)\n",
            "  -> วิเคราะห์แล้ว 700 เกม\n",
            "  -> Strategy ที่เต็ม 27 แล้ว: 2 กลยุทธ์\n",
            "  -> บันทึกผลกลางแล้ว 700 เกม\n",
            "\n",
            "แบทช์ 71: กำลังวิเคราะห์เกม 701-710\n"
          ]
        },
        {
          "output_type": "stream",
          "name": "stderr",
          "text": [
            "The following generation flags are not valid and may be ignored: ['temperature', 'top_p']. Set `TRANSFORMERS_VERBOSITY=info` for more details.\n"
          ]
        },
        {
          "output_type": "stream",
          "name": "stdout",
          "text": [
            "Strategy 'ปิดฟ้าข้ามทะเล' เต็ม 27 แล้ว -> เปลี่ยนเป็น 'จูงแพะติดมือ'\n",
            "  เกม 701: จูงแพะติดมือ (รวม 19 อัน)\n"
          ]
        },
        {
          "output_type": "stream",
          "name": "stderr",
          "text": [
            "The following generation flags are not valid and may be ignored: ['temperature', 'top_p']. Set `TRANSFORMERS_VERBOSITY=info` for more details.\n"
          ]
        },
        {
          "output_type": "stream",
          "name": "stdout",
          "text": [
            "Strategy 'ปิดฟ้าข้ามทะเล' เต็ม 27 แล้ว -> เปลี่ยนเป็น 'รอซ้ำยามเปลี้ย'\n",
            "  เกม 702: รอซ้ำยามเปลี้ย (รวม 18 อัน)\n"
          ]
        },
        {
          "output_type": "stream",
          "name": "stderr",
          "text": [
            "The following generation flags are not valid and may be ignored: ['temperature', 'top_p']. Set `TRANSFORMERS_VERBOSITY=info` for more details.\n"
          ]
        },
        {
          "output_type": "stream",
          "name": "stdout",
          "text": [
            "Strategy 'ปิดฟ้าข้ามทะเล' เต็ม 27 แล้ว -> เปลี่ยนเป็น 'ดูไฟชายฝั่ง'\n",
            "  เกม 703: ดูไฟชายฝั่ง (รวม 13 อัน)\n"
          ]
        },
        {
          "output_type": "stream",
          "name": "stderr",
          "text": [
            "The following generation flags are not valid and may be ignored: ['temperature', 'top_p']. Set `TRANSFORMERS_VERBOSITY=info` for more details.\n"
          ]
        },
        {
          "output_type": "stream",
          "name": "stdout",
          "text": [
            "Strategy 'ปิดฟ้าข้ามทะเล' เต็ม 27 แล้ว -> เปลี่ยนเป็น 'ลักขื่อเปลี่ยนเสา'\n",
            "  เกม 704: ลักขื่อเปลี่ยนเสา (รวม 19 อัน)\n"
          ]
        },
        {
          "output_type": "stream",
          "name": "stderr",
          "text": [
            "The following generation flags are not valid and may be ignored: ['temperature', 'top_p']. Set `TRANSFORMERS_VERBOSITY=info` for more details.\n"
          ]
        },
        {
          "output_type": "stream",
          "name": "stdout",
          "text": [
            "Strategy 'ปิดฟ้าข้ามทะเล' เต็ม 27 แล้ว -> เปลี่ยนเป็น 'ถอนฟืนใต้กระทะ'\n",
            "  เกม 705: ถอนฟืนใต้กระทะ (รวม 21 อัน)\n"
          ]
        },
        {
          "output_type": "stream",
          "name": "stderr",
          "text": [
            "The following generation flags are not valid and may be ignored: ['temperature', 'top_p']. Set `TRANSFORMERS_VERBOSITY=info` for more details.\n"
          ]
        },
        {
          "output_type": "stream",
          "name": "stdout",
          "text": [
            "Strategy 'ปิดฟ้าข้ามทะเล' เต็ม 27 แล้ว -> เปลี่ยนเป็น 'จูงแพะติดมือ'\n",
            "  เกม 706: จูงแพะติดมือ (รวม 20 อัน)\n"
          ]
        },
        {
          "output_type": "stream",
          "name": "stderr",
          "text": [
            "The following generation flags are not valid and may be ignored: ['temperature', 'top_p']. Set `TRANSFORMERS_VERBOSITY=info` for more details.\n"
          ]
        },
        {
          "output_type": "stream",
          "name": "stdout",
          "text": [
            "Strategy 'ปิดฟ้าข้ามทะเล' เต็ม 27 แล้ว -> เปลี่ยนเป็น 'ลักขื่อเปลี่ยนเสา'\n",
            "  เกม 707: ลักขื่อเปลี่ยนเสา (รวม 20 อัน)\n"
          ]
        },
        {
          "output_type": "stream",
          "name": "stderr",
          "text": [
            "The following generation flags are not valid and may be ignored: ['temperature', 'top_p']. Set `TRANSFORMERS_VERBOSITY=info` for more details.\n"
          ]
        },
        {
          "output_type": "stream",
          "name": "stdout",
          "text": [
            "Strategy 'ปิดฟ้าข้ามทะเล' เต็ม 27 แล้ว -> เปลี่ยนเป็น 'ไส้ศึก'\n",
            "  เกม 708: ไส้ศึก (รวม 25 อัน)\n"
          ]
        },
        {
          "output_type": "stream",
          "name": "stderr",
          "text": [
            "The following generation flags are not valid and may be ignored: ['temperature', 'top_p']. Set `TRANSFORMERS_VERBOSITY=info` for more details.\n"
          ]
        },
        {
          "output_type": "stream",
          "name": "stdout",
          "text": [
            "Strategy 'ปิดฟ้าข้ามทะเล' เต็ม 27 แล้ว -> เปลี่ยนเป็น 'แสร้งปล่อยเพื่อจับ'\n",
            "  เกม 709: แสร้งปล่อยเพื่อจับ (รวม 24 อัน)\n"
          ]
        },
        {
          "output_type": "stream",
          "name": "stderr",
          "text": [
            "The following generation flags are not valid and may be ignored: ['temperature', 'top_p']. Set `TRANSFORMERS_VERBOSITY=info` for more details.\n"
          ]
        },
        {
          "output_type": "stream",
          "name": "stdout",
          "text": [
            "Strategy 'ปิดฟ้าข้ามทะเล' เต็ม 27 แล้ว -> เปลี่ยนเป็น 'ต้นไม้ผลิดอก'\n",
            "  เกม 710: ต้นไม้ผลิดอก (รวม 10 อัน)\n",
            "  -> วิเคราะห์แล้ว 710 เกม\n",
            "  -> Strategy ที่เต็ม 27 แล้ว: 2 กลยุทธ์\n",
            "\n",
            "แบทช์ 72: กำลังวิเคราะห์เกม 711-720\n"
          ]
        },
        {
          "output_type": "stream",
          "name": "stderr",
          "text": [
            "The following generation flags are not valid and may be ignored: ['temperature', 'top_p']. Set `TRANSFORMERS_VERBOSITY=info` for more details.\n"
          ]
        },
        {
          "output_type": "stream",
          "name": "stdout",
          "text": [
            "Strategy 'ปิดฟ้าข้ามทะเล' เต็ม 27 แล้ว -> เปลี่ยนเป็น 'ล่อเสือออกจากถ้ำ'\n",
            "  เกม 711: ล่อเสือออกจากถ้ำ (รวม 25 อัน)\n"
          ]
        },
        {
          "output_type": "stream",
          "name": "stderr",
          "text": [
            "The following generation flags are not valid and may be ignored: ['temperature', 'top_p']. Set `TRANSFORMERS_VERBOSITY=info` for more details.\n"
          ]
        },
        {
          "output_type": "stream",
          "name": "stdout",
          "text": [
            "Strategy 'ปิดฟ้าข้ามทะเล' เต็ม 27 แล้ว -> เปลี่ยนเป็น 'สลับแขกเป็นเจ้าบ้าน'\n",
            "  เกม 712: สลับแขกเป็นเจ้าบ้าน (รวม 22 อัน)\n"
          ]
        },
        {
          "output_type": "stream",
          "name": "stderr",
          "text": [
            "The following generation flags are not valid and may be ignored: ['temperature', 'top_p']. Set `TRANSFORMERS_VERBOSITY=info` for more details.\n"
          ]
        },
        {
          "output_type": "stream",
          "name": "stdout",
          "text": [
            "Strategy 'ปิดฟ้าข้ามทะเล' เต็ม 27 แล้ว -> เปลี่ยนเป็น 'เปิดเมือง'\n",
            "  เกม 713: เปิดเมือง (รวม 25 อัน)\n"
          ]
        },
        {
          "output_type": "stream",
          "name": "stderr",
          "text": [
            "The following generation flags are not valid and may be ignored: ['temperature', 'top_p']. Set `TRANSFORMERS_VERBOSITY=info` for more details.\n"
          ]
        },
        {
          "output_type": "stream",
          "name": "stdout",
          "text": [
            "Strategy 'ปิดฟ้าข้ามทะเล' เต็ม 27 แล้ว -> เปลี่ยนเป็น 'แสร้งทำบอแต่ไม่บ้า'\n",
            "  เกม 714: แสร้งทำบอแต่ไม่บ้า (รวม 22 อัน)\n"
          ]
        },
        {
          "output_type": "stream",
          "name": "stderr",
          "text": [
            "The following generation flags are not valid and may be ignored: ['temperature', 'top_p']. Set `TRANSFORMERS_VERBOSITY=info` for more details.\n"
          ]
        },
        {
          "output_type": "stream",
          "name": "stdout",
          "text": [
            "Strategy 'ปิดฟ้าข้ามทะเล' เต็ม 27 แล้ว -> เปลี่ยนเป็น 'ถอนฟืนใต้กระทะ'\n",
            "  เกม 715: ถอนฟืนใต้กระทะ (รวม 22 อัน)\n"
          ]
        },
        {
          "output_type": "stream",
          "name": "stderr",
          "text": [
            "The following generation flags are not valid and may be ignored: ['temperature', 'top_p']. Set `TRANSFORMERS_VERBOSITY=info` for more details.\n"
          ]
        },
        {
          "output_type": "stream",
          "name": "stdout",
          "text": [
            "Strategy 'ปิดฟ้าข้ามทะเล' เต็ม 27 แล้ว -> เปลี่ยนเป็น 'ล่อเสือออกจากถ้ำ'\n",
            "  เกม 716: ล่อเสือออกจากถ้ำ (รวม 26 อัน)\n"
          ]
        },
        {
          "output_type": "stream",
          "name": "stderr",
          "text": [
            "The following generation flags are not valid and may be ignored: ['temperature', 'top_p']. Set `TRANSFORMERS_VERBOSITY=info` for more details.\n"
          ]
        },
        {
          "output_type": "stream",
          "name": "stdout",
          "text": [
            "Strategy 'ปิดฟ้าข้ามทะเล' เต็ม 27 แล้ว -> เปลี่ยนเป็น 'จักจั่นลอกคราบ'\n",
            "  เกม 717: จักจั่นลอกคราบ (รวม 14 อัน)\n"
          ]
        },
        {
          "output_type": "stream",
          "name": "stderr",
          "text": [
            "The following generation flags are not valid and may be ignored: ['temperature', 'top_p']. Set `TRANSFORMERS_VERBOSITY=info` for more details.\n"
          ]
        },
        {
          "output_type": "stream",
          "name": "stdout",
          "text": [
            "Strategy 'ปิดฟ้าข้ามทะเล' เต็ม 27 แล้ว -> เปลี่ยนเป็น 'หลี่ตายแทนถาว'\n",
            "  เกม 718: หลี่ตายแทนถาว (รวม 17 อัน)\n"
          ]
        },
        {
          "output_type": "stream",
          "name": "stderr",
          "text": [
            "The following generation flags are not valid and may be ignored: ['temperature', 'top_p']. Set `TRANSFORMERS_VERBOSITY=info` for more details.\n"
          ]
        },
        {
          "output_type": "stream",
          "name": "stdout",
          "text": [
            "Strategy 'ปิดฟ้าข้ามทะเล' เต็ม 27 แล้ว -> เปลี่ยนเป็น 'ลอบตีเฉินชาง'\n",
            "  เกม 719: ลอบตีเฉินชาง (รวม 20 อัน)\n"
          ]
        },
        {
          "output_type": "stream",
          "name": "stderr",
          "text": [
            "The following generation flags are not valid and may be ignored: ['temperature', 'top_p']. Set `TRANSFORMERS_VERBOSITY=info` for more details.\n"
          ]
        },
        {
          "output_type": "stream",
          "name": "stdout",
          "text": [
            "Strategy 'ปิดฟ้าข้ามทะเล' เต็ม 27 แล้ว -> เปลี่ยนเป็น 'ลูกโซ่'\n",
            "  เกม 720: ลูกโซ่ (รวม 21 อัน)\n",
            "  -> วิเคราะห์แล้ว 720 เกม\n",
            "  -> Strategy ที่เต็ม 27 แล้ว: 2 กลยุทธ์\n",
            "\n",
            "แบทช์ 73: กำลังวิเคราะห์เกม 721-730\n"
          ]
        },
        {
          "output_type": "stream",
          "name": "stderr",
          "text": [
            "The following generation flags are not valid and may be ignored: ['temperature', 'top_p']. Set `TRANSFORMERS_VERBOSITY=info` for more details.\n"
          ]
        },
        {
          "output_type": "stream",
          "name": "stdout",
          "text": [
            "Strategy 'ปิดฟ้าข้ามทะเล' เต็ม 27 แล้ว -> เปลี่ยนเป็น 'เปิดเมือง'\n",
            "  เกม 721: เปิดเมือง (รวม 26 อัน)\n"
          ]
        },
        {
          "output_type": "stream",
          "name": "stderr",
          "text": [
            "The following generation flags are not valid and may be ignored: ['temperature', 'top_p']. Set `TRANSFORMERS_VERBOSITY=info` for more details.\n"
          ]
        },
        {
          "output_type": "stream",
          "name": "stdout",
          "text": [
            "Strategy 'ปิดฟ้าข้ามทะเล' เต็ม 27 แล้ว -> เปลี่ยนเป็น 'ส่งเสียงบูรพาฝ่าตีประจิม'\n",
            "  เกม 722: ส่งเสียงบูรพาฝ่าตีประจิม (รวม 16 อัน)\n"
          ]
        },
        {
          "output_type": "stream",
          "name": "stderr",
          "text": [
            "The following generation flags are not valid and may be ignored: ['temperature', 'top_p']. Set `TRANSFORMERS_VERBOSITY=info` for more details.\n"
          ]
        },
        {
          "output_type": "stream",
          "name": "stdout",
          "text": [
            "Strategy 'ปิดฟ้าข้ามทะเล' เต็ม 27 แล้ว -> เปลี่ยนเป็น 'สาวงาม'\n",
            "  เกม 723: สาวงาม (รวม 23 อัน)\n"
          ]
        },
        {
          "output_type": "stream",
          "name": "stderr",
          "text": [
            "The following generation flags are not valid and may be ignored: ['temperature', 'top_p']. Set `TRANSFORMERS_VERBOSITY=info` for more details.\n"
          ]
        },
        {
          "output_type": "stream",
          "name": "stdout",
          "text": [
            "Strategy 'ปิดฟ้าข้ามทะเล' เต็ม 27 แล้ว -> เปลี่ยนเป็น 'ทุกข์กาย'\n",
            "  เกม 724: ทุกข์กาย (รวม 22 อัน)\n"
          ]
        },
        {
          "output_type": "stream",
          "name": "stderr",
          "text": [
            "The following generation flags are not valid and may be ignored: ['temperature', 'top_p']. Set `TRANSFORMERS_VERBOSITY=info` for more details.\n"
          ]
        },
        {
          "output_type": "stream",
          "name": "stdout",
          "text": [
            "Strategy 'ปิดฟ้าข้ามทะเล' เต็ม 27 แล้ว -> เปลี่ยนเป็น 'สาวงาม'\n",
            "  เกม 725: สาวงาม (รวม 24 อัน)\n"
          ]
        },
        {
          "output_type": "stream",
          "name": "stderr",
          "text": [
            "The following generation flags are not valid and may be ignored: ['temperature', 'top_p']. Set `TRANSFORMERS_VERBOSITY=info` for more details.\n"
          ]
        },
        {
          "output_type": "stream",
          "name": "stdout",
          "text": [
            "Strategy 'ปิดฟ้าข้ามทะเล' เต็ม 27 แล้ว -> เปลี่ยนเป็น 'สลับแขกเป็นเจ้าบ้าน'\n",
            "  เกม 726: สลับแขกเป็นเจ้าบ้าน (รวม 23 อัน)\n"
          ]
        },
        {
          "output_type": "stream",
          "name": "stderr",
          "text": [
            "The following generation flags are not valid and may be ignored: ['temperature', 'top_p']. Set `TRANSFORMERS_VERBOSITY=info` for more details.\n"
          ]
        },
        {
          "output_type": "stream",
          "name": "stdout",
          "text": [
            "Strategy 'ปิดฟ้าข้ามทะเล' เต็ม 27 แล้ว -> เปลี่ยนเป็น 'หลี่ตายแทนถาว'\n",
            "  เกม 727: หลี่ตายแทนถาว (รวม 18 อัน)\n"
          ]
        },
        {
          "output_type": "stream",
          "name": "stderr",
          "text": [
            "The following generation flags are not valid and may be ignored: ['temperature', 'top_p']. Set `TRANSFORMERS_VERBOSITY=info` for more details.\n"
          ]
        },
        {
          "output_type": "stream",
          "name": "stdout",
          "text": [
            "Strategy 'ปิดฟ้าข้ามทะเล' เต็ม 27 แล้ว -> เปลี่ยนเป็น 'ล้อมเวยช่วยจ้าว'\n",
            "  เกม 728: ล้อมเวยช่วยจ้าว (รวม 14 อัน)\n"
          ]
        },
        {
          "output_type": "stream",
          "name": "stderr",
          "text": [
            "The following generation flags are not valid and may be ignored: ['temperature', 'top_p']. Set `TRANSFORMERS_VERBOSITY=info` for more details.\n"
          ]
        },
        {
          "output_type": "stream",
          "name": "stdout",
          "text": [
            "Strategy 'ปิดฟ้าข้ามทะเล' เต็ม 27 แล้ว -> เปลี่ยนเป็น 'สลับแขกเป็นเจ้าบ้าน'\n",
            "  เกม 729: สลับแขกเป็นเจ้าบ้าน (รวม 24 อัน)\n"
          ]
        },
        {
          "output_type": "stream",
          "name": "stderr",
          "text": [
            "The following generation flags are not valid and may be ignored: ['temperature', 'top_p']. Set `TRANSFORMERS_VERBOSITY=info` for more details.\n"
          ]
        },
        {
          "output_type": "stream",
          "name": "stdout",
          "text": [
            "Strategy 'ปิดฟ้าข้ามทะเล' เต็ม 27 แล้ว -> เปลี่ยนเป็น 'ปิดประตูจับโจร'\n",
            "  เกม 730: ปิดประตูจับโจร (รวม 24 อัน)\n",
            "  -> วิเคราะห์แล้ว 730 เกม\n",
            "  -> Strategy ที่เต็ม 27 แล้ว: 2 กลยุทธ์\n",
            "\n",
            "แบทช์ 74: กำลังวิเคราะห์เกม 731-740\n"
          ]
        },
        {
          "output_type": "stream",
          "name": "stderr",
          "text": [
            "The following generation flags are not valid and may be ignored: ['temperature', 'top_p']. Set `TRANSFORMERS_VERBOSITY=info` for more details.\n"
          ]
        },
        {
          "output_type": "stream",
          "name": "stdout",
          "text": [
            "Strategy 'ปิดฟ้าข้ามทะเล' เต็ม 27 แล้ว -> เปลี่ยนเป็น 'ลักขื่อเปลี่ยนเสา'\n",
            "  เกม 731: ลักขื่อเปลี่ยนเสา (รวม 21 อัน)\n"
          ]
        },
        {
          "output_type": "stream",
          "name": "stderr",
          "text": [
            "The following generation flags are not valid and may be ignored: ['temperature', 'top_p']. Set `TRANSFORMERS_VERBOSITY=info` for more details.\n"
          ]
        },
        {
          "output_type": "stream",
          "name": "stdout",
          "text": [
            "Strategy 'ปิดฟ้าข้ามทะเล' เต็ม 27 แล้ว -> เปลี่ยนเป็น 'ชี้ต้นหม่อนด่าต้นไหว'\n",
            "  เกม 732: ชี้ต้นหม่อนด่าต้นไหว (รวม 25 อัน)\n"
          ]
        },
        {
          "output_type": "stream",
          "name": "stderr",
          "text": [
            "The following generation flags are not valid and may be ignored: ['temperature', 'top_p']. Set `TRANSFORMERS_VERBOSITY=info` for more details.\n"
          ]
        },
        {
          "output_type": "stream",
          "name": "stdout",
          "text": [
            "Strategy 'ปิดฟ้าข้ามทะเล' เต็ม 27 แล้ว -> เปลี่ยนเป็น 'ต้นไม้ผลิดอก'\n",
            "  เกม 733: ต้นไม้ผลิดอก (รวม 11 อัน)\n"
          ]
        },
        {
          "output_type": "stream",
          "name": "stderr",
          "text": [
            "The following generation flags are not valid and may be ignored: ['temperature', 'top_p']. Set `TRANSFORMERS_VERBOSITY=info` for more details.\n"
          ]
        },
        {
          "output_type": "stream",
          "name": "stdout",
          "text": [
            "Strategy 'ปิดฟ้าข้ามทะเล' เต็ม 27 แล้ว -> เปลี่ยนเป็น 'ลูกโซ่'\n",
            "  เกม 734: ลูกโซ่ (รวม 22 อัน)\n"
          ]
        },
        {
          "output_type": "stream",
          "name": "stderr",
          "text": [
            "The following generation flags are not valid and may be ignored: ['temperature', 'top_p']. Set `TRANSFORMERS_VERBOSITY=info` for more details.\n"
          ]
        },
        {
          "output_type": "stream",
          "name": "stdout",
          "text": [
            "Strategy 'ปิดฟ้าข้ามทะเล' เต็ม 27 แล้ว -> เปลี่ยนเป็น 'สลับแขกเป็นเจ้าบ้าน'\n",
            "  เกม 735: สลับแขกเป็นเจ้าบ้าน (รวม 25 อัน)\n"
          ]
        },
        {
          "output_type": "stream",
          "name": "stderr",
          "text": [
            "The following generation flags are not valid and may be ignored: ['temperature', 'top_p']. Set `TRANSFORMERS_VERBOSITY=info` for more details.\n"
          ]
        },
        {
          "output_type": "stream",
          "name": "stdout",
          "text": [
            "Strategy 'ปิดฟ้าข้ามทะเล' เต็ม 27 แล้ว -> เปลี่ยนเป็น 'ล้อมเวยช่วยจ้าว'\n",
            "  เกม 736: ล้อมเวยช่วยจ้าว (รวม 15 อัน)\n"
          ]
        },
        {
          "output_type": "stream",
          "name": "stderr",
          "text": [
            "The following generation flags are not valid and may be ignored: ['temperature', 'top_p']. Set `TRANSFORMERS_VERBOSITY=info` for more details.\n"
          ]
        },
        {
          "output_type": "stream",
          "name": "stdout",
          "text": [
            "Strategy 'ปิดฟ้าข้ามทะเล' เต็ม 27 แล้ว -> เปลี่ยนเป็น 'ลูกโซ่'\n",
            "  เกม 737: ลูกโซ่ (รวม 23 อัน)\n"
          ]
        },
        {
          "output_type": "stream",
          "name": "stderr",
          "text": [
            "The following generation flags are not valid and may be ignored: ['temperature', 'top_p']. Set `TRANSFORMERS_VERBOSITY=info` for more details.\n"
          ]
        },
        {
          "output_type": "stream",
          "name": "stdout",
          "text": [
            "Strategy 'ปิดฟ้าข้ามทะเล' เต็ม 27 แล้ว -> เปลี่ยนเป็น 'ตีชิงตามไฟ'\n",
            "  เกม 738: ตีชิงตามไฟ (รวม 20 อัน)\n"
          ]
        },
        {
          "output_type": "stream",
          "name": "stderr",
          "text": [
            "The following generation flags are not valid and may be ignored: ['temperature', 'top_p']. Set `TRANSFORMERS_VERBOSITY=info` for more details.\n"
          ]
        },
        {
          "output_type": "stream",
          "name": "stdout",
          "text": [
            "Strategy 'ปิดฟ้าข้ามทะเล' เต็ม 27 แล้ว -> เปลี่ยนเป็น 'โยนกระเบื้องล่อหยก'\n",
            "  เกม 739: โยนกระเบื้องล่อหยก (รวม 25 อัน)\n"
          ]
        },
        {
          "output_type": "stream",
          "name": "stderr",
          "text": [
            "The following generation flags are not valid and may be ignored: ['temperature', 'top_p']. Set `TRANSFORMERS_VERBOSITY=info` for more details.\n"
          ]
        },
        {
          "output_type": "stream",
          "name": "stdout",
          "text": [
            "Strategy 'ปิดฟ้าข้ามทะเล' เต็ม 27 แล้ว -> เปลี่ยนเป็น 'สลับแขกเป็นเจ้าบ้าน'\n",
            "  เกม 740: สลับแขกเป็นเจ้าบ้าน (รวม 26 อัน)\n",
            "  -> วิเคราะห์แล้ว 740 เกม\n",
            "  -> Strategy ที่เต็ม 27 แล้ว: 2 กลยุทธ์\n",
            "\n",
            "แบทช์ 75: กำลังวิเคราะห์เกม 741-750\n"
          ]
        },
        {
          "output_type": "stream",
          "name": "stderr",
          "text": [
            "The following generation flags are not valid and may be ignored: ['temperature', 'top_p']. Set `TRANSFORMERS_VERBOSITY=info` for more details.\n"
          ]
        },
        {
          "output_type": "stream",
          "name": "stdout",
          "text": [
            "Strategy 'ปิดฟ้าข้ามทะเล' เต็ม 27 แล้ว -> เปลี่ยนเป็น 'เปิดเมือง'\n",
            "  เกม 741: เปิดเมือง (รวม 27 อัน)\n"
          ]
        },
        {
          "output_type": "stream",
          "name": "stderr",
          "text": [
            "The following generation flags are not valid and may be ignored: ['temperature', 'top_p']. Set `TRANSFORMERS_VERBOSITY=info` for more details.\n"
          ]
        },
        {
          "output_type": "stream",
          "name": "stdout",
          "text": [
            "Strategy 'ปิดฟ้าข้ามทะเล' เต็ม 27 แล้ว -> เปลี่ยนเป็น 'ลอบตีเฉินชาง'\n",
            "  เกม 742: ลอบตีเฉินชาง (รวม 21 อัน)\n"
          ]
        },
        {
          "output_type": "stream",
          "name": "stderr",
          "text": [
            "The following generation flags are not valid and may be ignored: ['temperature', 'top_p']. Set `TRANSFORMERS_VERBOSITY=info` for more details.\n"
          ]
        },
        {
          "output_type": "stream",
          "name": "stdout",
          "text": [
            "Strategy 'ปิดฟ้าข้ามทะเล' เต็ม 27 แล้ว -> เปลี่ยนเป็น 'จักจั่นลอกคราบ'\n",
            "  เกม 743: จักจั่นลอกคราบ (รวม 15 อัน)\n"
          ]
        },
        {
          "output_type": "stream",
          "name": "stderr",
          "text": [
            "The following generation flags are not valid and may be ignored: ['temperature', 'top_p']. Set `TRANSFORMERS_VERBOSITY=info` for more details.\n"
          ]
        },
        {
          "output_type": "stream",
          "name": "stdout",
          "text": [
            "Strategy 'ปิดฟ้าข้ามทะเล' เต็ม 27 แล้ว -> เปลี่ยนเป็น 'ขึ้นบ้านชักบันได'\n",
            "  เกม 744: ขึ้นบ้านชักบันได (รวม 18 อัน)\n"
          ]
        },
        {
          "output_type": "stream",
          "name": "stderr",
          "text": [
            "The following generation flags are not valid and may be ignored: ['temperature', 'top_p']. Set `TRANSFORMERS_VERBOSITY=info` for more details.\n"
          ]
        },
        {
          "output_type": "stream",
          "name": "stdout",
          "text": [
            "Strategy 'ปิดฟ้าข้ามทะเล' เต็ม 27 แล้ว -> เปลี่ยนเป็น 'ขึ้นบ้านชักบันได'\n",
            "  เกม 745: ขึ้นบ้านชักบันได (รวม 19 อัน)\n"
          ]
        },
        {
          "output_type": "stream",
          "name": "stderr",
          "text": [
            "The following generation flags are not valid and may be ignored: ['temperature', 'top_p']. Set `TRANSFORMERS_VERBOSITY=info` for more details.\n"
          ]
        },
        {
          "output_type": "stream",
          "name": "stdout",
          "text": [
            "Strategy 'ปิดฟ้าข้ามทะเล' เต็ม 27 แล้ว -> เปลี่ยนเป็น 'ลักขื่อเปลี่ยนเสา'\n",
            "  เกม 746: ลักขื่อเปลี่ยนเสา (รวม 22 อัน)\n"
          ]
        },
        {
          "output_type": "stream",
          "name": "stderr",
          "text": [
            "The following generation flags are not valid and may be ignored: ['temperature', 'top_p']. Set `TRANSFORMERS_VERBOSITY=info` for more details.\n"
          ]
        },
        {
          "output_type": "stream",
          "name": "stdout",
          "text": [
            "Strategy 'ปิดฟ้าข้ามทะเล' เต็ม 27 แล้ว -> เปลี่ยนเป็น 'ตีชิงตามไฟ'\n",
            "  เกม 747: ตีชิงตามไฟ (รวม 21 อัน)\n"
          ]
        },
        {
          "output_type": "stream",
          "name": "stderr",
          "text": [
            "The following generation flags are not valid and may be ignored: ['temperature', 'top_p']. Set `TRANSFORMERS_VERBOSITY=info` for more details.\n"
          ]
        },
        {
          "output_type": "stream",
          "name": "stdout",
          "text": [
            "Strategy 'ปิดฟ้าข้ามทะเล' เต็ม 27 แล้ว -> เปลี่ยนเป็น 'ยืมดาบฆ่าคน'\n",
            "  เกม 748: ยืมดาบฆ่าคน (รวม 15 อัน)\n"
          ]
        },
        {
          "output_type": "stream",
          "name": "stderr",
          "text": [
            "The following generation flags are not valid and may be ignored: ['temperature', 'top_p']. Set `TRANSFORMERS_VERBOSITY=info` for more details.\n"
          ]
        },
        {
          "output_type": "stream",
          "name": "stdout",
          "text": [
            "Strategy 'ปิดฟ้าข้ามทะเล' เต็ม 27 แล้ว -> เปลี่ยนเป็น 'ปิดประตูจับโจร'\n",
            "  เกม 749: ปิดประตูจับโจร (รวม 25 อัน)\n"
          ]
        },
        {
          "output_type": "stream",
          "name": "stderr",
          "text": [
            "The following generation flags are not valid and may be ignored: ['temperature', 'top_p']. Set `TRANSFORMERS_VERBOSITY=info` for more details.\n"
          ]
        },
        {
          "output_type": "stream",
          "name": "stdout",
          "text": [
            "Strategy 'ปิดฟ้าข้ามทะเล' เต็ม 27 แล้ว -> เปลี่ยนเป็น 'กวนน้ำจับปลา'\n",
            "  เกม 750: กวนน้ำจับปลา (รวม 23 อัน)\n",
            "  -> วิเคราะห์แล้ว 750 เกม\n",
            "  -> Strategy ที่เต็ม 27 แล้ว: 3 กลยุทธ์\n",
            "\n",
            "แบทช์ 76: กำลังวิเคราะห์เกม 751-760\n"
          ]
        },
        {
          "output_type": "stream",
          "name": "stderr",
          "text": [
            "The following generation flags are not valid and may be ignored: ['temperature', 'top_p']. Set `TRANSFORMERS_VERBOSITY=info` for more details.\n"
          ]
        },
        {
          "output_type": "stream",
          "name": "stdout",
          "text": [
            "Strategy 'ปิดฟ้าข้ามทะเล' เต็ม 27 แล้ว -> เปลี่ยนเป็น 'แสร้งทำบอแต่ไม่บ้า'\n",
            "  เกม 751: แสร้งทำบอแต่ไม่บ้า (รวม 23 อัน)\n"
          ]
        },
        {
          "output_type": "stream",
          "name": "stderr",
          "text": [
            "The following generation flags are not valid and may be ignored: ['temperature', 'top_p']. Set `TRANSFORMERS_VERBOSITY=info` for more details.\n"
          ]
        },
        {
          "output_type": "stream",
          "name": "stdout",
          "text": [
            "Strategy 'ปิดฟ้าข้ามทะเล' เต็ม 27 แล้ว -> เปลี่ยนเป็น 'จูงแพะติดมือ'\n",
            "  เกม 752: จูงแพะติดมือ (รวม 21 อัน)\n"
          ]
        },
        {
          "output_type": "stream",
          "name": "stderr",
          "text": [
            "The following generation flags are not valid and may be ignored: ['temperature', 'top_p']. Set `TRANSFORMERS_VERBOSITY=info` for more details.\n"
          ]
        },
        {
          "output_type": "stream",
          "name": "stdout",
          "text": [
            "Strategy 'ปิดฟ้าข้ามทะเล' เต็ม 27 แล้ว -> เปลี่ยนเป็น 'จักจั่นลอกคราบ'\n",
            "  เกม 753: จักจั่นลอกคราบ (รวม 16 อัน)\n"
          ]
        },
        {
          "output_type": "stream",
          "name": "stderr",
          "text": [
            "The following generation flags are not valid and may be ignored: ['temperature', 'top_p']. Set `TRANSFORMERS_VERBOSITY=info` for more details.\n"
          ]
        },
        {
          "output_type": "stream",
          "name": "stdout",
          "text": [
            "Strategy 'ปิดฟ้าข้ามทะเล' เต็ม 27 แล้ว -> เปลี่ยนเป็น 'แสร้งทำบอแต่ไม่บ้า'\n",
            "  เกม 754: แสร้งทำบอแต่ไม่บ้า (รวม 24 อัน)\n"
          ]
        },
        {
          "output_type": "stream",
          "name": "stderr",
          "text": [
            "The following generation flags are not valid and may be ignored: ['temperature', 'top_p']. Set `TRANSFORMERS_VERBOSITY=info` for more details.\n"
          ]
        },
        {
          "output_type": "stream",
          "name": "stdout",
          "text": [
            "Strategy 'ปิดฟ้าข้ามทะเล' เต็ม 27 แล้ว -> เปลี่ยนเป็น 'คบไกลตีใกล้'\n",
            "  เกม 755: คบไกลตีใกล้ (รวม 16 อัน)\n"
          ]
        },
        {
          "output_type": "stream",
          "name": "stderr",
          "text": [
            "The following generation flags are not valid and may be ignored: ['temperature', 'top_p']. Set `TRANSFORMERS_VERBOSITY=info` for more details.\n"
          ]
        },
        {
          "output_type": "stream",
          "name": "stdout",
          "text": [
            "Strategy 'ปิดฟ้าข้ามทะเล' เต็ม 27 แล้ว -> เปลี่ยนเป็น 'สาวงาม'\n",
            "  เกม 756: สาวงาม (รวม 25 อัน)\n"
          ]
        },
        {
          "output_type": "stream",
          "name": "stderr",
          "text": [
            "The following generation flags are not valid and may be ignored: ['temperature', 'top_p']. Set `TRANSFORMERS_VERBOSITY=info` for more details.\n"
          ]
        },
        {
          "output_type": "stream",
          "name": "stdout",
          "text": [
            "Strategy 'ปิดฟ้าข้ามทะเล' เต็ม 27 แล้ว -> เปลี่ยนเป็น 'ล้อมเวยช่วยจ้าว'\n",
            "  เกม 757: ล้อมเวยช่วยจ้าว (รวม 16 อัน)\n"
          ]
        },
        {
          "output_type": "stream",
          "name": "stderr",
          "text": [
            "The following generation flags are not valid and may be ignored: ['temperature', 'top_p']. Set `TRANSFORMERS_VERBOSITY=info` for more details.\n"
          ]
        },
        {
          "output_type": "stream",
          "name": "stdout",
          "text": [
            "Strategy 'ปิดฟ้าข้ามทะเล' เต็ม 27 แล้ว -> เปลี่ยนเป็น 'ปิดประตูจับโจร'\n",
            "  เกม 758: ปิดประตูจับโจร (รวม 26 อัน)\n"
          ]
        },
        {
          "output_type": "stream",
          "name": "stderr",
          "text": [
            "The following generation flags are not valid and may be ignored: ['temperature', 'top_p']. Set `TRANSFORMERS_VERBOSITY=info` for more details.\n"
          ]
        },
        {
          "output_type": "stream",
          "name": "stdout",
          "text": [
            "Strategy 'ปิดฟ้าข้ามทะเล' เต็ม 27 แล้ว -> เปลี่ยนเป็น 'ถอนฟืนใต้กระทะ'\n",
            "  เกม 759: ถอนฟืนใต้กระทะ (รวม 23 อัน)\n"
          ]
        },
        {
          "output_type": "stream",
          "name": "stderr",
          "text": [
            "The following generation flags are not valid and may be ignored: ['temperature', 'top_p']. Set `TRANSFORMERS_VERBOSITY=info` for more details.\n"
          ]
        },
        {
          "output_type": "stream",
          "name": "stdout",
          "text": [
            "Strategy 'ปิดฟ้าข้ามทะเล' เต็ม 27 แล้ว -> เปลี่ยนเป็น 'ทุกข์กาย'\n",
            "  เกม 760: ทุกข์กาย (รวม 23 อัน)\n",
            "  -> วิเคราะห์แล้ว 760 เกม\n",
            "  -> Strategy ที่เต็ม 27 แล้ว: 3 กลยุทธ์\n",
            "\n",
            "แบทช์ 77: กำลังวิเคราะห์เกม 761-770\n"
          ]
        },
        {
          "output_type": "stream",
          "name": "stderr",
          "text": [
            "The following generation flags are not valid and may be ignored: ['temperature', 'top_p']. Set `TRANSFORMERS_VERBOSITY=info` for more details.\n"
          ]
        },
        {
          "output_type": "stream",
          "name": "stdout",
          "text": [
            "Strategy 'ปิดฟ้าข้ามทะเล' เต็ม 27 แล้ว -> เปลี่ยนเป็น 'ยืมทางพรางกล'\n",
            "  เกม 761: ยืมทางพรางกล (รวม 20 อัน)\n"
          ]
        },
        {
          "output_type": "stream",
          "name": "stderr",
          "text": [
            "The following generation flags are not valid and may be ignored: ['temperature', 'top_p']. Set `TRANSFORMERS_VERBOSITY=info` for more details.\n"
          ]
        },
        {
          "output_type": "stream",
          "name": "stdout",
          "text": [
            "Strategy 'ปิดฟ้าข้ามทะเล' เต็ม 27 แล้ว -> เปลี่ยนเป็น 'ดูไฟชายฝั่ง'\n",
            "  เกม 762: ดูไฟชายฝั่ง (รวม 14 อัน)\n"
          ]
        },
        {
          "output_type": "stream",
          "name": "stderr",
          "text": [
            "The following generation flags are not valid and may be ignored: ['temperature', 'top_p']. Set `TRANSFORMERS_VERBOSITY=info` for more details.\n"
          ]
        },
        {
          "output_type": "stream",
          "name": "stdout",
          "text": [
            "Strategy 'ปิดฟ้าข้ามทะเล' เต็ม 27 แล้ว -> เปลี่ยนเป็น 'ถอนฟืนใต้กระทะ'\n",
            "  เกม 763: ถอนฟืนใต้กระทะ (รวม 24 อัน)\n"
          ]
        },
        {
          "output_type": "stream",
          "name": "stderr",
          "text": [
            "The following generation flags are not valid and may be ignored: ['temperature', 'top_p']. Set `TRANSFORMERS_VERBOSITY=info` for more details.\n"
          ]
        },
        {
          "output_type": "stream",
          "name": "stdout",
          "text": [
            "Strategy 'ปิดฟ้าข้ามทะเล' เต็ม 27 แล้ว -> เปลี่ยนเป็น 'ต้นไม้ผลิดอก'\n",
            "  เกม 764: ต้นไม้ผลิดอก (รวม 12 อัน)\n"
          ]
        },
        {
          "output_type": "stream",
          "name": "stderr",
          "text": [
            "The following generation flags are not valid and may be ignored: ['temperature', 'top_p']. Set `TRANSFORMERS_VERBOSITY=info` for more details.\n"
          ]
        },
        {
          "output_type": "stream",
          "name": "stdout",
          "text": [
            "Strategy 'ปิดฟ้าข้ามทะเล' เต็ม 27 แล้ว -> เปลี่ยนเป็น 'จับโจรเอาหัวโจก'\n",
            "  เกม 765: จับโจรเอาหัวโจก (รวม 24 อัน)\n"
          ]
        },
        {
          "output_type": "stream",
          "name": "stderr",
          "text": [
            "The following generation flags are not valid and may be ignored: ['temperature', 'top_p']. Set `TRANSFORMERS_VERBOSITY=info` for more details.\n"
          ]
        },
        {
          "output_type": "stream",
          "name": "stdout",
          "text": [
            "Strategy 'ปิดฟ้าข้ามทะเล' เต็ม 27 แล้ว -> เปลี่ยนเป็น 'ถอนฟืนใต้กระทะ'\n",
            "  เกม 766: ถอนฟืนใต้กระทะ (รวม 25 อัน)\n"
          ]
        },
        {
          "output_type": "stream",
          "name": "stderr",
          "text": [
            "The following generation flags are not valid and may be ignored: ['temperature', 'top_p']. Set `TRANSFORMERS_VERBOSITY=info` for more details.\n"
          ]
        },
        {
          "output_type": "stream",
          "name": "stdout",
          "text": [
            "Strategy 'ปิดฟ้าข้ามทะเล' เต็ม 27 แล้ว -> เปลี่ยนเป็น 'แสร้งปล่อยเพื่อจับ'\n",
            "  เกม 767: แสร้งปล่อยเพื่อจับ (รวม 25 อัน)\n"
          ]
        },
        {
          "output_type": "stream",
          "name": "stderr",
          "text": [
            "The following generation flags are not valid and may be ignored: ['temperature', 'top_p']. Set `TRANSFORMERS_VERBOSITY=info` for more details.\n"
          ]
        },
        {
          "output_type": "stream",
          "name": "stdout",
          "text": [
            "Strategy 'ปิดฟ้าข้ามทะเล' เต็ม 27 แล้ว -> เปลี่ยนเป็น 'สาวงาม'\n",
            "  เกม 768: สาวงาม (รวม 26 อัน)\n"
          ]
        },
        {
          "output_type": "stream",
          "name": "stderr",
          "text": [
            "The following generation flags are not valid and may be ignored: ['temperature', 'top_p']. Set `TRANSFORMERS_VERBOSITY=info` for more details.\n"
          ]
        },
        {
          "output_type": "stream",
          "name": "stdout",
          "text": [
            "Strategy 'ปิดฟ้าข้ามทะเล' เต็ม 27 แล้ว -> เปลี่ยนเป็น 'ล่อเสือออกจากถ้ำ'\n",
            "  เกม 769: ล่อเสือออกจากถ้ำ (รวม 27 อัน)\n"
          ]
        },
        {
          "output_type": "stream",
          "name": "stderr",
          "text": [
            "The following generation flags are not valid and may be ignored: ['temperature', 'top_p']. Set `TRANSFORMERS_VERBOSITY=info` for more details.\n"
          ]
        },
        {
          "output_type": "stream",
          "name": "stdout",
          "text": [
            "Strategy 'ปิดฟ้าข้ามทะเล' เต็ม 27 แล้ว -> เปลี่ยนเป็น 'ทุกข์กาย'\n",
            "  เกม 770: ทุกข์กาย (รวม 24 อัน)\n",
            "  -> วิเคราะห์แล้ว 770 เกม\n",
            "  -> Strategy ที่เต็ม 27 แล้ว: 4 กลยุทธ์\n",
            "\n",
            "แบทช์ 78: กำลังวิเคราะห์เกม 771-780\n"
          ]
        },
        {
          "output_type": "stream",
          "name": "stderr",
          "text": [
            "The following generation flags are not valid and may be ignored: ['temperature', 'top_p']. Set `TRANSFORMERS_VERBOSITY=info` for more details.\n"
          ]
        },
        {
          "output_type": "stream",
          "name": "stdout",
          "text": [
            "Strategy 'ปิดฟ้าข้ามทะเล' เต็ม 27 แล้ว -> เปลี่ยนเป็น 'แสร้งปล่อยเพื่อจับ'\n",
            "  เกม 771: แสร้งปล่อยเพื่อจับ (รวม 26 อัน)\n"
          ]
        },
        {
          "output_type": "stream",
          "name": "stderr",
          "text": [
            "The following generation flags are not valid and may be ignored: ['temperature', 'top_p']. Set `TRANSFORMERS_VERBOSITY=info` for more details.\n"
          ]
        },
        {
          "output_type": "stream",
          "name": "stdout",
          "text": [
            "Strategy 'ปิดฟ้าข้ามทะเล' เต็ม 27 แล้ว -> เปลี่ยนเป็น 'ลักขื่อเปลี่ยนเสา'\n",
            "  เกม 772: ลักขื่อเปลี่ยนเสา (รวม 23 อัน)\n"
          ]
        },
        {
          "output_type": "stream",
          "name": "stderr",
          "text": [
            "The following generation flags are not valid and may be ignored: ['temperature', 'top_p']. Set `TRANSFORMERS_VERBOSITY=info` for more details.\n"
          ]
        },
        {
          "output_type": "stream",
          "name": "stdout",
          "text": [
            "Strategy 'ปิดฟ้าข้ามทะเล' เต็ม 27 แล้ว -> เปลี่ยนเป็น 'ยืมซากคืนชีพ'\n",
            "  เกม 773: ยืมซากคืนชีพ (รวม 18 อัน)\n"
          ]
        },
        {
          "output_type": "stream",
          "name": "stderr",
          "text": [
            "The following generation flags are not valid and may be ignored: ['temperature', 'top_p']. Set `TRANSFORMERS_VERBOSITY=info` for more details.\n"
          ]
        },
        {
          "output_type": "stream",
          "name": "stdout",
          "text": [
            "Strategy 'ปิดฟ้าข้ามทะเล' เต็ม 27 แล้ว -> เปลี่ยนเป็น 'หลบหนี'\n",
            "  เกม 774: หลบหนี (รวม 15 อัน)\n"
          ]
        },
        {
          "output_type": "stream",
          "name": "stderr",
          "text": [
            "The following generation flags are not valid and may be ignored: ['temperature', 'top_p']. Set `TRANSFORMERS_VERBOSITY=info` for more details.\n"
          ]
        },
        {
          "output_type": "stream",
          "name": "stdout",
          "text": [
            "Strategy 'ปิดฟ้าข้ามทะเล' เต็ม 27 แล้ว -> เปลี่ยนเป็น 'ยืมทางพรางกล'\n",
            "  เกม 775: ยืมทางพรางกล (รวม 21 อัน)\n"
          ]
        },
        {
          "output_type": "stream",
          "name": "stderr",
          "text": [
            "The following generation flags are not valid and may be ignored: ['temperature', 'top_p']. Set `TRANSFORMERS_VERBOSITY=info` for more details.\n"
          ]
        },
        {
          "output_type": "stream",
          "name": "stdout",
          "text": [
            "Strategy 'ปิดฟ้าข้ามทะเล' เต็ม 27 แล้ว -> เปลี่ยนเป็น 'ดูไฟชายฝั่ง'\n",
            "  เกม 776: ดูไฟชายฝั่ง (รวม 15 อัน)\n"
          ]
        },
        {
          "output_type": "stream",
          "name": "stderr",
          "text": [
            "The following generation flags are not valid and may be ignored: ['temperature', 'top_p']. Set `TRANSFORMERS_VERBOSITY=info` for more details.\n"
          ]
        },
        {
          "output_type": "stream",
          "name": "stdout",
          "text": [
            "Strategy 'ปิดฟ้าข้ามทะเล' เต็ม 27 แล้ว -> เปลี่ยนเป็น 'รอซ้ำยามเปลี้ย'\n",
            "  เกม 777: รอซ้ำยามเปลี้ย (รวม 19 อัน)\n"
          ]
        },
        {
          "output_type": "stream",
          "name": "stderr",
          "text": [
            "The following generation flags are not valid and may be ignored: ['temperature', 'top_p']. Set `TRANSFORMERS_VERBOSITY=info` for more details.\n"
          ]
        },
        {
          "output_type": "stream",
          "name": "stdout",
          "text": [
            "Strategy 'ปิดฟ้าข้ามทะเล' เต็ม 27 แล้ว -> เปลี่ยนเป็น 'รอซ้ำยามเปลี้ย'\n",
            "  เกม 778: รอซ้ำยามเปลี้ย (รวม 20 อัน)\n"
          ]
        },
        {
          "output_type": "stream",
          "name": "stderr",
          "text": [
            "The following generation flags are not valid and may be ignored: ['temperature', 'top_p']. Set `TRANSFORMERS_VERBOSITY=info` for more details.\n"
          ]
        },
        {
          "output_type": "stream",
          "name": "stdout",
          "text": [
            "Strategy 'ปิดฟ้าข้ามทะเล' เต็ม 27 แล้ว -> เปลี่ยนเป็น 'แสร้งทำบอแต่ไม่บ้า'\n",
            "  เกม 779: แสร้งทำบอแต่ไม่บ้า (รวม 25 อัน)\n"
          ]
        },
        {
          "output_type": "stream",
          "name": "stderr",
          "text": [
            "The following generation flags are not valid and may be ignored: ['temperature', 'top_p']. Set `TRANSFORMERS_VERBOSITY=info` for more details.\n"
          ]
        },
        {
          "output_type": "stream",
          "name": "stdout",
          "text": [
            "Strategy 'ปิดฟ้าข้ามทะเล' เต็ม 27 แล้ว -> เปลี่ยนเป็น 'ตีชิงตามไฟ'\n",
            "  เกม 780: ตีชิงตามไฟ (รวม 22 อัน)\n",
            "  -> วิเคราะห์แล้ว 780 เกม\n",
            "  -> Strategy ที่เต็ม 27 แล้ว: 4 กลยุทธ์\n",
            "\n",
            "แบทช์ 79: กำลังวิเคราะห์เกม 781-790\n"
          ]
        },
        {
          "output_type": "stream",
          "name": "stderr",
          "text": [
            "The following generation flags are not valid and may be ignored: ['temperature', 'top_p']. Set `TRANSFORMERS_VERBOSITY=info` for more details.\n"
          ]
        },
        {
          "output_type": "stream",
          "name": "stdout",
          "text": [
            "Strategy 'ปิดฟ้าข้ามทะเล' เต็ม 27 แล้ว -> เปลี่ยนเป็น 'รอซ้ำยามเปลี้ย'\n",
            "  เกม 781: รอซ้ำยามเปลี้ย (รวม 21 อัน)\n"
          ]
        },
        {
          "output_type": "stream",
          "name": "stderr",
          "text": [
            "The following generation flags are not valid and may be ignored: ['temperature', 'top_p']. Set `TRANSFORMERS_VERBOSITY=info` for more details.\n"
          ]
        },
        {
          "output_type": "stream",
          "name": "stdout",
          "text": [
            "Strategy 'ปิดฟ้าข้ามทะเล' เต็ม 27 แล้ว -> เปลี่ยนเป็น 'จักจั่นลอกคราบ'\n",
            "  เกม 782: จักจั่นลอกคราบ (รวม 17 อัน)\n"
          ]
        },
        {
          "output_type": "stream",
          "name": "stderr",
          "text": [
            "The following generation flags are not valid and may be ignored: ['temperature', 'top_p']. Set `TRANSFORMERS_VERBOSITY=info` for more details.\n"
          ]
        },
        {
          "output_type": "stream",
          "name": "stdout",
          "text": [
            "Strategy 'ปิดฟ้าข้ามทะเล' เต็ม 27 แล้ว -> เปลี่ยนเป็น 'หลบหนี'\n",
            "  เกม 783: หลบหนี (รวม 16 อัน)\n"
          ]
        },
        {
          "output_type": "stream",
          "name": "stderr",
          "text": [
            "The following generation flags are not valid and may be ignored: ['temperature', 'top_p']. Set `TRANSFORMERS_VERBOSITY=info` for more details.\n"
          ]
        },
        {
          "output_type": "stream",
          "name": "stdout",
          "text": [
            "Strategy 'ปิดฟ้าข้ามทะเล' เต็ม 27 แล้ว -> เปลี่ยนเป็น 'ชี้ต้นหม่อนด่าต้นไหว'\n",
            "  เกม 784: ชี้ต้นหม่อนด่าต้นไหว (รวม 26 อัน)\n"
          ]
        },
        {
          "output_type": "stream",
          "name": "stderr",
          "text": [
            "The following generation flags are not valid and may be ignored: ['temperature', 'top_p']. Set `TRANSFORMERS_VERBOSITY=info` for more details.\n"
          ]
        },
        {
          "output_type": "stream",
          "name": "stdout",
          "text": [
            "Strategy 'ปิดฟ้าข้ามทะเล' เต็ม 27 แล้ว -> เปลี่ยนเป็น 'ล้อมเวยช่วยจ้าว'\n",
            "  เกม 785: ล้อมเวยช่วยจ้าว (รวม 17 อัน)\n"
          ]
        },
        {
          "output_type": "stream",
          "name": "stderr",
          "text": [
            "The following generation flags are not valid and may be ignored: ['temperature', 'top_p']. Set `TRANSFORMERS_VERBOSITY=info` for more details.\n"
          ]
        },
        {
          "output_type": "stream",
          "name": "stdout",
          "text": [
            "Strategy 'ปิดฟ้าข้ามทะเล' เต็ม 27 แล้ว -> เปลี่ยนเป็น 'โยนกระเบื้องล่อหยก'\n",
            "  เกม 786: โยนกระเบื้องล่อหยก (รวม 26 อัน)\n"
          ]
        },
        {
          "output_type": "stream",
          "name": "stderr",
          "text": [
            "The following generation flags are not valid and may be ignored: ['temperature', 'top_p']. Set `TRANSFORMERS_VERBOSITY=info` for more details.\n"
          ]
        },
        {
          "output_type": "stream",
          "name": "stdout",
          "text": [
            "Strategy 'ปิดฟ้าข้ามทะเล' เต็ม 27 แล้ว -> เปลี่ยนเป็น 'จักจั่นลอกคราบ'\n",
            "  เกม 787: จักจั่นลอกคราบ (รวม 18 อัน)\n"
          ]
        },
        {
          "output_type": "stream",
          "name": "stderr",
          "text": [
            "The following generation flags are not valid and may be ignored: ['temperature', 'top_p']. Set `TRANSFORMERS_VERBOSITY=info` for more details.\n"
          ]
        },
        {
          "output_type": "stream",
          "name": "stdout",
          "text": [
            "Strategy 'ปิดฟ้าข้ามทะเล' เต็ม 27 แล้ว -> เปลี่ยนเป็น 'ลูกโซ่'\n",
            "  เกม 788: ลูกโซ่ (รวม 24 อัน)\n"
          ]
        },
        {
          "output_type": "stream",
          "name": "stderr",
          "text": [
            "The following generation flags are not valid and may be ignored: ['temperature', 'top_p']. Set `TRANSFORMERS_VERBOSITY=info` for more details.\n"
          ]
        },
        {
          "output_type": "stream",
          "name": "stdout",
          "text": [
            "Strategy 'ปิดฟ้าข้ามทะเล' เต็ม 27 แล้ว -> เปลี่ยนเป็น 'ขึ้นบ้านชักบันได'\n",
            "  เกม 789: ขึ้นบ้านชักบันได (รวม 20 อัน)\n"
          ]
        },
        {
          "output_type": "stream",
          "name": "stderr",
          "text": [
            "The following generation flags are not valid and may be ignored: ['temperature', 'top_p']. Set `TRANSFORMERS_VERBOSITY=info` for more details.\n"
          ]
        },
        {
          "output_type": "stream",
          "name": "stdout",
          "text": [
            "Strategy 'ปิดฟ้าข้ามทะเล' เต็ม 27 แล้ว -> เปลี่ยนเป็น 'จับโจรเอาหัวโจก'\n",
            "  เกม 790: จับโจรเอาหัวโจก (รวม 25 อัน)\n",
            "  -> วิเคราะห์แล้ว 790 เกม\n",
            "  -> Strategy ที่เต็ม 27 แล้ว: 4 กลยุทธ์\n",
            "\n",
            "แบทช์ 80: กำลังวิเคราะห์เกม 791-800\n"
          ]
        },
        {
          "output_type": "stream",
          "name": "stderr",
          "text": [
            "The following generation flags are not valid and may be ignored: ['temperature', 'top_p']. Set `TRANSFORMERS_VERBOSITY=info` for more details.\n"
          ]
        },
        {
          "output_type": "stream",
          "name": "stdout",
          "text": [
            "Strategy 'ปิดฟ้าข้ามทะเล' เต็ม 27 แล้ว -> เปลี่ยนเป็น 'คบไกลตีใกล้'\n",
            "  เกม 791: คบไกลตีใกล้ (รวม 17 อัน)\n"
          ]
        },
        {
          "output_type": "stream",
          "name": "stderr",
          "text": [
            "The following generation flags are not valid and may be ignored: ['temperature', 'top_p']. Set `TRANSFORMERS_VERBOSITY=info` for more details.\n"
          ]
        },
        {
          "output_type": "stream",
          "name": "stdout",
          "text": [
            "Strategy 'ปิดฟ้าข้ามทะเล' เต็ม 27 แล้ว -> เปลี่ยนเป็น 'ซ่อนดาบในรอยยิ้ม'\n",
            "  เกม 792: ซ่อนดาบในรอยยิ้ม (รวม 21 อัน)\n"
          ]
        },
        {
          "output_type": "stream",
          "name": "stderr",
          "text": [
            "The following generation flags are not valid and may be ignored: ['temperature', 'top_p']. Set `TRANSFORMERS_VERBOSITY=info` for more details.\n"
          ]
        },
        {
          "output_type": "stream",
          "name": "stdout",
          "text": [
            "Strategy 'ปิดฟ้าข้ามทะเล' เต็ม 27 แล้ว -> เปลี่ยนเป็น 'ต้นไม้ผลิดอก'\n",
            "  เกม 793: ต้นไม้ผลิดอก (รวม 13 อัน)\n"
          ]
        },
        {
          "output_type": "stream",
          "name": "stderr",
          "text": [
            "The following generation flags are not valid and may be ignored: ['temperature', 'top_p']. Set `TRANSFORMERS_VERBOSITY=info` for more details.\n"
          ]
        },
        {
          "output_type": "stream",
          "name": "stdout",
          "text": [
            "Strategy 'ปิดฟ้าข้ามทะเล' เต็ม 27 แล้ว -> เปลี่ยนเป็น 'ดูไฟชายฝั่ง'\n",
            "  เกม 794: ดูไฟชายฝั่ง (รวม 16 อัน)\n"
          ]
        },
        {
          "output_type": "stream",
          "name": "stderr",
          "text": [
            "The following generation flags are not valid and may be ignored: ['temperature', 'top_p']. Set `TRANSFORMERS_VERBOSITY=info` for more details.\n"
          ]
        },
        {
          "output_type": "stream",
          "name": "stdout",
          "text": [
            "Strategy 'ปิดฟ้าข้ามทะเล' เต็ม 27 แล้ว -> เปลี่ยนเป็น 'ล้อมเวยช่วยจ้าว'\n",
            "  เกม 795: ล้อมเวยช่วยจ้าว (รวม 18 อัน)\n"
          ]
        },
        {
          "output_type": "stream",
          "name": "stderr",
          "text": [
            "The following generation flags are not valid and may be ignored: ['temperature', 'top_p']. Set `TRANSFORMERS_VERBOSITY=info` for more details.\n"
          ]
        },
        {
          "output_type": "stream",
          "name": "stdout",
          "text": [
            "Strategy 'ปิดฟ้าข้ามทะเล' เต็ม 27 แล้ว -> เปลี่ยนเป็น 'ต้นไม้ผลิดอก'\n",
            "  เกม 796: ต้นไม้ผลิดอก (รวม 14 อัน)\n"
          ]
        },
        {
          "output_type": "stream",
          "name": "stderr",
          "text": [
            "The following generation flags are not valid and may be ignored: ['temperature', 'top_p']. Set `TRANSFORMERS_VERBOSITY=info` for more details.\n"
          ]
        },
        {
          "output_type": "stream",
          "name": "stdout",
          "text": [
            "Strategy 'ปิดฟ้าข้ามทะเล' เต็ม 27 แล้ว -> เปลี่ยนเป็น 'ทุกข์กาย'\n",
            "  เกม 797: ทุกข์กาย (รวม 25 อัน)\n"
          ]
        },
        {
          "output_type": "stream",
          "name": "stderr",
          "text": [
            "The following generation flags are not valid and may be ignored: ['temperature', 'top_p']. Set `TRANSFORMERS_VERBOSITY=info` for more details.\n"
          ]
        },
        {
          "output_type": "stream",
          "name": "stdout",
          "text": [
            "Strategy 'ปิดฟ้าข้ามทะเล' เต็ม 27 แล้ว -> เปลี่ยนเป็น 'มีในไม่มี'\n",
            "  เกม 798: มีในไม่มี (รวม 26 อัน)\n"
          ]
        },
        {
          "output_type": "stream",
          "name": "stderr",
          "text": [
            "The following generation flags are not valid and may be ignored: ['temperature', 'top_p']. Set `TRANSFORMERS_VERBOSITY=info` for more details.\n"
          ]
        },
        {
          "output_type": "stream",
          "name": "stdout",
          "text": [
            "Strategy 'ปิดฟ้าข้ามทะเล' เต็ม 27 แล้ว -> เปลี่ยนเป็น 'ตีชิงตามไฟ'\n",
            "  เกม 799: ตีชิงตามไฟ (รวม 23 อัน)\n"
          ]
        },
        {
          "output_type": "stream",
          "name": "stderr",
          "text": [
            "The following generation flags are not valid and may be ignored: ['temperature', 'top_p']. Set `TRANSFORMERS_VERBOSITY=info` for more details.\n"
          ]
        },
        {
          "output_type": "stream",
          "name": "stdout",
          "text": [
            "Strategy 'ปิดฟ้าข้ามทะเล' เต็ม 27 แล้ว -> เปลี่ยนเป็น 'ยืมซากคืนชีพ'\n",
            "  เกม 800: ยืมซากคืนชีพ (รวม 19 อัน)\n",
            "  -> วิเคราะห์แล้ว 800 เกม\n",
            "  -> Strategy ที่เต็ม 27 แล้ว: 4 กลยุทธ์\n",
            "  -> บันทึกผลกลางแล้ว 800 เกม\n",
            "\n",
            "แบทช์ 81: กำลังวิเคราะห์เกม 801-810\n"
          ]
        },
        {
          "output_type": "stream",
          "name": "stderr",
          "text": [
            "The following generation flags are not valid and may be ignored: ['temperature', 'top_p']. Set `TRANSFORMERS_VERBOSITY=info` for more details.\n"
          ]
        },
        {
          "output_type": "stream",
          "name": "stdout",
          "text": [
            "Strategy 'ปิดฟ้าข้ามทะเล' เต็ม 27 แล้ว -> เปลี่ยนเป็น 'ล้อมเวยช่วยจ้าว'\n",
            "  เกม 801: ล้อมเวยช่วยจ้าว (รวม 19 อัน)\n"
          ]
        },
        {
          "output_type": "stream",
          "name": "stderr",
          "text": [
            "The following generation flags are not valid and may be ignored: ['temperature', 'top_p']. Set `TRANSFORMERS_VERBOSITY=info` for more details.\n"
          ]
        },
        {
          "output_type": "stream",
          "name": "stdout",
          "text": [
            "Strategy 'ปิดฟ้าข้ามทะเล' เต็ม 27 แล้ว -> เปลี่ยนเป็น 'ลักขื่อเปลี่ยนเสา'\n",
            "  เกม 802: ลักขื่อเปลี่ยนเสา (รวม 24 อัน)\n"
          ]
        },
        {
          "output_type": "stream",
          "name": "stderr",
          "text": [
            "The following generation flags are not valid and may be ignored: ['temperature', 'top_p']. Set `TRANSFORMERS_VERBOSITY=info` for more details.\n"
          ]
        },
        {
          "output_type": "stream",
          "name": "stdout",
          "text": [
            "Strategy 'ปิดฟ้าข้ามทะเล' เต็ม 27 แล้ว -> เปลี่ยนเป็น 'ล้อมเวยช่วยจ้าว'\n",
            "  เกม 803: ล้อมเวยช่วยจ้าว (รวม 20 อัน)\n"
          ]
        },
        {
          "output_type": "stream",
          "name": "stderr",
          "text": [
            "The following generation flags are not valid and may be ignored: ['temperature', 'top_p']. Set `TRANSFORMERS_VERBOSITY=info` for more details.\n"
          ]
        },
        {
          "output_type": "stream",
          "name": "stdout",
          "text": [
            "Strategy 'ปิดฟ้าข้ามทะเล' เต็ม 27 แล้ว -> เปลี่ยนเป็น 'ถอนฟืนใต้กระทะ'\n",
            "  เกม 804: ถอนฟืนใต้กระทะ (รวม 26 อัน)\n"
          ]
        },
        {
          "output_type": "stream",
          "name": "stderr",
          "text": [
            "The following generation flags are not valid and may be ignored: ['temperature', 'top_p']. Set `TRANSFORMERS_VERBOSITY=info` for more details.\n"
          ]
        },
        {
          "output_type": "stream",
          "name": "stdout",
          "text": [
            "Strategy 'ปิดฟ้าข้ามทะเล' เต็ม 27 แล้ว -> เปลี่ยนเป็น 'ยืมซากคืนชีพ'\n",
            "  เกม 805: ยืมซากคืนชีพ (รวม 20 อัน)\n"
          ]
        },
        {
          "output_type": "stream",
          "name": "stderr",
          "text": [
            "The following generation flags are not valid and may be ignored: ['temperature', 'top_p']. Set `TRANSFORMERS_VERBOSITY=info` for more details.\n"
          ]
        },
        {
          "output_type": "stream",
          "name": "stdout",
          "text": [
            "Strategy 'ปิดฟ้าข้ามทะเล' เต็ม 27 แล้ว -> เปลี่ยนเป็น 'ส่งเสียงบูรพาฝ่าตีประจิม'\n",
            "  เกม 806: ส่งเสียงบูรพาฝ่าตีประจิม (รวม 17 อัน)\n"
          ]
        },
        {
          "output_type": "stream",
          "name": "stderr",
          "text": [
            "The following generation flags are not valid and may be ignored: ['temperature', 'top_p']. Set `TRANSFORMERS_VERBOSITY=info` for more details.\n"
          ]
        },
        {
          "output_type": "stream",
          "name": "stdout",
          "text": [
            "Strategy 'ปิดฟ้าข้ามทะเล' เต็ม 27 แล้ว -> เปลี่ยนเป็น 'ตีชิงตามไฟ'\n",
            "  เกม 807: ตีชิงตามไฟ (รวม 24 อัน)\n"
          ]
        },
        {
          "output_type": "stream",
          "name": "stderr",
          "text": [
            "The following generation flags are not valid and may be ignored: ['temperature', 'top_p']. Set `TRANSFORMERS_VERBOSITY=info` for more details.\n"
          ]
        },
        {
          "output_type": "stream",
          "name": "stdout",
          "text": [
            "Strategy 'ปิดฟ้าข้ามทะเล' เต็ม 27 แล้ว -> เปลี่ยนเป็น 'หลบหนี'\n",
            "  เกม 808: หลบหนี (รวม 17 อัน)\n"
          ]
        },
        {
          "output_type": "stream",
          "name": "stderr",
          "text": [
            "The following generation flags are not valid and may be ignored: ['temperature', 'top_p']. Set `TRANSFORMERS_VERBOSITY=info` for more details.\n"
          ]
        },
        {
          "output_type": "stream",
          "name": "stdout",
          "text": [
            "Strategy 'ปิดฟ้าข้ามทะเล' เต็ม 27 แล้ว -> เปลี่ยนเป็น 'ยืมทางพรางกล'\n",
            "  เกม 809: ยืมทางพรางกล (รวม 22 อัน)\n"
          ]
        },
        {
          "output_type": "stream",
          "name": "stderr",
          "text": [
            "The following generation flags are not valid and may be ignored: ['temperature', 'top_p']. Set `TRANSFORMERS_VERBOSITY=info` for more details.\n"
          ]
        },
        {
          "output_type": "stream",
          "name": "stdout",
          "text": [
            "Strategy 'ปิดฟ้าข้ามทะเล' เต็ม 27 แล้ว -> เปลี่ยนเป็น 'มีในไม่มี'\n",
            "  เกม 810: มีในไม่มี (รวม 27 อัน)\n",
            "  -> วิเคราะห์แล้ว 810 เกม\n",
            "  -> Strategy ที่เต็ม 27 แล้ว: 5 กลยุทธ์\n",
            "\n",
            "แบทช์ 82: กำลังวิเคราะห์เกม 811-820\n"
          ]
        },
        {
          "output_type": "stream",
          "name": "stderr",
          "text": [
            "The following generation flags are not valid and may be ignored: ['temperature', 'top_p']. Set `TRANSFORMERS_VERBOSITY=info` for more details.\n"
          ]
        },
        {
          "output_type": "stream",
          "name": "stdout",
          "text": [
            "Strategy 'ปิดฟ้าข้ามทะเล' เต็ม 27 แล้ว -> เปลี่ยนเป็น 'ซ่อนดาบในรอยยิ้ม'\n",
            "  เกม 811: ซ่อนดาบในรอยยิ้ม (รวม 22 อัน)\n"
          ]
        },
        {
          "output_type": "stream",
          "name": "stderr",
          "text": [
            "The following generation flags are not valid and may be ignored: ['temperature', 'top_p']. Set `TRANSFORMERS_VERBOSITY=info` for more details.\n"
          ]
        },
        {
          "output_type": "stream",
          "name": "stdout",
          "text": [
            "Strategy 'ปิดฟ้าข้ามทะเล' เต็ม 27 แล้ว -> เปลี่ยนเป็น 'สลับแขกเป็นเจ้าบ้าน'\n",
            "  เกม 812: สลับแขกเป็นเจ้าบ้าน (รวม 27 อัน)\n"
          ]
        },
        {
          "output_type": "stream",
          "name": "stderr",
          "text": [
            "The following generation flags are not valid and may be ignored: ['temperature', 'top_p']. Set `TRANSFORMERS_VERBOSITY=info` for more details.\n"
          ]
        },
        {
          "output_type": "stream",
          "name": "stdout",
          "text": [
            "Strategy 'ปิดฟ้าข้ามทะเล' เต็ม 27 แล้ว -> เปลี่ยนเป็น 'ลอบตีเฉินชาง'\n",
            "  เกม 813: ลอบตีเฉินชาง (รวม 22 อัน)\n"
          ]
        },
        {
          "output_type": "stream",
          "name": "stderr",
          "text": [
            "The following generation flags are not valid and may be ignored: ['temperature', 'top_p']. Set `TRANSFORMERS_VERBOSITY=info` for more details.\n"
          ]
        },
        {
          "output_type": "stream",
          "name": "stdout",
          "text": [
            "Strategy 'ปิดฟ้าข้ามทะเล' เต็ม 27 แล้ว -> เปลี่ยนเป็น 'ชี้ต้นหม่อนด่าต้นไหว'\n",
            "  เกม 814: ชี้ต้นหม่อนด่าต้นไหว (รวม 27 อัน)\n"
          ]
        },
        {
          "output_type": "stream",
          "name": "stderr",
          "text": [
            "The following generation flags are not valid and may be ignored: ['temperature', 'top_p']. Set `TRANSFORMERS_VERBOSITY=info` for more details.\n"
          ]
        },
        {
          "output_type": "stream",
          "name": "stdout",
          "text": [
            "Strategy 'ปิดฟ้าข้ามทะเล' เต็ม 27 แล้ว -> เปลี่ยนเป็น 'ไส้ศึก'\n",
            "  เกม 815: ไส้ศึก (รวม 26 อัน)\n"
          ]
        },
        {
          "output_type": "stream",
          "name": "stderr",
          "text": [
            "The following generation flags are not valid and may be ignored: ['temperature', 'top_p']. Set `TRANSFORMERS_VERBOSITY=info` for more details.\n"
          ]
        },
        {
          "output_type": "stream",
          "name": "stdout",
          "text": [
            "Strategy 'ปิดฟ้าข้ามทะเล' เต็ม 27 แล้ว -> เปลี่ยนเป็น 'แสร้งปล่อยเพื่อจับ'\n",
            "  เกม 816: แสร้งปล่อยเพื่อจับ (รวม 27 อัน)\n"
          ]
        },
        {
          "output_type": "stream",
          "name": "stderr",
          "text": [
            "The following generation flags are not valid and may be ignored: ['temperature', 'top_p']. Set `TRANSFORMERS_VERBOSITY=info` for more details.\n"
          ]
        },
        {
          "output_type": "stream",
          "name": "stdout",
          "text": [
            "Strategy 'ปิดฟ้าข้ามทะเล' เต็ม 27 แล้ว -> เปลี่ยนเป็น 'ถอนฟืนใต้กระทะ'\n",
            "  เกม 817: ถอนฟืนใต้กระทะ (รวม 27 อัน)\n"
          ]
        },
        {
          "output_type": "stream",
          "name": "stderr",
          "text": [
            "The following generation flags are not valid and may be ignored: ['temperature', 'top_p']. Set `TRANSFORMERS_VERBOSITY=info` for more details.\n"
          ]
        },
        {
          "output_type": "stream",
          "name": "stdout",
          "text": [
            "Strategy 'ปิดฟ้าข้ามทะเล' เต็ม 27 แล้ว -> เปลี่ยนเป็น 'ตีชิงตามไฟ'\n",
            "  เกม 818: ตีชิงตามไฟ (รวม 25 อัน)\n"
          ]
        },
        {
          "output_type": "stream",
          "name": "stderr",
          "text": [
            "The following generation flags are not valid and may be ignored: ['temperature', 'top_p']. Set `TRANSFORMERS_VERBOSITY=info` for more details.\n"
          ]
        },
        {
          "output_type": "stream",
          "name": "stdout",
          "text": [
            "Strategy 'ปิดฟ้าข้ามทะเล' เต็ม 27 แล้ว -> เปลี่ยนเป็น 'ปิดประตูจับโจร'\n",
            "  เกม 819: ปิดประตูจับโจร (รวม 27 อัน)\n"
          ]
        },
        {
          "output_type": "stream",
          "name": "stderr",
          "text": [
            "The following generation flags are not valid and may be ignored: ['temperature', 'top_p']. Set `TRANSFORMERS_VERBOSITY=info` for more details.\n"
          ]
        },
        {
          "output_type": "stream",
          "name": "stdout",
          "text": [
            "Strategy 'ปิดฟ้าข้ามทะเล' เต็ม 27 แล้ว -> เปลี่ยนเป็น 'หลบหนี'\n",
            "  เกม 820: หลบหนี (รวม 18 อัน)\n",
            "  -> วิเคราะห์แล้ว 820 เกม\n",
            "  -> Strategy ที่เต็ม 27 แล้ว: 10 กลยุทธ์\n",
            "\n",
            "แบทช์ 83: กำลังวิเคราะห์เกม 821-830\n"
          ]
        },
        {
          "output_type": "stream",
          "name": "stderr",
          "text": [
            "The following generation flags are not valid and may be ignored: ['temperature', 'top_p']. Set `TRANSFORMERS_VERBOSITY=info` for more details.\n"
          ]
        },
        {
          "output_type": "stream",
          "name": "stdout",
          "text": [
            "Strategy 'ปิดฟ้าข้ามทะเล' เต็ม 27 แล้ว -> เปลี่ยนเป็น 'คบไกลตีใกล้'\n",
            "  เกม 821: คบไกลตีใกล้ (รวม 18 อัน)\n"
          ]
        },
        {
          "output_type": "stream",
          "name": "stderr",
          "text": [
            "The following generation flags are not valid and may be ignored: ['temperature', 'top_p']. Set `TRANSFORMERS_VERBOSITY=info` for more details.\n"
          ]
        },
        {
          "output_type": "stream",
          "name": "stdout",
          "text": [
            "Strategy 'ปิดฟ้าข้ามทะเล' เต็ม 27 แล้ว -> เปลี่ยนเป็น 'สาวงาม'\n",
            "  เกม 822: สาวงาม (รวม 27 อัน)\n"
          ]
        },
        {
          "output_type": "stream",
          "name": "stderr",
          "text": [
            "The following generation flags are not valid and may be ignored: ['temperature', 'top_p']. Set `TRANSFORMERS_VERBOSITY=info` for more details.\n"
          ]
        },
        {
          "output_type": "stream",
          "name": "stdout",
          "text": [
            "Strategy 'ปิดฟ้าข้ามทะเล' เต็ม 27 แล้ว -> เปลี่ยนเป็น 'ทุกข์กาย'\n",
            "  เกม 823: ทุกข์กาย (รวม 26 อัน)\n"
          ]
        },
        {
          "output_type": "stream",
          "name": "stderr",
          "text": [
            "The following generation flags are not valid and may be ignored: ['temperature', 'top_p']. Set `TRANSFORMERS_VERBOSITY=info` for more details.\n"
          ]
        },
        {
          "output_type": "stream",
          "name": "stdout",
          "text": [
            "Strategy 'ปิดฟ้าข้ามทะเล' เต็ม 27 แล้ว -> เปลี่ยนเป็น 'หลี่ตายแทนถาว'\n",
            "  เกม 824: หลี่ตายแทนถาว (รวม 19 อัน)\n"
          ]
        },
        {
          "output_type": "stream",
          "name": "stderr",
          "text": [
            "The following generation flags are not valid and may be ignored: ['temperature', 'top_p']. Set `TRANSFORMERS_VERBOSITY=info` for more details.\n"
          ]
        },
        {
          "output_type": "stream",
          "name": "stdout",
          "text": [
            "Strategy 'ปิดฟ้าข้ามทะเล' เต็ม 27 แล้ว -> เปลี่ยนเป็น 'ลูกโซ่'\n",
            "  เกม 825: ลูกโซ่ (รวม 25 อัน)\n"
          ]
        },
        {
          "output_type": "stream",
          "name": "stderr",
          "text": [
            "The following generation flags are not valid and may be ignored: ['temperature', 'top_p']. Set `TRANSFORMERS_VERBOSITY=info` for more details.\n"
          ]
        },
        {
          "output_type": "stream",
          "name": "stdout",
          "text": [
            "Strategy 'ปิดฟ้าข้ามทะเล' เต็ม 27 แล้ว -> เปลี่ยนเป็น 'ลักขื่อเปลี่ยนเสา'\n",
            "  เกม 826: ลักขื่อเปลี่ยนเสา (รวม 25 อัน)\n"
          ]
        },
        {
          "output_type": "stream",
          "name": "stderr",
          "text": [
            "The following generation flags are not valid and may be ignored: ['temperature', 'top_p']. Set `TRANSFORMERS_VERBOSITY=info` for more details.\n"
          ]
        },
        {
          "output_type": "stream",
          "name": "stdout",
          "text": [
            "Strategy 'ปิดฟ้าข้ามทะเล' เต็ม 27 แล้ว -> เปลี่ยนเป็น 'ยืมทางพรางกล'\n",
            "  เกม 827: ยืมทางพรางกล (รวม 23 อัน)\n"
          ]
        },
        {
          "output_type": "stream",
          "name": "stderr",
          "text": [
            "The following generation flags are not valid and may be ignored: ['temperature', 'top_p']. Set `TRANSFORMERS_VERBOSITY=info` for more details.\n"
          ]
        },
        {
          "output_type": "stream",
          "name": "stdout",
          "text": [
            "Strategy 'ปิดฟ้าข้ามทะเล' เต็ม 27 แล้ว -> เปลี่ยนเป็น 'หลบหนี'\n",
            "  เกม 828: หลบหนี (รวม 19 อัน)\n"
          ]
        },
        {
          "output_type": "stream",
          "name": "stderr",
          "text": [
            "The following generation flags are not valid and may be ignored: ['temperature', 'top_p']. Set `TRANSFORMERS_VERBOSITY=info` for more details.\n"
          ]
        },
        {
          "output_type": "stream",
          "name": "stdout",
          "text": [
            "Strategy 'ปิดฟ้าข้ามทะเล' เต็ม 27 แล้ว -> เปลี่ยนเป็น 'ตีชิงตามไฟ'\n",
            "  เกม 829: ตีชิงตามไฟ (รวม 26 อัน)\n"
          ]
        },
        {
          "output_type": "stream",
          "name": "stderr",
          "text": [
            "The following generation flags are not valid and may be ignored: ['temperature', 'top_p']. Set `TRANSFORMERS_VERBOSITY=info` for more details.\n"
          ]
        },
        {
          "output_type": "stream",
          "name": "stdout",
          "text": [
            "Strategy 'ปิดฟ้าข้ามทะเล' เต็ม 27 แล้ว -> เปลี่ยนเป็น 'ล้อมเวยช่วยจ้าว'\n",
            "  เกม 830: ล้อมเวยช่วยจ้าว (รวม 21 อัน)\n",
            "  -> วิเคราะห์แล้ว 830 เกม\n",
            "  -> Strategy ที่เต็ม 27 แล้ว: 11 กลยุทธ์\n",
            "\n",
            "แบทช์ 84: กำลังวิเคราะห์เกม 831-840\n"
          ]
        },
        {
          "output_type": "stream",
          "name": "stderr",
          "text": [
            "The following generation flags are not valid and may be ignored: ['temperature', 'top_p']. Set `TRANSFORMERS_VERBOSITY=info` for more details.\n"
          ]
        },
        {
          "output_type": "stream",
          "name": "stdout",
          "text": [
            "Strategy 'ปิดฟ้าข้ามทะเล' เต็ม 27 แล้ว -> เปลี่ยนเป็น 'ลูกโซ่'\n",
            "  เกม 831: ลูกโซ่ (รวม 26 อัน)\n"
          ]
        },
        {
          "output_type": "stream",
          "name": "stderr",
          "text": [
            "The following generation flags are not valid and may be ignored: ['temperature', 'top_p']. Set `TRANSFORMERS_VERBOSITY=info` for more details.\n"
          ]
        },
        {
          "output_type": "stream",
          "name": "stdout",
          "text": [
            "Strategy 'ปิดฟ้าข้ามทะเล' เต็ม 27 แล้ว -> เปลี่ยนเป็น 'จักจั่นลอกคราบ'\n",
            "  เกม 832: จักจั่นลอกคราบ (รวม 19 อัน)\n"
          ]
        },
        {
          "output_type": "stream",
          "name": "stderr",
          "text": [
            "The following generation flags are not valid and may be ignored: ['temperature', 'top_p']. Set `TRANSFORMERS_VERBOSITY=info` for more details.\n"
          ]
        },
        {
          "output_type": "stream",
          "name": "stdout",
          "text": [
            "Strategy 'ปิดฟ้าข้ามทะเล' เต็ม 27 แล้ว -> เปลี่ยนเป็น 'ลูกโซ่'\n",
            "  เกม 833: ลูกโซ่ (รวม 27 อัน)\n"
          ]
        },
        {
          "output_type": "stream",
          "name": "stderr",
          "text": [
            "The following generation flags are not valid and may be ignored: ['temperature', 'top_p']. Set `TRANSFORMERS_VERBOSITY=info` for more details.\n"
          ]
        },
        {
          "output_type": "stream",
          "name": "stdout",
          "text": [
            "Strategy 'ปิดฟ้าข้ามทะเล' เต็ม 27 แล้ว -> เปลี่ยนเป็น 'ล้อมเวยช่วยจ้าว'\n",
            "  เกม 834: ล้อมเวยช่วยจ้าว (รวม 22 อัน)\n"
          ]
        },
        {
          "output_type": "stream",
          "name": "stderr",
          "text": [
            "The following generation flags are not valid and may be ignored: ['temperature', 'top_p']. Set `TRANSFORMERS_VERBOSITY=info` for more details.\n"
          ]
        },
        {
          "output_type": "stream",
          "name": "stdout",
          "text": [
            "Strategy 'ปิดฟ้าข้ามทะเล' เต็ม 27 แล้ว -> เปลี่ยนเป็น 'จับโจรเอาหัวโจก'\n",
            "  เกม 835: จับโจรเอาหัวโจก (รวม 26 อัน)\n"
          ]
        },
        {
          "output_type": "stream",
          "name": "stderr",
          "text": [
            "The following generation flags are not valid and may be ignored: ['temperature', 'top_p']. Set `TRANSFORMERS_VERBOSITY=info` for more details.\n"
          ]
        },
        {
          "output_type": "stream",
          "name": "stdout",
          "text": [
            "Strategy 'ปิดฟ้าข้ามทะเล' เต็ม 27 แล้ว -> เปลี่ยนเป็น 'ส่งเสียงบูรพาฝ่าตีประจิม'\n",
            "  เกม 836: ส่งเสียงบูรพาฝ่าตีประจิม (รวม 18 อัน)\n"
          ]
        },
        {
          "output_type": "stream",
          "name": "stderr",
          "text": [
            "The following generation flags are not valid and may be ignored: ['temperature', 'top_p']. Set `TRANSFORMERS_VERBOSITY=info` for more details.\n"
          ]
        },
        {
          "output_type": "stream",
          "name": "stdout",
          "text": [
            "Strategy 'ปิดฟ้าข้ามทะเล' เต็ม 27 แล้ว -> เปลี่ยนเป็น 'รอซ้ำยามเปลี้ย'\n",
            "  เกม 837: รอซ้ำยามเปลี้ย (รวม 22 อัน)\n"
          ]
        },
        {
          "output_type": "stream",
          "name": "stderr",
          "text": [
            "The following generation flags are not valid and may be ignored: ['temperature', 'top_p']. Set `TRANSFORMERS_VERBOSITY=info` for more details.\n"
          ]
        },
        {
          "output_type": "stream",
          "name": "stdout",
          "text": [
            "Strategy 'ปิดฟ้าข้ามทะเล' เต็ม 27 แล้ว -> เปลี่ยนเป็น 'ตีชิงตามไฟ'\n",
            "  เกม 838: ตีชิงตามไฟ (รวม 27 อัน)\n"
          ]
        },
        {
          "output_type": "stream",
          "name": "stderr",
          "text": [
            "The following generation flags are not valid and may be ignored: ['temperature', 'top_p']. Set `TRANSFORMERS_VERBOSITY=info` for more details.\n"
          ]
        },
        {
          "output_type": "stream",
          "name": "stdout",
          "text": [
            "Strategy 'ปิดฟ้าข้ามทะเล' เต็ม 27 แล้ว -> เปลี่ยนเป็น 'ยืมดาบฆ่าคน'\n",
            "  เกม 839: ยืมดาบฆ่าคน (รวม 16 อัน)\n"
          ]
        },
        {
          "output_type": "stream",
          "name": "stderr",
          "text": [
            "The following generation flags are not valid and may be ignored: ['temperature', 'top_p']. Set `TRANSFORMERS_VERBOSITY=info` for more details.\n"
          ]
        },
        {
          "output_type": "stream",
          "name": "stdout",
          "text": [
            "Strategy 'ปิดฟ้าข้ามทะเล' เต็ม 27 แล้ว -> เปลี่ยนเป็น 'คบไกลตีใกล้'\n",
            "  เกม 840: คบไกลตีใกล้ (รวม 19 อัน)\n",
            "  -> วิเคราะห์แล้ว 840 เกม\n",
            "  -> Strategy ที่เต็ม 27 แล้ว: 13 กลยุทธ์\n",
            "\n",
            "แบทช์ 85: กำลังวิเคราะห์เกม 841-850\n"
          ]
        },
        {
          "output_type": "stream",
          "name": "stderr",
          "text": [
            "The following generation flags are not valid and may be ignored: ['temperature', 'top_p']. Set `TRANSFORMERS_VERBOSITY=info` for more details.\n"
          ]
        },
        {
          "output_type": "stream",
          "name": "stdout",
          "text": [
            "Strategy 'ปิดฟ้าข้ามทะเล' เต็ม 27 แล้ว -> เปลี่ยนเป็น 'ดูไฟชายฝั่ง'\n",
            "  เกม 841: ดูไฟชายฝั่ง (รวม 17 อัน)\n"
          ]
        },
        {
          "output_type": "stream",
          "name": "stderr",
          "text": [
            "The following generation flags are not valid and may be ignored: ['temperature', 'top_p']. Set `TRANSFORMERS_VERBOSITY=info` for more details.\n"
          ]
        },
        {
          "output_type": "stream",
          "name": "stdout",
          "text": [
            "Strategy 'ปิดฟ้าข้ามทะเล' เต็ม 27 แล้ว -> เปลี่ยนเป็น 'แสร้งทำบอแต่ไม่บ้า'\n",
            "  เกม 842: แสร้งทำบอแต่ไม่บ้า (รวม 26 อัน)\n"
          ]
        },
        {
          "output_type": "stream",
          "name": "stderr",
          "text": [
            "The following generation flags are not valid and may be ignored: ['temperature', 'top_p']. Set `TRANSFORMERS_VERBOSITY=info` for more details.\n"
          ]
        },
        {
          "output_type": "stream",
          "name": "stdout",
          "text": [
            "Strategy 'ปิดฟ้าข้ามทะเล' เต็ม 27 แล้ว -> เปลี่ยนเป็น 'จูงแพะติดมือ'\n",
            "  เกม 843: จูงแพะติดมือ (รวม 22 อัน)\n"
          ]
        },
        {
          "output_type": "stream",
          "name": "stderr",
          "text": [
            "The following generation flags are not valid and may be ignored: ['temperature', 'top_p']. Set `TRANSFORMERS_VERBOSITY=info` for more details.\n"
          ]
        },
        {
          "output_type": "stream",
          "name": "stdout",
          "text": [
            "Strategy 'ปิดฟ้าข้ามทะเล' เต็ม 27 แล้ว -> เปลี่ยนเป็น 'ยืมดาบฆ่าคน'\n",
            "  เกม 844: ยืมดาบฆ่าคน (รวม 17 อัน)\n"
          ]
        },
        {
          "output_type": "stream",
          "name": "stderr",
          "text": [
            "The following generation flags are not valid and may be ignored: ['temperature', 'top_p']. Set `TRANSFORMERS_VERBOSITY=info` for more details.\n"
          ]
        },
        {
          "output_type": "stream",
          "name": "stdout",
          "text": [
            "Strategy 'ปิดฟ้าข้ามทะเล' เต็ม 27 แล้ว -> เปลี่ยนเป็น 'ต้นไม้ผลิดอก'\n",
            "  เกม 845: ต้นไม้ผลิดอก (รวม 15 อัน)\n"
          ]
        },
        {
          "output_type": "stream",
          "name": "stderr",
          "text": [
            "The following generation flags are not valid and may be ignored: ['temperature', 'top_p']. Set `TRANSFORMERS_VERBOSITY=info` for more details.\n"
          ]
        },
        {
          "output_type": "stream",
          "name": "stdout",
          "text": [
            "Strategy 'ปิดฟ้าข้ามทะเล' เต็ม 27 แล้ว -> เปลี่ยนเป็น 'จักจั่นลอกคราบ'\n",
            "  เกม 846: จักจั่นลอกคราบ (รวม 20 อัน)\n"
          ]
        },
        {
          "output_type": "stream",
          "name": "stderr",
          "text": [
            "The following generation flags are not valid and may be ignored: ['temperature', 'top_p']. Set `TRANSFORMERS_VERBOSITY=info` for more details.\n"
          ]
        },
        {
          "output_type": "stream",
          "name": "stdout",
          "text": [
            "Strategy 'ปิดฟ้าข้ามทะเล' เต็ม 27 แล้ว -> เปลี่ยนเป็น 'ลักขื่อเปลี่ยนเสา'\n",
            "  เกม 847: ลักขื่อเปลี่ยนเสา (รวม 26 อัน)\n"
          ]
        },
        {
          "output_type": "stream",
          "name": "stderr",
          "text": [
            "The following generation flags are not valid and may be ignored: ['temperature', 'top_p']. Set `TRANSFORMERS_VERBOSITY=info` for more details.\n"
          ]
        },
        {
          "output_type": "stream",
          "name": "stdout",
          "text": [
            "Strategy 'ปิดฟ้าข้ามทะเล' เต็ม 27 แล้ว -> เปลี่ยนเป็น 'ไส้ศึก'\n",
            "  เกม 848: ไส้ศึก (รวม 27 อัน)\n"
          ]
        },
        {
          "output_type": "stream",
          "name": "stderr",
          "text": [
            "The following generation flags are not valid and may be ignored: ['temperature', 'top_p']. Set `TRANSFORMERS_VERBOSITY=info` for more details.\n"
          ]
        },
        {
          "output_type": "stream",
          "name": "stdout",
          "text": [
            "Strategy 'ปิดฟ้าข้ามทะเล' เต็ม 27 แล้ว -> เปลี่ยนเป็น 'ทุกข์กาย'\n",
            "  เกม 849: ทุกข์กาย (รวม 27 อัน)\n"
          ]
        },
        {
          "output_type": "stream",
          "name": "stderr",
          "text": [
            "The following generation flags are not valid and may be ignored: ['temperature', 'top_p']. Set `TRANSFORMERS_VERBOSITY=info` for more details.\n"
          ]
        },
        {
          "output_type": "stream",
          "name": "stdout",
          "text": [
            "Strategy 'ปิดฟ้าข้ามทะเล' เต็ม 27 แล้ว -> เปลี่ยนเป็น 'จักจั่นลอกคราบ'\n",
            "  เกม 850: จักจั่นลอกคราบ (รวม 21 อัน)\n",
            "  -> วิเคราะห์แล้ว 850 เกม\n",
            "  -> Strategy ที่เต็ม 27 แล้ว: 15 กลยุทธ์\n",
            "\n",
            "แบทช์ 86: กำลังวิเคราะห์เกม 851-860\n"
          ]
        },
        {
          "output_type": "stream",
          "name": "stderr",
          "text": [
            "The following generation flags are not valid and may be ignored: ['temperature', 'top_p']. Set `TRANSFORMERS_VERBOSITY=info` for more details.\n"
          ]
        },
        {
          "output_type": "stream",
          "name": "stdout",
          "text": [
            "Strategy 'ปิดฟ้าข้ามทะเล' เต็ม 27 แล้ว -> เปลี่ยนเป็น 'แสร้งทำบอแต่ไม่บ้า'\n",
            "  เกม 851: แสร้งทำบอแต่ไม่บ้า (รวม 27 อัน)\n"
          ]
        },
        {
          "output_type": "stream",
          "name": "stderr",
          "text": [
            "The following generation flags are not valid and may be ignored: ['temperature', 'top_p']. Set `TRANSFORMERS_VERBOSITY=info` for more details.\n"
          ]
        },
        {
          "output_type": "stream",
          "name": "stdout",
          "text": [
            "Strategy 'ปิดฟ้าข้ามทะเล' เต็ม 27 แล้ว -> เปลี่ยนเป็น 'หลบหนี'\n",
            "  เกม 852: หลบหนี (รวม 20 อัน)\n"
          ]
        },
        {
          "output_type": "stream",
          "name": "stderr",
          "text": [
            "The following generation flags are not valid and may be ignored: ['temperature', 'top_p']. Set `TRANSFORMERS_VERBOSITY=info` for more details.\n"
          ]
        },
        {
          "output_type": "stream",
          "name": "stdout",
          "text": [
            "Strategy 'ปิดฟ้าข้ามทะเล' เต็ม 27 แล้ว -> เปลี่ยนเป็น 'ซ่อนดาบในรอยยิ้ม'\n",
            "  เกม 853: ซ่อนดาบในรอยยิ้ม (รวม 23 อัน)\n"
          ]
        },
        {
          "output_type": "stream",
          "name": "stderr",
          "text": [
            "The following generation flags are not valid and may be ignored: ['temperature', 'top_p']. Set `TRANSFORMERS_VERBOSITY=info` for more details.\n"
          ]
        },
        {
          "output_type": "stream",
          "name": "stdout",
          "text": [
            "Strategy 'ปิดฟ้าข้ามทะเล' เต็ม 27 แล้ว -> เปลี่ยนเป็น 'หลบหนี'\n",
            "  เกม 854: หลบหนี (รวม 21 อัน)\n"
          ]
        },
        {
          "output_type": "stream",
          "name": "stderr",
          "text": [
            "The following generation flags are not valid and may be ignored: ['temperature', 'top_p']. Set `TRANSFORMERS_VERBOSITY=info` for more details.\n"
          ]
        },
        {
          "output_type": "stream",
          "name": "stdout",
          "text": [
            "Strategy 'ปิดฟ้าข้ามทะเล' เต็ม 27 แล้ว -> เปลี่ยนเป็น 'ล้อมเวยช่วยจ้าว'\n",
            "  เกม 855: ล้อมเวยช่วยจ้าว (รวม 23 อัน)\n"
          ]
        },
        {
          "output_type": "stream",
          "name": "stderr",
          "text": [
            "The following generation flags are not valid and may be ignored: ['temperature', 'top_p']. Set `TRANSFORMERS_VERBOSITY=info` for more details.\n"
          ]
        },
        {
          "output_type": "stream",
          "name": "stdout",
          "text": [
            "Strategy 'ปิดฟ้าข้ามทะเล' เต็ม 27 แล้ว -> เปลี่ยนเป็น 'ดูไฟชายฝั่ง'\n",
            "  เกม 856: ดูไฟชายฝั่ง (รวม 18 อัน)\n"
          ]
        },
        {
          "output_type": "stream",
          "name": "stderr",
          "text": [
            "The following generation flags are not valid and may be ignored: ['temperature', 'top_p']. Set `TRANSFORMERS_VERBOSITY=info` for more details.\n"
          ]
        },
        {
          "output_type": "stream",
          "name": "stdout",
          "text": [
            "Strategy 'ปิดฟ้าข้ามทะเล' เต็ม 27 แล้ว -> เปลี่ยนเป็น 'ขึ้นบ้านชักบันได'\n",
            "  เกม 857: ขึ้นบ้านชักบันได (รวม 21 อัน)\n"
          ]
        },
        {
          "output_type": "stream",
          "name": "stderr",
          "text": [
            "The following generation flags are not valid and may be ignored: ['temperature', 'top_p']. Set `TRANSFORMERS_VERBOSITY=info` for more details.\n"
          ]
        },
        {
          "output_type": "stream",
          "name": "stdout",
          "text": [
            "Strategy 'ปิดฟ้าข้ามทะเล' เต็ม 27 แล้ว -> เปลี่ยนเป็น 'จูงแพะติดมือ'\n",
            "  เกม 858: จูงแพะติดมือ (รวม 23 อัน)\n"
          ]
        },
        {
          "output_type": "stream",
          "name": "stderr",
          "text": [
            "The following generation flags are not valid and may be ignored: ['temperature', 'top_p']. Set `TRANSFORMERS_VERBOSITY=info` for more details.\n"
          ]
        },
        {
          "output_type": "stream",
          "name": "stdout",
          "text": [
            "Strategy 'ปิดฟ้าข้ามทะเล' เต็ม 27 แล้ว -> เปลี่ยนเป็น 'ขึ้นบ้านชักบันได'\n",
            "  เกม 859: ขึ้นบ้านชักบันได (รวม 22 อัน)\n"
          ]
        },
        {
          "output_type": "stream",
          "name": "stderr",
          "text": [
            "The following generation flags are not valid and may be ignored: ['temperature', 'top_p']. Set `TRANSFORMERS_VERBOSITY=info` for more details.\n"
          ]
        },
        {
          "output_type": "stream",
          "name": "stdout",
          "text": [
            "Strategy 'ปิดฟ้าข้ามทะเล' เต็ม 27 แล้ว -> เปลี่ยนเป็น 'กวนน้ำจับปลา'\n",
            "  เกม 860: กวนน้ำจับปลา (รวม 24 อัน)\n",
            "  -> วิเคราะห์แล้ว 860 เกม\n",
            "  -> Strategy ที่เต็ม 27 แล้ว: 16 กลยุทธ์\n",
            "\n",
            "แบทช์ 87: กำลังวิเคราะห์เกม 861-870\n"
          ]
        },
        {
          "output_type": "stream",
          "name": "stderr",
          "text": [
            "The following generation flags are not valid and may be ignored: ['temperature', 'top_p']. Set `TRANSFORMERS_VERBOSITY=info` for more details.\n"
          ]
        },
        {
          "output_type": "stream",
          "name": "stdout",
          "text": [
            "Strategy 'ปิดฟ้าข้ามทะเล' เต็ม 27 แล้ว -> เปลี่ยนเป็น 'ดูไฟชายฝั่ง'\n",
            "  เกม 861: ดูไฟชายฝั่ง (รวม 19 อัน)\n"
          ]
        },
        {
          "output_type": "stream",
          "name": "stderr",
          "text": [
            "The following generation flags are not valid and may be ignored: ['temperature', 'top_p']. Set `TRANSFORMERS_VERBOSITY=info` for more details.\n"
          ]
        },
        {
          "output_type": "stream",
          "name": "stdout",
          "text": [
            "Strategy 'ปิดฟ้าข้ามทะเล' เต็ม 27 แล้ว -> เปลี่ยนเป็น 'คบไกลตีใกล้'\n",
            "  เกม 862: คบไกลตีใกล้ (รวม 20 อัน)\n"
          ]
        },
        {
          "output_type": "stream",
          "name": "stderr",
          "text": [
            "The following generation flags are not valid and may be ignored: ['temperature', 'top_p']. Set `TRANSFORMERS_VERBOSITY=info` for more details.\n"
          ]
        },
        {
          "output_type": "stream",
          "name": "stdout",
          "text": [
            "Strategy 'ปิดฟ้าข้ามทะเล' เต็ม 27 แล้ว -> เปลี่ยนเป็น 'ล้อมเวยช่วยจ้าว'\n",
            "  เกม 863: ล้อมเวยช่วยจ้าว (รวม 24 อัน)\n"
          ]
        },
        {
          "output_type": "stream",
          "name": "stderr",
          "text": [
            "The following generation flags are not valid and may be ignored: ['temperature', 'top_p']. Set `TRANSFORMERS_VERBOSITY=info` for more details.\n"
          ]
        },
        {
          "output_type": "stream",
          "name": "stdout",
          "text": [
            "Strategy 'ปิดฟ้าข้ามทะเล' เต็ม 27 แล้ว -> เปลี่ยนเป็น 'ยืมทางพรางกล'\n",
            "  เกม 864: ยืมทางพรางกล (รวม 24 อัน)\n"
          ]
        },
        {
          "output_type": "stream",
          "name": "stderr",
          "text": [
            "The following generation flags are not valid and may be ignored: ['temperature', 'top_p']. Set `TRANSFORMERS_VERBOSITY=info` for more details.\n"
          ]
        },
        {
          "output_type": "stream",
          "name": "stdout",
          "text": [
            "Strategy 'ปิดฟ้าข้ามทะเล' เต็ม 27 แล้ว -> เปลี่ยนเป็น 'ขึ้นบ้านชักบันได'\n",
            "  เกม 865: ขึ้นบ้านชักบันได (รวม 23 อัน)\n"
          ]
        },
        {
          "output_type": "stream",
          "name": "stderr",
          "text": [
            "The following generation flags are not valid and may be ignored: ['temperature', 'top_p']. Set `TRANSFORMERS_VERBOSITY=info` for more details.\n"
          ]
        },
        {
          "output_type": "stream",
          "name": "stdout",
          "text": [
            "Strategy 'ปิดฟ้าข้ามทะเล' เต็ม 27 แล้ว -> เปลี่ยนเป็น 'ขึ้นบ้านชักบันได'\n",
            "  เกม 866: ขึ้นบ้านชักบันได (รวม 24 อัน)\n"
          ]
        },
        {
          "output_type": "stream",
          "name": "stderr",
          "text": [
            "The following generation flags are not valid and may be ignored: ['temperature', 'top_p']. Set `TRANSFORMERS_VERBOSITY=info` for more details.\n"
          ]
        },
        {
          "output_type": "stream",
          "name": "stdout",
          "text": [
            "Strategy 'ปิดฟ้าข้ามทะเล' เต็ม 27 แล้ว -> เปลี่ยนเป็น 'จักจั่นลอกคราบ'\n",
            "  เกม 867: จักจั่นลอกคราบ (รวม 22 อัน)\n"
          ]
        },
        {
          "output_type": "stream",
          "name": "stderr",
          "text": [
            "The following generation flags are not valid and may be ignored: ['temperature', 'top_p']. Set `TRANSFORMERS_VERBOSITY=info` for more details.\n"
          ]
        },
        {
          "output_type": "stream",
          "name": "stdout",
          "text": [
            "Strategy 'ปิดฟ้าข้ามทะเล' เต็ม 27 แล้ว -> เปลี่ยนเป็น 'ซ่อนดาบในรอยยิ้ม'\n",
            "  เกม 868: ซ่อนดาบในรอยยิ้ม (รวม 24 อัน)\n"
          ]
        },
        {
          "output_type": "stream",
          "name": "stderr",
          "text": [
            "The following generation flags are not valid and may be ignored: ['temperature', 'top_p']. Set `TRANSFORMERS_VERBOSITY=info` for more details.\n"
          ]
        },
        {
          "output_type": "stream",
          "name": "stdout",
          "text": [
            "Strategy 'ปิดฟ้าข้ามทะเล' เต็ม 27 แล้ว -> เปลี่ยนเป็น 'หลี่ตายแทนถาว'\n",
            "  เกม 869: หลี่ตายแทนถาว (รวม 20 อัน)\n"
          ]
        },
        {
          "output_type": "stream",
          "name": "stderr",
          "text": [
            "The following generation flags are not valid and may be ignored: ['temperature', 'top_p']. Set `TRANSFORMERS_VERBOSITY=info` for more details.\n"
          ]
        },
        {
          "output_type": "stream",
          "name": "stdout",
          "text": [
            "Strategy 'ปิดฟ้าข้ามทะเล' เต็ม 27 แล้ว -> เปลี่ยนเป็น 'ลักขื่อเปลี่ยนเสา'\n",
            "  เกม 870: ลักขื่อเปลี่ยนเสา (รวม 27 อัน)\n",
            "  -> วิเคราะห์แล้ว 870 เกม\n",
            "  -> Strategy ที่เต็ม 27 แล้ว: 17 กลยุทธ์\n",
            "\n",
            "แบทช์ 88: กำลังวิเคราะห์เกม 871-880\n"
          ]
        },
        {
          "output_type": "stream",
          "name": "stderr",
          "text": [
            "The following generation flags are not valid and may be ignored: ['temperature', 'top_p']. Set `TRANSFORMERS_VERBOSITY=info` for more details.\n"
          ]
        },
        {
          "output_type": "stream",
          "name": "stdout",
          "text": [
            "Strategy 'ปิดฟ้าข้ามทะเล' เต็ม 27 แล้ว -> เปลี่ยนเป็น 'ยืมดาบฆ่าคน'\n",
            "  เกม 871: ยืมดาบฆ่าคน (รวม 18 อัน)\n"
          ]
        },
        {
          "output_type": "stream",
          "name": "stderr",
          "text": [
            "The following generation flags are not valid and may be ignored: ['temperature', 'top_p']. Set `TRANSFORMERS_VERBOSITY=info` for more details.\n"
          ]
        },
        {
          "output_type": "stream",
          "name": "stdout",
          "text": [
            "Strategy 'ปิดฟ้าข้ามทะเล' เต็ม 27 แล้ว -> เปลี่ยนเป็น 'ส่งเสียงบูรพาฝ่าตีประจิม'\n",
            "  เกม 872: ส่งเสียงบูรพาฝ่าตีประจิม (รวม 19 อัน)\n"
          ]
        },
        {
          "output_type": "stream",
          "name": "stderr",
          "text": [
            "The following generation flags are not valid and may be ignored: ['temperature', 'top_p']. Set `TRANSFORMERS_VERBOSITY=info` for more details.\n"
          ]
        },
        {
          "output_type": "stream",
          "name": "stdout",
          "text": [
            "Strategy 'ปิดฟ้าข้ามทะเล' เต็ม 27 แล้ว -> เปลี่ยนเป็น 'ดูไฟชายฝั่ง'\n",
            "  เกม 873: ดูไฟชายฝั่ง (รวม 20 อัน)\n"
          ]
        },
        {
          "output_type": "stream",
          "name": "stderr",
          "text": [
            "The following generation flags are not valid and may be ignored: ['temperature', 'top_p']. Set `TRANSFORMERS_VERBOSITY=info` for more details.\n"
          ]
        },
        {
          "output_type": "stream",
          "name": "stdout",
          "text": [
            "Strategy 'ปิดฟ้าข้ามทะเล' เต็ม 27 แล้ว -> เปลี่ยนเป็น 'ยืมซากคืนชีพ'\n",
            "  เกม 874: ยืมซากคืนชีพ (รวม 21 อัน)\n"
          ]
        },
        {
          "output_type": "stream",
          "name": "stderr",
          "text": [
            "The following generation flags are not valid and may be ignored: ['temperature', 'top_p']. Set `TRANSFORMERS_VERBOSITY=info` for more details.\n"
          ]
        },
        {
          "output_type": "stream",
          "name": "stdout",
          "text": [
            "Strategy 'ปิดฟ้าข้ามทะเล' เต็ม 27 แล้ว -> เปลี่ยนเป็น 'จูงแพะติดมือ'\n",
            "  เกม 875: จูงแพะติดมือ (รวม 24 อัน)\n"
          ]
        },
        {
          "output_type": "stream",
          "name": "stderr",
          "text": [
            "The following generation flags are not valid and may be ignored: ['temperature', 'top_p']. Set `TRANSFORMERS_VERBOSITY=info` for more details.\n"
          ]
        },
        {
          "output_type": "stream",
          "name": "stdout",
          "text": [
            "Strategy 'ปิดฟ้าข้ามทะเล' เต็ม 27 แล้ว -> เปลี่ยนเป็น 'ล้อมเวยช่วยจ้าว'\n",
            "  เกม 876: ล้อมเวยช่วยจ้าว (รวม 25 อัน)\n"
          ]
        },
        {
          "output_type": "stream",
          "name": "stderr",
          "text": [
            "The following generation flags are not valid and may be ignored: ['temperature', 'top_p']. Set `TRANSFORMERS_VERBOSITY=info` for more details.\n"
          ]
        },
        {
          "output_type": "stream",
          "name": "stdout",
          "text": [
            "Strategy 'ปิดฟ้าข้ามทะเล' เต็ม 27 แล้ว -> เปลี่ยนเป็น 'คบไกลตีใกล้'\n",
            "  เกม 877: คบไกลตีใกล้ (รวม 21 อัน)\n"
          ]
        },
        {
          "output_type": "stream",
          "name": "stderr",
          "text": [
            "The following generation flags are not valid and may be ignored: ['temperature', 'top_p']. Set `TRANSFORMERS_VERBOSITY=info` for more details.\n"
          ]
        },
        {
          "output_type": "stream",
          "name": "stdout",
          "text": [
            "Strategy 'ปิดฟ้าข้ามทะเล' เต็ม 27 แล้ว -> เปลี่ยนเป็น 'ลอบตีเฉินชาง'\n",
            "  เกม 878: ลอบตีเฉินชาง (รวม 23 อัน)\n"
          ]
        },
        {
          "output_type": "stream",
          "name": "stderr",
          "text": [
            "The following generation flags are not valid and may be ignored: ['temperature', 'top_p']. Set `TRANSFORMERS_VERBOSITY=info` for more details.\n"
          ]
        },
        {
          "output_type": "stream",
          "name": "stdout",
          "text": [
            "Strategy 'ปิดฟ้าข้ามทะเล' เต็ม 27 แล้ว -> เปลี่ยนเป็น 'ซ่อนดาบในรอยยิ้ม'\n",
            "  เกม 879: ซ่อนดาบในรอยยิ้ม (รวม 25 อัน)\n"
          ]
        },
        {
          "output_type": "stream",
          "name": "stderr",
          "text": [
            "The following generation flags are not valid and may be ignored: ['temperature', 'top_p']. Set `TRANSFORMERS_VERBOSITY=info` for more details.\n"
          ]
        },
        {
          "output_type": "stream",
          "name": "stdout",
          "text": [
            "Strategy 'ปิดฟ้าข้ามทะเล' เต็ม 27 แล้ว -> เปลี่ยนเป็น 'ขึ้นบ้านชักบันได'\n",
            "  เกม 880: ขึ้นบ้านชักบันได (รวม 25 อัน)\n",
            "  -> วิเคราะห์แล้ว 880 เกม\n",
            "  -> Strategy ที่เต็ม 27 แล้ว: 17 กลยุทธ์\n",
            "\n",
            "แบทช์ 89: กำลังวิเคราะห์เกม 881-890\n"
          ]
        },
        {
          "output_type": "stream",
          "name": "stderr",
          "text": [
            "The following generation flags are not valid and may be ignored: ['temperature', 'top_p']. Set `TRANSFORMERS_VERBOSITY=info` for more details.\n"
          ]
        },
        {
          "output_type": "stream",
          "name": "stdout",
          "text": [
            "Strategy 'ปิดฟ้าข้ามทะเล' เต็ม 27 แล้ว -> เปลี่ยนเป็น 'ยืมดาบฆ่าคน'\n",
            "  เกม 881: ยืมดาบฆ่าคน (รวม 19 อัน)\n"
          ]
        },
        {
          "output_type": "stream",
          "name": "stderr",
          "text": [
            "The following generation flags are not valid and may be ignored: ['temperature', 'top_p']. Set `TRANSFORMERS_VERBOSITY=info` for more details.\n"
          ]
        },
        {
          "output_type": "stream",
          "name": "stdout",
          "text": [
            "Strategy 'ปิดฟ้าข้ามทะเล' เต็ม 27 แล้ว -> เปลี่ยนเป็น 'โยนกระเบื้องล่อหยก'\n",
            "  เกม 882: โยนกระเบื้องล่อหยก (รวม 27 อัน)\n"
          ]
        },
        {
          "output_type": "stream",
          "name": "stderr",
          "text": [
            "The following generation flags are not valid and may be ignored: ['temperature', 'top_p']. Set `TRANSFORMERS_VERBOSITY=info` for more details.\n"
          ]
        },
        {
          "output_type": "stream",
          "name": "stdout",
          "text": [
            "Strategy 'ปิดฟ้าข้ามทะเล' เต็ม 27 แล้ว -> เปลี่ยนเป็น 'ล้อมเวยช่วยจ้าว'\n",
            "  เกม 883: ล้อมเวยช่วยจ้าว (รวม 26 อัน)\n"
          ]
        },
        {
          "output_type": "stream",
          "name": "stderr",
          "text": [
            "The following generation flags are not valid and may be ignored: ['temperature', 'top_p']. Set `TRANSFORMERS_VERBOSITY=info` for more details.\n"
          ]
        },
        {
          "output_type": "stream",
          "name": "stdout",
          "text": [
            "Strategy 'ปิดฟ้าข้ามทะเล' เต็ม 27 แล้ว -> เปลี่ยนเป็น 'ขึ้นบ้านชักบันได'\n",
            "  เกม 884: ขึ้นบ้านชักบันได (รวม 26 อัน)\n"
          ]
        },
        {
          "output_type": "stream",
          "name": "stderr",
          "text": [
            "The following generation flags are not valid and may be ignored: ['temperature', 'top_p']. Set `TRANSFORMERS_VERBOSITY=info` for more details.\n"
          ]
        },
        {
          "output_type": "stream",
          "name": "stdout",
          "text": [
            "Strategy 'ปิดฟ้าข้ามทะเล' เต็ม 27 แล้ว -> เปลี่ยนเป็น 'ขึ้นบ้านชักบันได'\n",
            "  เกม 885: ขึ้นบ้านชักบันได (รวม 27 อัน)\n"
          ]
        },
        {
          "output_type": "stream",
          "name": "stderr",
          "text": [
            "The following generation flags are not valid and may be ignored: ['temperature', 'top_p']. Set `TRANSFORMERS_VERBOSITY=info` for more details.\n"
          ]
        },
        {
          "output_type": "stream",
          "name": "stdout",
          "text": [
            "Strategy 'ปิดฟ้าข้ามทะเล' เต็ม 27 แล้ว -> เปลี่ยนเป็น 'รอซ้ำยามเปลี้ย'\n",
            "  เกม 886: รอซ้ำยามเปลี้ย (รวม 23 อัน)\n"
          ]
        },
        {
          "output_type": "stream",
          "name": "stderr",
          "text": [
            "The following generation flags are not valid and may be ignored: ['temperature', 'top_p']. Set `TRANSFORMERS_VERBOSITY=info` for more details.\n"
          ]
        },
        {
          "output_type": "stream",
          "name": "stdout",
          "text": [
            "Strategy 'ปิดฟ้าข้ามทะเล' เต็ม 27 แล้ว -> เปลี่ยนเป็น 'ยืมซากคืนชีพ'\n",
            "  เกม 887: ยืมซากคืนชีพ (รวม 22 อัน)\n"
          ]
        },
        {
          "output_type": "stream",
          "name": "stderr",
          "text": [
            "The following generation flags are not valid and may be ignored: ['temperature', 'top_p']. Set `TRANSFORMERS_VERBOSITY=info` for more details.\n"
          ]
        },
        {
          "output_type": "stream",
          "name": "stdout",
          "text": [
            "Strategy 'ปิดฟ้าข้ามทะเล' เต็ม 27 แล้ว -> เปลี่ยนเป็น 'ยืมดาบฆ่าคน'\n",
            "  เกม 888: ยืมดาบฆ่าคน (รวม 20 อัน)\n"
          ]
        },
        {
          "output_type": "stream",
          "name": "stderr",
          "text": [
            "The following generation flags are not valid and may be ignored: ['temperature', 'top_p']. Set `TRANSFORMERS_VERBOSITY=info` for more details.\n"
          ]
        },
        {
          "output_type": "stream",
          "name": "stdout",
          "text": [
            "Strategy 'ปิดฟ้าข้ามทะเล' เต็ม 27 แล้ว -> เปลี่ยนเป็น 'ยืมดาบฆ่าคน'\n",
            "  เกม 889: ยืมดาบฆ่าคน (รวม 21 อัน)\n"
          ]
        },
        {
          "output_type": "stream",
          "name": "stderr",
          "text": [
            "The following generation flags are not valid and may be ignored: ['temperature', 'top_p']. Set `TRANSFORMERS_VERBOSITY=info` for more details.\n"
          ]
        },
        {
          "output_type": "stream",
          "name": "stdout",
          "text": [
            "Strategy 'ปิดฟ้าข้ามทะเล' เต็ม 27 แล้ว -> เปลี่ยนเป็น 'จับโจรเอาหัวโจก'\n",
            "  เกม 890: จับโจรเอาหัวโจก (รวม 27 อัน)\n",
            "  -> วิเคราะห์แล้ว 890 เกม\n",
            "  -> Strategy ที่เต็ม 27 แล้ว: 20 กลยุทธ์\n",
            "\n",
            "แบทช์ 90: กำลังวิเคราะห์เกม 891-900\n"
          ]
        },
        {
          "output_type": "stream",
          "name": "stderr",
          "text": [
            "The following generation flags are not valid and may be ignored: ['temperature', 'top_p']. Set `TRANSFORMERS_VERBOSITY=info` for more details.\n"
          ]
        },
        {
          "output_type": "stream",
          "name": "stdout",
          "text": [
            "Strategy 'ปิดฟ้าข้ามทะเล' เต็ม 27 แล้ว -> เปลี่ยนเป็น 'ดูไฟชายฝั่ง'\n",
            "  เกม 891: ดูไฟชายฝั่ง (รวม 21 อัน)\n"
          ]
        },
        {
          "output_type": "stream",
          "name": "stderr",
          "text": [
            "The following generation flags are not valid and may be ignored: ['temperature', 'top_p']. Set `TRANSFORMERS_VERBOSITY=info` for more details.\n"
          ]
        },
        {
          "output_type": "stream",
          "name": "stdout",
          "text": [
            "Strategy 'ปิดฟ้าข้ามทะเล' เต็ม 27 แล้ว -> เปลี่ยนเป็น 'ยืมซากคืนชีพ'\n",
            "  เกม 892: ยืมซากคืนชีพ (รวม 23 อัน)\n"
          ]
        },
        {
          "output_type": "stream",
          "name": "stderr",
          "text": [
            "The following generation flags are not valid and may be ignored: ['temperature', 'top_p']. Set `TRANSFORMERS_VERBOSITY=info` for more details.\n"
          ]
        },
        {
          "output_type": "stream",
          "name": "stdout",
          "text": [
            "Strategy 'ปิดฟ้าข้ามทะเล' เต็ม 27 แล้ว -> เปลี่ยนเป็น 'ยืมซากคืนชีพ'\n",
            "  เกม 893: ยืมซากคืนชีพ (รวม 24 อัน)\n"
          ]
        },
        {
          "output_type": "stream",
          "name": "stderr",
          "text": [
            "The following generation flags are not valid and may be ignored: ['temperature', 'top_p']. Set `TRANSFORMERS_VERBOSITY=info` for more details.\n"
          ]
        },
        {
          "output_type": "stream",
          "name": "stdout",
          "text": [
            "Strategy 'ปิดฟ้าข้ามทะเล' เต็ม 27 แล้ว -> เปลี่ยนเป็น 'จูงแพะติดมือ'\n",
            "  เกม 894: จูงแพะติดมือ (รวม 25 อัน)\n"
          ]
        },
        {
          "output_type": "stream",
          "name": "stderr",
          "text": [
            "The following generation flags are not valid and may be ignored: ['temperature', 'top_p']. Set `TRANSFORMERS_VERBOSITY=info` for more details.\n"
          ]
        },
        {
          "output_type": "stream",
          "name": "stdout",
          "text": [
            "Strategy 'ปิดฟ้าข้ามทะเล' เต็ม 27 แล้ว -> เปลี่ยนเป็น 'ล้อมเวยช่วยจ้าว'\n",
            "  เกม 895: ล้อมเวยช่วยจ้าว (รวม 27 อัน)\n"
          ]
        },
        {
          "output_type": "stream",
          "name": "stderr",
          "text": [
            "The following generation flags are not valid and may be ignored: ['temperature', 'top_p']. Set `TRANSFORMERS_VERBOSITY=info` for more details.\n"
          ]
        },
        {
          "output_type": "stream",
          "name": "stdout",
          "text": [
            "Strategy 'ปิดฟ้าข้ามทะเล' เต็ม 27 แล้ว -> เปลี่ยนเป็น 'ซ่อนดาบในรอยยิ้ม'\n",
            "  เกม 896: ซ่อนดาบในรอยยิ้ม (รวม 26 อัน)\n"
          ]
        },
        {
          "output_type": "stream",
          "name": "stderr",
          "text": [
            "The following generation flags are not valid and may be ignored: ['temperature', 'top_p']. Set `TRANSFORMERS_VERBOSITY=info` for more details.\n"
          ]
        },
        {
          "output_type": "stream",
          "name": "stdout",
          "text": [
            "Strategy 'ปิดฟ้าข้ามทะเล' เต็ม 27 แล้ว -> เปลี่ยนเป็น 'จูงแพะติดมือ'\n",
            "  เกม 897: จูงแพะติดมือ (รวม 26 อัน)\n"
          ]
        },
        {
          "output_type": "stream",
          "name": "stderr",
          "text": [
            "The following generation flags are not valid and may be ignored: ['temperature', 'top_p']. Set `TRANSFORMERS_VERBOSITY=info` for more details.\n"
          ]
        },
        {
          "output_type": "stream",
          "name": "stdout",
          "text": [
            "Strategy 'ปิดฟ้าข้ามทะเล' เต็ม 27 แล้ว -> เปลี่ยนเป็น 'ลอบตีเฉินชาง'\n",
            "  เกม 898: ลอบตีเฉินชาง (รวม 24 อัน)\n"
          ]
        },
        {
          "output_type": "stream",
          "name": "stderr",
          "text": [
            "The following generation flags are not valid and may be ignored: ['temperature', 'top_p']. Set `TRANSFORMERS_VERBOSITY=info` for more details.\n"
          ]
        },
        {
          "output_type": "stream",
          "name": "stdout",
          "text": [
            "Strategy 'ปิดฟ้าข้ามทะเล' เต็ม 27 แล้ว -> เปลี่ยนเป็น 'คบไกลตีใกล้'\n",
            "  เกม 899: คบไกลตีใกล้ (รวม 22 อัน)\n"
          ]
        },
        {
          "output_type": "stream",
          "name": "stderr",
          "text": [
            "The following generation flags are not valid and may be ignored: ['temperature', 'top_p']. Set `TRANSFORMERS_VERBOSITY=info` for more details.\n"
          ]
        },
        {
          "output_type": "stream",
          "name": "stdout",
          "text": [
            "Strategy 'ปิดฟ้าข้ามทะเล' เต็ม 27 แล้ว -> เปลี่ยนเป็น 'ซ่อนดาบในรอยยิ้ม'\n",
            "  เกม 900: ซ่อนดาบในรอยยิ้ม (รวม 27 อัน)\n",
            "  -> วิเคราะห์แล้ว 900 เกม\n",
            "  -> Strategy ที่เต็ม 27 แล้ว: 22 กลยุทธ์\n",
            "  -> บันทึกผลกลางแล้ว 900 เกม\n",
            "\n",
            "แบทช์ 91: กำลังวิเคราะห์เกม 901-910\n"
          ]
        },
        {
          "output_type": "stream",
          "name": "stderr",
          "text": [
            "The following generation flags are not valid and may be ignored: ['temperature', 'top_p']. Set `TRANSFORMERS_VERBOSITY=info` for more details.\n"
          ]
        },
        {
          "output_type": "stream",
          "name": "stdout",
          "text": [
            "Strategy 'ปิดฟ้าข้ามทะเล' เต็ม 27 แล้ว -> เปลี่ยนเป็น 'ส่งเสียงบูรพาฝ่าตีประจิม'\n",
            "  เกม 901: ส่งเสียงบูรพาฝ่าตีประจิม (รวม 20 อัน)\n"
          ]
        },
        {
          "output_type": "stream",
          "name": "stderr",
          "text": [
            "The following generation flags are not valid and may be ignored: ['temperature', 'top_p']. Set `TRANSFORMERS_VERBOSITY=info` for more details.\n"
          ]
        },
        {
          "output_type": "stream",
          "name": "stdout",
          "text": [
            "Strategy 'ปิดฟ้าข้ามทะเล' เต็ม 27 แล้ว -> เปลี่ยนเป็น 'ส่งเสียงบูรพาฝ่าตีประจิม'\n",
            "  เกม 902: ส่งเสียงบูรพาฝ่าตีประจิม (รวม 21 อัน)\n"
          ]
        },
        {
          "output_type": "stream",
          "name": "stderr",
          "text": [
            "The following generation flags are not valid and may be ignored: ['temperature', 'top_p']. Set `TRANSFORMERS_VERBOSITY=info` for more details.\n"
          ]
        },
        {
          "output_type": "stream",
          "name": "stdout",
          "text": [
            "Strategy 'ปิดฟ้าข้ามทะเล' เต็ม 27 แล้ว -> เปลี่ยนเป็น 'กวนน้ำจับปลา'\n",
            "  เกม 903: กวนน้ำจับปลา (รวม 25 อัน)\n"
          ]
        },
        {
          "output_type": "stream",
          "name": "stderr",
          "text": [
            "The following generation flags are not valid and may be ignored: ['temperature', 'top_p']. Set `TRANSFORMERS_VERBOSITY=info` for more details.\n"
          ]
        },
        {
          "output_type": "stream",
          "name": "stdout",
          "text": [
            "Strategy 'ปิดฟ้าข้ามทะเล' เต็ม 27 แล้ว -> เปลี่ยนเป็น 'ส่งเสียงบูรพาฝ่าตีประจิม'\n",
            "  เกม 904: ส่งเสียงบูรพาฝ่าตีประจิม (รวม 22 อัน)\n"
          ]
        },
        {
          "output_type": "stream",
          "name": "stderr",
          "text": [
            "The following generation flags are not valid and may be ignored: ['temperature', 'top_p']. Set `TRANSFORMERS_VERBOSITY=info` for more details.\n"
          ]
        },
        {
          "output_type": "stream",
          "name": "stdout",
          "text": [
            "Strategy 'ปิดฟ้าข้ามทะเล' เต็ม 27 แล้ว -> เปลี่ยนเป็น 'จักจั่นลอกคราบ'\n",
            "  เกม 905: จักจั่นลอกคราบ (รวม 23 อัน)\n"
          ]
        },
        {
          "output_type": "stream",
          "name": "stderr",
          "text": [
            "The following generation flags are not valid and may be ignored: ['temperature', 'top_p']. Set `TRANSFORMERS_VERBOSITY=info` for more details.\n"
          ]
        },
        {
          "output_type": "stream",
          "name": "stdout",
          "text": [
            "Strategy 'ปิดฟ้าข้ามทะเล' เต็ม 27 แล้ว -> เปลี่ยนเป็น 'ดูไฟชายฝั่ง'\n",
            "  เกม 906: ดูไฟชายฝั่ง (รวม 22 อัน)\n"
          ]
        },
        {
          "output_type": "stream",
          "name": "stderr",
          "text": [
            "The following generation flags are not valid and may be ignored: ['temperature', 'top_p']. Set `TRANSFORMERS_VERBOSITY=info` for more details.\n"
          ]
        },
        {
          "output_type": "stream",
          "name": "stdout",
          "text": [
            "Strategy 'ปิดฟ้าข้ามทะเล' เต็ม 27 แล้ว -> เปลี่ยนเป็น 'จูงแพะติดมือ'\n",
            "  เกม 907: จูงแพะติดมือ (รวม 27 อัน)\n"
          ]
        },
        {
          "output_type": "stream",
          "name": "stderr",
          "text": [
            "The following generation flags are not valid and may be ignored: ['temperature', 'top_p']. Set `TRANSFORMERS_VERBOSITY=info` for more details.\n"
          ]
        },
        {
          "output_type": "stream",
          "name": "stdout",
          "text": [
            "Strategy 'ปิดฟ้าข้ามทะเล' เต็ม 27 แล้ว -> เปลี่ยนเป็น 'หลบหนี'\n",
            "  เกม 908: หลบหนี (รวม 22 อัน)\n"
          ]
        },
        {
          "output_type": "stream",
          "name": "stderr",
          "text": [
            "The following generation flags are not valid and may be ignored: ['temperature', 'top_p']. Set `TRANSFORMERS_VERBOSITY=info` for more details.\n"
          ]
        },
        {
          "output_type": "stream",
          "name": "stdout",
          "text": [
            "Strategy 'ปิดฟ้าข้ามทะเล' เต็ม 27 แล้ว -> เปลี่ยนเป็น 'ยืมทางพรางกล'\n",
            "  เกม 909: ยืมทางพรางกล (รวม 25 อัน)\n"
          ]
        },
        {
          "output_type": "stream",
          "name": "stderr",
          "text": [
            "The following generation flags are not valid and may be ignored: ['temperature', 'top_p']. Set `TRANSFORMERS_VERBOSITY=info` for more details.\n"
          ]
        },
        {
          "output_type": "stream",
          "name": "stdout",
          "text": [
            "Strategy 'ปิดฟ้าข้ามทะเล' เต็ม 27 แล้ว -> เปลี่ยนเป็น 'กวนน้ำจับปลา'\n",
            "  เกม 910: กวนน้ำจับปลา (รวม 26 อัน)\n",
            "  -> วิเคราะห์แล้ว 910 เกม\n",
            "  -> Strategy ที่เต็ม 27 แล้ว: 23 กลยุทธ์\n",
            "\n",
            "แบทช์ 92: กำลังวิเคราะห์เกม 911-920\n"
          ]
        },
        {
          "output_type": "stream",
          "name": "stderr",
          "text": [
            "The following generation flags are not valid and may be ignored: ['temperature', 'top_p']. Set `TRANSFORMERS_VERBOSITY=info` for more details.\n"
          ]
        },
        {
          "output_type": "stream",
          "name": "stdout",
          "text": [
            "Strategy 'ปิดฟ้าข้ามทะเล' เต็ม 27 แล้ว -> เปลี่ยนเป็น 'หลบหนี'\n",
            "  เกม 911: หลบหนี (รวม 23 อัน)\n"
          ]
        },
        {
          "output_type": "stream",
          "name": "stderr",
          "text": [
            "The following generation flags are not valid and may be ignored: ['temperature', 'top_p']. Set `TRANSFORMERS_VERBOSITY=info` for more details.\n"
          ]
        },
        {
          "output_type": "stream",
          "name": "stdout",
          "text": [
            "Strategy 'ปิดฟ้าข้ามทะเล' เต็ม 27 แล้ว -> เปลี่ยนเป็น 'จักจั่นลอกคราบ'\n",
            "  เกม 912: จักจั่นลอกคราบ (รวม 24 อัน)\n"
          ]
        },
        {
          "output_type": "stream",
          "name": "stderr",
          "text": [
            "The following generation flags are not valid and may be ignored: ['temperature', 'top_p']. Set `TRANSFORMERS_VERBOSITY=info` for more details.\n"
          ]
        },
        {
          "output_type": "stream",
          "name": "stdout",
          "text": [
            "Strategy 'ปิดฟ้าข้ามทะเล' เต็ม 27 แล้ว -> เปลี่ยนเป็น 'จักจั่นลอกคราบ'\n",
            "  เกม 913: จักจั่นลอกคราบ (รวม 25 อัน)\n"
          ]
        },
        {
          "output_type": "stream",
          "name": "stderr",
          "text": [
            "The following generation flags are not valid and may be ignored: ['temperature', 'top_p']. Set `TRANSFORMERS_VERBOSITY=info` for more details.\n"
          ]
        },
        {
          "output_type": "stream",
          "name": "stdout",
          "text": [
            "Strategy 'ปิดฟ้าข้ามทะเล' เต็ม 27 แล้ว -> เปลี่ยนเป็น 'รอซ้ำยามเปลี้ย'\n",
            "  เกม 914: รอซ้ำยามเปลี้ย (รวม 24 อัน)\n"
          ]
        },
        {
          "output_type": "stream",
          "name": "stderr",
          "text": [
            "The following generation flags are not valid and may be ignored: ['temperature', 'top_p']. Set `TRANSFORMERS_VERBOSITY=info` for more details.\n"
          ]
        },
        {
          "output_type": "stream",
          "name": "stdout",
          "text": [
            "Strategy 'ปิดฟ้าข้ามทะเล' เต็ม 27 แล้ว -> เปลี่ยนเป็น 'ยืมซากคืนชีพ'\n",
            "  เกม 915: ยืมซากคืนชีพ (รวม 25 อัน)\n"
          ]
        },
        {
          "output_type": "stream",
          "name": "stderr",
          "text": [
            "The following generation flags are not valid and may be ignored: ['temperature', 'top_p']. Set `TRANSFORMERS_VERBOSITY=info` for more details.\n"
          ]
        },
        {
          "output_type": "stream",
          "name": "stdout",
          "text": [
            "Strategy 'ปิดฟ้าข้ามทะเล' เต็ม 27 แล้ว -> เปลี่ยนเป็น 'รอซ้ำยามเปลี้ย'\n",
            "  เกม 916: รอซ้ำยามเปลี้ย (รวม 25 อัน)\n"
          ]
        },
        {
          "output_type": "stream",
          "name": "stderr",
          "text": [
            "The following generation flags are not valid and may be ignored: ['temperature', 'top_p']. Set `TRANSFORMERS_VERBOSITY=info` for more details.\n"
          ]
        },
        {
          "output_type": "stream",
          "name": "stdout",
          "text": [
            "Strategy 'ปิดฟ้าข้ามทะเล' เต็ม 27 แล้ว -> เปลี่ยนเป็น 'รอซ้ำยามเปลี้ย'\n",
            "  เกม 917: รอซ้ำยามเปลี้ย (รวม 26 อัน)\n"
          ]
        },
        {
          "output_type": "stream",
          "name": "stderr",
          "text": [
            "The following generation flags are not valid and may be ignored: ['temperature', 'top_p']. Set `TRANSFORMERS_VERBOSITY=info` for more details.\n"
          ]
        },
        {
          "output_type": "stream",
          "name": "stdout",
          "text": [
            "Strategy 'ปิดฟ้าข้ามทะเล' เต็ม 27 แล้ว -> เปลี่ยนเป็น 'ลอบตีเฉินชาง'\n",
            "  เกม 918: ลอบตีเฉินชาง (รวม 25 อัน)\n"
          ]
        },
        {
          "output_type": "stream",
          "name": "stderr",
          "text": [
            "The following generation flags are not valid and may be ignored: ['temperature', 'top_p']. Set `TRANSFORMERS_VERBOSITY=info` for more details.\n"
          ]
        },
        {
          "output_type": "stream",
          "name": "stdout",
          "text": [
            "Strategy 'ปิดฟ้าข้ามทะเล' เต็ม 27 แล้ว -> เปลี่ยนเป็น 'หลบหนี'\n",
            "  เกม 919: หลบหนี (รวม 24 อัน)\n"
          ]
        },
        {
          "output_type": "stream",
          "name": "stderr",
          "text": [
            "The following generation flags are not valid and may be ignored: ['temperature', 'top_p']. Set `TRANSFORMERS_VERBOSITY=info` for more details.\n"
          ]
        },
        {
          "output_type": "stream",
          "name": "stdout",
          "text": [
            "Strategy 'ปิดฟ้าข้ามทะเล' เต็ม 27 แล้ว -> เปลี่ยนเป็น 'กวนน้ำจับปลา'\n",
            "  เกม 920: กวนน้ำจับปลา (รวม 27 อัน)\n",
            "  -> วิเคราะห์แล้ว 920 เกม\n",
            "  -> Strategy ที่เต็ม 27 แล้ว: 24 กลยุทธ์\n",
            "\n",
            "แบทช์ 93: กำลังวิเคราะห์เกม 921-930\n"
          ]
        },
        {
          "output_type": "stream",
          "name": "stderr",
          "text": [
            "The following generation flags are not valid and may be ignored: ['temperature', 'top_p']. Set `TRANSFORMERS_VERBOSITY=info` for more details.\n"
          ]
        },
        {
          "output_type": "stream",
          "name": "stdout",
          "text": [
            "Strategy 'ปิดฟ้าข้ามทะเล' เต็ม 27 แล้ว -> เปลี่ยนเป็น 'ยืมทางพรางกล'\n",
            "  เกม 921: ยืมทางพรางกล (รวม 26 อัน)\n"
          ]
        },
        {
          "output_type": "stream",
          "name": "stderr",
          "text": [
            "The following generation flags are not valid and may be ignored: ['temperature', 'top_p']. Set `TRANSFORMERS_VERBOSITY=info` for more details.\n"
          ]
        },
        {
          "output_type": "stream",
          "name": "stdout",
          "text": [
            "Strategy 'ปิดฟ้าข้ามทะเล' เต็ม 27 แล้ว -> เปลี่ยนเป็น 'ยืมดาบฆ่าคน'\n",
            "  เกม 922: ยืมดาบฆ่าคน (รวม 22 อัน)\n"
          ]
        },
        {
          "output_type": "stream",
          "name": "stderr",
          "text": [
            "The following generation flags are not valid and may be ignored: ['temperature', 'top_p']. Set `TRANSFORMERS_VERBOSITY=info` for more details.\n"
          ]
        },
        {
          "output_type": "stream",
          "name": "stdout",
          "text": [
            "Strategy 'ปิดฟ้าข้ามทะเล' เต็ม 27 แล้ว -> เปลี่ยนเป็น 'รอซ้ำยามเปลี้ย'\n",
            "  เกม 923: รอซ้ำยามเปลี้ย (รวม 27 อัน)\n"
          ]
        },
        {
          "output_type": "stream",
          "name": "stderr",
          "text": [
            "The following generation flags are not valid and may be ignored: ['temperature', 'top_p']. Set `TRANSFORMERS_VERBOSITY=info` for more details.\n"
          ]
        },
        {
          "output_type": "stream",
          "name": "stdout",
          "text": [
            "Strategy 'ปิดฟ้าข้ามทะเล' เต็ม 27 แล้ว -> เปลี่ยนเป็น 'ยืมทางพรางกล'\n",
            "  เกม 924: ยืมทางพรางกล (รวม 27 อัน)\n"
          ]
        },
        {
          "output_type": "stream",
          "name": "stderr",
          "text": [
            "The following generation flags are not valid and may be ignored: ['temperature', 'top_p']. Set `TRANSFORMERS_VERBOSITY=info` for more details.\n"
          ]
        },
        {
          "output_type": "stream",
          "name": "stdout",
          "text": [
            "Strategy 'ปิดฟ้าข้ามทะเล' เต็ม 27 แล้ว -> เปลี่ยนเป็น 'ต้นไม้ผลิดอก'\n",
            "  เกม 925: ต้นไม้ผลิดอก (รวม 16 อัน)\n"
          ]
        },
        {
          "output_type": "stream",
          "name": "stderr",
          "text": [
            "The following generation flags are not valid and may be ignored: ['temperature', 'top_p']. Set `TRANSFORMERS_VERBOSITY=info` for more details.\n"
          ]
        },
        {
          "output_type": "stream",
          "name": "stdout",
          "text": [
            "Strategy 'ปิดฟ้าข้ามทะเล' เต็ม 27 แล้ว -> เปลี่ยนเป็น 'ส่งเสียงบูรพาฝ่าตีประจิม'\n",
            "  เกม 926: ส่งเสียงบูรพาฝ่าตีประจิม (รวม 23 อัน)\n"
          ]
        },
        {
          "output_type": "stream",
          "name": "stderr",
          "text": [
            "The following generation flags are not valid and may be ignored: ['temperature', 'top_p']. Set `TRANSFORMERS_VERBOSITY=info` for more details.\n"
          ]
        },
        {
          "output_type": "stream",
          "name": "stdout",
          "text": [
            "Strategy 'ปิดฟ้าข้ามทะเล' เต็ม 27 แล้ว -> เปลี่ยนเป็น 'หลบหนี'\n",
            "  เกม 927: หลบหนี (รวม 25 อัน)\n"
          ]
        },
        {
          "output_type": "stream",
          "name": "stderr",
          "text": [
            "The following generation flags are not valid and may be ignored: ['temperature', 'top_p']. Set `TRANSFORMERS_VERBOSITY=info` for more details.\n"
          ]
        },
        {
          "output_type": "stream",
          "name": "stdout",
          "text": [
            "Strategy 'ปิดฟ้าข้ามทะเล' เต็ม 27 แล้ว -> เปลี่ยนเป็น 'ลอบตีเฉินชาง'\n",
            "  เกม 928: ลอบตีเฉินชาง (รวม 26 อัน)\n"
          ]
        },
        {
          "output_type": "stream",
          "name": "stderr",
          "text": [
            "The following generation flags are not valid and may be ignored: ['temperature', 'top_p']. Set `TRANSFORMERS_VERBOSITY=info` for more details.\n"
          ]
        },
        {
          "output_type": "stream",
          "name": "stdout",
          "text": [
            "Strategy 'ปิดฟ้าข้ามทะเล' เต็ม 27 แล้ว -> เปลี่ยนเป็น 'ยืมดาบฆ่าคน'\n",
            "  เกม 929: ยืมดาบฆ่าคน (รวม 23 อัน)\n"
          ]
        },
        {
          "output_type": "stream",
          "name": "stderr",
          "text": [
            "The following generation flags are not valid and may be ignored: ['temperature', 'top_p']. Set `TRANSFORMERS_VERBOSITY=info` for more details.\n"
          ]
        },
        {
          "output_type": "stream",
          "name": "stdout",
          "text": [
            "Strategy 'ปิดฟ้าข้ามทะเล' เต็ม 27 แล้ว -> เปลี่ยนเป็น 'ยืมซากคืนชีพ'\n",
            "  เกม 930: ยืมซากคืนชีพ (รวม 26 อัน)\n",
            "  -> วิเคราะห์แล้ว 930 เกม\n",
            "  -> Strategy ที่เต็ม 27 แล้ว: 26 กลยุทธ์\n",
            "\n",
            "แบทช์ 94: กำลังวิเคราะห์เกม 931-940\n"
          ]
        },
        {
          "output_type": "stream",
          "name": "stderr",
          "text": [
            "The following generation flags are not valid and may be ignored: ['temperature', 'top_p']. Set `TRANSFORMERS_VERBOSITY=info` for more details.\n"
          ]
        },
        {
          "output_type": "stream",
          "name": "stdout",
          "text": [
            "Strategy 'ปิดฟ้าข้ามทะเล' เต็ม 27 แล้ว -> เปลี่ยนเป็น 'คบไกลตีใกล้'\n",
            "  เกม 931: คบไกลตีใกล้ (รวม 23 อัน)\n"
          ]
        },
        {
          "output_type": "stream",
          "name": "stderr",
          "text": [
            "The following generation flags are not valid and may be ignored: ['temperature', 'top_p']. Set `TRANSFORMERS_VERBOSITY=info` for more details.\n"
          ]
        },
        {
          "output_type": "stream",
          "name": "stdout",
          "text": [
            "Strategy 'ปิดฟ้าข้ามทะเล' เต็ม 27 แล้ว -> เปลี่ยนเป็น 'หลี่ตายแทนถาว'\n",
            "  เกม 932: หลี่ตายแทนถาว (รวม 21 อัน)\n"
          ]
        },
        {
          "output_type": "stream",
          "name": "stderr",
          "text": [
            "The following generation flags are not valid and may be ignored: ['temperature', 'top_p']. Set `TRANSFORMERS_VERBOSITY=info` for more details.\n"
          ]
        },
        {
          "output_type": "stream",
          "name": "stdout",
          "text": [
            "Strategy 'ปิดฟ้าข้ามทะเล' เต็ม 27 แล้ว -> เปลี่ยนเป็น 'ยืมซากคืนชีพ'\n",
            "  เกม 933: ยืมซากคืนชีพ (รวม 27 อัน)\n"
          ]
        },
        {
          "output_type": "stream",
          "name": "stderr",
          "text": [
            "The following generation flags are not valid and may be ignored: ['temperature', 'top_p']. Set `TRANSFORMERS_VERBOSITY=info` for more details.\n"
          ]
        },
        {
          "output_type": "stream",
          "name": "stdout",
          "text": [
            "Strategy 'ปิดฟ้าข้ามทะเล' เต็ม 27 แล้ว -> เปลี่ยนเป็น 'คบไกลตีใกล้'\n",
            "  เกม 934: คบไกลตีใกล้ (รวม 24 อัน)\n"
          ]
        },
        {
          "output_type": "stream",
          "name": "stderr",
          "text": [
            "The following generation flags are not valid and may be ignored: ['temperature', 'top_p']. Set `TRANSFORMERS_VERBOSITY=info` for more details.\n"
          ]
        },
        {
          "output_type": "stream",
          "name": "stdout",
          "text": [
            "Strategy 'ปิดฟ้าข้ามทะเล' เต็ม 27 แล้ว -> เปลี่ยนเป็น 'ต้นไม้ผลิดอก'\n",
            "  เกม 935: ต้นไม้ผลิดอก (รวม 17 อัน)\n"
          ]
        },
        {
          "output_type": "stream",
          "name": "stderr",
          "text": [
            "The following generation flags are not valid and may be ignored: ['temperature', 'top_p']. Set `TRANSFORMERS_VERBOSITY=info` for more details.\n"
          ]
        },
        {
          "output_type": "stream",
          "name": "stdout",
          "text": [
            "Strategy 'ปิดฟ้าข้ามทะเล' เต็ม 27 แล้ว -> เปลี่ยนเป็น 'ต้นไม้ผลิดอก'\n",
            "  เกม 936: ต้นไม้ผลิดอก (รวม 18 อัน)\n"
          ]
        },
        {
          "output_type": "stream",
          "name": "stderr",
          "text": [
            "The following generation flags are not valid and may be ignored: ['temperature', 'top_p']. Set `TRANSFORMERS_VERBOSITY=info` for more details.\n"
          ]
        },
        {
          "output_type": "stream",
          "name": "stdout",
          "text": [
            "Strategy 'ปิดฟ้าข้ามทะเล' เต็ม 27 แล้ว -> เปลี่ยนเป็น 'ยืมดาบฆ่าคน'\n",
            "  เกม 937: ยืมดาบฆ่าคน (รวม 24 อัน)\n"
          ]
        },
        {
          "output_type": "stream",
          "name": "stderr",
          "text": [
            "The following generation flags are not valid and may be ignored: ['temperature', 'top_p']. Set `TRANSFORMERS_VERBOSITY=info` for more details.\n"
          ]
        },
        {
          "output_type": "stream",
          "name": "stdout",
          "text": [
            "Strategy 'ปิดฟ้าข้ามทะเล' เต็ม 27 แล้ว -> เปลี่ยนเป็น 'หลี่ตายแทนถาว'\n",
            "  เกม 938: หลี่ตายแทนถาว (รวม 22 อัน)\n"
          ]
        },
        {
          "output_type": "stream",
          "name": "stderr",
          "text": [
            "The following generation flags are not valid and may be ignored: ['temperature', 'top_p']. Set `TRANSFORMERS_VERBOSITY=info` for more details.\n"
          ]
        },
        {
          "output_type": "stream",
          "name": "stdout",
          "text": [
            "Strategy 'ปิดฟ้าข้ามทะเล' เต็ม 27 แล้ว -> เปลี่ยนเป็น 'ลอบตีเฉินชาง'\n",
            "  เกม 939: ลอบตีเฉินชาง (รวม 27 อัน)\n"
          ]
        },
        {
          "output_type": "stream",
          "name": "stderr",
          "text": [
            "The following generation flags are not valid and may be ignored: ['temperature', 'top_p']. Set `TRANSFORMERS_VERBOSITY=info` for more details.\n"
          ]
        },
        {
          "output_type": "stream",
          "name": "stdout",
          "text": [
            "Strategy 'ปิดฟ้าข้ามทะเล' เต็ม 27 แล้ว -> เปลี่ยนเป็น 'ต้นไม้ผลิดอก'\n",
            "  เกม 940: ต้นไม้ผลิดอก (รวม 19 อัน)\n",
            "  -> วิเคราะห์แล้ว 940 เกม\n",
            "  -> Strategy ที่เต็ม 27 แล้ว: 28 กลยุทธ์\n",
            "\n",
            "แบทช์ 95: กำลังวิเคราะห์เกม 941-950\n"
          ]
        },
        {
          "output_type": "stream",
          "name": "stderr",
          "text": [
            "The following generation flags are not valid and may be ignored: ['temperature', 'top_p']. Set `TRANSFORMERS_VERBOSITY=info` for more details.\n"
          ]
        },
        {
          "output_type": "stream",
          "name": "stdout",
          "text": [
            "Strategy 'ปิดฟ้าข้ามทะเล' เต็ม 27 แล้ว -> เปลี่ยนเป็น 'ดูไฟชายฝั่ง'\n",
            "  เกม 941: ดูไฟชายฝั่ง (รวม 23 อัน)\n"
          ]
        },
        {
          "output_type": "stream",
          "name": "stderr",
          "text": [
            "The following generation flags are not valid and may be ignored: ['temperature', 'top_p']. Set `TRANSFORMERS_VERBOSITY=info` for more details.\n"
          ]
        },
        {
          "output_type": "stream",
          "name": "stdout",
          "text": [
            "Strategy 'ปิดฟ้าข้ามทะเล' เต็ม 27 แล้ว -> เปลี่ยนเป็น 'ดูไฟชายฝั่ง'\n",
            "  เกม 942: ดูไฟชายฝั่ง (รวม 24 อัน)\n"
          ]
        },
        {
          "output_type": "stream",
          "name": "stderr",
          "text": [
            "The following generation flags are not valid and may be ignored: ['temperature', 'top_p']. Set `TRANSFORMERS_VERBOSITY=info` for more details.\n"
          ]
        },
        {
          "output_type": "stream",
          "name": "stdout",
          "text": [
            "Strategy 'ปิดฟ้าข้ามทะเล' เต็ม 27 แล้ว -> เปลี่ยนเป็น 'ส่งเสียงบูรพาฝ่าตีประจิม'\n",
            "  เกม 943: ส่งเสียงบูรพาฝ่าตีประจิม (รวม 24 อัน)\n"
          ]
        },
        {
          "output_type": "stream",
          "name": "stderr",
          "text": [
            "The following generation flags are not valid and may be ignored: ['temperature', 'top_p']. Set `TRANSFORMERS_VERBOSITY=info` for more details.\n"
          ]
        },
        {
          "output_type": "stream",
          "name": "stdout",
          "text": [
            "Strategy 'ปิดฟ้าข้ามทะเล' เต็ม 27 แล้ว -> เปลี่ยนเป็น 'จักจั่นลอกคราบ'\n",
            "  เกม 944: จักจั่นลอกคราบ (รวม 26 อัน)\n"
          ]
        },
        {
          "output_type": "stream",
          "name": "stderr",
          "text": [
            "The following generation flags are not valid and may be ignored: ['temperature', 'top_p']. Set `TRANSFORMERS_VERBOSITY=info` for more details.\n"
          ]
        },
        {
          "output_type": "stream",
          "name": "stdout",
          "text": [
            "Strategy 'ปิดฟ้าข้ามทะเล' เต็ม 27 แล้ว -> เปลี่ยนเป็น 'ต้นไม้ผลิดอก'\n",
            "  เกม 945: ต้นไม้ผลิดอก (รวม 20 อัน)\n"
          ]
        },
        {
          "output_type": "stream",
          "name": "stderr",
          "text": [
            "The following generation flags are not valid and may be ignored: ['temperature', 'top_p']. Set `TRANSFORMERS_VERBOSITY=info` for more details.\n"
          ]
        },
        {
          "output_type": "stream",
          "name": "stdout",
          "text": [
            "Strategy 'ปิดฟ้าข้ามทะเล' เต็ม 27 แล้ว -> เปลี่ยนเป็น 'ยืมดาบฆ่าคน'\n",
            "  เกม 946: ยืมดาบฆ่าคน (รวม 25 อัน)\n"
          ]
        },
        {
          "output_type": "stream",
          "name": "stderr",
          "text": [
            "The following generation flags are not valid and may be ignored: ['temperature', 'top_p']. Set `TRANSFORMERS_VERBOSITY=info` for more details.\n"
          ]
        },
        {
          "output_type": "stream",
          "name": "stdout",
          "text": [
            "Strategy 'ปิดฟ้าข้ามทะเล' เต็ม 27 แล้ว -> เปลี่ยนเป็น 'ส่งเสียงบูรพาฝ่าตีประจิม'\n",
            "  เกม 947: ส่งเสียงบูรพาฝ่าตีประจิม (รวม 25 อัน)\n"
          ]
        },
        {
          "output_type": "stream",
          "name": "stderr",
          "text": [
            "The following generation flags are not valid and may be ignored: ['temperature', 'top_p']. Set `TRANSFORMERS_VERBOSITY=info` for more details.\n"
          ]
        },
        {
          "output_type": "stream",
          "name": "stdout",
          "text": [
            "Strategy 'ปิดฟ้าข้ามทะเล' เต็ม 27 แล้ว -> เปลี่ยนเป็น 'ดูไฟชายฝั่ง'\n",
            "  เกม 948: ดูไฟชายฝั่ง (รวม 25 อัน)\n"
          ]
        },
        {
          "output_type": "stream",
          "name": "stderr",
          "text": [
            "The following generation flags are not valid and may be ignored: ['temperature', 'top_p']. Set `TRANSFORMERS_VERBOSITY=info` for more details.\n"
          ]
        },
        {
          "output_type": "stream",
          "name": "stdout",
          "text": [
            "Strategy 'ปิดฟ้าข้ามทะเล' เต็ม 27 แล้ว -> เปลี่ยนเป็น 'ยืมดาบฆ่าคน'\n",
            "  เกม 949: ยืมดาบฆ่าคน (รวม 26 อัน)\n"
          ]
        },
        {
          "output_type": "stream",
          "name": "stderr",
          "text": [
            "The following generation flags are not valid and may be ignored: ['temperature', 'top_p']. Set `TRANSFORMERS_VERBOSITY=info` for more details.\n"
          ]
        },
        {
          "output_type": "stream",
          "name": "stdout",
          "text": [
            "Strategy 'ปิดฟ้าข้ามทะเล' เต็ม 27 แล้ว -> เปลี่ยนเป็น 'ยืมดาบฆ่าคน'\n",
            "  เกม 950: ยืมดาบฆ่าคน (รวม 27 อัน)\n",
            "  -> วิเคราะห์แล้ว 950 เกม\n",
            "  -> Strategy ที่เต็ม 27 แล้ว: 29 กลยุทธ์\n",
            "\n",
            "แบทช์ 96: กำลังวิเคราะห์เกม 951-960\n"
          ]
        },
        {
          "output_type": "stream",
          "name": "stderr",
          "text": [
            "The following generation flags are not valid and may be ignored: ['temperature', 'top_p']. Set `TRANSFORMERS_VERBOSITY=info` for more details.\n"
          ]
        },
        {
          "output_type": "stream",
          "name": "stdout",
          "text": [
            "Strategy 'ปิดฟ้าข้ามทะเล' เต็ม 27 แล้ว -> เปลี่ยนเป็น 'หลี่ตายแทนถาว'\n",
            "  เกม 951: หลี่ตายแทนถาว (รวม 23 อัน)\n"
          ]
        },
        {
          "output_type": "stream",
          "name": "stderr",
          "text": [
            "The following generation flags are not valid and may be ignored: ['temperature', 'top_p']. Set `TRANSFORMERS_VERBOSITY=info` for more details.\n"
          ]
        },
        {
          "output_type": "stream",
          "name": "stdout",
          "text": [
            "Strategy 'ปิดฟ้าข้ามทะเล' เต็ม 27 แล้ว -> เปลี่ยนเป็น 'หลบหนี'\n",
            "  เกม 952: หลบหนี (รวม 26 อัน)\n"
          ]
        },
        {
          "output_type": "stream",
          "name": "stderr",
          "text": [
            "The following generation flags are not valid and may be ignored: ['temperature', 'top_p']. Set `TRANSFORMERS_VERBOSITY=info` for more details.\n"
          ]
        },
        {
          "output_type": "stream",
          "name": "stdout",
          "text": [
            "Strategy 'ปิดฟ้าข้ามทะเล' เต็ม 27 แล้ว -> เปลี่ยนเป็น 'คบไกลตีใกล้'\n",
            "  เกม 953: คบไกลตีใกล้ (รวม 25 อัน)\n"
          ]
        },
        {
          "output_type": "stream",
          "name": "stderr",
          "text": [
            "The following generation flags are not valid and may be ignored: ['temperature', 'top_p']. Set `TRANSFORMERS_VERBOSITY=info` for more details.\n"
          ]
        },
        {
          "output_type": "stream",
          "name": "stdout",
          "text": [
            "Strategy 'ปิดฟ้าข้ามทะเล' เต็ม 27 แล้ว -> เปลี่ยนเป็น 'จักจั่นลอกคราบ'\n",
            "  เกม 954: จักจั่นลอกคราบ (รวม 27 อัน)\n"
          ]
        },
        {
          "output_type": "stream",
          "name": "stderr",
          "text": [
            "The following generation flags are not valid and may be ignored: ['temperature', 'top_p']. Set `TRANSFORMERS_VERBOSITY=info` for more details.\n"
          ]
        },
        {
          "output_type": "stream",
          "name": "stdout",
          "text": [
            "Strategy 'ปิดฟ้าข้ามทะเล' เต็ม 27 แล้ว -> เปลี่ยนเป็น 'หลบหนี'\n",
            "  เกม 955: หลบหนี (รวม 27 อัน)\n"
          ]
        },
        {
          "output_type": "stream",
          "name": "stderr",
          "text": [
            "The following generation flags are not valid and may be ignored: ['temperature', 'top_p']. Set `TRANSFORMERS_VERBOSITY=info` for more details.\n"
          ]
        },
        {
          "output_type": "stream",
          "name": "stdout",
          "text": [
            "Strategy 'ปิดฟ้าข้ามทะเล' เต็ม 27 แล้ว -> เปลี่ยนเป็น 'ส่งเสียงบูรพาฝ่าตีประจิม'\n",
            "  เกม 956: ส่งเสียงบูรพาฝ่าตีประจิม (รวม 26 อัน)\n"
          ]
        },
        {
          "output_type": "stream",
          "name": "stderr",
          "text": [
            "The following generation flags are not valid and may be ignored: ['temperature', 'top_p']. Set `TRANSFORMERS_VERBOSITY=info` for more details.\n"
          ]
        },
        {
          "output_type": "stream",
          "name": "stdout",
          "text": [
            "Strategy 'ปิดฟ้าข้ามทะเล' เต็ม 27 แล้ว -> เปลี่ยนเป็น 'ส่งเสียงบูรพาฝ่าตีประจิม'\n",
            "  เกม 957: ส่งเสียงบูรพาฝ่าตีประจิม (รวม 27 อัน)\n"
          ]
        },
        {
          "output_type": "stream",
          "name": "stderr",
          "text": [
            "The following generation flags are not valid and may be ignored: ['temperature', 'top_p']. Set `TRANSFORMERS_VERBOSITY=info` for more details.\n"
          ]
        },
        {
          "output_type": "stream",
          "name": "stdout",
          "text": [
            "Strategy 'ปิดฟ้าข้ามทะเล' เต็ม 27 แล้ว -> เปลี่ยนเป็น 'ต้นไม้ผลิดอก'\n",
            "  เกม 958: ต้นไม้ผลิดอก (รวม 21 อัน)\n"
          ]
        },
        {
          "output_type": "stream",
          "name": "stderr",
          "text": [
            "The following generation flags are not valid and may be ignored: ['temperature', 'top_p']. Set `TRANSFORMERS_VERBOSITY=info` for more details.\n"
          ]
        },
        {
          "output_type": "stream",
          "name": "stdout",
          "text": [
            "Strategy 'ปิดฟ้าข้ามทะเล' เต็ม 27 แล้ว -> เปลี่ยนเป็น 'ดูไฟชายฝั่ง'\n",
            "  เกม 959: ดูไฟชายฝั่ง (รวม 26 อัน)\n"
          ]
        },
        {
          "output_type": "stream",
          "name": "stderr",
          "text": [
            "The following generation flags are not valid and may be ignored: ['temperature', 'top_p']. Set `TRANSFORMERS_VERBOSITY=info` for more details.\n"
          ]
        },
        {
          "output_type": "stream",
          "name": "stdout",
          "text": [
            "Strategy 'ปิดฟ้าข้ามทะเล' เต็ม 27 แล้ว -> เปลี่ยนเป็น 'ดูไฟชายฝั่ง'\n",
            "  เกม 960: ดูไฟชายฝั่ง (รวม 27 อัน)\n",
            "  -> วิเคราะห์แล้ว 960 เกม\n",
            "  -> Strategy ที่เต็ม 27 แล้ว: 33 กลยุทธ์\n",
            "\n",
            "แบทช์ 97: กำลังวิเคราะห์เกม 961-970\n"
          ]
        },
        {
          "output_type": "stream",
          "name": "stderr",
          "text": [
            "The following generation flags are not valid and may be ignored: ['temperature', 'top_p']. Set `TRANSFORMERS_VERBOSITY=info` for more details.\n"
          ]
        },
        {
          "output_type": "stream",
          "name": "stdout",
          "text": [
            "Strategy 'ปิดฟ้าข้ามทะเล' เต็ม 27 แล้ว -> เปลี่ยนเป็น 'หลี่ตายแทนถาว'\n",
            "  เกม 961: หลี่ตายแทนถาว (รวม 24 อัน)\n"
          ]
        },
        {
          "output_type": "stream",
          "name": "stderr",
          "text": [
            "The following generation flags are not valid and may be ignored: ['temperature', 'top_p']. Set `TRANSFORMERS_VERBOSITY=info` for more details.\n"
          ]
        },
        {
          "output_type": "stream",
          "name": "stdout",
          "text": [
            "Strategy 'ปิดฟ้าข้ามทะเล' เต็ม 27 แล้ว -> เปลี่ยนเป็น 'ต้นไม้ผลิดอก'\n",
            "  เกม 962: ต้นไม้ผลิดอก (รวม 22 อัน)\n"
          ]
        },
        {
          "output_type": "stream",
          "name": "stderr",
          "text": [
            "The following generation flags are not valid and may be ignored: ['temperature', 'top_p']. Set `TRANSFORMERS_VERBOSITY=info` for more details.\n"
          ]
        },
        {
          "output_type": "stream",
          "name": "stdout",
          "text": [
            "Strategy 'ปิดฟ้าข้ามทะเล' เต็ม 27 แล้ว -> เปลี่ยนเป็น 'ต้นไม้ผลิดอก'\n",
            "  เกม 963: ต้นไม้ผลิดอก (รวม 23 อัน)\n"
          ]
        },
        {
          "output_type": "stream",
          "name": "stderr",
          "text": [
            "The following generation flags are not valid and may be ignored: ['temperature', 'top_p']. Set `TRANSFORMERS_VERBOSITY=info` for more details.\n"
          ]
        },
        {
          "output_type": "stream",
          "name": "stdout",
          "text": [
            "Strategy 'ปิดฟ้าข้ามทะเล' เต็ม 27 แล้ว -> เปลี่ยนเป็น 'หลี่ตายแทนถาว'\n",
            "  เกม 964: หลี่ตายแทนถาว (รวม 25 อัน)\n"
          ]
        },
        {
          "output_type": "stream",
          "name": "stderr",
          "text": [
            "The following generation flags are not valid and may be ignored: ['temperature', 'top_p']. Set `TRANSFORMERS_VERBOSITY=info` for more details.\n"
          ]
        },
        {
          "output_type": "stream",
          "name": "stdout",
          "text": [
            "Strategy 'ปิดฟ้าข้ามทะเล' เต็ม 27 แล้ว -> เปลี่ยนเป็น 'ต้นไม้ผลิดอก'\n",
            "  เกม 965: ต้นไม้ผลิดอก (รวม 24 อัน)\n"
          ]
        },
        {
          "output_type": "stream",
          "name": "stderr",
          "text": [
            "The following generation flags are not valid and may be ignored: ['temperature', 'top_p']. Set `TRANSFORMERS_VERBOSITY=info` for more details.\n"
          ]
        },
        {
          "output_type": "stream",
          "name": "stdout",
          "text": [
            "Strategy 'ปิดฟ้าข้ามทะเล' เต็ม 27 แล้ว -> เปลี่ยนเป็น 'ต้นไม้ผลิดอก'\n",
            "  เกม 966: ต้นไม้ผลิดอก (รวม 25 อัน)\n"
          ]
        },
        {
          "output_type": "stream",
          "name": "stderr",
          "text": [
            "The following generation flags are not valid and may be ignored: ['temperature', 'top_p']. Set `TRANSFORMERS_VERBOSITY=info` for more details.\n"
          ]
        },
        {
          "output_type": "stream",
          "name": "stdout",
          "text": [
            "Strategy 'ปิดฟ้าข้ามทะเล' เต็ม 27 แล้ว -> เปลี่ยนเป็น 'คบไกลตีใกล้'\n",
            "  เกม 967: คบไกลตีใกล้ (รวม 26 อัน)\n"
          ]
        },
        {
          "output_type": "stream",
          "name": "stderr",
          "text": [
            "The following generation flags are not valid and may be ignored: ['temperature', 'top_p']. Set `TRANSFORMERS_VERBOSITY=info` for more details.\n"
          ]
        },
        {
          "output_type": "stream",
          "name": "stdout",
          "text": [
            "Strategy 'ปิดฟ้าข้ามทะเล' เต็ม 27 แล้ว -> เปลี่ยนเป็น 'คบไกลตีใกล้'\n",
            "  เกม 968: คบไกลตีใกล้ (รวม 27 อัน)\n"
          ]
        },
        {
          "output_type": "stream",
          "name": "stderr",
          "text": [
            "The following generation flags are not valid and may be ignored: ['temperature', 'top_p']. Set `TRANSFORMERS_VERBOSITY=info` for more details.\n"
          ]
        },
        {
          "output_type": "stream",
          "name": "stdout",
          "text": [
            "Strategy 'ปิดฟ้าข้ามทะเล' เต็ม 27 แล้ว -> เปลี่ยนเป็น 'ต้นไม้ผลิดอก'\n",
            "  เกม 969: ต้นไม้ผลิดอก (รวม 26 อัน)\n"
          ]
        },
        {
          "output_type": "stream",
          "name": "stderr",
          "text": [
            "The following generation flags are not valid and may be ignored: ['temperature', 'top_p']. Set `TRANSFORMERS_VERBOSITY=info` for more details.\n"
          ]
        },
        {
          "output_type": "stream",
          "name": "stdout",
          "text": [
            "Strategy 'ปิดฟ้าข้ามทะเล' เต็ม 27 แล้ว -> เปลี่ยนเป็น 'ต้นไม้ผลิดอก'\n",
            "  เกม 970: ต้นไม้ผลิดอก (รวม 27 อัน)\n",
            "  -> วิเคราะห์แล้ว 970 เกม\n",
            "  -> Strategy ที่เต็ม 27 แล้ว: 35 กลยุทธ์\n",
            "\n",
            "แบทช์ 98: กำลังวิเคราะห์เกม 971-980\n"
          ]
        },
        {
          "output_type": "stream",
          "name": "stderr",
          "text": [
            "The following generation flags are not valid and may be ignored: ['temperature', 'top_p']. Set `TRANSFORMERS_VERBOSITY=info` for more details.\n"
          ]
        },
        {
          "output_type": "stream",
          "name": "stdout",
          "text": [
            "Strategy 'ปิดฟ้าข้ามทะเล' เต็ม 27 แล้ว -> เปลี่ยนเป็น 'หลี่ตายแทนถาว'\n",
            "  เกม 971: หลี่ตายแทนถาว (รวม 26 อัน)\n"
          ]
        },
        {
          "output_type": "stream",
          "name": "stderr",
          "text": [
            "The following generation flags are not valid and may be ignored: ['temperature', 'top_p']. Set `TRANSFORMERS_VERBOSITY=info` for more details.\n"
          ]
        },
        {
          "output_type": "stream",
          "name": "stdout",
          "text": [
            "Strategy 'ปิดฟ้าข้ามทะเล' เต็ม 27 แล้ว -> เปลี่ยนเป็น 'หลี่ตายแทนถาว'\n",
            "  เกม 972: หลี่ตายแทนถาว (รวม 27 อัน)\n"
          ]
        },
        {
          "output_type": "stream",
          "name": "stderr",
          "text": [
            "The following generation flags are not valid and may be ignored: ['temperature', 'top_p']. Set `TRANSFORMERS_VERBOSITY=info` for more details.\n"
          ]
        },
        {
          "output_type": "stream",
          "name": "stdout",
          "text": [
            "Strategy 'ปิดฟ้าข้ามทะเล' เต็ม 27 แล้ว -> เปลี่ยนเป็น 'ไม่สามารถระบุได้'\n",
            "  เกม 973: ไม่สามารถระบุได้ (รวม 1 อัน)\n"
          ]
        },
        {
          "output_type": "stream",
          "name": "stderr",
          "text": [
            "The following generation flags are not valid and may be ignored: ['temperature', 'top_p']. Set `TRANSFORMERS_VERBOSITY=info` for more details.\n"
          ]
        },
        {
          "output_type": "stream",
          "name": "stdout",
          "text": [
            "Strategy 'ปิดฟ้าข้ามทะเล' เต็ม 27 แล้ว -> เปลี่ยนเป็น 'ไม่สามารถระบุได้'\n",
            "  เกม 974: ไม่สามารถระบุได้ (รวม 2 อัน)\n"
          ]
        },
        {
          "output_type": "stream",
          "name": "stderr",
          "text": [
            "The following generation flags are not valid and may be ignored: ['temperature', 'top_p']. Set `TRANSFORMERS_VERBOSITY=info` for more details.\n"
          ]
        },
        {
          "output_type": "stream",
          "name": "stdout",
          "text": [
            "Strategy 'ปิดฟ้าข้ามทะเล' เต็ม 27 แล้ว -> เปลี่ยนเป็น 'ไม่สามารถระบุได้'\n",
            "  เกม 975: ไม่สามารถระบุได้ (รวม 3 อัน)\n"
          ]
        },
        {
          "output_type": "stream",
          "name": "stderr",
          "text": [
            "The following generation flags are not valid and may be ignored: ['temperature', 'top_p']. Set `TRANSFORMERS_VERBOSITY=info` for more details.\n"
          ]
        },
        {
          "output_type": "stream",
          "name": "stdout",
          "text": [
            "Strategy 'ปิดฟ้าข้ามทะเล' เต็ม 27 แล้ว -> เปลี่ยนเป็น 'ไม่สามารถระบุได้'\n",
            "  เกม 976: ไม่สามารถระบุได้ (รวม 4 อัน)\n"
          ]
        },
        {
          "output_type": "stream",
          "name": "stderr",
          "text": [
            "The following generation flags are not valid and may be ignored: ['temperature', 'top_p']. Set `TRANSFORMERS_VERBOSITY=info` for more details.\n"
          ]
        },
        {
          "output_type": "stream",
          "name": "stdout",
          "text": [
            "Strategy 'ปิดฟ้าข้ามทะเล' เต็ม 27 แล้ว -> เปลี่ยนเป็น 'ไม่สามารถระบุได้'\n",
            "  เกม 977: ไม่สามารถระบุได้ (รวม 5 อัน)\n"
          ]
        },
        {
          "output_type": "stream",
          "name": "stderr",
          "text": [
            "The following generation flags are not valid and may be ignored: ['temperature', 'top_p']. Set `TRANSFORMERS_VERBOSITY=info` for more details.\n"
          ]
        },
        {
          "output_type": "stream",
          "name": "stdout",
          "text": [
            "Strategy 'ปิดฟ้าข้ามทะเล' เต็ม 27 แล้ว -> เปลี่ยนเป็น 'ไม่สามารถระบุได้'\n",
            "  เกม 978: ไม่สามารถระบุได้ (รวม 6 อัน)\n"
          ]
        },
        {
          "output_type": "stream",
          "name": "stderr",
          "text": [
            "The following generation flags are not valid and may be ignored: ['temperature', 'top_p']. Set `TRANSFORMERS_VERBOSITY=info` for more details.\n"
          ]
        },
        {
          "output_type": "stream",
          "name": "stdout",
          "text": [
            "Strategy 'ปิดฟ้าข้ามทะเล' เต็ม 27 แล้ว -> เปลี่ยนเป็น 'ไม่สามารถระบุได้'\n",
            "  เกม 979: ไม่สามารถระบุได้ (รวม 7 อัน)\n"
          ]
        },
        {
          "output_type": "stream",
          "name": "stderr",
          "text": [
            "The following generation flags are not valid and may be ignored: ['temperature', 'top_p']. Set `TRANSFORMERS_VERBOSITY=info` for more details.\n"
          ]
        },
        {
          "output_type": "stream",
          "name": "stdout",
          "text": [
            "Strategy 'ปิดฟ้าข้ามทะเล' เต็ม 27 แล้ว -> เปลี่ยนเป็น 'ไม่สามารถระบุได้'\n",
            "  เกม 980: ไม่สามารถระบุได้ (รวม 8 อัน)\n",
            "  -> วิเคราะห์แล้ว 980 เกม\n",
            "  -> Strategy ที่เต็ม 27 แล้ว: 36 กลยุทธ์\n",
            "\n",
            "แบทช์ 99: กำลังวิเคราะห์เกม 981-990\n"
          ]
        },
        {
          "output_type": "stream",
          "name": "stderr",
          "text": [
            "The following generation flags are not valid and may be ignored: ['temperature', 'top_p']. Set `TRANSFORMERS_VERBOSITY=info` for more details.\n"
          ]
        },
        {
          "output_type": "stream",
          "name": "stdout",
          "text": [
            "Strategy 'ปิดฟ้าข้ามทะเล' เต็ม 27 แล้ว -> เปลี่ยนเป็น 'ไม่สามารถระบุได้'\n",
            "  เกม 981: ไม่สามารถระบุได้ (รวม 9 อัน)\n"
          ]
        },
        {
          "output_type": "stream",
          "name": "stderr",
          "text": [
            "The following generation flags are not valid and may be ignored: ['temperature', 'top_p']. Set `TRANSFORMERS_VERBOSITY=info` for more details.\n"
          ]
        },
        {
          "output_type": "stream",
          "name": "stdout",
          "text": [
            "Strategy 'ปิดฟ้าข้ามทะเล' เต็ม 27 แล้ว -> เปลี่ยนเป็น 'ไม่สามารถระบุได้'\n",
            "  เกม 982: ไม่สามารถระบุได้ (รวม 10 อัน)\n"
          ]
        },
        {
          "output_type": "stream",
          "name": "stderr",
          "text": [
            "The following generation flags are not valid and may be ignored: ['temperature', 'top_p']. Set `TRANSFORMERS_VERBOSITY=info` for more details.\n"
          ]
        },
        {
          "output_type": "stream",
          "name": "stdout",
          "text": [
            "Strategy 'ปิดฟ้าข้ามทะเล' เต็ม 27 แล้ว -> เปลี่ยนเป็น 'ไม่สามารถระบุได้'\n",
            "  เกม 983: ไม่สามารถระบุได้ (รวม 11 อัน)\n"
          ]
        },
        {
          "output_type": "stream",
          "name": "stderr",
          "text": [
            "The following generation flags are not valid and may be ignored: ['temperature', 'top_p']. Set `TRANSFORMERS_VERBOSITY=info` for more details.\n"
          ]
        },
        {
          "output_type": "stream",
          "name": "stdout",
          "text": [
            "Strategy 'ปิดฟ้าข้ามทะเล' เต็ม 27 แล้ว -> เปลี่ยนเป็น 'ไม่สามารถระบุได้'\n",
            "  เกม 984: ไม่สามารถระบุได้ (รวม 12 อัน)\n"
          ]
        },
        {
          "output_type": "stream",
          "name": "stderr",
          "text": [
            "The following generation flags are not valid and may be ignored: ['temperature', 'top_p']. Set `TRANSFORMERS_VERBOSITY=info` for more details.\n"
          ]
        },
        {
          "output_type": "stream",
          "name": "stdout",
          "text": [
            "Strategy 'ปิดฟ้าข้ามทะเล' เต็ม 27 แล้ว -> เปลี่ยนเป็น 'ไม่สามารถระบุได้'\n",
            "  เกม 985: ไม่สามารถระบุได้ (รวม 13 อัน)\n"
          ]
        },
        {
          "output_type": "stream",
          "name": "stderr",
          "text": [
            "The following generation flags are not valid and may be ignored: ['temperature', 'top_p']. Set `TRANSFORMERS_VERBOSITY=info` for more details.\n"
          ]
        },
        {
          "output_type": "stream",
          "name": "stdout",
          "text": [
            "Strategy 'ปิดฟ้าข้ามทะเล' เต็ม 27 แล้ว -> เปลี่ยนเป็น 'ไม่สามารถระบุได้'\n",
            "  เกม 986: ไม่สามารถระบุได้ (รวม 14 อัน)\n"
          ]
        },
        {
          "output_type": "stream",
          "name": "stderr",
          "text": [
            "The following generation flags are not valid and may be ignored: ['temperature', 'top_p']. Set `TRANSFORMERS_VERBOSITY=info` for more details.\n"
          ]
        },
        {
          "output_type": "stream",
          "name": "stdout",
          "text": [
            "Strategy 'ปิดฟ้าข้ามทะเล' เต็ม 27 แล้ว -> เปลี่ยนเป็น 'ไม่สามารถระบุได้'\n",
            "  เกม 987: ไม่สามารถระบุได้ (รวม 15 อัน)\n"
          ]
        },
        {
          "output_type": "stream",
          "name": "stderr",
          "text": [
            "The following generation flags are not valid and may be ignored: ['temperature', 'top_p']. Set `TRANSFORMERS_VERBOSITY=info` for more details.\n"
          ]
        },
        {
          "output_type": "stream",
          "name": "stdout",
          "text": [
            "Strategy 'ปิดฟ้าข้ามทะเล' เต็ม 27 แล้ว -> เปลี่ยนเป็น 'ไม่สามารถระบุได้'\n",
            "  เกม 988: ไม่สามารถระบุได้ (รวม 16 อัน)\n"
          ]
        },
        {
          "output_type": "stream",
          "name": "stderr",
          "text": [
            "The following generation flags are not valid and may be ignored: ['temperature', 'top_p']. Set `TRANSFORMERS_VERBOSITY=info` for more details.\n"
          ]
        },
        {
          "output_type": "stream",
          "name": "stdout",
          "text": [
            "Strategy 'ปิดฟ้าข้ามทะเล' เต็ม 27 แล้ว -> เปลี่ยนเป็น 'ไม่สามารถระบุได้'\n",
            "  เกม 989: ไม่สามารถระบุได้ (รวม 17 อัน)\n"
          ]
        },
        {
          "output_type": "stream",
          "name": "stderr",
          "text": [
            "The following generation flags are not valid and may be ignored: ['temperature', 'top_p']. Set `TRANSFORMERS_VERBOSITY=info` for more details.\n"
          ]
        },
        {
          "output_type": "stream",
          "name": "stdout",
          "text": [
            "Strategy 'ปิดฟ้าข้ามทะเล' เต็ม 27 แล้ว -> เปลี่ยนเป็น 'ไม่สามารถระบุได้'\n",
            "  เกม 990: ไม่สามารถระบุได้ (รวม 18 อัน)\n",
            "  -> วิเคราะห์แล้ว 990 เกม\n",
            "  -> Strategy ที่เต็ม 27 แล้ว: 36 กลยุทธ์\n",
            "\n",
            "แบทช์ 100: กำลังวิเคราะห์เกม 991-1000\n"
          ]
        },
        {
          "output_type": "stream",
          "name": "stderr",
          "text": [
            "The following generation flags are not valid and may be ignored: ['temperature', 'top_p']. Set `TRANSFORMERS_VERBOSITY=info` for more details.\n"
          ]
        },
        {
          "output_type": "stream",
          "name": "stdout",
          "text": [
            "Strategy 'ปิดฟ้าข้ามทะเล' เต็ม 27 แล้ว -> เปลี่ยนเป็น 'ไม่สามารถระบุได้'\n",
            "  เกม 991: ไม่สามารถระบุได้ (รวม 19 อัน)\n"
          ]
        },
        {
          "output_type": "stream",
          "name": "stderr",
          "text": [
            "The following generation flags are not valid and may be ignored: ['temperature', 'top_p']. Set `TRANSFORMERS_VERBOSITY=info` for more details.\n"
          ]
        },
        {
          "output_type": "stream",
          "name": "stdout",
          "text": [
            "Strategy 'ปิดฟ้าข้ามทะเล' เต็ม 27 แล้ว -> เปลี่ยนเป็น 'ไม่สามารถระบุได้'\n",
            "  เกม 992: ไม่สามารถระบุได้ (รวม 20 อัน)\n"
          ]
        },
        {
          "output_type": "stream",
          "name": "stderr",
          "text": [
            "The following generation flags are not valid and may be ignored: ['temperature', 'top_p']. Set `TRANSFORMERS_VERBOSITY=info` for more details.\n"
          ]
        },
        {
          "output_type": "stream",
          "name": "stdout",
          "text": [
            "Strategy 'ปิดฟ้าข้ามทะเล' เต็ม 27 แล้ว -> เปลี่ยนเป็น 'ไม่สามารถระบุได้'\n",
            "  เกม 993: ไม่สามารถระบุได้ (รวม 21 อัน)\n"
          ]
        },
        {
          "output_type": "stream",
          "name": "stderr",
          "text": [
            "The following generation flags are not valid and may be ignored: ['temperature', 'top_p']. Set `TRANSFORMERS_VERBOSITY=info` for more details.\n"
          ]
        },
        {
          "output_type": "stream",
          "name": "stdout",
          "text": [
            "Strategy 'ปิดฟ้าข้ามทะเล' เต็ม 27 แล้ว -> เปลี่ยนเป็น 'ไม่สามารถระบุได้'\n",
            "  เกม 994: ไม่สามารถระบุได้ (รวม 22 อัน)\n"
          ]
        },
        {
          "output_type": "stream",
          "name": "stderr",
          "text": [
            "The following generation flags are not valid and may be ignored: ['temperature', 'top_p']. Set `TRANSFORMERS_VERBOSITY=info` for more details.\n"
          ]
        },
        {
          "output_type": "stream",
          "name": "stdout",
          "text": [
            "Strategy 'ปิดฟ้าข้ามทะเล' เต็ม 27 แล้ว -> เปลี่ยนเป็น 'ไม่สามารถระบุได้'\n",
            "  เกม 995: ไม่สามารถระบุได้ (รวม 23 อัน)\n"
          ]
        },
        {
          "output_type": "stream",
          "name": "stderr",
          "text": [
            "The following generation flags are not valid and may be ignored: ['temperature', 'top_p']. Set `TRANSFORMERS_VERBOSITY=info` for more details.\n"
          ]
        },
        {
          "output_type": "stream",
          "name": "stdout",
          "text": [
            "Strategy 'ปิดฟ้าข้ามทะเล' เต็ม 27 แล้ว -> เปลี่ยนเป็น 'ไม่สามารถระบุได้'\n",
            "  เกม 996: ไม่สามารถระบุได้ (รวม 24 อัน)\n"
          ]
        },
        {
          "output_type": "stream",
          "name": "stderr",
          "text": [
            "The following generation flags are not valid and may be ignored: ['temperature', 'top_p']. Set `TRANSFORMERS_VERBOSITY=info` for more details.\n"
          ]
        },
        {
          "output_type": "stream",
          "name": "stdout",
          "text": [
            "Strategy 'ปิดฟ้าข้ามทะเล' เต็ม 27 แล้ว -> เปลี่ยนเป็น 'ไม่สามารถระบุได้'\n",
            "  เกม 997: ไม่สามารถระบุได้ (รวม 25 อัน)\n"
          ]
        },
        {
          "output_type": "stream",
          "name": "stderr",
          "text": [
            "The following generation flags are not valid and may be ignored: ['temperature', 'top_p']. Set `TRANSFORMERS_VERBOSITY=info` for more details.\n"
          ]
        },
        {
          "output_type": "stream",
          "name": "stdout",
          "text": [
            "Strategy 'ปิดฟ้าข้ามทะเล' เต็ม 27 แล้ว -> เปลี่ยนเป็น 'ไม่สามารถระบุได้'\n",
            "  เกม 998: ไม่สามารถระบุได้ (รวม 26 อัน)\n"
          ]
        },
        {
          "output_type": "stream",
          "name": "stderr",
          "text": [
            "The following generation flags are not valid and may be ignored: ['temperature', 'top_p']. Set `TRANSFORMERS_VERBOSITY=info` for more details.\n"
          ]
        },
        {
          "output_type": "stream",
          "name": "stdout",
          "text": [
            "Strategy 'ปิดฟ้าข้ามทะเล' เต็ม 27 แล้ว -> เปลี่ยนเป็น 'ไม่สามารถระบุได้'\n",
            "  เกม 999: ไม่สามารถระบุได้ (รวม 27 อัน)\n",
            "Strategy 'ปิดฟ้าข้ามทะเล' เต็ม 27 แล้ว -> เปลี่ยนเป็น 'ไม่สามารถระบุได้'\n",
            "  เกม 1000: ไม่สามารถระบุได้ (รวม 28 อัน)\n",
            "  -> วิเคราะห์แล้ว 1000 เกม\n",
            "  -> Strategy ที่เต็ม 27 แล้ว: 37 กลยุทธ์\n",
            "  -> บันทึกผลกลางแล้ว 1000 เกม\n"
          ]
        }
      ]
    },
    {
      "cell_type": "code",
      "source": [
        "# Show strategy distribution\n",
        "show_strategy_distribution()\n"
      ],
      "metadata": {
        "colab": {
          "base_uri": "https://localhost:8080/"
        },
        "id": "g13yQXLwJk0K",
        "outputId": "1a8d5078-097a-437b-875d-cb0f29b38870"
      },
      "execution_count": 26,
      "outputs": [
        {
          "output_type": "stream",
          "name": "stdout",
          "text": [
            "\n",
            "=== การกระจายกลยุทธ์ ===\n",
            "ไม่สามารถระบุได้: 28/27 เต็ม\n",
            "ปิดฟ้าข้ามทะเล: 27/27 เต็ม\n",
            "ไส้ศึก: 27/27 เต็ม\n",
            "จักจั่นลอกคราบ: 27/27 เต็ม\n",
            "ยืมทางพรางกล: 27/27 เต็ม\n",
            "ลอบตีเฉินชาง: 27/27 เต็ม\n",
            "คบไกลตีใกล้: 27/27 เต็ม\n",
            "กวนน้ำจับปลา: 27/27 เต็ม\n",
            "หลบหนี: 27/27 เต็ม\n",
            "แสร้งปล่อยเพื่อจับ: 27/27 เต็ม\n",
            "รอซ้ำยามเปลี้ย: 27/27 เต็ม\n",
            "แสร้งทำบอแต่ไม่บ้า: 27/27 เต็ม\n",
            "โยนกระเบื้องล่อหยก: 27/27 เต็ม\n",
            "สลับแขกเป็นเจ้าบ้าน: 27/27 เต็ม\n",
            "ปิดประตูจับโจร: 27/27 เต็ม\n",
            "ลักขื่อเปลี่ยนเสา: 27/27 เต็ม\n",
            "จับโจรเอาหัวโจก: 27/27 เต็ม\n",
            "ล่อเสือออกจากถ้ำ: 27/27 เต็ม\n",
            "สาวงาม: 27/27 เต็ม\n",
            "ลูกโซ่: 27/27 เต็ม\n",
            "ซ่อนดาบในรอยยิ้ม: 27/27 เต็ม\n",
            "ขึ้นบ้านชักบันได: 27/27 เต็ม\n",
            "ยืมซากคืนชีพ: 27/27 เต็ม\n",
            "ชี้ต้นหม่อนด่าต้นไหว: 27/27 เต็ม\n",
            "จูงแพะติดมือ: 27/27 เต็ม\n",
            "ตีหญ้าให้งูตื่น: 27/27 เต็ม\n",
            "เปิดเมือง: 27/27 เต็ม\n",
            "ทุกข์กาย: 27/27 เต็ม\n",
            "ส่งเสียงบูรพาฝ่าตีประจิม: 27/27 เต็ม\n",
            "ดูไฟชายฝั่ง: 27/27 เต็ม\n",
            "มีในไม่มี: 27/27 เต็ม\n",
            "ต้นไม้ผลิดอก: 27/27 เต็ม\n",
            "ล้อมเวยช่วยจ้าว: 27/27 เต็ม\n",
            "ถอนฟืนใต้กระทะ: 27/27 เต็ม\n",
            "หลี่ตายแทนถาว: 27/27 เต็ม\n",
            "ตีชิงตามไฟ: 27/27 เต็ม\n",
            "ยืมดาบฆ่าคน: 27/27 เต็ม\n",
            "\n",
            "Strategy ที่เต็ม 27 แล้ว: 37 กลยุทธ์\n",
            "Strategy ที่ยังไม่เต็ม: -1 กลยุทธ์\n"
          ]
        }
      ]
    },
    {
      "cell_type": "code",
      "source": [
        "# Save results to CSV\n",
        "results_df = pd.DataFrame(all_results)\n",
        "results_df.to_csv('game_strategy_analysis_llm_limited.csv', index=False, encoding='utf-8')\n",
        "print(f\"\\nบันทึกผลลัพธ์ลงไฟล์ 'game_strategy_analysis_llm_limited.csv' แล้ว\")"
      ],
      "metadata": {
        "colab": {
          "base_uri": "https://localhost:8080/"
        },
        "id": "uYOf2w4cMy-1",
        "outputId": "ec154ed6-e207-4520-be16-2c5b6efad3e5"
      },
      "execution_count": 27,
      "outputs": [
        {
          "output_type": "stream",
          "name": "stdout",
          "text": [
            "\n",
            "บันทึกผลลัพธ์ลงไฟล์ 'game_strategy_analysis_llm_limited.csv' แล้ว\n"
          ]
        }
      ]
    },
    {
      "cell_type": "code",
      "source": [
        "# Save strategy summary with limit info\n",
        "summary_df = pd.DataFrame([\n",
        "    {\n",
        "        'strategy': strategy,\n",
        "        'count': count,\n",
        "        'percentage': count/len(all_results)*100,\n",
        "        'at_limit': count >= MAX_STRATEGY_COUNT,\n",
        "        'remaining_slots': max(0, MAX_STRATEGY_COUNT - count)\n",
        "    }\n",
        "    for strategy, count in final_strategy_counts.items()\n",
        "])\n",
        "summary_df.to_csv('strategy_summary_llm_limited.csv', index=False, encoding='utf-8')\n",
        "print(f\"บันทึกสรุปกลยุทธ์ลงไฟล์ 'strategy_summary_llm_limited.csv' แล้ว\")"
      ],
      "metadata": {
        "colab": {
          "base_uri": "https://localhost:8080/"
        },
        "id": "f6OYVb0PM05y",
        "outputId": "c3ad5bcc-4e13-4a57-9190-52684553077a"
      },
      "execution_count": 28,
      "outputs": [
        {
          "output_type": "stream",
          "name": "stdout",
          "text": [
            "บันทึกสรุปกลยุทธ์ลงไฟล์ 'strategy_summary_llm_limited.csv' แล้ว\n"
          ]
        }
      ]
    },
    {
      "cell_type": "code",
      "source": [],
      "metadata": {
        "id": "t2c4OGO4M3Uu"
      },
      "execution_count": null,
      "outputs": []
    }
  ],
  "metadata": {
    "colab": {
      "provenance": [],
      "gpuType": "T4"
    },
    "kernelspec": {
      "display_name": "Python 3",
      "name": "python3"
    },
    "language_info": {
      "name": "python"
    },
    "accelerator": "GPU",
    "widgets": {
      "application/vnd.jupyter.widget-state+json": {
        "27840b26f0a2412da85175d918f04ac2": {
          "model_module": "@jupyter-widgets/controls",
          "model_name": "HBoxModel",
          "model_module_version": "1.5.0",
          "state": {
            "_dom_classes": [],
            "_model_module": "@jupyter-widgets/controls",
            "_model_module_version": "1.5.0",
            "_model_name": "HBoxModel",
            "_view_count": null,
            "_view_module": "@jupyter-widgets/controls",
            "_view_module_version": "1.5.0",
            "_view_name": "HBoxView",
            "box_style": "",
            "children": [
              "IPY_MODEL_4c3ad3bc076840f9967ee606949b611a",
              "IPY_MODEL_fb7b4024a8f1440bbb4178436e6b3d7a",
              "IPY_MODEL_b2a7a106f54b43fda4c6d4ac55478f73"
            ],
            "layout": "IPY_MODEL_a1bb90ba8fb54ccbaf8b6a429565f485"
          }
        },
        "4c3ad3bc076840f9967ee606949b611a": {
          "model_module": "@jupyter-widgets/controls",
          "model_name": "HTMLModel",
          "model_module_version": "1.5.0",
          "state": {
            "_dom_classes": [],
            "_model_module": "@jupyter-widgets/controls",
            "_model_module_version": "1.5.0",
            "_model_name": "HTMLModel",
            "_view_count": null,
            "_view_module": "@jupyter-widgets/controls",
            "_view_module_version": "1.5.0",
            "_view_name": "HTMLView",
            "description": "",
            "description_tooltip": null,
            "layout": "IPY_MODEL_5ecd02b1c3cc439c8699006ed012d6db",
            "placeholder": "​",
            "style": "IPY_MODEL_564448f03f814499a2a62db030ae7a1b",
            "value": "tokenizer_config.json: "
          }
        },
        "fb7b4024a8f1440bbb4178436e6b3d7a": {
          "model_module": "@jupyter-widgets/controls",
          "model_name": "FloatProgressModel",
          "model_module_version": "1.5.0",
          "state": {
            "_dom_classes": [],
            "_model_module": "@jupyter-widgets/controls",
            "_model_module_version": "1.5.0",
            "_model_name": "FloatProgressModel",
            "_view_count": null,
            "_view_module": "@jupyter-widgets/controls",
            "_view_module_version": "1.5.0",
            "_view_name": "ProgressView",
            "bar_style": "success",
            "description": "",
            "description_tooltip": null,
            "layout": "IPY_MODEL_164eddad9e5c48bb8bf4ca3f3ace6869",
            "max": 1,
            "min": 0,
            "orientation": "horizontal",
            "style": "IPY_MODEL_887f52d587974950aa4828baba799b15",
            "value": 1
          }
        },
        "b2a7a106f54b43fda4c6d4ac55478f73": {
          "model_module": "@jupyter-widgets/controls",
          "model_name": "HTMLModel",
          "model_module_version": "1.5.0",
          "state": {
            "_dom_classes": [],
            "_model_module": "@jupyter-widgets/controls",
            "_model_module_version": "1.5.0",
            "_model_name": "HTMLModel",
            "_view_count": null,
            "_view_module": "@jupyter-widgets/controls",
            "_view_module_version": "1.5.0",
            "_view_name": "HTMLView",
            "description": "",
            "description_tooltip": null,
            "layout": "IPY_MODEL_7435f7bc90464e32a7b9624c24f6efde",
            "placeholder": "​",
            "style": "IPY_MODEL_1d5bed86a16843f2b4a00d75eeff894d",
            "value": " 53.2k/? [00:00&lt;00:00, 743kB/s]"
          }
        },
        "a1bb90ba8fb54ccbaf8b6a429565f485": {
          "model_module": "@jupyter-widgets/base",
          "model_name": "LayoutModel",
          "model_module_version": "1.2.0",
          "state": {
            "_model_module": "@jupyter-widgets/base",
            "_model_module_version": "1.2.0",
            "_model_name": "LayoutModel",
            "_view_count": null,
            "_view_module": "@jupyter-widgets/base",
            "_view_module_version": "1.2.0",
            "_view_name": "LayoutView",
            "align_content": null,
            "align_items": null,
            "align_self": null,
            "border": null,
            "bottom": null,
            "display": null,
            "flex": null,
            "flex_flow": null,
            "grid_area": null,
            "grid_auto_columns": null,
            "grid_auto_flow": null,
            "grid_auto_rows": null,
            "grid_column": null,
            "grid_gap": null,
            "grid_row": null,
            "grid_template_areas": null,
            "grid_template_columns": null,
            "grid_template_rows": null,
            "height": null,
            "justify_content": null,
            "justify_items": null,
            "left": null,
            "margin": null,
            "max_height": null,
            "max_width": null,
            "min_height": null,
            "min_width": null,
            "object_fit": null,
            "object_position": null,
            "order": null,
            "overflow": null,
            "overflow_x": null,
            "overflow_y": null,
            "padding": null,
            "right": null,
            "top": null,
            "visibility": null,
            "width": null
          }
        },
        "5ecd02b1c3cc439c8699006ed012d6db": {
          "model_module": "@jupyter-widgets/base",
          "model_name": "LayoutModel",
          "model_module_version": "1.2.0",
          "state": {
            "_model_module": "@jupyter-widgets/base",
            "_model_module_version": "1.2.0",
            "_model_name": "LayoutModel",
            "_view_count": null,
            "_view_module": "@jupyter-widgets/base",
            "_view_module_version": "1.2.0",
            "_view_name": "LayoutView",
            "align_content": null,
            "align_items": null,
            "align_self": null,
            "border": null,
            "bottom": null,
            "display": null,
            "flex": null,
            "flex_flow": null,
            "grid_area": null,
            "grid_auto_columns": null,
            "grid_auto_flow": null,
            "grid_auto_rows": null,
            "grid_column": null,
            "grid_gap": null,
            "grid_row": null,
            "grid_template_areas": null,
            "grid_template_columns": null,
            "grid_template_rows": null,
            "height": null,
            "justify_content": null,
            "justify_items": null,
            "left": null,
            "margin": null,
            "max_height": null,
            "max_width": null,
            "min_height": null,
            "min_width": null,
            "object_fit": null,
            "object_position": null,
            "order": null,
            "overflow": null,
            "overflow_x": null,
            "overflow_y": null,
            "padding": null,
            "right": null,
            "top": null,
            "visibility": null,
            "width": null
          }
        },
        "564448f03f814499a2a62db030ae7a1b": {
          "model_module": "@jupyter-widgets/controls",
          "model_name": "DescriptionStyleModel",
          "model_module_version": "1.5.0",
          "state": {
            "_model_module": "@jupyter-widgets/controls",
            "_model_module_version": "1.5.0",
            "_model_name": "DescriptionStyleModel",
            "_view_count": null,
            "_view_module": "@jupyter-widgets/base",
            "_view_module_version": "1.2.0",
            "_view_name": "StyleView",
            "description_width": ""
          }
        },
        "164eddad9e5c48bb8bf4ca3f3ace6869": {
          "model_module": "@jupyter-widgets/base",
          "model_name": "LayoutModel",
          "model_module_version": "1.2.0",
          "state": {
            "_model_module": "@jupyter-widgets/base",
            "_model_module_version": "1.2.0",
            "_model_name": "LayoutModel",
            "_view_count": null,
            "_view_module": "@jupyter-widgets/base",
            "_view_module_version": "1.2.0",
            "_view_name": "LayoutView",
            "align_content": null,
            "align_items": null,
            "align_self": null,
            "border": null,
            "bottom": null,
            "display": null,
            "flex": null,
            "flex_flow": null,
            "grid_area": null,
            "grid_auto_columns": null,
            "grid_auto_flow": null,
            "grid_auto_rows": null,
            "grid_column": null,
            "grid_gap": null,
            "grid_row": null,
            "grid_template_areas": null,
            "grid_template_columns": null,
            "grid_template_rows": null,
            "height": null,
            "justify_content": null,
            "justify_items": null,
            "left": null,
            "margin": null,
            "max_height": null,
            "max_width": null,
            "min_height": null,
            "min_width": null,
            "object_fit": null,
            "object_position": null,
            "order": null,
            "overflow": null,
            "overflow_x": null,
            "overflow_y": null,
            "padding": null,
            "right": null,
            "top": null,
            "visibility": null,
            "width": "20px"
          }
        },
        "887f52d587974950aa4828baba799b15": {
          "model_module": "@jupyter-widgets/controls",
          "model_name": "ProgressStyleModel",
          "model_module_version": "1.5.0",
          "state": {
            "_model_module": "@jupyter-widgets/controls",
            "_model_module_version": "1.5.0",
            "_model_name": "ProgressStyleModel",
            "_view_count": null,
            "_view_module": "@jupyter-widgets/base",
            "_view_module_version": "1.2.0",
            "_view_name": "StyleView",
            "bar_color": null,
            "description_width": ""
          }
        },
        "7435f7bc90464e32a7b9624c24f6efde": {
          "model_module": "@jupyter-widgets/base",
          "model_name": "LayoutModel",
          "model_module_version": "1.2.0",
          "state": {
            "_model_module": "@jupyter-widgets/base",
            "_model_module_version": "1.2.0",
            "_model_name": "LayoutModel",
            "_view_count": null,
            "_view_module": "@jupyter-widgets/base",
            "_view_module_version": "1.2.0",
            "_view_name": "LayoutView",
            "align_content": null,
            "align_items": null,
            "align_self": null,
            "border": null,
            "bottom": null,
            "display": null,
            "flex": null,
            "flex_flow": null,
            "grid_area": null,
            "grid_auto_columns": null,
            "grid_auto_flow": null,
            "grid_auto_rows": null,
            "grid_column": null,
            "grid_gap": null,
            "grid_row": null,
            "grid_template_areas": null,
            "grid_template_columns": null,
            "grid_template_rows": null,
            "height": null,
            "justify_content": null,
            "justify_items": null,
            "left": null,
            "margin": null,
            "max_height": null,
            "max_width": null,
            "min_height": null,
            "min_width": null,
            "object_fit": null,
            "object_position": null,
            "order": null,
            "overflow": null,
            "overflow_x": null,
            "overflow_y": null,
            "padding": null,
            "right": null,
            "top": null,
            "visibility": null,
            "width": null
          }
        },
        "1d5bed86a16843f2b4a00d75eeff894d": {
          "model_module": "@jupyter-widgets/controls",
          "model_name": "DescriptionStyleModel",
          "model_module_version": "1.5.0",
          "state": {
            "_model_module": "@jupyter-widgets/controls",
            "_model_module_version": "1.5.0",
            "_model_name": "DescriptionStyleModel",
            "_view_count": null,
            "_view_module": "@jupyter-widgets/base",
            "_view_module_version": "1.2.0",
            "_view_name": "StyleView",
            "description_width": ""
          }
        },
        "f4a1fa51a1d74e0089d37e657b5b85ae": {
          "model_module": "@jupyter-widgets/controls",
          "model_name": "HBoxModel",
          "model_module_version": "1.5.0",
          "state": {
            "_dom_classes": [],
            "_model_module": "@jupyter-widgets/controls",
            "_model_module_version": "1.5.0",
            "_model_name": "HBoxModel",
            "_view_count": null,
            "_view_module": "@jupyter-widgets/controls",
            "_view_module_version": "1.5.0",
            "_view_name": "HBoxView",
            "box_style": "",
            "children": [
              "IPY_MODEL_ed851ea869814f8ba35e303166499003",
              "IPY_MODEL_88f5e68ebe8a412a89f355765964ba78",
              "IPY_MODEL_f8d5d4c0d0bf4383bd29966ccb3f2b32"
            ],
            "layout": "IPY_MODEL_216c95fab137494199ffdfd8b8d21baf"
          }
        },
        "ed851ea869814f8ba35e303166499003": {
          "model_module": "@jupyter-widgets/controls",
          "model_name": "HTMLModel",
          "model_module_version": "1.5.0",
          "state": {
            "_dom_classes": [],
            "_model_module": "@jupyter-widgets/controls",
            "_model_module_version": "1.5.0",
            "_model_name": "HTMLModel",
            "_view_count": null,
            "_view_module": "@jupyter-widgets/controls",
            "_view_module_version": "1.5.0",
            "_view_name": "HTMLView",
            "description": "",
            "description_tooltip": null,
            "layout": "IPY_MODEL_790c1213cc704216a65d44f3c6dcc649",
            "placeholder": "​",
            "style": "IPY_MODEL_6b4e837913dc4b27acff5653535a7248",
            "value": "tokenizer.json: 100%"
          }
        },
        "88f5e68ebe8a412a89f355765964ba78": {
          "model_module": "@jupyter-widgets/controls",
          "model_name": "FloatProgressModel",
          "model_module_version": "1.5.0",
          "state": {
            "_dom_classes": [],
            "_model_module": "@jupyter-widgets/controls",
            "_model_module_version": "1.5.0",
            "_model_name": "FloatProgressModel",
            "_view_count": null,
            "_view_module": "@jupyter-widgets/controls",
            "_view_module_version": "1.5.0",
            "_view_name": "ProgressView",
            "bar_style": "success",
            "description": "",
            "description_tooltip": null,
            "layout": "IPY_MODEL_a3f0afc1097144a08c91267f5cf35277",
            "max": 17209920,
            "min": 0,
            "orientation": "horizontal",
            "style": "IPY_MODEL_6369748960114b1c92aa7068027f4645",
            "value": 17209920
          }
        },
        "f8d5d4c0d0bf4383bd29966ccb3f2b32": {
          "model_module": "@jupyter-widgets/controls",
          "model_name": "HTMLModel",
          "model_module_version": "1.5.0",
          "state": {
            "_dom_classes": [],
            "_model_module": "@jupyter-widgets/controls",
            "_model_module_version": "1.5.0",
            "_model_name": "HTMLModel",
            "_view_count": null,
            "_view_module": "@jupyter-widgets/controls",
            "_view_module_version": "1.5.0",
            "_view_name": "HTMLView",
            "description": "",
            "description_tooltip": null,
            "layout": "IPY_MODEL_24c329fd86eb4d63bbd60354ab2125f2",
            "placeholder": "​",
            "style": "IPY_MODEL_73f74b8038964da58625a61316a6481f",
            "value": " 17.2M/17.2M [00:00&lt;00:00, 36.5MB/s]"
          }
        },
        "216c95fab137494199ffdfd8b8d21baf": {
          "model_module": "@jupyter-widgets/base",
          "model_name": "LayoutModel",
          "model_module_version": "1.2.0",
          "state": {
            "_model_module": "@jupyter-widgets/base",
            "_model_module_version": "1.2.0",
            "_model_name": "LayoutModel",
            "_view_count": null,
            "_view_module": "@jupyter-widgets/base",
            "_view_module_version": "1.2.0",
            "_view_name": "LayoutView",
            "align_content": null,
            "align_items": null,
            "align_self": null,
            "border": null,
            "bottom": null,
            "display": null,
            "flex": null,
            "flex_flow": null,
            "grid_area": null,
            "grid_auto_columns": null,
            "grid_auto_flow": null,
            "grid_auto_rows": null,
            "grid_column": null,
            "grid_gap": null,
            "grid_row": null,
            "grid_template_areas": null,
            "grid_template_columns": null,
            "grid_template_rows": null,
            "height": null,
            "justify_content": null,
            "justify_items": null,
            "left": null,
            "margin": null,
            "max_height": null,
            "max_width": null,
            "min_height": null,
            "min_width": null,
            "object_fit": null,
            "object_position": null,
            "order": null,
            "overflow": null,
            "overflow_x": null,
            "overflow_y": null,
            "padding": null,
            "right": null,
            "top": null,
            "visibility": null,
            "width": null
          }
        },
        "790c1213cc704216a65d44f3c6dcc649": {
          "model_module": "@jupyter-widgets/base",
          "model_name": "LayoutModel",
          "model_module_version": "1.2.0",
          "state": {
            "_model_module": "@jupyter-widgets/base",
            "_model_module_version": "1.2.0",
            "_model_name": "LayoutModel",
            "_view_count": null,
            "_view_module": "@jupyter-widgets/base",
            "_view_module_version": "1.2.0",
            "_view_name": "LayoutView",
            "align_content": null,
            "align_items": null,
            "align_self": null,
            "border": null,
            "bottom": null,
            "display": null,
            "flex": null,
            "flex_flow": null,
            "grid_area": null,
            "grid_auto_columns": null,
            "grid_auto_flow": null,
            "grid_auto_rows": null,
            "grid_column": null,
            "grid_gap": null,
            "grid_row": null,
            "grid_template_areas": null,
            "grid_template_columns": null,
            "grid_template_rows": null,
            "height": null,
            "justify_content": null,
            "justify_items": null,
            "left": null,
            "margin": null,
            "max_height": null,
            "max_width": null,
            "min_height": null,
            "min_width": null,
            "object_fit": null,
            "object_position": null,
            "order": null,
            "overflow": null,
            "overflow_x": null,
            "overflow_y": null,
            "padding": null,
            "right": null,
            "top": null,
            "visibility": null,
            "width": null
          }
        },
        "6b4e837913dc4b27acff5653535a7248": {
          "model_module": "@jupyter-widgets/controls",
          "model_name": "DescriptionStyleModel",
          "model_module_version": "1.5.0",
          "state": {
            "_model_module": "@jupyter-widgets/controls",
            "_model_module_version": "1.5.0",
            "_model_name": "DescriptionStyleModel",
            "_view_count": null,
            "_view_module": "@jupyter-widgets/base",
            "_view_module_version": "1.2.0",
            "_view_name": "StyleView",
            "description_width": ""
          }
        },
        "a3f0afc1097144a08c91267f5cf35277": {
          "model_module": "@jupyter-widgets/base",
          "model_name": "LayoutModel",
          "model_module_version": "1.2.0",
          "state": {
            "_model_module": "@jupyter-widgets/base",
            "_model_module_version": "1.2.0",
            "_model_name": "LayoutModel",
            "_view_count": null,
            "_view_module": "@jupyter-widgets/base",
            "_view_module_version": "1.2.0",
            "_view_name": "LayoutView",
            "align_content": null,
            "align_items": null,
            "align_self": null,
            "border": null,
            "bottom": null,
            "display": null,
            "flex": null,
            "flex_flow": null,
            "grid_area": null,
            "grid_auto_columns": null,
            "grid_auto_flow": null,
            "grid_auto_rows": null,
            "grid_column": null,
            "grid_gap": null,
            "grid_row": null,
            "grid_template_areas": null,
            "grid_template_columns": null,
            "grid_template_rows": null,
            "height": null,
            "justify_content": null,
            "justify_items": null,
            "left": null,
            "margin": null,
            "max_height": null,
            "max_width": null,
            "min_height": null,
            "min_width": null,
            "object_fit": null,
            "object_position": null,
            "order": null,
            "overflow": null,
            "overflow_x": null,
            "overflow_y": null,
            "padding": null,
            "right": null,
            "top": null,
            "visibility": null,
            "width": null
          }
        },
        "6369748960114b1c92aa7068027f4645": {
          "model_module": "@jupyter-widgets/controls",
          "model_name": "ProgressStyleModel",
          "model_module_version": "1.5.0",
          "state": {
            "_model_module": "@jupyter-widgets/controls",
            "_model_module_version": "1.5.0",
            "_model_name": "ProgressStyleModel",
            "_view_count": null,
            "_view_module": "@jupyter-widgets/base",
            "_view_module_version": "1.2.0",
            "_view_name": "StyleView",
            "bar_color": null,
            "description_width": ""
          }
        },
        "24c329fd86eb4d63bbd60354ab2125f2": {
          "model_module": "@jupyter-widgets/base",
          "model_name": "LayoutModel",
          "model_module_version": "1.2.0",
          "state": {
            "_model_module": "@jupyter-widgets/base",
            "_model_module_version": "1.2.0",
            "_model_name": "LayoutModel",
            "_view_count": null,
            "_view_module": "@jupyter-widgets/base",
            "_view_module_version": "1.2.0",
            "_view_name": "LayoutView",
            "align_content": null,
            "align_items": null,
            "align_self": null,
            "border": null,
            "bottom": null,
            "display": null,
            "flex": null,
            "flex_flow": null,
            "grid_area": null,
            "grid_auto_columns": null,
            "grid_auto_flow": null,
            "grid_auto_rows": null,
            "grid_column": null,
            "grid_gap": null,
            "grid_row": null,
            "grid_template_areas": null,
            "grid_template_columns": null,
            "grid_template_rows": null,
            "height": null,
            "justify_content": null,
            "justify_items": null,
            "left": null,
            "margin": null,
            "max_height": null,
            "max_width": null,
            "min_height": null,
            "min_width": null,
            "object_fit": null,
            "object_position": null,
            "order": null,
            "overflow": null,
            "overflow_x": null,
            "overflow_y": null,
            "padding": null,
            "right": null,
            "top": null,
            "visibility": null,
            "width": null
          }
        },
        "73f74b8038964da58625a61316a6481f": {
          "model_module": "@jupyter-widgets/controls",
          "model_name": "DescriptionStyleModel",
          "model_module_version": "1.5.0",
          "state": {
            "_model_module": "@jupyter-widgets/controls",
            "_model_module_version": "1.5.0",
            "_model_name": "DescriptionStyleModel",
            "_view_count": null,
            "_view_module": "@jupyter-widgets/base",
            "_view_module_version": "1.2.0",
            "_view_name": "StyleView",
            "description_width": ""
          }
        },
        "49eb516906cb4441a8b57ff67fe84c95": {
          "model_module": "@jupyter-widgets/controls",
          "model_name": "HBoxModel",
          "model_module_version": "1.5.0",
          "state": {
            "_dom_classes": [],
            "_model_module": "@jupyter-widgets/controls",
            "_model_module_version": "1.5.0",
            "_model_name": "HBoxModel",
            "_view_count": null,
            "_view_module": "@jupyter-widgets/controls",
            "_view_module_version": "1.5.0",
            "_view_name": "HBoxView",
            "box_style": "",
            "children": [
              "IPY_MODEL_c140fcd43efe4f62b9fc4ae12197e81a",
              "IPY_MODEL_cc1834ea900c4027bb369ddaf380d6a4",
              "IPY_MODEL_d703433cdf5f4cb099fc026ad8aceff1"
            ],
            "layout": "IPY_MODEL_0503e768a00d4c9baf50560a6c304f58"
          }
        },
        "c140fcd43efe4f62b9fc4ae12197e81a": {
          "model_module": "@jupyter-widgets/controls",
          "model_name": "HTMLModel",
          "model_module_version": "1.5.0",
          "state": {
            "_dom_classes": [],
            "_model_module": "@jupyter-widgets/controls",
            "_model_module_version": "1.5.0",
            "_model_name": "HTMLModel",
            "_view_count": null,
            "_view_module": "@jupyter-widgets/controls",
            "_view_module_version": "1.5.0",
            "_view_name": "HTMLView",
            "description": "",
            "description_tooltip": null,
            "layout": "IPY_MODEL_fbea70edaebc4a48b9b1953b63e5682f",
            "placeholder": "​",
            "style": "IPY_MODEL_6f77a5209f244396886ad80b028fbe51",
            "value": "special_tokens_map.json: 100%"
          }
        },
        "cc1834ea900c4027bb369ddaf380d6a4": {
          "model_module": "@jupyter-widgets/controls",
          "model_name": "FloatProgressModel",
          "model_module_version": "1.5.0",
          "state": {
            "_dom_classes": [],
            "_model_module": "@jupyter-widgets/controls",
            "_model_module_version": "1.5.0",
            "_model_name": "FloatProgressModel",
            "_view_count": null,
            "_view_module": "@jupyter-widgets/controls",
            "_view_module_version": "1.5.0",
            "_view_name": "ProgressView",
            "bar_style": "success",
            "description": "",
            "description_tooltip": null,
            "layout": "IPY_MODEL_bbe124f4153b4006b4bf1ef2ae634d5b",
            "max": 769,
            "min": 0,
            "orientation": "horizontal",
            "style": "IPY_MODEL_8273b72c593641c8b1e3653442904cd3",
            "value": 769
          }
        },
        "d703433cdf5f4cb099fc026ad8aceff1": {
          "model_module": "@jupyter-widgets/controls",
          "model_name": "HTMLModel",
          "model_module_version": "1.5.0",
          "state": {
            "_dom_classes": [],
            "_model_module": "@jupyter-widgets/controls",
            "_model_module_version": "1.5.0",
            "_model_name": "HTMLModel",
            "_view_count": null,
            "_view_module": "@jupyter-widgets/controls",
            "_view_module_version": "1.5.0",
            "_view_name": "HTMLView",
            "description": "",
            "description_tooltip": null,
            "layout": "IPY_MODEL_4d027ba8e6df4dbc90db08c7b61c0f77",
            "placeholder": "​",
            "style": "IPY_MODEL_3839adeaa45647e198b842f0693a4181",
            "value": " 769/769 [00:00&lt;00:00, 36.0kB/s]"
          }
        },
        "0503e768a00d4c9baf50560a6c304f58": {
          "model_module": "@jupyter-widgets/base",
          "model_name": "LayoutModel",
          "model_module_version": "1.2.0",
          "state": {
            "_model_module": "@jupyter-widgets/base",
            "_model_module_version": "1.2.0",
            "_model_name": "LayoutModel",
            "_view_count": null,
            "_view_module": "@jupyter-widgets/base",
            "_view_module_version": "1.2.0",
            "_view_name": "LayoutView",
            "align_content": null,
            "align_items": null,
            "align_self": null,
            "border": null,
            "bottom": null,
            "display": null,
            "flex": null,
            "flex_flow": null,
            "grid_area": null,
            "grid_auto_columns": null,
            "grid_auto_flow": null,
            "grid_auto_rows": null,
            "grid_column": null,
            "grid_gap": null,
            "grid_row": null,
            "grid_template_areas": null,
            "grid_template_columns": null,
            "grid_template_rows": null,
            "height": null,
            "justify_content": null,
            "justify_items": null,
            "left": null,
            "margin": null,
            "max_height": null,
            "max_width": null,
            "min_height": null,
            "min_width": null,
            "object_fit": null,
            "object_position": null,
            "order": null,
            "overflow": null,
            "overflow_x": null,
            "overflow_y": null,
            "padding": null,
            "right": null,
            "top": null,
            "visibility": null,
            "width": null
          }
        },
        "fbea70edaebc4a48b9b1953b63e5682f": {
          "model_module": "@jupyter-widgets/base",
          "model_name": "LayoutModel",
          "model_module_version": "1.2.0",
          "state": {
            "_model_module": "@jupyter-widgets/base",
            "_model_module_version": "1.2.0",
            "_model_name": "LayoutModel",
            "_view_count": null,
            "_view_module": "@jupyter-widgets/base",
            "_view_module_version": "1.2.0",
            "_view_name": "LayoutView",
            "align_content": null,
            "align_items": null,
            "align_self": null,
            "border": null,
            "bottom": null,
            "display": null,
            "flex": null,
            "flex_flow": null,
            "grid_area": null,
            "grid_auto_columns": null,
            "grid_auto_flow": null,
            "grid_auto_rows": null,
            "grid_column": null,
            "grid_gap": null,
            "grid_row": null,
            "grid_template_areas": null,
            "grid_template_columns": null,
            "grid_template_rows": null,
            "height": null,
            "justify_content": null,
            "justify_items": null,
            "left": null,
            "margin": null,
            "max_height": null,
            "max_width": null,
            "min_height": null,
            "min_width": null,
            "object_fit": null,
            "object_position": null,
            "order": null,
            "overflow": null,
            "overflow_x": null,
            "overflow_y": null,
            "padding": null,
            "right": null,
            "top": null,
            "visibility": null,
            "width": null
          }
        },
        "6f77a5209f244396886ad80b028fbe51": {
          "model_module": "@jupyter-widgets/controls",
          "model_name": "DescriptionStyleModel",
          "model_module_version": "1.5.0",
          "state": {
            "_model_module": "@jupyter-widgets/controls",
            "_model_module_version": "1.5.0",
            "_model_name": "DescriptionStyleModel",
            "_view_count": null,
            "_view_module": "@jupyter-widgets/base",
            "_view_module_version": "1.2.0",
            "_view_name": "StyleView",
            "description_width": ""
          }
        },
        "bbe124f4153b4006b4bf1ef2ae634d5b": {
          "model_module": "@jupyter-widgets/base",
          "model_name": "LayoutModel",
          "model_module_version": "1.2.0",
          "state": {
            "_model_module": "@jupyter-widgets/base",
            "_model_module_version": "1.2.0",
            "_model_name": "LayoutModel",
            "_view_count": null,
            "_view_module": "@jupyter-widgets/base",
            "_view_module_version": "1.2.0",
            "_view_name": "LayoutView",
            "align_content": null,
            "align_items": null,
            "align_self": null,
            "border": null,
            "bottom": null,
            "display": null,
            "flex": null,
            "flex_flow": null,
            "grid_area": null,
            "grid_auto_columns": null,
            "grid_auto_flow": null,
            "grid_auto_rows": null,
            "grid_column": null,
            "grid_gap": null,
            "grid_row": null,
            "grid_template_areas": null,
            "grid_template_columns": null,
            "grid_template_rows": null,
            "height": null,
            "justify_content": null,
            "justify_items": null,
            "left": null,
            "margin": null,
            "max_height": null,
            "max_width": null,
            "min_height": null,
            "min_width": null,
            "object_fit": null,
            "object_position": null,
            "order": null,
            "overflow": null,
            "overflow_x": null,
            "overflow_y": null,
            "padding": null,
            "right": null,
            "top": null,
            "visibility": null,
            "width": null
          }
        },
        "8273b72c593641c8b1e3653442904cd3": {
          "model_module": "@jupyter-widgets/controls",
          "model_name": "ProgressStyleModel",
          "model_module_version": "1.5.0",
          "state": {
            "_model_module": "@jupyter-widgets/controls",
            "_model_module_version": "1.5.0",
            "_model_name": "ProgressStyleModel",
            "_view_count": null,
            "_view_module": "@jupyter-widgets/base",
            "_view_module_version": "1.2.0",
            "_view_name": "StyleView",
            "bar_color": null,
            "description_width": ""
          }
        },
        "4d027ba8e6df4dbc90db08c7b61c0f77": {
          "model_module": "@jupyter-widgets/base",
          "model_name": "LayoutModel",
          "model_module_version": "1.2.0",
          "state": {
            "_model_module": "@jupyter-widgets/base",
            "_model_module_version": "1.2.0",
            "_model_name": "LayoutModel",
            "_view_count": null,
            "_view_module": "@jupyter-widgets/base",
            "_view_module_version": "1.2.0",
            "_view_name": "LayoutView",
            "align_content": null,
            "align_items": null,
            "align_self": null,
            "border": null,
            "bottom": null,
            "display": null,
            "flex": null,
            "flex_flow": null,
            "grid_area": null,
            "grid_auto_columns": null,
            "grid_auto_flow": null,
            "grid_auto_rows": null,
            "grid_column": null,
            "grid_gap": null,
            "grid_row": null,
            "grid_template_areas": null,
            "grid_template_columns": null,
            "grid_template_rows": null,
            "height": null,
            "justify_content": null,
            "justify_items": null,
            "left": null,
            "margin": null,
            "max_height": null,
            "max_width": null,
            "min_height": null,
            "min_width": null,
            "object_fit": null,
            "object_position": null,
            "order": null,
            "overflow": null,
            "overflow_x": null,
            "overflow_y": null,
            "padding": null,
            "right": null,
            "top": null,
            "visibility": null,
            "width": null
          }
        },
        "3839adeaa45647e198b842f0693a4181": {
          "model_module": "@jupyter-widgets/controls",
          "model_name": "DescriptionStyleModel",
          "model_module_version": "1.5.0",
          "state": {
            "_model_module": "@jupyter-widgets/controls",
            "_model_module_version": "1.5.0",
            "_model_name": "DescriptionStyleModel",
            "_view_count": null,
            "_view_module": "@jupyter-widgets/base",
            "_view_module_version": "1.2.0",
            "_view_name": "StyleView",
            "description_width": ""
          }
        },
        "fd28accd791747a8b32516a2b4e63f13": {
          "model_module": "@jupyter-widgets/controls",
          "model_name": "HBoxModel",
          "model_module_version": "1.5.0",
          "state": {
            "_dom_classes": [],
            "_model_module": "@jupyter-widgets/controls",
            "_model_module_version": "1.5.0",
            "_model_name": "HBoxModel",
            "_view_count": null,
            "_view_module": "@jupyter-widgets/controls",
            "_view_module_version": "1.5.0",
            "_view_name": "HBoxView",
            "box_style": "",
            "children": [
              "IPY_MODEL_c93f378bb79b4dd5a5f010f733f695c2",
              "IPY_MODEL_dd4c591630b044e88380844316ca9457",
              "IPY_MODEL_0d3eb6f8b8114e2dba0ec6ca9edd73b6"
            ],
            "layout": "IPY_MODEL_209842ea6628426b8106e44ec5c43c36"
          }
        },
        "c93f378bb79b4dd5a5f010f733f695c2": {
          "model_module": "@jupyter-widgets/controls",
          "model_name": "HTMLModel",
          "model_module_version": "1.5.0",
          "state": {
            "_dom_classes": [],
            "_model_module": "@jupyter-widgets/controls",
            "_model_module_version": "1.5.0",
            "_model_name": "HTMLModel",
            "_view_count": null,
            "_view_module": "@jupyter-widgets/controls",
            "_view_module_version": "1.5.0",
            "_view_name": "HTMLView",
            "description": "",
            "description_tooltip": null,
            "layout": "IPY_MODEL_b9e69c4a65574213b0faddbb4c1bc50c",
            "placeholder": "​",
            "style": "IPY_MODEL_fa1f9d5186724e32b5b26e0be87982c4",
            "value": "config.json: 100%"
          }
        },
        "dd4c591630b044e88380844316ca9457": {
          "model_module": "@jupyter-widgets/controls",
          "model_name": "FloatProgressModel",
          "model_module_version": "1.5.0",
          "state": {
            "_dom_classes": [],
            "_model_module": "@jupyter-widgets/controls",
            "_model_module_version": "1.5.0",
            "_model_name": "FloatProgressModel",
            "_view_count": null,
            "_view_module": "@jupyter-widgets/controls",
            "_view_module_version": "1.5.0",
            "_view_name": "ProgressView",
            "bar_style": "success",
            "description": "",
            "description_tooltip": null,
            "layout": "IPY_MODEL_df96c12ec7be459a817c1bb1c70f3370",
            "max": 899,
            "min": 0,
            "orientation": "horizontal",
            "style": "IPY_MODEL_edad1b87cfdc4191a2063a35d465b767",
            "value": 899
          }
        },
        "0d3eb6f8b8114e2dba0ec6ca9edd73b6": {
          "model_module": "@jupyter-widgets/controls",
          "model_name": "HTMLModel",
          "model_module_version": "1.5.0",
          "state": {
            "_dom_classes": [],
            "_model_module": "@jupyter-widgets/controls",
            "_model_module_version": "1.5.0",
            "_model_name": "HTMLModel",
            "_view_count": null,
            "_view_module": "@jupyter-widgets/controls",
            "_view_module_version": "1.5.0",
            "_view_name": "HTMLView",
            "description": "",
            "description_tooltip": null,
            "layout": "IPY_MODEL_7b9c7921e9a34117b05c2db672dce41b",
            "placeholder": "​",
            "style": "IPY_MODEL_4f1353cb0cbc48bba60546ff78cce8d7",
            "value": " 899/899 [00:00&lt;00:00, 13.0kB/s]"
          }
        },
        "209842ea6628426b8106e44ec5c43c36": {
          "model_module": "@jupyter-widgets/base",
          "model_name": "LayoutModel",
          "model_module_version": "1.2.0",
          "state": {
            "_model_module": "@jupyter-widgets/base",
            "_model_module_version": "1.2.0",
            "_model_name": "LayoutModel",
            "_view_count": null,
            "_view_module": "@jupyter-widgets/base",
            "_view_module_version": "1.2.0",
            "_view_name": "LayoutView",
            "align_content": null,
            "align_items": null,
            "align_self": null,
            "border": null,
            "bottom": null,
            "display": null,
            "flex": null,
            "flex_flow": null,
            "grid_area": null,
            "grid_auto_columns": null,
            "grid_auto_flow": null,
            "grid_auto_rows": null,
            "grid_column": null,
            "grid_gap": null,
            "grid_row": null,
            "grid_template_areas": null,
            "grid_template_columns": null,
            "grid_template_rows": null,
            "height": null,
            "justify_content": null,
            "justify_items": null,
            "left": null,
            "margin": null,
            "max_height": null,
            "max_width": null,
            "min_height": null,
            "min_width": null,
            "object_fit": null,
            "object_position": null,
            "order": null,
            "overflow": null,
            "overflow_x": null,
            "overflow_y": null,
            "padding": null,
            "right": null,
            "top": null,
            "visibility": null,
            "width": null
          }
        },
        "b9e69c4a65574213b0faddbb4c1bc50c": {
          "model_module": "@jupyter-widgets/base",
          "model_name": "LayoutModel",
          "model_module_version": "1.2.0",
          "state": {
            "_model_module": "@jupyter-widgets/base",
            "_model_module_version": "1.2.0",
            "_model_name": "LayoutModel",
            "_view_count": null,
            "_view_module": "@jupyter-widgets/base",
            "_view_module_version": "1.2.0",
            "_view_name": "LayoutView",
            "align_content": null,
            "align_items": null,
            "align_self": null,
            "border": null,
            "bottom": null,
            "display": null,
            "flex": null,
            "flex_flow": null,
            "grid_area": null,
            "grid_auto_columns": null,
            "grid_auto_flow": null,
            "grid_auto_rows": null,
            "grid_column": null,
            "grid_gap": null,
            "grid_row": null,
            "grid_template_areas": null,
            "grid_template_columns": null,
            "grid_template_rows": null,
            "height": null,
            "justify_content": null,
            "justify_items": null,
            "left": null,
            "margin": null,
            "max_height": null,
            "max_width": null,
            "min_height": null,
            "min_width": null,
            "object_fit": null,
            "object_position": null,
            "order": null,
            "overflow": null,
            "overflow_x": null,
            "overflow_y": null,
            "padding": null,
            "right": null,
            "top": null,
            "visibility": null,
            "width": null
          }
        },
        "fa1f9d5186724e32b5b26e0be87982c4": {
          "model_module": "@jupyter-widgets/controls",
          "model_name": "DescriptionStyleModel",
          "model_module_version": "1.5.0",
          "state": {
            "_model_module": "@jupyter-widgets/controls",
            "_model_module_version": "1.5.0",
            "_model_name": "DescriptionStyleModel",
            "_view_count": null,
            "_view_module": "@jupyter-widgets/base",
            "_view_module_version": "1.2.0",
            "_view_name": "StyleView",
            "description_width": ""
          }
        },
        "df96c12ec7be459a817c1bb1c70f3370": {
          "model_module": "@jupyter-widgets/base",
          "model_name": "LayoutModel",
          "model_module_version": "1.2.0",
          "state": {
            "_model_module": "@jupyter-widgets/base",
            "_model_module_version": "1.2.0",
            "_model_name": "LayoutModel",
            "_view_count": null,
            "_view_module": "@jupyter-widgets/base",
            "_view_module_version": "1.2.0",
            "_view_name": "LayoutView",
            "align_content": null,
            "align_items": null,
            "align_self": null,
            "border": null,
            "bottom": null,
            "display": null,
            "flex": null,
            "flex_flow": null,
            "grid_area": null,
            "grid_auto_columns": null,
            "grid_auto_flow": null,
            "grid_auto_rows": null,
            "grid_column": null,
            "grid_gap": null,
            "grid_row": null,
            "grid_template_areas": null,
            "grid_template_columns": null,
            "grid_template_rows": null,
            "height": null,
            "justify_content": null,
            "justify_items": null,
            "left": null,
            "margin": null,
            "max_height": null,
            "max_width": null,
            "min_height": null,
            "min_width": null,
            "object_fit": null,
            "object_position": null,
            "order": null,
            "overflow": null,
            "overflow_x": null,
            "overflow_y": null,
            "padding": null,
            "right": null,
            "top": null,
            "visibility": null,
            "width": null
          }
        },
        "edad1b87cfdc4191a2063a35d465b767": {
          "model_module": "@jupyter-widgets/controls",
          "model_name": "ProgressStyleModel",
          "model_module_version": "1.5.0",
          "state": {
            "_model_module": "@jupyter-widgets/controls",
            "_model_module_version": "1.5.0",
            "_model_name": "ProgressStyleModel",
            "_view_count": null,
            "_view_module": "@jupyter-widgets/base",
            "_view_module_version": "1.2.0",
            "_view_name": "StyleView",
            "bar_color": null,
            "description_width": ""
          }
        },
        "7b9c7921e9a34117b05c2db672dce41b": {
          "model_module": "@jupyter-widgets/base",
          "model_name": "LayoutModel",
          "model_module_version": "1.2.0",
          "state": {
            "_model_module": "@jupyter-widgets/base",
            "_model_module_version": "1.2.0",
            "_model_name": "LayoutModel",
            "_view_count": null,
            "_view_module": "@jupyter-widgets/base",
            "_view_module_version": "1.2.0",
            "_view_name": "LayoutView",
            "align_content": null,
            "align_items": null,
            "align_self": null,
            "border": null,
            "bottom": null,
            "display": null,
            "flex": null,
            "flex_flow": null,
            "grid_area": null,
            "grid_auto_columns": null,
            "grid_auto_flow": null,
            "grid_auto_rows": null,
            "grid_column": null,
            "grid_gap": null,
            "grid_row": null,
            "grid_template_areas": null,
            "grid_template_columns": null,
            "grid_template_rows": null,
            "height": null,
            "justify_content": null,
            "justify_items": null,
            "left": null,
            "margin": null,
            "max_height": null,
            "max_width": null,
            "min_height": null,
            "min_width": null,
            "object_fit": null,
            "object_position": null,
            "order": null,
            "overflow": null,
            "overflow_x": null,
            "overflow_y": null,
            "padding": null,
            "right": null,
            "top": null,
            "visibility": null,
            "width": null
          }
        },
        "4f1353cb0cbc48bba60546ff78cce8d7": {
          "model_module": "@jupyter-widgets/controls",
          "model_name": "DescriptionStyleModel",
          "model_module_version": "1.5.0",
          "state": {
            "_model_module": "@jupyter-widgets/controls",
            "_model_module_version": "1.5.0",
            "_model_name": "DescriptionStyleModel",
            "_view_count": null,
            "_view_module": "@jupyter-widgets/base",
            "_view_module_version": "1.2.0",
            "_view_name": "StyleView",
            "description_width": ""
          }
        },
        "3aa5e2026d29403595d887cd9e0ee0b4": {
          "model_module": "@jupyter-widgets/controls",
          "model_name": "HBoxModel",
          "model_module_version": "1.5.0",
          "state": {
            "_dom_classes": [],
            "_model_module": "@jupyter-widgets/controls",
            "_model_module_version": "1.5.0",
            "_model_name": "HBoxModel",
            "_view_count": null,
            "_view_module": "@jupyter-widgets/controls",
            "_view_module_version": "1.5.0",
            "_view_name": "HBoxView",
            "box_style": "",
            "children": [
              "IPY_MODEL_e8cc04b8391846dc9225ae79bf0292ba",
              "IPY_MODEL_ed643650cfc0493494698e3fcde1854a",
              "IPY_MODEL_a42155c2a68b4af9a47b81a933ab39e9"
            ],
            "layout": "IPY_MODEL_7b8c68d95efc4422872421f438672d01"
          }
        },
        "e8cc04b8391846dc9225ae79bf0292ba": {
          "model_module": "@jupyter-widgets/controls",
          "model_name": "HTMLModel",
          "model_module_version": "1.5.0",
          "state": {
            "_dom_classes": [],
            "_model_module": "@jupyter-widgets/controls",
            "_model_module_version": "1.5.0",
            "_model_name": "HTMLModel",
            "_view_count": null,
            "_view_module": "@jupyter-widgets/controls",
            "_view_module_version": "1.5.0",
            "_view_name": "HTMLView",
            "description": "",
            "description_tooltip": null,
            "layout": "IPY_MODEL_ec1fde65db344a4c9906c315194bdaa2",
            "placeholder": "​",
            "style": "IPY_MODEL_fb575e7014b0487b8a6b5e1cc63f04f4",
            "value": "model.safetensors.index.json: "
          }
        },
        "ed643650cfc0493494698e3fcde1854a": {
          "model_module": "@jupyter-widgets/controls",
          "model_name": "FloatProgressModel",
          "model_module_version": "1.5.0",
          "state": {
            "_dom_classes": [],
            "_model_module": "@jupyter-widgets/controls",
            "_model_module_version": "1.5.0",
            "_model_name": "FloatProgressModel",
            "_view_count": null,
            "_view_module": "@jupyter-widgets/controls",
            "_view_module_version": "1.5.0",
            "_view_name": "ProgressView",
            "bar_style": "success",
            "description": "",
            "description_tooltip": null,
            "layout": "IPY_MODEL_40c7974d402949f0899dbdc42db1bf18",
            "max": 1,
            "min": 0,
            "orientation": "horizontal",
            "style": "IPY_MODEL_60f1660f44664a2695a2a90584066813",
            "value": 1
          }
        },
        "a42155c2a68b4af9a47b81a933ab39e9": {
          "model_module": "@jupyter-widgets/controls",
          "model_name": "HTMLModel",
          "model_module_version": "1.5.0",
          "state": {
            "_dom_classes": [],
            "_model_module": "@jupyter-widgets/controls",
            "_model_module_version": "1.5.0",
            "_model_name": "HTMLModel",
            "_view_count": null,
            "_view_module": "@jupyter-widgets/controls",
            "_view_module_version": "1.5.0",
            "_view_name": "HTMLView",
            "description": "",
            "description_tooltip": null,
            "layout": "IPY_MODEL_f0d4c5088a6246939a3649c0af5bf7cc",
            "placeholder": "​",
            "style": "IPY_MODEL_5f3ac180c3db41018f654aecc7ba54dc",
            "value": " 20.9k/? [00:00&lt;00:00, 743kB/s]"
          }
        },
        "7b8c68d95efc4422872421f438672d01": {
          "model_module": "@jupyter-widgets/base",
          "model_name": "LayoutModel",
          "model_module_version": "1.2.0",
          "state": {
            "_model_module": "@jupyter-widgets/base",
            "_model_module_version": "1.2.0",
            "_model_name": "LayoutModel",
            "_view_count": null,
            "_view_module": "@jupyter-widgets/base",
            "_view_module_version": "1.2.0",
            "_view_name": "LayoutView",
            "align_content": null,
            "align_items": null,
            "align_self": null,
            "border": null,
            "bottom": null,
            "display": null,
            "flex": null,
            "flex_flow": null,
            "grid_area": null,
            "grid_auto_columns": null,
            "grid_auto_flow": null,
            "grid_auto_rows": null,
            "grid_column": null,
            "grid_gap": null,
            "grid_row": null,
            "grid_template_areas": null,
            "grid_template_columns": null,
            "grid_template_rows": null,
            "height": null,
            "justify_content": null,
            "justify_items": null,
            "left": null,
            "margin": null,
            "max_height": null,
            "max_width": null,
            "min_height": null,
            "min_width": null,
            "object_fit": null,
            "object_position": null,
            "order": null,
            "overflow": null,
            "overflow_x": null,
            "overflow_y": null,
            "padding": null,
            "right": null,
            "top": null,
            "visibility": null,
            "width": null
          }
        },
        "ec1fde65db344a4c9906c315194bdaa2": {
          "model_module": "@jupyter-widgets/base",
          "model_name": "LayoutModel",
          "model_module_version": "1.2.0",
          "state": {
            "_model_module": "@jupyter-widgets/base",
            "_model_module_version": "1.2.0",
            "_model_name": "LayoutModel",
            "_view_count": null,
            "_view_module": "@jupyter-widgets/base",
            "_view_module_version": "1.2.0",
            "_view_name": "LayoutView",
            "align_content": null,
            "align_items": null,
            "align_self": null,
            "border": null,
            "bottom": null,
            "display": null,
            "flex": null,
            "flex_flow": null,
            "grid_area": null,
            "grid_auto_columns": null,
            "grid_auto_flow": null,
            "grid_auto_rows": null,
            "grid_column": null,
            "grid_gap": null,
            "grid_row": null,
            "grid_template_areas": null,
            "grid_template_columns": null,
            "grid_template_rows": null,
            "height": null,
            "justify_content": null,
            "justify_items": null,
            "left": null,
            "margin": null,
            "max_height": null,
            "max_width": null,
            "min_height": null,
            "min_width": null,
            "object_fit": null,
            "object_position": null,
            "order": null,
            "overflow": null,
            "overflow_x": null,
            "overflow_y": null,
            "padding": null,
            "right": null,
            "top": null,
            "visibility": null,
            "width": null
          }
        },
        "fb575e7014b0487b8a6b5e1cc63f04f4": {
          "model_module": "@jupyter-widgets/controls",
          "model_name": "DescriptionStyleModel",
          "model_module_version": "1.5.0",
          "state": {
            "_model_module": "@jupyter-widgets/controls",
            "_model_module_version": "1.5.0",
            "_model_name": "DescriptionStyleModel",
            "_view_count": null,
            "_view_module": "@jupyter-widgets/base",
            "_view_module_version": "1.2.0",
            "_view_name": "StyleView",
            "description_width": ""
          }
        },
        "40c7974d402949f0899dbdc42db1bf18": {
          "model_module": "@jupyter-widgets/base",
          "model_name": "LayoutModel",
          "model_module_version": "1.2.0",
          "state": {
            "_model_module": "@jupyter-widgets/base",
            "_model_module_version": "1.2.0",
            "_model_name": "LayoutModel",
            "_view_count": null,
            "_view_module": "@jupyter-widgets/base",
            "_view_module_version": "1.2.0",
            "_view_name": "LayoutView",
            "align_content": null,
            "align_items": null,
            "align_self": null,
            "border": null,
            "bottom": null,
            "display": null,
            "flex": null,
            "flex_flow": null,
            "grid_area": null,
            "grid_auto_columns": null,
            "grid_auto_flow": null,
            "grid_auto_rows": null,
            "grid_column": null,
            "grid_gap": null,
            "grid_row": null,
            "grid_template_areas": null,
            "grid_template_columns": null,
            "grid_template_rows": null,
            "height": null,
            "justify_content": null,
            "justify_items": null,
            "left": null,
            "margin": null,
            "max_height": null,
            "max_width": null,
            "min_height": null,
            "min_width": null,
            "object_fit": null,
            "object_position": null,
            "order": null,
            "overflow": null,
            "overflow_x": null,
            "overflow_y": null,
            "padding": null,
            "right": null,
            "top": null,
            "visibility": null,
            "width": "20px"
          }
        },
        "60f1660f44664a2695a2a90584066813": {
          "model_module": "@jupyter-widgets/controls",
          "model_name": "ProgressStyleModel",
          "model_module_version": "1.5.0",
          "state": {
            "_model_module": "@jupyter-widgets/controls",
            "_model_module_version": "1.5.0",
            "_model_name": "ProgressStyleModel",
            "_view_count": null,
            "_view_module": "@jupyter-widgets/base",
            "_view_module_version": "1.2.0",
            "_view_name": "StyleView",
            "bar_color": null,
            "description_width": ""
          }
        },
        "f0d4c5088a6246939a3649c0af5bf7cc": {
          "model_module": "@jupyter-widgets/base",
          "model_name": "LayoutModel",
          "model_module_version": "1.2.0",
          "state": {
            "_model_module": "@jupyter-widgets/base",
            "_model_module_version": "1.2.0",
            "_model_name": "LayoutModel",
            "_view_count": null,
            "_view_module": "@jupyter-widgets/base",
            "_view_module_version": "1.2.0",
            "_view_name": "LayoutView",
            "align_content": null,
            "align_items": null,
            "align_self": null,
            "border": null,
            "bottom": null,
            "display": null,
            "flex": null,
            "flex_flow": null,
            "grid_area": null,
            "grid_auto_columns": null,
            "grid_auto_flow": null,
            "grid_auto_rows": null,
            "grid_column": null,
            "grid_gap": null,
            "grid_row": null,
            "grid_template_areas": null,
            "grid_template_columns": null,
            "grid_template_rows": null,
            "height": null,
            "justify_content": null,
            "justify_items": null,
            "left": null,
            "margin": null,
            "max_height": null,
            "max_width": null,
            "min_height": null,
            "min_width": null,
            "object_fit": null,
            "object_position": null,
            "order": null,
            "overflow": null,
            "overflow_x": null,
            "overflow_y": null,
            "padding": null,
            "right": null,
            "top": null,
            "visibility": null,
            "width": null
          }
        },
        "5f3ac180c3db41018f654aecc7ba54dc": {
          "model_module": "@jupyter-widgets/controls",
          "model_name": "DescriptionStyleModel",
          "model_module_version": "1.5.0",
          "state": {
            "_model_module": "@jupyter-widgets/controls",
            "_model_module_version": "1.5.0",
            "_model_name": "DescriptionStyleModel",
            "_view_count": null,
            "_view_module": "@jupyter-widgets/base",
            "_view_module_version": "1.2.0",
            "_view_name": "StyleView",
            "description_width": ""
          }
        },
        "e1038ff092f24dc5896d25f76872cbf5": {
          "model_module": "@jupyter-widgets/controls",
          "model_name": "HBoxModel",
          "model_module_version": "1.5.0",
          "state": {
            "_dom_classes": [],
            "_model_module": "@jupyter-widgets/controls",
            "_model_module_version": "1.5.0",
            "_model_name": "HBoxModel",
            "_view_count": null,
            "_view_module": "@jupyter-widgets/controls",
            "_view_module_version": "1.5.0",
            "_view_name": "HBoxView",
            "box_style": "",
            "children": [
              "IPY_MODEL_238c2f60e8cd417a94a0bb5986550b5b",
              "IPY_MODEL_10d35b53ae214f99902a3a2235cc50a9",
              "IPY_MODEL_59a074a371444292ac7f0538d201ce36"
            ],
            "layout": "IPY_MODEL_b52c1577cf0440eca5337b43d797adab"
          }
        },
        "238c2f60e8cd417a94a0bb5986550b5b": {
          "model_module": "@jupyter-widgets/controls",
          "model_name": "HTMLModel",
          "model_module_version": "1.5.0",
          "state": {
            "_dom_classes": [],
            "_model_module": "@jupyter-widgets/controls",
            "_model_module_version": "1.5.0",
            "_model_name": "HTMLModel",
            "_view_count": null,
            "_view_module": "@jupyter-widgets/controls",
            "_view_module_version": "1.5.0",
            "_view_name": "HTMLView",
            "description": "",
            "description_tooltip": null,
            "layout": "IPY_MODEL_5b252ac6817e475bad2dadf3a911aeb9",
            "placeholder": "​",
            "style": "IPY_MODEL_68e8ccfde500466485dad570e9136a79",
            "value": "Fetching 2 files: 100%"
          }
        },
        "10d35b53ae214f99902a3a2235cc50a9": {
          "model_module": "@jupyter-widgets/controls",
          "model_name": "FloatProgressModel",
          "model_module_version": "1.5.0",
          "state": {
            "_dom_classes": [],
            "_model_module": "@jupyter-widgets/controls",
            "_model_module_version": "1.5.0",
            "_model_name": "FloatProgressModel",
            "_view_count": null,
            "_view_module": "@jupyter-widgets/controls",
            "_view_module_version": "1.5.0",
            "_view_name": "ProgressView",
            "bar_style": "success",
            "description": "",
            "description_tooltip": null,
            "layout": "IPY_MODEL_06927a4c902f4c9f937957756d2833df",
            "max": 2,
            "min": 0,
            "orientation": "horizontal",
            "style": "IPY_MODEL_00714a00a855472e856eb91320443a11",
            "value": 2
          }
        },
        "59a074a371444292ac7f0538d201ce36": {
          "model_module": "@jupyter-widgets/controls",
          "model_name": "HTMLModel",
          "model_module_version": "1.5.0",
          "state": {
            "_dom_classes": [],
            "_model_module": "@jupyter-widgets/controls",
            "_model_module_version": "1.5.0",
            "_model_name": "HTMLModel",
            "_view_count": null,
            "_view_module": "@jupyter-widgets/controls",
            "_view_module_version": "1.5.0",
            "_view_name": "HTMLView",
            "description": "",
            "description_tooltip": null,
            "layout": "IPY_MODEL_45f758b2ea724755a3b20b009ec4012e",
            "placeholder": "​",
            "style": "IPY_MODEL_4f47bee989da496e8a86303baa7c10e4",
            "value": " 2/2 [01:34&lt;00:00, 94.16s/it]"
          }
        },
        "b52c1577cf0440eca5337b43d797adab": {
          "model_module": "@jupyter-widgets/base",
          "model_name": "LayoutModel",
          "model_module_version": "1.2.0",
          "state": {
            "_model_module": "@jupyter-widgets/base",
            "_model_module_version": "1.2.0",
            "_model_name": "LayoutModel",
            "_view_count": null,
            "_view_module": "@jupyter-widgets/base",
            "_view_module_version": "1.2.0",
            "_view_name": "LayoutView",
            "align_content": null,
            "align_items": null,
            "align_self": null,
            "border": null,
            "bottom": null,
            "display": null,
            "flex": null,
            "flex_flow": null,
            "grid_area": null,
            "grid_auto_columns": null,
            "grid_auto_flow": null,
            "grid_auto_rows": null,
            "grid_column": null,
            "grid_gap": null,
            "grid_row": null,
            "grid_template_areas": null,
            "grid_template_columns": null,
            "grid_template_rows": null,
            "height": null,
            "justify_content": null,
            "justify_items": null,
            "left": null,
            "margin": null,
            "max_height": null,
            "max_width": null,
            "min_height": null,
            "min_width": null,
            "object_fit": null,
            "object_position": null,
            "order": null,
            "overflow": null,
            "overflow_x": null,
            "overflow_y": null,
            "padding": null,
            "right": null,
            "top": null,
            "visibility": null,
            "width": null
          }
        },
        "5b252ac6817e475bad2dadf3a911aeb9": {
          "model_module": "@jupyter-widgets/base",
          "model_name": "LayoutModel",
          "model_module_version": "1.2.0",
          "state": {
            "_model_module": "@jupyter-widgets/base",
            "_model_module_version": "1.2.0",
            "_model_name": "LayoutModel",
            "_view_count": null,
            "_view_module": "@jupyter-widgets/base",
            "_view_module_version": "1.2.0",
            "_view_name": "LayoutView",
            "align_content": null,
            "align_items": null,
            "align_self": null,
            "border": null,
            "bottom": null,
            "display": null,
            "flex": null,
            "flex_flow": null,
            "grid_area": null,
            "grid_auto_columns": null,
            "grid_auto_flow": null,
            "grid_auto_rows": null,
            "grid_column": null,
            "grid_gap": null,
            "grid_row": null,
            "grid_template_areas": null,
            "grid_template_columns": null,
            "grid_template_rows": null,
            "height": null,
            "justify_content": null,
            "justify_items": null,
            "left": null,
            "margin": null,
            "max_height": null,
            "max_width": null,
            "min_height": null,
            "min_width": null,
            "object_fit": null,
            "object_position": null,
            "order": null,
            "overflow": null,
            "overflow_x": null,
            "overflow_y": null,
            "padding": null,
            "right": null,
            "top": null,
            "visibility": null,
            "width": null
          }
        },
        "68e8ccfde500466485dad570e9136a79": {
          "model_module": "@jupyter-widgets/controls",
          "model_name": "DescriptionStyleModel",
          "model_module_version": "1.5.0",
          "state": {
            "_model_module": "@jupyter-widgets/controls",
            "_model_module_version": "1.5.0",
            "_model_name": "DescriptionStyleModel",
            "_view_count": null,
            "_view_module": "@jupyter-widgets/base",
            "_view_module_version": "1.2.0",
            "_view_name": "StyleView",
            "description_width": ""
          }
        },
        "06927a4c902f4c9f937957756d2833df": {
          "model_module": "@jupyter-widgets/base",
          "model_name": "LayoutModel",
          "model_module_version": "1.2.0",
          "state": {
            "_model_module": "@jupyter-widgets/base",
            "_model_module_version": "1.2.0",
            "_model_name": "LayoutModel",
            "_view_count": null,
            "_view_module": "@jupyter-widgets/base",
            "_view_module_version": "1.2.0",
            "_view_name": "LayoutView",
            "align_content": null,
            "align_items": null,
            "align_self": null,
            "border": null,
            "bottom": null,
            "display": null,
            "flex": null,
            "flex_flow": null,
            "grid_area": null,
            "grid_auto_columns": null,
            "grid_auto_flow": null,
            "grid_auto_rows": null,
            "grid_column": null,
            "grid_gap": null,
            "grid_row": null,
            "grid_template_areas": null,
            "grid_template_columns": null,
            "grid_template_rows": null,
            "height": null,
            "justify_content": null,
            "justify_items": null,
            "left": null,
            "margin": null,
            "max_height": null,
            "max_width": null,
            "min_height": null,
            "min_width": null,
            "object_fit": null,
            "object_position": null,
            "order": null,
            "overflow": null,
            "overflow_x": null,
            "overflow_y": null,
            "padding": null,
            "right": null,
            "top": null,
            "visibility": null,
            "width": null
          }
        },
        "00714a00a855472e856eb91320443a11": {
          "model_module": "@jupyter-widgets/controls",
          "model_name": "ProgressStyleModel",
          "model_module_version": "1.5.0",
          "state": {
            "_model_module": "@jupyter-widgets/controls",
            "_model_module_version": "1.5.0",
            "_model_name": "ProgressStyleModel",
            "_view_count": null,
            "_view_module": "@jupyter-widgets/base",
            "_view_module_version": "1.2.0",
            "_view_name": "StyleView",
            "bar_color": null,
            "description_width": ""
          }
        },
        "45f758b2ea724755a3b20b009ec4012e": {
          "model_module": "@jupyter-widgets/base",
          "model_name": "LayoutModel",
          "model_module_version": "1.2.0",
          "state": {
            "_model_module": "@jupyter-widgets/base",
            "_model_module_version": "1.2.0",
            "_model_name": "LayoutModel",
            "_view_count": null,
            "_view_module": "@jupyter-widgets/base",
            "_view_module_version": "1.2.0",
            "_view_name": "LayoutView",
            "align_content": null,
            "align_items": null,
            "align_self": null,
            "border": null,
            "bottom": null,
            "display": null,
            "flex": null,
            "flex_flow": null,
            "grid_area": null,
            "grid_auto_columns": null,
            "grid_auto_flow": null,
            "grid_auto_rows": null,
            "grid_column": null,
            "grid_gap": null,
            "grid_row": null,
            "grid_template_areas": null,
            "grid_template_columns": null,
            "grid_template_rows": null,
            "height": null,
            "justify_content": null,
            "justify_items": null,
            "left": null,
            "margin": null,
            "max_height": null,
            "max_width": null,
            "min_height": null,
            "min_width": null,
            "object_fit": null,
            "object_position": null,
            "order": null,
            "overflow": null,
            "overflow_x": null,
            "overflow_y": null,
            "padding": null,
            "right": null,
            "top": null,
            "visibility": null,
            "width": null
          }
        },
        "4f47bee989da496e8a86303baa7c10e4": {
          "model_module": "@jupyter-widgets/controls",
          "model_name": "DescriptionStyleModel",
          "model_module_version": "1.5.0",
          "state": {
            "_model_module": "@jupyter-widgets/controls",
            "_model_module_version": "1.5.0",
            "_model_name": "DescriptionStyleModel",
            "_view_count": null,
            "_view_module": "@jupyter-widgets/base",
            "_view_module_version": "1.2.0",
            "_view_name": "StyleView",
            "description_width": ""
          }
        },
        "7b195f0c54044ec3810f0983bafc2fba": {
          "model_module": "@jupyter-widgets/controls",
          "model_name": "HBoxModel",
          "model_module_version": "1.5.0",
          "state": {
            "_dom_classes": [],
            "_model_module": "@jupyter-widgets/controls",
            "_model_module_version": "1.5.0",
            "_model_name": "HBoxModel",
            "_view_count": null,
            "_view_module": "@jupyter-widgets/controls",
            "_view_module_version": "1.5.0",
            "_view_name": "HBoxView",
            "box_style": "",
            "children": [
              "IPY_MODEL_0c2926b3b8b042f0bde140ebaf3652ed",
              "IPY_MODEL_2a8e925a66614323831c37235ad86ff8",
              "IPY_MODEL_8f369321ca6f4272a58e546166d6938b"
            ],
            "layout": "IPY_MODEL_8e692e8b637944f59891a82bf53a5109"
          }
        },
        "0c2926b3b8b042f0bde140ebaf3652ed": {
          "model_module": "@jupyter-widgets/controls",
          "model_name": "HTMLModel",
          "model_module_version": "1.5.0",
          "state": {
            "_dom_classes": [],
            "_model_module": "@jupyter-widgets/controls",
            "_model_module_version": "1.5.0",
            "_model_name": "HTMLModel",
            "_view_count": null,
            "_view_module": "@jupyter-widgets/controls",
            "_view_module_version": "1.5.0",
            "_view_name": "HTMLView",
            "description": "",
            "description_tooltip": null,
            "layout": "IPY_MODEL_94a29e57aa5749128e5063251b4a3253",
            "placeholder": "​",
            "style": "IPY_MODEL_672ca02561c84f279cc5469a0741b724",
            "value": "model-00001-of-00002.safetensors: 100%"
          }
        },
        "2a8e925a66614323831c37235ad86ff8": {
          "model_module": "@jupyter-widgets/controls",
          "model_name": "FloatProgressModel",
          "model_module_version": "1.5.0",
          "state": {
            "_dom_classes": [],
            "_model_module": "@jupyter-widgets/controls",
            "_model_module_version": "1.5.0",
            "_model_name": "FloatProgressModel",
            "_view_count": null,
            "_view_module": "@jupyter-widgets/controls",
            "_view_module_version": "1.5.0",
            "_view_name": "ProgressView",
            "bar_style": "success",
            "description": "",
            "description_tooltip": null,
            "layout": "IPY_MODEL_ce0dc1785ca940a2bda433fec21e3ca6",
            "max": 4965799096,
            "min": 0,
            "orientation": "horizontal",
            "style": "IPY_MODEL_16c64fedfdb94d679af1cc7f6781e0ea",
            "value": 4965799096
          }
        },
        "8f369321ca6f4272a58e546166d6938b": {
          "model_module": "@jupyter-widgets/controls",
          "model_name": "HTMLModel",
          "model_module_version": "1.5.0",
          "state": {
            "_dom_classes": [],
            "_model_module": "@jupyter-widgets/controls",
            "_model_module_version": "1.5.0",
            "_model_name": "HTMLModel",
            "_view_count": null,
            "_view_module": "@jupyter-widgets/controls",
            "_view_module_version": "1.5.0",
            "_view_name": "HTMLView",
            "description": "",
            "description_tooltip": null,
            "layout": "IPY_MODEL_8e66aeae784a44c084c4d926e798791c",
            "placeholder": "​",
            "style": "IPY_MODEL_81e556c526d0420ea0d1bc9edd7e4dd9",
            "value": " 4.97G/4.97G [01:33&lt;00:00, 87.3MB/s]"
          }
        },
        "8e692e8b637944f59891a82bf53a5109": {
          "model_module": "@jupyter-widgets/base",
          "model_name": "LayoutModel",
          "model_module_version": "1.2.0",
          "state": {
            "_model_module": "@jupyter-widgets/base",
            "_model_module_version": "1.2.0",
            "_model_name": "LayoutModel",
            "_view_count": null,
            "_view_module": "@jupyter-widgets/base",
            "_view_module_version": "1.2.0",
            "_view_name": "LayoutView",
            "align_content": null,
            "align_items": null,
            "align_self": null,
            "border": null,
            "bottom": null,
            "display": null,
            "flex": null,
            "flex_flow": null,
            "grid_area": null,
            "grid_auto_columns": null,
            "grid_auto_flow": null,
            "grid_auto_rows": null,
            "grid_column": null,
            "grid_gap": null,
            "grid_row": null,
            "grid_template_areas": null,
            "grid_template_columns": null,
            "grid_template_rows": null,
            "height": null,
            "justify_content": null,
            "justify_items": null,
            "left": null,
            "margin": null,
            "max_height": null,
            "max_width": null,
            "min_height": null,
            "min_width": null,
            "object_fit": null,
            "object_position": null,
            "order": null,
            "overflow": null,
            "overflow_x": null,
            "overflow_y": null,
            "padding": null,
            "right": null,
            "top": null,
            "visibility": null,
            "width": null
          }
        },
        "94a29e57aa5749128e5063251b4a3253": {
          "model_module": "@jupyter-widgets/base",
          "model_name": "LayoutModel",
          "model_module_version": "1.2.0",
          "state": {
            "_model_module": "@jupyter-widgets/base",
            "_model_module_version": "1.2.0",
            "_model_name": "LayoutModel",
            "_view_count": null,
            "_view_module": "@jupyter-widgets/base",
            "_view_module_version": "1.2.0",
            "_view_name": "LayoutView",
            "align_content": null,
            "align_items": null,
            "align_self": null,
            "border": null,
            "bottom": null,
            "display": null,
            "flex": null,
            "flex_flow": null,
            "grid_area": null,
            "grid_auto_columns": null,
            "grid_auto_flow": null,
            "grid_auto_rows": null,
            "grid_column": null,
            "grid_gap": null,
            "grid_row": null,
            "grid_template_areas": null,
            "grid_template_columns": null,
            "grid_template_rows": null,
            "height": null,
            "justify_content": null,
            "justify_items": null,
            "left": null,
            "margin": null,
            "max_height": null,
            "max_width": null,
            "min_height": null,
            "min_width": null,
            "object_fit": null,
            "object_position": null,
            "order": null,
            "overflow": null,
            "overflow_x": null,
            "overflow_y": null,
            "padding": null,
            "right": null,
            "top": null,
            "visibility": null,
            "width": null
          }
        },
        "672ca02561c84f279cc5469a0741b724": {
          "model_module": "@jupyter-widgets/controls",
          "model_name": "DescriptionStyleModel",
          "model_module_version": "1.5.0",
          "state": {
            "_model_module": "@jupyter-widgets/controls",
            "_model_module_version": "1.5.0",
            "_model_name": "DescriptionStyleModel",
            "_view_count": null,
            "_view_module": "@jupyter-widgets/base",
            "_view_module_version": "1.2.0",
            "_view_name": "StyleView",
            "description_width": ""
          }
        },
        "ce0dc1785ca940a2bda433fec21e3ca6": {
          "model_module": "@jupyter-widgets/base",
          "model_name": "LayoutModel",
          "model_module_version": "1.2.0",
          "state": {
            "_model_module": "@jupyter-widgets/base",
            "_model_module_version": "1.2.0",
            "_model_name": "LayoutModel",
            "_view_count": null,
            "_view_module": "@jupyter-widgets/base",
            "_view_module_version": "1.2.0",
            "_view_name": "LayoutView",
            "align_content": null,
            "align_items": null,
            "align_self": null,
            "border": null,
            "bottom": null,
            "display": null,
            "flex": null,
            "flex_flow": null,
            "grid_area": null,
            "grid_auto_columns": null,
            "grid_auto_flow": null,
            "grid_auto_rows": null,
            "grid_column": null,
            "grid_gap": null,
            "grid_row": null,
            "grid_template_areas": null,
            "grid_template_columns": null,
            "grid_template_rows": null,
            "height": null,
            "justify_content": null,
            "justify_items": null,
            "left": null,
            "margin": null,
            "max_height": null,
            "max_width": null,
            "min_height": null,
            "min_width": null,
            "object_fit": null,
            "object_position": null,
            "order": null,
            "overflow": null,
            "overflow_x": null,
            "overflow_y": null,
            "padding": null,
            "right": null,
            "top": null,
            "visibility": null,
            "width": null
          }
        },
        "16c64fedfdb94d679af1cc7f6781e0ea": {
          "model_module": "@jupyter-widgets/controls",
          "model_name": "ProgressStyleModel",
          "model_module_version": "1.5.0",
          "state": {
            "_model_module": "@jupyter-widgets/controls",
            "_model_module_version": "1.5.0",
            "_model_name": "ProgressStyleModel",
            "_view_count": null,
            "_view_module": "@jupyter-widgets/base",
            "_view_module_version": "1.2.0",
            "_view_name": "StyleView",
            "bar_color": null,
            "description_width": ""
          }
        },
        "8e66aeae784a44c084c4d926e798791c": {
          "model_module": "@jupyter-widgets/base",
          "model_name": "LayoutModel",
          "model_module_version": "1.2.0",
          "state": {
            "_model_module": "@jupyter-widgets/base",
            "_model_module_version": "1.2.0",
            "_model_name": "LayoutModel",
            "_view_count": null,
            "_view_module": "@jupyter-widgets/base",
            "_view_module_version": "1.2.0",
            "_view_name": "LayoutView",
            "align_content": null,
            "align_items": null,
            "align_self": null,
            "border": null,
            "bottom": null,
            "display": null,
            "flex": null,
            "flex_flow": null,
            "grid_area": null,
            "grid_auto_columns": null,
            "grid_auto_flow": null,
            "grid_auto_rows": null,
            "grid_column": null,
            "grid_gap": null,
            "grid_row": null,
            "grid_template_areas": null,
            "grid_template_columns": null,
            "grid_template_rows": null,
            "height": null,
            "justify_content": null,
            "justify_items": null,
            "left": null,
            "margin": null,
            "max_height": null,
            "max_width": null,
            "min_height": null,
            "min_width": null,
            "object_fit": null,
            "object_position": null,
            "order": null,
            "overflow": null,
            "overflow_x": null,
            "overflow_y": null,
            "padding": null,
            "right": null,
            "top": null,
            "visibility": null,
            "width": null
          }
        },
        "81e556c526d0420ea0d1bc9edd7e4dd9": {
          "model_module": "@jupyter-widgets/controls",
          "model_name": "DescriptionStyleModel",
          "model_module_version": "1.5.0",
          "state": {
            "_model_module": "@jupyter-widgets/controls",
            "_model_module_version": "1.5.0",
            "_model_name": "DescriptionStyleModel",
            "_view_count": null,
            "_view_module": "@jupyter-widgets/base",
            "_view_module_version": "1.2.0",
            "_view_name": "StyleView",
            "description_width": ""
          }
        },
        "2860b4d4464940348965b398795c8c41": {
          "model_module": "@jupyter-widgets/controls",
          "model_name": "HBoxModel",
          "model_module_version": "1.5.0",
          "state": {
            "_dom_classes": [],
            "_model_module": "@jupyter-widgets/controls",
            "_model_module_version": "1.5.0",
            "_model_name": "HBoxModel",
            "_view_count": null,
            "_view_module": "@jupyter-widgets/controls",
            "_view_module_version": "1.5.0",
            "_view_name": "HBoxView",
            "box_style": "",
            "children": [
              "IPY_MODEL_07c9b00f0c4a4ee88f4d7ef68b5bed4e",
              "IPY_MODEL_cb2f23fe22b3485b9b6a322182a3a1d7",
              "IPY_MODEL_35e4133b0d2642d38ae9cc671d07d269"
            ],
            "layout": "IPY_MODEL_55569998fcb14ee0b9116f523cb0b05a"
          }
        },
        "07c9b00f0c4a4ee88f4d7ef68b5bed4e": {
          "model_module": "@jupyter-widgets/controls",
          "model_name": "HTMLModel",
          "model_module_version": "1.5.0",
          "state": {
            "_dom_classes": [],
            "_model_module": "@jupyter-widgets/controls",
            "_model_module_version": "1.5.0",
            "_model_name": "HTMLModel",
            "_view_count": null,
            "_view_module": "@jupyter-widgets/controls",
            "_view_module_version": "1.5.0",
            "_view_name": "HTMLView",
            "description": "",
            "description_tooltip": null,
            "layout": "IPY_MODEL_6a18ee9ed0be46a2a159a942b8ff94b5",
            "placeholder": "​",
            "style": "IPY_MODEL_ef481082fbc74f59a1d58e68d6422ed3",
            "value": "model-00002-of-00002.safetensors: 100%"
          }
        },
        "cb2f23fe22b3485b9b6a322182a3a1d7": {
          "model_module": "@jupyter-widgets/controls",
          "model_name": "FloatProgressModel",
          "model_module_version": "1.5.0",
          "state": {
            "_dom_classes": [],
            "_model_module": "@jupyter-widgets/controls",
            "_model_module_version": "1.5.0",
            "_model_name": "FloatProgressModel",
            "_view_count": null,
            "_view_module": "@jupyter-widgets/controls",
            "_view_module_version": "1.5.0",
            "_view_name": "ProgressView",
            "bar_style": "success",
            "description": "",
            "description_tooltip": null,
            "layout": "IPY_MODEL_4ece5d49ee584844af28f4d0b690fbfd",
            "max": 1459729952,
            "min": 0,
            "orientation": "horizontal",
            "style": "IPY_MODEL_fcd610bb72ff4276a51174e4b28111ad",
            "value": 1459729952
          }
        },
        "35e4133b0d2642d38ae9cc671d07d269": {
          "model_module": "@jupyter-widgets/controls",
          "model_name": "HTMLModel",
          "model_module_version": "1.5.0",
          "state": {
            "_dom_classes": [],
            "_model_module": "@jupyter-widgets/controls",
            "_model_module_version": "1.5.0",
            "_model_name": "HTMLModel",
            "_view_count": null,
            "_view_module": "@jupyter-widgets/controls",
            "_view_module_version": "1.5.0",
            "_view_name": "HTMLView",
            "description": "",
            "description_tooltip": null,
            "layout": "IPY_MODEL_25a762394a2442d392f48cdfebcd5dc2",
            "placeholder": "​",
            "style": "IPY_MODEL_a413a571081d46d9aef21467ce4d42b1",
            "value": " 1.46G/1.46G [00:42&lt;00:00, 97.1MB/s]"
          }
        },
        "55569998fcb14ee0b9116f523cb0b05a": {
          "model_module": "@jupyter-widgets/base",
          "model_name": "LayoutModel",
          "model_module_version": "1.2.0",
          "state": {
            "_model_module": "@jupyter-widgets/base",
            "_model_module_version": "1.2.0",
            "_model_name": "LayoutModel",
            "_view_count": null,
            "_view_module": "@jupyter-widgets/base",
            "_view_module_version": "1.2.0",
            "_view_name": "LayoutView",
            "align_content": null,
            "align_items": null,
            "align_self": null,
            "border": null,
            "bottom": null,
            "display": null,
            "flex": null,
            "flex_flow": null,
            "grid_area": null,
            "grid_auto_columns": null,
            "grid_auto_flow": null,
            "grid_auto_rows": null,
            "grid_column": null,
            "grid_gap": null,
            "grid_row": null,
            "grid_template_areas": null,
            "grid_template_columns": null,
            "grid_template_rows": null,
            "height": null,
            "justify_content": null,
            "justify_items": null,
            "left": null,
            "margin": null,
            "max_height": null,
            "max_width": null,
            "min_height": null,
            "min_width": null,
            "object_fit": null,
            "object_position": null,
            "order": null,
            "overflow": null,
            "overflow_x": null,
            "overflow_y": null,
            "padding": null,
            "right": null,
            "top": null,
            "visibility": null,
            "width": null
          }
        },
        "6a18ee9ed0be46a2a159a942b8ff94b5": {
          "model_module": "@jupyter-widgets/base",
          "model_name": "LayoutModel",
          "model_module_version": "1.2.0",
          "state": {
            "_model_module": "@jupyter-widgets/base",
            "_model_module_version": "1.2.0",
            "_model_name": "LayoutModel",
            "_view_count": null,
            "_view_module": "@jupyter-widgets/base",
            "_view_module_version": "1.2.0",
            "_view_name": "LayoutView",
            "align_content": null,
            "align_items": null,
            "align_self": null,
            "border": null,
            "bottom": null,
            "display": null,
            "flex": null,
            "flex_flow": null,
            "grid_area": null,
            "grid_auto_columns": null,
            "grid_auto_flow": null,
            "grid_auto_rows": null,
            "grid_column": null,
            "grid_gap": null,
            "grid_row": null,
            "grid_template_areas": null,
            "grid_template_columns": null,
            "grid_template_rows": null,
            "height": null,
            "justify_content": null,
            "justify_items": null,
            "left": null,
            "margin": null,
            "max_height": null,
            "max_width": null,
            "min_height": null,
            "min_width": null,
            "object_fit": null,
            "object_position": null,
            "order": null,
            "overflow": null,
            "overflow_x": null,
            "overflow_y": null,
            "padding": null,
            "right": null,
            "top": null,
            "visibility": null,
            "width": null
          }
        },
        "ef481082fbc74f59a1d58e68d6422ed3": {
          "model_module": "@jupyter-widgets/controls",
          "model_name": "DescriptionStyleModel",
          "model_module_version": "1.5.0",
          "state": {
            "_model_module": "@jupyter-widgets/controls",
            "_model_module_version": "1.5.0",
            "_model_name": "DescriptionStyleModel",
            "_view_count": null,
            "_view_module": "@jupyter-widgets/base",
            "_view_module_version": "1.2.0",
            "_view_name": "StyleView",
            "description_width": ""
          }
        },
        "4ece5d49ee584844af28f4d0b690fbfd": {
          "model_module": "@jupyter-widgets/base",
          "model_name": "LayoutModel",
          "model_module_version": "1.2.0",
          "state": {
            "_model_module": "@jupyter-widgets/base",
            "_model_module_version": "1.2.0",
            "_model_name": "LayoutModel",
            "_view_count": null,
            "_view_module": "@jupyter-widgets/base",
            "_view_module_version": "1.2.0",
            "_view_name": "LayoutView",
            "align_content": null,
            "align_items": null,
            "align_self": null,
            "border": null,
            "bottom": null,
            "display": null,
            "flex": null,
            "flex_flow": null,
            "grid_area": null,
            "grid_auto_columns": null,
            "grid_auto_flow": null,
            "grid_auto_rows": null,
            "grid_column": null,
            "grid_gap": null,
            "grid_row": null,
            "grid_template_areas": null,
            "grid_template_columns": null,
            "grid_template_rows": null,
            "height": null,
            "justify_content": null,
            "justify_items": null,
            "left": null,
            "margin": null,
            "max_height": null,
            "max_width": null,
            "min_height": null,
            "min_width": null,
            "object_fit": null,
            "object_position": null,
            "order": null,
            "overflow": null,
            "overflow_x": null,
            "overflow_y": null,
            "padding": null,
            "right": null,
            "top": null,
            "visibility": null,
            "width": null
          }
        },
        "fcd610bb72ff4276a51174e4b28111ad": {
          "model_module": "@jupyter-widgets/controls",
          "model_name": "ProgressStyleModel",
          "model_module_version": "1.5.0",
          "state": {
            "_model_module": "@jupyter-widgets/controls",
            "_model_module_version": "1.5.0",
            "_model_name": "ProgressStyleModel",
            "_view_count": null,
            "_view_module": "@jupyter-widgets/base",
            "_view_module_version": "1.2.0",
            "_view_name": "StyleView",
            "bar_color": null,
            "description_width": ""
          }
        },
        "25a762394a2442d392f48cdfebcd5dc2": {
          "model_module": "@jupyter-widgets/base",
          "model_name": "LayoutModel",
          "model_module_version": "1.2.0",
          "state": {
            "_model_module": "@jupyter-widgets/base",
            "_model_module_version": "1.2.0",
            "_model_name": "LayoutModel",
            "_view_count": null,
            "_view_module": "@jupyter-widgets/base",
            "_view_module_version": "1.2.0",
            "_view_name": "LayoutView",
            "align_content": null,
            "align_items": null,
            "align_self": null,
            "border": null,
            "bottom": null,
            "display": null,
            "flex": null,
            "flex_flow": null,
            "grid_area": null,
            "grid_auto_columns": null,
            "grid_auto_flow": null,
            "grid_auto_rows": null,
            "grid_column": null,
            "grid_gap": null,
            "grid_row": null,
            "grid_template_areas": null,
            "grid_template_columns": null,
            "grid_template_rows": null,
            "height": null,
            "justify_content": null,
            "justify_items": null,
            "left": null,
            "margin": null,
            "max_height": null,
            "max_width": null,
            "min_height": null,
            "min_width": null,
            "object_fit": null,
            "object_position": null,
            "order": null,
            "overflow": null,
            "overflow_x": null,
            "overflow_y": null,
            "padding": null,
            "right": null,
            "top": null,
            "visibility": null,
            "width": null
          }
        },
        "a413a571081d46d9aef21467ce4d42b1": {
          "model_module": "@jupyter-widgets/controls",
          "model_name": "DescriptionStyleModel",
          "model_module_version": "1.5.0",
          "state": {
            "_model_module": "@jupyter-widgets/controls",
            "_model_module_version": "1.5.0",
            "_model_name": "DescriptionStyleModel",
            "_view_count": null,
            "_view_module": "@jupyter-widgets/base",
            "_view_module_version": "1.2.0",
            "_view_name": "StyleView",
            "description_width": ""
          }
        },
        "20f0b33dd0fe43fc87d0cca320f65ea2": {
          "model_module": "@jupyter-widgets/controls",
          "model_name": "HBoxModel",
          "model_module_version": "1.5.0",
          "state": {
            "_dom_classes": [],
            "_model_module": "@jupyter-widgets/controls",
            "_model_module_version": "1.5.0",
            "_model_name": "HBoxModel",
            "_view_count": null,
            "_view_module": "@jupyter-widgets/controls",
            "_view_module_version": "1.5.0",
            "_view_name": "HBoxView",
            "box_style": "",
            "children": [
              "IPY_MODEL_cead192ea59c4f0798e54abfdc15ab8c",
              "IPY_MODEL_ccb4efa0590e4c43abdfd727a9480702",
              "IPY_MODEL_4abc21266cc84e4f8fd696d11171f5cb"
            ],
            "layout": "IPY_MODEL_4f3e6c696f1547269feadb01524464df"
          }
        },
        "cead192ea59c4f0798e54abfdc15ab8c": {
          "model_module": "@jupyter-widgets/controls",
          "model_name": "HTMLModel",
          "model_module_version": "1.5.0",
          "state": {
            "_dom_classes": [],
            "_model_module": "@jupyter-widgets/controls",
            "_model_module_version": "1.5.0",
            "_model_name": "HTMLModel",
            "_view_count": null,
            "_view_module": "@jupyter-widgets/controls",
            "_view_module_version": "1.5.0",
            "_view_name": "HTMLView",
            "description": "",
            "description_tooltip": null,
            "layout": "IPY_MODEL_af53f91fcdbe449f93a665b2a88b0065",
            "placeholder": "​",
            "style": "IPY_MODEL_015d8cb637db4f3c89624c48bf0a6335",
            "value": "Loading checkpoint shards: 100%"
          }
        },
        "ccb4efa0590e4c43abdfd727a9480702": {
          "model_module": "@jupyter-widgets/controls",
          "model_name": "FloatProgressModel",
          "model_module_version": "1.5.0",
          "state": {
            "_dom_classes": [],
            "_model_module": "@jupyter-widgets/controls",
            "_model_module_version": "1.5.0",
            "_model_name": "FloatProgressModel",
            "_view_count": null,
            "_view_module": "@jupyter-widgets/controls",
            "_view_module_version": "1.5.0",
            "_view_name": "ProgressView",
            "bar_style": "success",
            "description": "",
            "description_tooltip": null,
            "layout": "IPY_MODEL_a3efe4ff4fa844ce816c294c8cd6c6cb",
            "max": 2,
            "min": 0,
            "orientation": "horizontal",
            "style": "IPY_MODEL_9ad1ea8cde9c47c1be51baa2a6338912",
            "value": 2
          }
        },
        "4abc21266cc84e4f8fd696d11171f5cb": {
          "model_module": "@jupyter-widgets/controls",
          "model_name": "HTMLModel",
          "model_module_version": "1.5.0",
          "state": {
            "_dom_classes": [],
            "_model_module": "@jupyter-widgets/controls",
            "_model_module_version": "1.5.0",
            "_model_name": "HTMLModel",
            "_view_count": null,
            "_view_module": "@jupyter-widgets/controls",
            "_view_module_version": "1.5.0",
            "_view_name": "HTMLView",
            "description": "",
            "description_tooltip": null,
            "layout": "IPY_MODEL_ba50ccac0a104bac9e76ecdca75076de",
            "placeholder": "​",
            "style": "IPY_MODEL_e08fa8aa80c141119f9807368fc2f10b",
            "value": " 2/2 [00:35&lt;00:00, 16.26s/it]"
          }
        },
        "4f3e6c696f1547269feadb01524464df": {
          "model_module": "@jupyter-widgets/base",
          "model_name": "LayoutModel",
          "model_module_version": "1.2.0",
          "state": {
            "_model_module": "@jupyter-widgets/base",
            "_model_module_version": "1.2.0",
            "_model_name": "LayoutModel",
            "_view_count": null,
            "_view_module": "@jupyter-widgets/base",
            "_view_module_version": "1.2.0",
            "_view_name": "LayoutView",
            "align_content": null,
            "align_items": null,
            "align_self": null,
            "border": null,
            "bottom": null,
            "display": null,
            "flex": null,
            "flex_flow": null,
            "grid_area": null,
            "grid_auto_columns": null,
            "grid_auto_flow": null,
            "grid_auto_rows": null,
            "grid_column": null,
            "grid_gap": null,
            "grid_row": null,
            "grid_template_areas": null,
            "grid_template_columns": null,
            "grid_template_rows": null,
            "height": null,
            "justify_content": null,
            "justify_items": null,
            "left": null,
            "margin": null,
            "max_height": null,
            "max_width": null,
            "min_height": null,
            "min_width": null,
            "object_fit": null,
            "object_position": null,
            "order": null,
            "overflow": null,
            "overflow_x": null,
            "overflow_y": null,
            "padding": null,
            "right": null,
            "top": null,
            "visibility": null,
            "width": null
          }
        },
        "af53f91fcdbe449f93a665b2a88b0065": {
          "model_module": "@jupyter-widgets/base",
          "model_name": "LayoutModel",
          "model_module_version": "1.2.0",
          "state": {
            "_model_module": "@jupyter-widgets/base",
            "_model_module_version": "1.2.0",
            "_model_name": "LayoutModel",
            "_view_count": null,
            "_view_module": "@jupyter-widgets/base",
            "_view_module_version": "1.2.0",
            "_view_name": "LayoutView",
            "align_content": null,
            "align_items": null,
            "align_self": null,
            "border": null,
            "bottom": null,
            "display": null,
            "flex": null,
            "flex_flow": null,
            "grid_area": null,
            "grid_auto_columns": null,
            "grid_auto_flow": null,
            "grid_auto_rows": null,
            "grid_column": null,
            "grid_gap": null,
            "grid_row": null,
            "grid_template_areas": null,
            "grid_template_columns": null,
            "grid_template_rows": null,
            "height": null,
            "justify_content": null,
            "justify_items": null,
            "left": null,
            "margin": null,
            "max_height": null,
            "max_width": null,
            "min_height": null,
            "min_width": null,
            "object_fit": null,
            "object_position": null,
            "order": null,
            "overflow": null,
            "overflow_x": null,
            "overflow_y": null,
            "padding": null,
            "right": null,
            "top": null,
            "visibility": null,
            "width": null
          }
        },
        "015d8cb637db4f3c89624c48bf0a6335": {
          "model_module": "@jupyter-widgets/controls",
          "model_name": "DescriptionStyleModel",
          "model_module_version": "1.5.0",
          "state": {
            "_model_module": "@jupyter-widgets/controls",
            "_model_module_version": "1.5.0",
            "_model_name": "DescriptionStyleModel",
            "_view_count": null,
            "_view_module": "@jupyter-widgets/base",
            "_view_module_version": "1.2.0",
            "_view_name": "StyleView",
            "description_width": ""
          }
        },
        "a3efe4ff4fa844ce816c294c8cd6c6cb": {
          "model_module": "@jupyter-widgets/base",
          "model_name": "LayoutModel",
          "model_module_version": "1.2.0",
          "state": {
            "_model_module": "@jupyter-widgets/base",
            "_model_module_version": "1.2.0",
            "_model_name": "LayoutModel",
            "_view_count": null,
            "_view_module": "@jupyter-widgets/base",
            "_view_module_version": "1.2.0",
            "_view_name": "LayoutView",
            "align_content": null,
            "align_items": null,
            "align_self": null,
            "border": null,
            "bottom": null,
            "display": null,
            "flex": null,
            "flex_flow": null,
            "grid_area": null,
            "grid_auto_columns": null,
            "grid_auto_flow": null,
            "grid_auto_rows": null,
            "grid_column": null,
            "grid_gap": null,
            "grid_row": null,
            "grid_template_areas": null,
            "grid_template_columns": null,
            "grid_template_rows": null,
            "height": null,
            "justify_content": null,
            "justify_items": null,
            "left": null,
            "margin": null,
            "max_height": null,
            "max_width": null,
            "min_height": null,
            "min_width": null,
            "object_fit": null,
            "object_position": null,
            "order": null,
            "overflow": null,
            "overflow_x": null,
            "overflow_y": null,
            "padding": null,
            "right": null,
            "top": null,
            "visibility": null,
            "width": null
          }
        },
        "9ad1ea8cde9c47c1be51baa2a6338912": {
          "model_module": "@jupyter-widgets/controls",
          "model_name": "ProgressStyleModel",
          "model_module_version": "1.5.0",
          "state": {
            "_model_module": "@jupyter-widgets/controls",
            "_model_module_version": "1.5.0",
            "_model_name": "ProgressStyleModel",
            "_view_count": null,
            "_view_module": "@jupyter-widgets/base",
            "_view_module_version": "1.2.0",
            "_view_name": "StyleView",
            "bar_color": null,
            "description_width": ""
          }
        },
        "ba50ccac0a104bac9e76ecdca75076de": {
          "model_module": "@jupyter-widgets/base",
          "model_name": "LayoutModel",
          "model_module_version": "1.2.0",
          "state": {
            "_model_module": "@jupyter-widgets/base",
            "_model_module_version": "1.2.0",
            "_model_name": "LayoutModel",
            "_view_count": null,
            "_view_module": "@jupyter-widgets/base",
            "_view_module_version": "1.2.0",
            "_view_name": "LayoutView",
            "align_content": null,
            "align_items": null,
            "align_self": null,
            "border": null,
            "bottom": null,
            "display": null,
            "flex": null,
            "flex_flow": null,
            "grid_area": null,
            "grid_auto_columns": null,
            "grid_auto_flow": null,
            "grid_auto_rows": null,
            "grid_column": null,
            "grid_gap": null,
            "grid_row": null,
            "grid_template_areas": null,
            "grid_template_columns": null,
            "grid_template_rows": null,
            "height": null,
            "justify_content": null,
            "justify_items": null,
            "left": null,
            "margin": null,
            "max_height": null,
            "max_width": null,
            "min_height": null,
            "min_width": null,
            "object_fit": null,
            "object_position": null,
            "order": null,
            "overflow": null,
            "overflow_x": null,
            "overflow_y": null,
            "padding": null,
            "right": null,
            "top": null,
            "visibility": null,
            "width": null
          }
        },
        "e08fa8aa80c141119f9807368fc2f10b": {
          "model_module": "@jupyter-widgets/controls",
          "model_name": "DescriptionStyleModel",
          "model_module_version": "1.5.0",
          "state": {
            "_model_module": "@jupyter-widgets/controls",
            "_model_module_version": "1.5.0",
            "_model_name": "DescriptionStyleModel",
            "_view_count": null,
            "_view_module": "@jupyter-widgets/base",
            "_view_module_version": "1.2.0",
            "_view_name": "StyleView",
            "description_width": ""
          }
        },
        "9df0a773028245d7bb99a29264934fed": {
          "model_module": "@jupyter-widgets/controls",
          "model_name": "HBoxModel",
          "model_module_version": "1.5.0",
          "state": {
            "_dom_classes": [],
            "_model_module": "@jupyter-widgets/controls",
            "_model_module_version": "1.5.0",
            "_model_name": "HBoxModel",
            "_view_count": null,
            "_view_module": "@jupyter-widgets/controls",
            "_view_module_version": "1.5.0",
            "_view_name": "HBoxView",
            "box_style": "",
            "children": [
              "IPY_MODEL_8cd9308d3e00456abb99c6b3c7506a8b",
              "IPY_MODEL_6706a8176a4b4afd89f2e5db2a392e44",
              "IPY_MODEL_d946bef3c88b4558a3bd8f119a9da4f0"
            ],
            "layout": "IPY_MODEL_dd255746163e45b5a70f957968f8fc98"
          }
        },
        "8cd9308d3e00456abb99c6b3c7506a8b": {
          "model_module": "@jupyter-widgets/controls",
          "model_name": "HTMLModel",
          "model_module_version": "1.5.0",
          "state": {
            "_dom_classes": [],
            "_model_module": "@jupyter-widgets/controls",
            "_model_module_version": "1.5.0",
            "_model_name": "HTMLModel",
            "_view_count": null,
            "_view_module": "@jupyter-widgets/controls",
            "_view_module_version": "1.5.0",
            "_view_name": "HTMLView",
            "description": "",
            "description_tooltip": null,
            "layout": "IPY_MODEL_a24325ddf8314b4dad73826715aa30c9",
            "placeholder": "​",
            "style": "IPY_MODEL_a68ac7e8eee0413c89061e8088f24c63",
            "value": "generation_config.json: 100%"
          }
        },
        "6706a8176a4b4afd89f2e5db2a392e44": {
          "model_module": "@jupyter-widgets/controls",
          "model_name": "FloatProgressModel",
          "model_module_version": "1.5.0",
          "state": {
            "_dom_classes": [],
            "_model_module": "@jupyter-widgets/controls",
            "_model_module_version": "1.5.0",
            "_model_name": "FloatProgressModel",
            "_view_count": null,
            "_view_module": "@jupyter-widgets/controls",
            "_view_module_version": "1.5.0",
            "_view_name": "ProgressView",
            "bar_style": "success",
            "description": "",
            "description_tooltip": null,
            "layout": "IPY_MODEL_5e33f1e34b324c94907f81257c011cf6",
            "max": 302,
            "min": 0,
            "orientation": "horizontal",
            "style": "IPY_MODEL_d88cca7cd78b4e478bf31aaffee7386a",
            "value": 302
          }
        },
        "d946bef3c88b4558a3bd8f119a9da4f0": {
          "model_module": "@jupyter-widgets/controls",
          "model_name": "HTMLModel",
          "model_module_version": "1.5.0",
          "state": {
            "_dom_classes": [],
            "_model_module": "@jupyter-widgets/controls",
            "_model_module_version": "1.5.0",
            "_model_name": "HTMLModel",
            "_view_count": null,
            "_view_module": "@jupyter-widgets/controls",
            "_view_module_version": "1.5.0",
            "_view_name": "HTMLView",
            "description": "",
            "description_tooltip": null,
            "layout": "IPY_MODEL_5c0e9e61020a442dbe83f06bbbb554aa",
            "placeholder": "​",
            "style": "IPY_MODEL_50e7f887281d47b586a37c7977af8fa1",
            "value": " 302/302 [00:00&lt;00:00, 31.7kB/s]"
          }
        },
        "dd255746163e45b5a70f957968f8fc98": {
          "model_module": "@jupyter-widgets/base",
          "model_name": "LayoutModel",
          "model_module_version": "1.2.0",
          "state": {
            "_model_module": "@jupyter-widgets/base",
            "_model_module_version": "1.2.0",
            "_model_name": "LayoutModel",
            "_view_count": null,
            "_view_module": "@jupyter-widgets/base",
            "_view_module_version": "1.2.0",
            "_view_name": "LayoutView",
            "align_content": null,
            "align_items": null,
            "align_self": null,
            "border": null,
            "bottom": null,
            "display": null,
            "flex": null,
            "flex_flow": null,
            "grid_area": null,
            "grid_auto_columns": null,
            "grid_auto_flow": null,
            "grid_auto_rows": null,
            "grid_column": null,
            "grid_gap": null,
            "grid_row": null,
            "grid_template_areas": null,
            "grid_template_columns": null,
            "grid_template_rows": null,
            "height": null,
            "justify_content": null,
            "justify_items": null,
            "left": null,
            "margin": null,
            "max_height": null,
            "max_width": null,
            "min_height": null,
            "min_width": null,
            "object_fit": null,
            "object_position": null,
            "order": null,
            "overflow": null,
            "overflow_x": null,
            "overflow_y": null,
            "padding": null,
            "right": null,
            "top": null,
            "visibility": null,
            "width": null
          }
        },
        "a24325ddf8314b4dad73826715aa30c9": {
          "model_module": "@jupyter-widgets/base",
          "model_name": "LayoutModel",
          "model_module_version": "1.2.0",
          "state": {
            "_model_module": "@jupyter-widgets/base",
            "_model_module_version": "1.2.0",
            "_model_name": "LayoutModel",
            "_view_count": null,
            "_view_module": "@jupyter-widgets/base",
            "_view_module_version": "1.2.0",
            "_view_name": "LayoutView",
            "align_content": null,
            "align_items": null,
            "align_self": null,
            "border": null,
            "bottom": null,
            "display": null,
            "flex": null,
            "flex_flow": null,
            "grid_area": null,
            "grid_auto_columns": null,
            "grid_auto_flow": null,
            "grid_auto_rows": null,
            "grid_column": null,
            "grid_gap": null,
            "grid_row": null,
            "grid_template_areas": null,
            "grid_template_columns": null,
            "grid_template_rows": null,
            "height": null,
            "justify_content": null,
            "justify_items": null,
            "left": null,
            "margin": null,
            "max_height": null,
            "max_width": null,
            "min_height": null,
            "min_width": null,
            "object_fit": null,
            "object_position": null,
            "order": null,
            "overflow": null,
            "overflow_x": null,
            "overflow_y": null,
            "padding": null,
            "right": null,
            "top": null,
            "visibility": null,
            "width": null
          }
        },
        "a68ac7e8eee0413c89061e8088f24c63": {
          "model_module": "@jupyter-widgets/controls",
          "model_name": "DescriptionStyleModel",
          "model_module_version": "1.5.0",
          "state": {
            "_model_module": "@jupyter-widgets/controls",
            "_model_module_version": "1.5.0",
            "_model_name": "DescriptionStyleModel",
            "_view_count": null,
            "_view_module": "@jupyter-widgets/base",
            "_view_module_version": "1.2.0",
            "_view_name": "StyleView",
            "description_width": ""
          }
        },
        "5e33f1e34b324c94907f81257c011cf6": {
          "model_module": "@jupyter-widgets/base",
          "model_name": "LayoutModel",
          "model_module_version": "1.2.0",
          "state": {
            "_model_module": "@jupyter-widgets/base",
            "_model_module_version": "1.2.0",
            "_model_name": "LayoutModel",
            "_view_count": null,
            "_view_module": "@jupyter-widgets/base",
            "_view_module_version": "1.2.0",
            "_view_name": "LayoutView",
            "align_content": null,
            "align_items": null,
            "align_self": null,
            "border": null,
            "bottom": null,
            "display": null,
            "flex": null,
            "flex_flow": null,
            "grid_area": null,
            "grid_auto_columns": null,
            "grid_auto_flow": null,
            "grid_auto_rows": null,
            "grid_column": null,
            "grid_gap": null,
            "grid_row": null,
            "grid_template_areas": null,
            "grid_template_columns": null,
            "grid_template_rows": null,
            "height": null,
            "justify_content": null,
            "justify_items": null,
            "left": null,
            "margin": null,
            "max_height": null,
            "max_width": null,
            "min_height": null,
            "min_width": null,
            "object_fit": null,
            "object_position": null,
            "order": null,
            "overflow": null,
            "overflow_x": null,
            "overflow_y": null,
            "padding": null,
            "right": null,
            "top": null,
            "visibility": null,
            "width": null
          }
        },
        "d88cca7cd78b4e478bf31aaffee7386a": {
          "model_module": "@jupyter-widgets/controls",
          "model_name": "ProgressStyleModel",
          "model_module_version": "1.5.0",
          "state": {
            "_model_module": "@jupyter-widgets/controls",
            "_model_module_version": "1.5.0",
            "_model_name": "ProgressStyleModel",
            "_view_count": null,
            "_view_module": "@jupyter-widgets/base",
            "_view_module_version": "1.2.0",
            "_view_name": "StyleView",
            "bar_color": null,
            "description_width": ""
          }
        },
        "5c0e9e61020a442dbe83f06bbbb554aa": {
          "model_module": "@jupyter-widgets/base",
          "model_name": "LayoutModel",
          "model_module_version": "1.2.0",
          "state": {
            "_model_module": "@jupyter-widgets/base",
            "_model_module_version": "1.2.0",
            "_model_name": "LayoutModel",
            "_view_count": null,
            "_view_module": "@jupyter-widgets/base",
            "_view_module_version": "1.2.0",
            "_view_name": "LayoutView",
            "align_content": null,
            "align_items": null,
            "align_self": null,
            "border": null,
            "bottom": null,
            "display": null,
            "flex": null,
            "flex_flow": null,
            "grid_area": null,
            "grid_auto_columns": null,
            "grid_auto_flow": null,
            "grid_auto_rows": null,
            "grid_column": null,
            "grid_gap": null,
            "grid_row": null,
            "grid_template_areas": null,
            "grid_template_columns": null,
            "grid_template_rows": null,
            "height": null,
            "justify_content": null,
            "justify_items": null,
            "left": null,
            "margin": null,
            "max_height": null,
            "max_width": null,
            "min_height": null,
            "min_width": null,
            "object_fit": null,
            "object_position": null,
            "order": null,
            "overflow": null,
            "overflow_x": null,
            "overflow_y": null,
            "padding": null,
            "right": null,
            "top": null,
            "visibility": null,
            "width": null
          }
        },
        "50e7f887281d47b586a37c7977af8fa1": {
          "model_module": "@jupyter-widgets/controls",
          "model_name": "DescriptionStyleModel",
          "model_module_version": "1.5.0",
          "state": {
            "_model_module": "@jupyter-widgets/controls",
            "_model_module_version": "1.5.0",
            "_model_name": "DescriptionStyleModel",
            "_view_count": null,
            "_view_module": "@jupyter-widgets/base",
            "_view_module_version": "1.2.0",
            "_view_name": "StyleView",
            "description_width": ""
          }
        }
      }
    }
  },
  "nbformat": 4,
  "nbformat_minor": 0
}
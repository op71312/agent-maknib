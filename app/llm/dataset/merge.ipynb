{
 "cells": [
  {
   "cell_type": "code",
   "execution_count": 6,
   "id": "4dfcaf7b",
   "metadata": {},
   "outputs": [
    {
     "name": "stdout",
     "output_type": "stream",
     "text": [
      "After merge: (36, 6)\n",
      "{'ชื่อกลยุทธ์': {0: 'กวนน้ำจับปลา'}, 'หมวด': {0: 'ติดพัน'}, 'ตัวอย่างสถานการณ์': {0: ['อ้วนเสี้ยวใช้ซุนจ้านบุกเกงจิ๋วแทนตัวเอง ทำให้ฮันฮกเตรียมรับไม่ทันและยึดเมืองได้', 'ฝ่ายโรงงานแพร่ข่าวข่าวลือการหยุดเดินเครื่องกระทันหัน เพื่อตรวจระบบคู่แข่งจนหยุดชะงัก', 'นักลงทุนใช้ข้อมูลสับสนเกี่ยวกับการควบกิจการเพื่อให้ตลาดราคาหุ้นผันผวนก่อนเข้าเทรด', 'ทีมแฮกเกอร์ปล่อย Trojan ปลอม เพื่อดูว่าฝ่ายป้องกันเผลอตรงไหน แล้วจึงเจาะจริง', 'ทีมส่งจดหมายข่าวผิดข้อมูลเพื่อดึงให้คู่แข่งปรับยุทธศาสตร์ไว้ผิดทางเอง']}, 'วิเคราะห์': {0: ['ใช้กองกำลังตัวแทนก่อความสับสน เปิดช่องให้เราบุกเข้ายึดพื้นที่โดยตรง', 'ปล่อยข่าวทำให้คู่แข่งตื่นตระหนก เตลิดแพลนให้เราควบคุมตลาดได้ง่ายขึ้น', 'เดือนรู้ราคาขึ้นลงเร็ว เปิดทางให้ซื้อขายได้เปรียบ', 'สร้างความปั่นป่วนเพื่อค้นหาช่องโหว่ ก่อนโจมตีหลัก', 'บอยกทางยุทธศาสตร์ของคู่พ่าย จึงสามารถบุกได้โดยไม่ติดต่อต้านหนัก']}, 'ลักษณะ': {0: 'หมายถึงการรู้จักฉวยจังหวะที่ศัตรูเกิดความปั่นป่วนภายในกองทัพให้เป็นประโยชน์ แย่งชิงเอาผลประโยชน์นั้นมาเป็นของตน นำกำลังทหารบุกเข้าโจมตีเพื่อให้ได้มาซึ่งชัยชนะ การเอาชัยชนะจากศัตรูโดยอาศัยความปั่นป่วนภายในกองทัพเป็นดุจดังพายุฝนที่พัดกระหน่ำในยามค่ำคืน ภูมิประเทศที่ต่ำกว่าก็กักขังน้ำฝนไว้เป็นแอ่ง ธรรมชาติของมนุษย์เมื่อสัมผัสกับไอเย็นและละอองฝนจักเข้าสู่ห้วงนิทรา การเฝ้าระวังเวรยามย่อมหลงละหลวม กองกำลังป้องกันแนวสำคัญย่อมเพิกเฉยต่อหน้าที่ ทำให้สามารถบุกเข้าโจมตีที่ยึดครองได้โดยง่าย'}, 'ตัวอย่างกลยุทธ์': {0: 'การนำเอากลยุทธ์กวนน้ำจับปลาไปใช้ได้แก่อ้วนเสี้ยวที่วางกลอุบายหลอกใช้กองซุนจ้านในการนำกองกำลังทหารบุกร่วมเข้าโจมตียึดเอาเกงจิ๋วจากฮันฮอก'}}\n",
      "Total prompts: 216\n"
     ]
    }
   ],
   "source": [
    "import pandas as pd\n",
    "\n",
    "# 1) อ่านไฟล์\n",
    "df1 = pd.read_csv(\"36_stratagems.csv\")\n",
    "df2 = pd.read_csv(\"36strategies-description.csv\")\n",
    "\n",
    "# 2) Strip whitespace รอบ key columns\n",
    "for df in (df1, df2):\n",
    "    df.columns = df.columns.str.strip()\n",
    "    df['ชื่อกลยุทธ์'] = df['ชื่อกลยุทธ์'].str.strip()\n",
    "    df['หมวด']        = df['หมวด'].str.strip()\n",
    "\n",
    "# 3) Aggregate df1 → list-columns\n",
    "agg = (\n",
    "    df1\n",
    "    .groupby(['ชื่อกลยุทธ์','หมวด'], as_index=False)\n",
    "    .agg({\n",
    "        'ตัวอย่างสถานการณ์': lambda x: list(x),\n",
    "        'วิเคราะห์':            lambda x: list(x),\n",
    "    })\n",
    ")\n",
    "# agg now has one row per strategy, with two list-columns\n",
    "\n",
    "# 4) Merge กับ df2\n",
    "df_merged = pd.merge(\n",
    "    agg,\n",
    "    df2,\n",
    "    on=['ชื่อกลยุทธ์','หมวด'],\n",
    "    how='inner'\n",
    ")\n",
    "print(\"After merge:\", df_merged.shape)   # e.g. (36, 6)\n",
    "print(df_merged.head(1).to_dict())\n",
    "\n",
    "# 5) สร้าง prompts โดย loop ผ่านแต่ละ list\n",
    "analysis_prompts = []\n",
    "description_prompts = []\n",
    "\n",
    "for _, row in df_merged.iterrows():\n",
    "    # (a) analysis prompts: 5 per strategy\n",
    "    for sit, anl in zip(row['ตัวอย่างสถานการณ์'], row['วิเคราะห์']):\n",
    "        analysis_prompts.append(\n",
    "            f\"กลยุทธ์: {row['ชื่อกลยุทธ์']}\\n\"\n",
    "            f\"สถานการณ์: {sit}\\n\"\n",
    "            f\"วิเคราะห์: {anl}\"\n",
    "        )\n",
    "    # (b) description prompt: 1 per strategy\n",
    "    description_prompts.append(\n",
    "        f\"อธิบายกลยุทธ์ \\\"{row['ชื่อกลยุทธ์']}\\\"\\n\\n\"\n",
    "        f\"{row['ลักษณะ']}\\n\\n\"\n",
    "        f\"ตัวอย่าง: {row['ตัวอย่างกลยุทธ์']}\"\n",
    "    )\n",
    "\n",
    "# รวมกันเป็นชุดสุดท้าย\n",
    "all_prompts = analysis_prompts + description_prompts\n",
    "print(\"Total prompts:\", len(all_prompts))  # = 36*5 + 36 = 216\n"
   ]
  },
  {
   "cell_type": "code",
   "execution_count": null,
   "id": "b81a2b2d",
   "metadata": {},
   "outputs": [],
   "source": []
  }
 ],
 "metadata": {
  "kernelspec": {
   "display_name": ".venv",
   "language": "python",
   "name": "python3"
  },
  "language_info": {
   "codemirror_mode": {
    "name": "ipython",
    "version": 3
   },
   "file_extension": ".py",
   "mimetype": "text/x-python",
   "name": "python",
   "nbconvert_exporter": "python",
   "pygments_lexer": "ipython3",
   "version": "3.12.6"
  }
 },
 "nbformat": 4,
 "nbformat_minor": 5
}

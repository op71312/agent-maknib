{
 "cells": [
  {
   "cell_type": "code",
   "execution_count": 1,
   "id": "561387fb",
   "metadata": {},
   "outputs": [],
   "source": [
    "from langchain_core.messages import HumanMessage\n",
    "from langchain_community.chat_models import ChatOllama\n"
   ]
  },
  {
   "cell_type": "code",
   "execution_count": 2,
   "id": "b9f79af0",
   "metadata": {},
   "outputs": [
    {
     "name": "stderr",
     "output_type": "stream",
     "text": [
      "C:\\Users\\User\\AppData\\Local\\Temp\\ipykernel_11220\\747115600.py:1: LangChainDeprecationWarning: The class `ChatOllama` was deprecated in LangChain 0.3.1 and will be removed in 1.0.0. An updated version of the class exists in the :class:`~langchain-ollama package and should be used instead. To use it run `pip install -U :class:`~langchain-ollama` and import as `from :class:`~langchain_ollama import ChatOllama``.\n",
      "  model = ChatOllama(\n"
     ]
    }
   ],
   "source": [
    "model = ChatOllama(\n",
    "    model=\"scb10x/llama3.2-typhoon2-t1-3b-research-preview\"\n",
    ")\n"
   ]
  },
  {
   "cell_type": "code",
   "execution_count": 3,
   "id": "e825dbde",
   "metadata": {},
   "outputs": [],
   "source": [
    "messages = [HumanMessage(content=\"อธิบายกลยุทธ์ปิดฟ้าข้ามทะเล แบบเข้าใจง่าย\")]"
   ]
  },
  {
   "cell_type": "code",
   "execution_count": 4,
   "id": "433579ff",
   "metadata": {},
   "outputs": [],
   "source": [
    "response = model.invoke(messages)"
   ]
  },
  {
   "cell_type": "code",
   "execution_count": 5,
   "id": "b58911cf",
   "metadata": {},
   "outputs": [
    {
     "name": "stdout",
     "output_type": "stream",
     "text": [
      "<thoughts>\n",
      "\n",
      "<plan>\n",
      "<step order=\"1\">ทำความเข้าใจคำว่า \"การปิดล้อมทางอากาศ\" และบริบท</step>\n",
      "<step order=\"2\">อธิบายกลยุทธ์โดยใช้ภาษาที่เข้าใจง่ายและเปรียบเทียบกับสถานการณ์ที่คุ้นเคย</step>\n",
      "<step order=\"3\">สรุปแนวคิดหลักให้ชัดเจน</step>\n",
      "<step order=\"4\">ตรวจสอบความชัดเจนและความเหมาะสมของคำอธิบาย</step>\n",
      "</plan>\n",
      "\n",
      "<step>\n",
      "<title>ทำความเข้าใจคำว่า \"การปิดล้อมทางอากาศ\"</title>\n",
      "<scratch_pad>\n",
      "\"การปิดล้อมทางอากาศ\" หมายถึงกลยุทธ์ทางการทหารที่ใช้เครื่องบินเพื่อโจมตีหรือปกป้องพื้นที่ โดยมักเกี่ยวข้องกับการควบคุมอากาศเหนือพื้นที่เป้าหมาย\n",
      "</scratch_pad>\n",
      "<summary>ฉันกำลังทำความเข้าใจคำว่า \"การปิดล้อมทางอากาศ\" เพื่อให้สามารถอธิบายกลยุทธ์นี้ได้อย่างถูกต้องและชัดเจน</summary>\n",
      "<next_step>อธิบายกลยุทธ์โดยใช้ภาษาที่เข้าใจง่ายและเปรียบเทียบกับสถานการณ์ที่คุ้นเคย</next_step>\n",
      "</step>\n",
      "\n",
      "<step>\n",
      "<title>อธิบายกลยุทธ์โดยใช้ภาษาที่เข้าใจง่าย</title>\n",
      "<scratch_pad>\n",
      "1. **การปิดล้อมทางอากาศ** คือการใช้เครื่องบินเพื่อปกป้องหรือโจมตีเป้าหมาย\n",
      "2. **เปรียบเทียบ**: หากคุณอยู่ในสวนสาธารณะและเห็นคนอีกกลุ่มหนึ่งกำลังเล่นฟุตบอล คุณจะส่งเสียงเชียร์เพื่อสนับสนุนพวกเขา นั่นคือการปิดล้อมทางอากาศ\n",
      "3. **การใช้กำลัง**: เมื่อคุณยืนขึ้นเพื่อสนับสนุนทีมของคุณ คุณแสดงให้คู่แข่งเห็นว่าคุณอยู่ที่นั่นด้วย ซึ่งคล้ายกับการใช้เครื่องบินในการปิดล้อมทางอากาศ\n",
      "4. **ความสำคัญ**: การปิดล้อมทางอากาศช่วยสร้างความได้เปรียบ โดยทำให้ฝ่ายตรงข้ามไม่กล้าโจมตีหรือเคลื่อนที่ เหมือนกับที่คู่แข่งของคุณอาจจะกลัวเสียงเชียร์ของแฟนๆ ทีมเดียวกัน\n",
      "</scratch_pad>\n",
      "<summary>ฉันกำลังอธิบายการปิดล้อมทางอากาศโดยใช้ภาษาที่เข้าใจง่ายและเปรียบเทียบกับสถานการณ์ที่คุ้นเคย เพื่อให้ผู้ฟังสามารถจินตนาการได้ง่ายขึ้น</summary>\n",
      "<next_step>สรุปแนวคิดหลักให้ชัดเจน</next_step>\n",
      "</step>\n",
      "\n",
      "<step>\n",
      "<title>สรุปแนวคิดหลักให้ชัดเจน</title>\n",
      "<scratch_pad>\n",
      "- การปิดล้อมทางอากาศหมายถึงการใช้เครื่องบินเพื่อปกป้องหรือโจมตีเป้าหมาย\n",
      "- เปรียบเทียบง่ายๆ คือการสนับสนุนทีมของคุณในสนาม\n",
      "- เป้าหมายคือสร้างความได้เปรียบให้กับฝ่ายใดฝ่ายหนึ่ง ทำให้อีกฝ่ายไม่กล้าเคลื่อนที่หรือโจมตี\n",
      "</scratch_pad>\n",
      "<summary>ฉันกำลังรวบรวมแนวคิดหลักของการปิดล้อมทางอากาศเพื่อสร้างความเข้าใจที่ชัดเจนและกระชับ</summary>\n",
      "<next_step>ตรวจสอบความชัดเจนและความเหมาะสมของคำอธิบาย</next_step>\n",
      "</step>\n",
      "\n",
      "<step>\n",
      "<title>ตรวจสอบความชัดเจนและความเหมาะสมของคำอธิบาย</title>\n",
      "<scratch_pad>\n",
      "- คำอธิบายควรเข้าใจง่าย\n",
      "- เปรียบเทียบที่ใช้ควรคุ้นเคยสำหรับผู้ฟังทั่วไป\n",
      "- ต้องแสดงให้เห็นถึงความสำคัญของการปิดล้อมทางอากาศในบริบททหารอย่างเหมาะสม\n",
      "</scratch_pad>\n",
      "<summary>ฉันกำลังตรวจสอบว่าคำอธิบายชัดเจนและเข้าใจง่ายสำหรับผู้ฟังทั่วไป โดยรักษาความเกี่ยวข้องของการปิดล้อมทางอากาศในบริบททหารไว้</summary>\n",
      "<next_step></next_step>\n",
      "</step>\n",
      "\n",
      "</thoughts>\n",
      "\n",
      "<response>\n",
      "\"การปิดล้อมทางอากาศ\" คือกลยุทธ์ทางการทหารที่ใช้เครื่องบินเพื่อโจมตีหรือปกป้องเป้าหมาย โดยสามารถเปรียบเทียบได้กับการสนับสนุนทีมของคุณในสนามกีฬา เมื่อคุณยืนขึ้นเชียร์ทีมของคุณ คุณแสดงให้คู่แข่งเห็นว่าคุณอยู่ที่นั่นด้วย ซึ่งคล้ายกับวิธีที่เครื่องบินถูกใช้ในการปิดล้อมทางอากาศเพื่อสร้างความได้เปรียบให้กับทั้งสองฝ่าย ทำให้อีกฝ่ายไม่กล้าเคลื่อนที่หรือโจมตี การปิดล้อมทางอากาศมีความสำคัญเพราะช่วยควบคุมพื้นที่และทำให้การดำเนินการทางทหารเป็นไปอย่างปลอดภัยและมีประสิทธิภาพมากขึ้น\n",
      "</response>\n"
     ]
    }
   ],
   "source": [
    "print(response.content)"
   ]
  },
  {
   "cell_type": "code",
   "execution_count": 6,
   "id": "978c14bc",
   "metadata": {},
   "outputs": [
    {
     "ename": "Exception",
     "evalue": "The current node timed out during startup. This could happen because some of the Ray processes failed to startup.",
     "output_type": "error",
     "traceback": [
      "\u001b[31m---------------------------------------------------------------------------\u001b[39m",
      "\u001b[31mTimeoutError\u001b[39m                              Traceback (most recent call last)",
      "\u001b[36mFile \u001b[39m\u001b[32mc:\\university\\งานแข่ง\\nsc\\agent-maknib\\.venv\\Lib\\site-packages\\ray\\_private\\node.py:342\u001b[39m, in \u001b[36mNode.__init__\u001b[39m\u001b[34m(self, ray_params, head, shutdown_at_exit, spawn_reaper, connect_only, default_worker, ray_init_cluster)\u001b[39m\n\u001b[32m    341\u001b[39m \u001b[38;5;28;01mtry\u001b[39;00m:\n\u001b[32m--> \u001b[39m\u001b[32m342\u001b[39m     \u001b[43mray\u001b[49m\u001b[43m.\u001b[49m\u001b[43m_private\u001b[49m\u001b[43m.\u001b[49m\u001b[43mservices\u001b[49m\u001b[43m.\u001b[49m\u001b[43mwait_for_node\u001b[49m\u001b[43m(\u001b[49m\n\u001b[32m    343\u001b[39m \u001b[43m        \u001b[49m\u001b[38;5;28;43mself\u001b[39;49m\u001b[43m.\u001b[49m\u001b[43mgcs_address\u001b[49m\u001b[43m,\u001b[49m\n\u001b[32m    344\u001b[39m \u001b[43m        \u001b[49m\u001b[38;5;28;43mself\u001b[39;49m\u001b[43m.\u001b[49m\u001b[43m_plasma_store_socket_name\u001b[49m\u001b[43m,\u001b[49m\n\u001b[32m    345\u001b[39m \u001b[43m    \u001b[49m\u001b[43m)\u001b[49m\n\u001b[32m    346\u001b[39m \u001b[38;5;28;01mexcept\u001b[39;00m \u001b[38;5;167;01mTimeoutError\u001b[39;00m \u001b[38;5;28;01mas\u001b[39;00m te:\n",
      "\u001b[36mFile \u001b[39m\u001b[32mc:\\university\\งานแข่ง\\nsc\\agent-maknib\\.venv\\Lib\\site-packages\\ray\\_private\\services.py:469\u001b[39m, in \u001b[36mwait_for_node\u001b[39m\u001b[34m(gcs_address, node_plasma_store_socket_name, timeout)\u001b[39m\n\u001b[32m    468\u001b[39m         time.sleep(\u001b[32m0.1\u001b[39m)\n\u001b[32m--> \u001b[39m\u001b[32m469\u001b[39m \u001b[38;5;28;01mraise\u001b[39;00m \u001b[38;5;167;01mTimeoutError\u001b[39;00m(\n\u001b[32m    470\u001b[39m     \u001b[33mf\u001b[39m\u001b[33m\"\u001b[39m\u001b[33mTimed out after \u001b[39m\u001b[38;5;132;01m{\u001b[39;00mtimeout\u001b[38;5;132;01m}\u001b[39;00m\u001b[33m seconds while waiting for node to startup. \u001b[39m\u001b[33m\"\u001b[39m\n\u001b[32m    471\u001b[39m     \u001b[33mf\u001b[39m\u001b[33m\"\u001b[39m\u001b[33mDid not find socket name \u001b[39m\u001b[38;5;132;01m{\u001b[39;00mnode_plasma_store_socket_name\u001b[38;5;132;01m}\u001b[39;00m\u001b[33m in the list \u001b[39m\u001b[33m\"\u001b[39m\n\u001b[32m    472\u001b[39m     \u001b[33m\"\u001b[39m\u001b[33mof object store socket names.\u001b[39m\u001b[33m\"\u001b[39m\n\u001b[32m    473\u001b[39m )\n",
      "\u001b[31mTimeoutError\u001b[39m: Timed out after 60 seconds while waiting for node to startup. Did not find socket name tcp://127.0.0.1:61334 in the list of object store socket names.",
      "\nThe above exception was the direct cause of the following exception:\n",
      "\u001b[31mException\u001b[39m                                 Traceback (most recent call last)",
      "\u001b[36mCell\u001b[39m\u001b[36m \u001b[39m\u001b[32mIn[6]\u001b[39m\u001b[32m, line 2\u001b[39m\n\u001b[32m      1\u001b[39m \u001b[38;5;28;01mimport\u001b[39;00m\u001b[38;5;250m \u001b[39m\u001b[34;01mray\u001b[39;00m\n\u001b[32m----> \u001b[39m\u001b[32m2\u001b[39m \u001b[43mray\u001b[49m\u001b[43m.\u001b[49m\u001b[43minit\u001b[49m\u001b[43m(\u001b[49m\u001b[43mignore_reinit_error\u001b[49m\u001b[43m=\u001b[49m\u001b[38;5;28;43;01mTrue\u001b[39;49;00m\u001b[43m,\u001b[49m\u001b[43m \u001b[49m\u001b[43minclude_dashboard\u001b[49m\u001b[43m=\u001b[49m\u001b[38;5;28;43;01mFalse\u001b[39;49;00m\u001b[43m,\u001b[49m\u001b[43m \u001b[49m\u001b[43mnum_cpus\u001b[49m\u001b[43m=\u001b[49m\u001b[32;43m4\u001b[39;49m\u001b[43m)\u001b[49m\n",
      "\u001b[36mFile \u001b[39m\u001b[32mc:\\university\\งานแข่ง\\nsc\\agent-maknib\\.venv\\Lib\\site-packages\\ray\\_private\\client_mode_hook.py:103\u001b[39m, in \u001b[36mclient_mode_hook.<locals>.wrapper\u001b[39m\u001b[34m(*args, **kwargs)\u001b[39m\n\u001b[32m    101\u001b[39m     \u001b[38;5;28;01mif\u001b[39;00m func.\u001b[34m__name__\u001b[39m != \u001b[33m\"\u001b[39m\u001b[33minit\u001b[39m\u001b[33m\"\u001b[39m \u001b[38;5;129;01mor\u001b[39;00m is_client_mode_enabled_by_default:\n\u001b[32m    102\u001b[39m         \u001b[38;5;28;01mreturn\u001b[39;00m \u001b[38;5;28mgetattr\u001b[39m(ray, func.\u001b[34m__name__\u001b[39m)(*args, **kwargs)\n\u001b[32m--> \u001b[39m\u001b[32m103\u001b[39m \u001b[38;5;28;01mreturn\u001b[39;00m \u001b[43mfunc\u001b[49m\u001b[43m(\u001b[49m\u001b[43m*\u001b[49m\u001b[43margs\u001b[49m\u001b[43m,\u001b[49m\u001b[43m \u001b[49m\u001b[43m*\u001b[49m\u001b[43m*\u001b[49m\u001b[43mkwargs\u001b[49m\u001b[43m)\u001b[49m\n",
      "\u001b[36mFile \u001b[39m\u001b[32mc:\\university\\งานแข่ง\\nsc\\agent-maknib\\.venv\\Lib\\site-packages\\ray\\_private\\worker.py:1744\u001b[39m, in \u001b[36minit\u001b[39m\u001b[34m(address, num_cpus, num_gpus, resources, labels, object_store_memory, local_mode, ignore_reinit_error, include_dashboard, dashboard_host, dashboard_port, job_config, configure_logging, logging_level, logging_format, logging_config, log_to_driver, namespace, runtime_env, storage, **kwargs)\u001b[39m\n\u001b[32m   1711\u001b[39m     ray_params = ray._private.parameter.RayParams(\n\u001b[32m   1712\u001b[39m         node_ip_address=_node_ip_address,\n\u001b[32m   1713\u001b[39m         object_ref_seed=\u001b[38;5;28;01mNone\u001b[39;00m,\n\u001b[32m   (...)\u001b[39m\u001b[32m   1738\u001b[39m         node_name=_node_name,\n\u001b[32m   1739\u001b[39m     )\n\u001b[32m   1740\u001b[39m     \u001b[38;5;66;03m# Start the Ray processes. We set shutdown_at_exit=False because we\u001b[39;00m\n\u001b[32m   1741\u001b[39m     \u001b[38;5;66;03m# shutdown the node in the ray.shutdown call that happens in the atexit\u001b[39;00m\n\u001b[32m   1742\u001b[39m     \u001b[38;5;66;03m# handler. We still spawn a reaper process in case the atexit handler\u001b[39;00m\n\u001b[32m   1743\u001b[39m     \u001b[38;5;66;03m# isn't called.\u001b[39;00m\n\u001b[32m-> \u001b[39m\u001b[32m1744\u001b[39m     _global_node = \u001b[43mray\u001b[49m\u001b[43m.\u001b[49m\u001b[43m_private\u001b[49m\u001b[43m.\u001b[49m\u001b[43mnode\u001b[49m\u001b[43m.\u001b[49m\u001b[43mNode\u001b[49m\u001b[43m(\u001b[49m\n\u001b[32m   1745\u001b[39m \u001b[43m        \u001b[49m\u001b[43mray_params\u001b[49m\u001b[43m=\u001b[49m\u001b[43mray_params\u001b[49m\u001b[43m,\u001b[49m\n\u001b[32m   1746\u001b[39m \u001b[43m        \u001b[49m\u001b[43mhead\u001b[49m\u001b[43m=\u001b[49m\u001b[38;5;28;43;01mTrue\u001b[39;49;00m\u001b[43m,\u001b[49m\n\u001b[32m   1747\u001b[39m \u001b[43m        \u001b[49m\u001b[43mshutdown_at_exit\u001b[49m\u001b[43m=\u001b[49m\u001b[38;5;28;43;01mFalse\u001b[39;49;00m\u001b[43m,\u001b[49m\n\u001b[32m   1748\u001b[39m \u001b[43m        \u001b[49m\u001b[43mspawn_reaper\u001b[49m\u001b[43m=\u001b[49m\u001b[38;5;28;43;01mTrue\u001b[39;49;00m\u001b[43m,\u001b[49m\n\u001b[32m   1749\u001b[39m \u001b[43m        \u001b[49m\u001b[43mray_init_cluster\u001b[49m\u001b[43m=\u001b[49m\u001b[38;5;28;43;01mTrue\u001b[39;49;00m\u001b[43m,\u001b[49m\n\u001b[32m   1750\u001b[39m \u001b[43m    \u001b[49m\u001b[43m)\u001b[49m\n\u001b[32m   1751\u001b[39m \u001b[38;5;28;01melse\u001b[39;00m:\n\u001b[32m   1752\u001b[39m     \u001b[38;5;66;03m# In this case, we are connecting to an existing cluster.\u001b[39;00m\n\u001b[32m   1753\u001b[39m     \u001b[38;5;28;01mif\u001b[39;00m num_cpus \u001b[38;5;129;01mis\u001b[39;00m \u001b[38;5;129;01mnot\u001b[39;00m \u001b[38;5;28;01mNone\u001b[39;00m \u001b[38;5;129;01mor\u001b[39;00m num_gpus \u001b[38;5;129;01mis\u001b[39;00m \u001b[38;5;129;01mnot\u001b[39;00m \u001b[38;5;28;01mNone\u001b[39;00m:\n",
      "\u001b[36mFile \u001b[39m\u001b[32mc:\\university\\งานแข่ง\\nsc\\agent-maknib\\.venv\\Lib\\site-packages\\ray\\_private\\node.py:347\u001b[39m, in \u001b[36mNode.__init__\u001b[39m\u001b[34m(self, ray_params, head, shutdown_at_exit, spawn_reaper, connect_only, default_worker, ray_init_cluster)\u001b[39m\n\u001b[32m    342\u001b[39m     ray._private.services.wait_for_node(\n\u001b[32m    343\u001b[39m         \u001b[38;5;28mself\u001b[39m.gcs_address,\n\u001b[32m    344\u001b[39m         \u001b[38;5;28mself\u001b[39m._plasma_store_socket_name,\n\u001b[32m    345\u001b[39m     )\n\u001b[32m    346\u001b[39m \u001b[38;5;28;01mexcept\u001b[39;00m \u001b[38;5;167;01mTimeoutError\u001b[39;00m \u001b[38;5;28;01mas\u001b[39;00m te:\n\u001b[32m--> \u001b[39m\u001b[32m347\u001b[39m     \u001b[38;5;28;01mraise\u001b[39;00m \u001b[38;5;167;01mException\u001b[39;00m(\n\u001b[32m    348\u001b[39m         \u001b[33m\"\u001b[39m\u001b[33mThe current node timed out during startup. This \u001b[39m\u001b[33m\"\u001b[39m\n\u001b[32m    349\u001b[39m         \u001b[33m\"\u001b[39m\u001b[33mcould happen because some of the Ray processes \u001b[39m\u001b[33m\"\u001b[39m\n\u001b[32m    350\u001b[39m         \u001b[33m\"\u001b[39m\u001b[33mfailed to startup.\u001b[39m\u001b[33m\"\u001b[39m\n\u001b[32m    351\u001b[39m     ) \u001b[38;5;28;01mfrom\u001b[39;00m\u001b[38;5;250m \u001b[39m\u001b[34;01mte\u001b[39;00m\n\u001b[32m    352\u001b[39m node_info = ray._private.services.get_node(\n\u001b[32m    353\u001b[39m     \u001b[38;5;28mself\u001b[39m.gcs_address,\n\u001b[32m    354\u001b[39m     \u001b[38;5;28mself\u001b[39m._node_id,\n\u001b[32m    355\u001b[39m )\n\u001b[32m    356\u001b[39m \u001b[38;5;28;01mif\u001b[39;00m \u001b[38;5;28mself\u001b[39m._ray_params.node_manager_port == \u001b[32m0\u001b[39m:\n",
      "\u001b[31mException\u001b[39m: The current node timed out during startup. This could happen because some of the Ray processes failed to startup."
     ]
    }
   ],
   "source": [
    "import ray\n",
    "ray.init(ignore_reinit_error=True, include_dashboard=False, num_cpus=4)\n"
   ]
  },
  {
   "cell_type": "code",
   "execution_count": null,
   "id": "a432072c",
   "metadata": {},
   "outputs": [],
   "source": [
    "@ray.remote\n",
    "class OllamaWorker:\n",
    "    def __init__(self, model_name: str = \"scb10x/llama3.2-typhoon2-t1-3b-research-preview\"):\n",
    "        self.model = ChatOllama(model=model_name)\n",
    "\n",
    "    def generate(self, prompt: str) -> str:\n",
    "        # Wrap prompt into a HumanMessage\n",
    "        message = HumanMessage(content=prompt)\n",
    "        # Invoke the model\n",
    "        response = self.model.invoke([message])\n",
    "        return response.content"
   ]
  },
  {
   "cell_type": "code",
   "execution_count": null,
   "id": "913a7a94",
   "metadata": {},
   "outputs": [],
   "source": [
    "if __name__ == \"__main__\":\n",
    "    # List of prompts to process in parallel\n",
    "    prompts = [\n",
    "        \"อธิบายกลยุทธ์ปิดฟ้าข้ามทะเล แบบเข้าใจง่าย\",\n",
    "    ]\n",
    "\n",
    "    # Launch a worker for each prompt\n",
    "    workers = [OllamaWorker.remote() for _ in prompts]\n",
    "    # Kick off parallel generation tasks\n",
    "    futures = [worker.generate.remote(prompt) for worker, prompt in zip(workers, prompts)]\n",
    "\n",
    "    # Gather results\n",
    "    results = ray.get(futures)\n",
    "\n",
    "    # Display outputs\n",
    "    for i, output in enumerate(results, 1):\n",
    "        print(f\"--- Prompt {i} ---\")\n",
    "        print(prompts[i-1])\n",
    "        print(output)\n",
    "        print()\n"
   ]
  },
  {
   "cell_type": "code",
   "execution_count": null,
   "id": "77c49110",
   "metadata": {},
   "outputs": [],
   "source": []
  },
  {
   "cell_type": "code",
   "execution_count": null,
   "id": "6871b269",
   "metadata": {},
   "outputs": [],
   "source": []
  },
  {
   "cell_type": "code",
   "execution_count": null,
   "id": "e2f16f43",
   "metadata": {},
   "outputs": [],
   "source": []
  }
 ],
 "metadata": {
  "kernelspec": {
   "display_name": ".venv",
   "language": "python",
   "name": "python3"
  },
  "language_info": {
   "codemirror_mode": {
    "name": "ipython",
    "version": 3
   },
   "file_extension": ".py",
   "mimetype": "text/x-python",
   "name": "python",
   "nbconvert_exporter": "python",
   "pygments_lexer": "ipython3",
   "version": "3.12.6"
  }
 },
 "nbformat": 4,
 "nbformat_minor": 5
}
